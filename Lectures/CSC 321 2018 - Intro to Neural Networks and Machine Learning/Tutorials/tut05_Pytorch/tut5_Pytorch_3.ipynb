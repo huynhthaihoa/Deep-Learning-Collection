{
 "cells": [
  {
   "cell_type": "code",
   "execution_count": 1,
   "metadata": {
    "collapsed": true
   },
   "outputs": [],
   "source": [
    "from torch.autograd import Variable\n",
    "import torch\n",
    "import numpy as np\n",
    "import matplotlib.pyplot as plt\n",
    "\n",
    "\n",
    "\n",
    "from scipy.io import loadmat\n",
    "\n",
    "\n",
    "\n",
    "%matplotlib inline  \n",
    "\n",
    "M = loadmat(\"mnist_all.mat\")\n",
    "\n",
    "\n",
    "\n",
    "def get_test(M):\n",
    "    batch_xs = np.zeros((0, 28*28))\n",
    "    batch_y_s = np.zeros( (0, 10))\n",
    "    \n",
    "    test_k =  [\"test\"+str(i) for i in range(10)]\n",
    "    for k in range(10):\n",
    "        batch_xs = np.vstack((batch_xs, ((np.array(M[test_k[k]])[:])/255.)  ))\n",
    "        one_hot = np.zeros(10)\n",
    "        one_hot[k] = 1\n",
    "        batch_y_s = np.vstack((batch_y_s,   np.tile(one_hot, (len(M[test_k[k]]), 1))   ))\n",
    "    return batch_xs, batch_y_s\n",
    "\n",
    "\n",
    "def get_train(M):\n",
    "    batch_xs = np.zeros((0, 28*28))\n",
    "    batch_y_s = np.zeros( (0, 10))\n",
    "    \n",
    "    train_k =  [\"train\"+str(i) for i in range(10)]\n",
    "    for k in range(10):\n",
    "        batch_xs = np.vstack((batch_xs, ((np.array(M[train_k[k]])[:])/255.)  ))\n",
    "        one_hot = np.zeros(10)\n",
    "        one_hot[k] = 1\n",
    "        batch_y_s = np.vstack((batch_y_s,   np.tile(one_hot, (len(M[train_k[k]]), 1))   ))\n",
    "    return batch_xs, batch_y_s\n",
    "        \n",
    "\n",
    "train_x, train_y = get_train(M)\n",
    "test_x, test_y = get_test(M)\n",
    "\n",
    "\n",
    "\n",
    "train_x, train_y = get_train(M)\n",
    "test_x, test_y = get_test(M)\n",
    "\n",
    "dim_x = 28*28\n",
    "dim_h = 20\n",
    "dim_out = 10\n",
    "\n",
    "dtype_float = torch.FloatTensor\n",
    "dtype_long = torch.LongTensor\n",
    "\n",
    "\n",
    "\n",
    "################################################################################\n",
    "#Subsample the training set for faster training\n",
    "\n",
    "train_idx = np.random.permutation(range(train_x.shape[0]))[:1000]\n",
    "x = Variable(torch.from_numpy(train_x[train_idx]), requires_grad=False).type(dtype_float)\n",
    "y_classes = Variable(torch.from_numpy(np.argmax(train_y[train_idx], 1)), requires_grad=False).type(dtype_long)\n",
    "#################################################################################\n"
   ]
  },
  {
   "cell_type": "markdown",
   "metadata": {},
   "source": [
    "`x`, `y`, and `y_classes` are PyTorch Variables. We will now define the neural network model. We'll use `toch.nn.Sequential`"
   ]
  },
  {
   "cell_type": "code",
   "execution_count": 2,
   "metadata": {
    "collapsed": true
   },
   "outputs": [],
   "source": [
    "model = torch.nn.Sequential(\n",
    "    torch.nn.Linear(dim_x, dim_h),\n",
    "    torch.nn.ReLU(),\n",
    "    torch.nn.Linear(dim_h, dim_out),\n",
    ")"
   ]
  },
  {
   "cell_type": "markdown",
   "metadata": {},
   "source": [
    "`model` can be used to apply the network to `Variable` inputs.\n",
    "\n",
    "We'll define a loss function using `torch.nn.CrossEntropyLoss()`, which computes the cross entropy from the logits  of the class probability (i.e., outputs of the softmax) and the class labels (i.e., the average negative log-probability of the correct answer)."
   ]
  },
  {
   "cell_type": "code",
   "execution_count": 3,
   "metadata": {
    "collapsed": true
   },
   "outputs": [],
   "source": [
    "loss_fn = torch.nn.CrossEntropyLoss()"
   ]
  },
  {
   "cell_type": "markdown",
   "metadata": {},
   "source": [
    "### Training the model\n",
    "\n",
    "We will now use Adam, a variant of Gradient Descent, to optimize the model"
   ]
  },
  {
   "cell_type": "code",
   "execution_count": 4,
   "metadata": {
    "collapsed": true
   },
   "outputs": [],
   "source": [
    "learning_rate = 1e-2\n",
    "optimizer = torch.optim.Adam(model.parameters(), lr=learning_rate)\n",
    "for t in range(10000):\n",
    "    y_pred = model(x)\n",
    "    loss = loss_fn(y_pred, y_classes)\n",
    "    \n",
    "    model.zero_grad()  # Zero out the previous gradient computation\n",
    "    loss.backward()    # Compute the gradient\n",
    "    optimizer.step()   # Use the gradient information to \n",
    "                       # make a step"
   ]
  },
  {
   "cell_type": "markdown",
   "metadata": {},
   "source": [
    "Now, let's make predictions for the test set"
   ]
  },
  {
   "cell_type": "code",
   "execution_count": 5,
   "metadata": {
    "collapsed": true
   },
   "outputs": [],
   "source": [
    "x = Variable(torch.from_numpy(test_x), requires_grad=False).type(dtype_float)"
   ]
  },
  {
   "cell_type": "code",
   "execution_count": 6,
   "metadata": {
    "collapsed": true
   },
   "outputs": [],
   "source": [
    "y_pred = model(x).data.numpy()"
   ]
  },
  {
   "cell_type": "markdown",
   "metadata": {},
   "source": [
    "Let's now look at the performance:"
   ]
  },
  {
   "cell_type": "code",
   "execution_count": 7,
   "metadata": {},
   "outputs": [
    {
     "data": {
      "text/plain": [
       "0.86929999999999996"
      ]
     },
     "execution_count": 7,
     "metadata": {},
     "output_type": "execute_result"
    }
   ],
   "source": [
    "np.mean(np.argmax(y_pred, 1) == np.argmax(test_y, 1))"
   ]
  },
  {
   "cell_type": "markdown",
   "metadata": {},
   "source": [
    "Let's explore the weights a little bit. We can access the weights like this:"
   ]
  },
  {
   "cell_type": "code",
   "execution_count": 8,
   "metadata": {},
   "outputs": [
    {
     "data": {
      "text/plain": [
       "Parameter containing:\n",
       " 1.8317e-02 -8.1070e-04 -8.9239e-03  ...  -1.7976e-02 -1.6271e-02  1.3195e-02\n",
       " 2.3840e-02 -1.4551e-02 -7.6378e-03  ...   6.7932e-03  6.7870e-03  3.7834e-03\n",
       " 1.0463e-02 -1.8262e-02 -3.3359e-02  ...   7.9622e-03  1.9038e-03  3.5023e-02\n",
       "                ...                   ⋱                   ...                \n",
       " 1.5796e-02  7.9954e-03  1.1018e-02  ...  -2.4500e-03  6.5649e-03  2.4900e-02\n",
       " 3.0337e-02  2.4651e-02 -2.7405e-02  ...  -3.7025e-03 -3.4223e-02  2.2323e-02\n",
       " 1.2682e-02  5.7500e-03 -1.0330e-02  ...  -6.1994e-03  3.1073e-02  3.0751e-02\n",
       "[torch.FloatTensor of size 20x784]"
      ]
     },
     "execution_count": 8,
     "metadata": {},
     "output_type": "execute_result"
    }
   ],
   "source": [
    "model[0].weight"
   ]
  },
  {
   "cell_type": "markdown",
   "metadata": {},
   "source": [
    "Let's look at the weights associated with unit 10"
   ]
  },
  {
   "cell_type": "code",
   "execution_count": 9,
   "metadata": {},
   "outputs": [
    {
     "data": {
      "text/plain": [
       "(784,)"
      ]
     },
     "execution_count": 9,
     "metadata": {},
     "output_type": "execute_result"
    }
   ],
   "source": [
    "model[0].weight.data.numpy()[10, :].shape"
   ]
  },
  {
   "cell_type": "code",
   "execution_count": 10,
   "metadata": {},
   "outputs": [
    {
     "data": {
      "text/plain": [
       "<matplotlib.image.AxesImage at 0x7fabe00f8a50>"
      ]
     },
     "execution_count": 10,
     "metadata": {},
     "output_type": "execute_result"
    },
    {
     "data": {
      "image/png": "[encoded data removed]",
      "text/plain": [
       "<matplotlib.figure.Figure at 0x7fab81aa8710>"
      ]
     },
     "metadata": {},
     "output_type": "display_data"
    }
   ],
   "source": [
    "plt.imshow(model[0].weight.data.numpy()[10, :].reshape((28, 28)), cmap=plt.cm.coolwarm)"
   ]
  },
  {
   "cell_type": "code",
   "execution_count": 11,
   "metadata": {},
   "outputs": [
    {
     "data": {
      "text/plain": [
       "<matplotlib.image.AxesImage at 0x7fab816d8b50>"
      ]
     },
     "execution_count": 11,
     "metadata": {},
     "output_type": "execute_result"
    },
    {
     "data": {
      "image/png": "[encoded data removed]",
      "text/plain": [
       "<matplotlib.figure.Figure at 0x7fab817aa550>"
      ]
     },
     "metadata": {},
     "output_type": "display_data"
    }
   ],
   "source": [
    "plt.imshow(model[0].weight.data.numpy()[12, :].reshape((28, 28)), cmap=plt.cm.coolwarm)"
   ]
  },
  {
   "cell_type": "code",
   "execution_count": null,
   "metadata": {
    "collapsed": true
   },
   "outputs": [],
   "source": []
  }
 ],
 "metadata": {
  "kernelspec": {
   "display_name": "Python [default]",
   "language": "python",
   "name": "python2"
  },
  "language_info": {
   "codemirror_mode": {
    "name": "ipython",
    "version": 2
   },
   "file_extension": ".py",
   "mimetype": "text/x-python",
   "name": "python",
   "nbconvert_exporter": "python",
   "pygments_lexer": "ipython2",
   "version": "2.7.13"
  }
 },
 "nbformat": 4,
 "nbformat_minor": 2
}
