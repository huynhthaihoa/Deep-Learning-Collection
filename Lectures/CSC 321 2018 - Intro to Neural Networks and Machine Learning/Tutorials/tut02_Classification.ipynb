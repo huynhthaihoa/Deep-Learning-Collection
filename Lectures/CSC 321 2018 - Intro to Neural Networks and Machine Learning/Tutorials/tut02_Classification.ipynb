








<!DOCTYPE html>
<html lang="en">

<head>
  <meta charset="utf-8">
  <title>Jupyter Notebook Viewer</title>
  <meta name="viewport" content="width=device-width, initial-scale=1.0">
  <meta name="description" content="">
  <meta name="author" content="">
  
  <meta name="robots" content="noindex,nofollow">
  

  <!--NEW RELIC Start Perf Measurement-->
  
  <!--NREND-->

  <!-- Le styles -->
  <link href="/static/build/styles.css" rel="stylesheet">

  <!-- Le HTML5 shim, for IE6-8 support of HTML5 elements -->
  <!--[if lt IE 9]>
    <script src="http://html5shim.googlecode.com/svn/trunk/html5.js"></script>
  <![endif]-->

  <!-- Le fav and touch icons -->
  <link rel="shortcut icon" href="/static/ico/ipynb_icon_16x16.png">
  <link rel="apple-touch-icon-precomposed" sizes="144x144"
        href="/static/ico/apple-touch-icon-144-precomposed.png">
  <link rel="apple-touch-icon-precomposed" sizes="114x114"
        href="/static/ico/apple-touch-icon-114-precomposed.png">
  <link rel="apple-touch-icon-precomposed" sizes="72x72"
        href="/static/ico/apple-touch-icon-72-precomposed.png">
  <link rel="apple-touch-icon-precomposed"
        href="/static/ico/apple-touch-icon-57-precomposed.png">
  
  

  

  
  <meta name="twitter:card" content="summary">
  <meta name="twitter:title" content="Notebook on nbviewer">
  <meta name="twitter:description" content="Check out this Jupyter notebook!">

  
  <meta name="twitter:domain" content="nbviewer.jupyter.org">
  <meta name="twitter:image:src" content="http://ipython.org/ipython-doc/dev/_images/ipynb_icon_128x128.png">

  
    <link href="/static/build/notebook.css" rel="stylesheet">
  

  

  
    <script src="https://cdnjs.cloudflare.com/ajax/libs/mathjax/2.7.1/MathJax.js?config=TeX-AMS_HTML" type="text/javascript">
    </script>
    <script type="text/javascript">
      init_mathjax = function() {
        if (window.MathJax) {
          // MathJax loaded
          MathJax.Hub.Config({
            TeX: {
              equationNumbers: {
                autoNumber: "AMS",
                useLabelIds: true
              }
            },
            tex2jax: {
              inlineMath: [ ['$','$'], ["\\(","\\)"] ],
              displayMath: [ ['$$','$$'], ["\\[","\\]"] ],
              processEscapes: true,
              processEnvironments: true
            },
            displayAlign: 'center',
            "HTML-CSS": {
              styles: {'.MathJax_Display': {"margin": 0}},
              linebreaks: { automatic: true }
            }
          });
          MathJax.Hub.Queue(["Typeset", MathJax.Hub]);
        }
      }
      init_mathjax();
    </script>
  

  
    <script>
      (function() {
        function addWidgetsRenderer() {
          var mimeElement = document.querySelector('script[type="application/vnd.jupyter.widget-view+json"]');
          var scriptElement = document.createElement('script');
          var widgetRendererSrc = 'https://unpkg.com/@jupyter-widgets/html-manager@0.15/dist/embed-amd.js';
          var widgetState;

          try {
            widgetState = mimeElement && JSON.parse(mimeElement.innerHTML);

            if (widgetState && (widgetState.version_major < 2 || !widgetState.version_major)) {
              widgetRendererSrc = 'https://unpkg.com/jupyter-js-widgets@2.1/dist/embed.js';
            }
          } catch(e) {}

          scriptElement.src = widgetRendererSrc;
          document.body.appendChild(scriptElement);
        }

        document.addEventListener('DOMContentLoaded', addWidgetsRenderer);
      }());
    </script>
  

</head>

<body class="nbviewer">

  <!-- These are loaded at the top of the body so they are available to
       notebook cells when they are loaded below. -->
  <script src="/static/components/jquery/dist/jquery.min.js"></script>
  <script src="/static/components/requirejs/require.js"></script>
  <script src="/static/components/moment/min/moment.min.js"></script>
<!-- Navbar
================================================== -->
  <nav id="menubar" class="navbar navbar-default navbar-fixed-top" data-spy="affix">
    <div class="container">
      <div class="navbar-header">
        <button type="button" class="navbar-toggle collapsed" data-toggle="collapse" data-target=".navbar-collapse">
          <span class="sr-only">Toggle navigation</span>
          <i class="fa fa-bars"></i>
        </button>
        <a class="navbar-brand" href="/">
          <img src="/static/img/nav_logo.svg" width="159"/>
        </a>
      </div>

      <div class="collapse navbar-collapse">
        <ul class="nav navbar-nav navbar-right">
          <li>
            <a class="active" href="https://jupyter.org">JUPYTER</a>
          </li>
          <li>
    <a href="/faq" title="FAQ" >
      
        <span>FAQ</span>
      
    </a>
  </li>

          
  
    
  
    
      
        <li>
    <a href="script/url/www.cs.toronto.edu/~rgrosse/courses/csc321_2018/tutorials/tut2.ipynb" title="View as Code" >
      <span class="fa fa-code fa-2x menu-icon"></span>
      <span class="menu-text">View as Code</span>
    </a>
  </li>
      
    
  

  
    <li>
    <a href="#" title="Python 2 Kernel" >
      <span class="fa fa-server fa-2x menu-icon"></span>
      <span class="menu-text">Python 2 Kernel</span>
    </a>
  </li>
  

  

  

  <li>
    <a href="http://www.cs.toronto.edu/~rgrosse/courses/csc321_2018/tutorials/tut2.ipynb" title="Download Notebook" download>
      <span class="fa fa-download fa-2x menu-icon"></span>
      <span class="menu-text">Download Notebook</span>
    </a>
  </li>

        </ul>
      </div><!-- /.navbar-collapse -->
      
      
    </div>
  </nav>

  <div class="container container-main">
    
  
  <div id="notebook">
    <div id="notebook-container">
      <div class="cell border-box-sizing text_cell rendered"><div class="prompt input_prompt">
</div><div class="inner_cell">
<div class="text_cell_render border-box-sizing rendered_html">
<h1 id="Tutorial:-Classification">Tutorial: Classification<a class="anchor-link" href="#Tutorial:-Classification">&#182;</a></h1><p>Agenda:</p>
<ol>
<li>Classification running example: Iris Flowers</li>
<li>Weight space &amp; feature space intuition</li>
<li>Perceptron convergence proof</li>
<li>Gradient Descent for Multiclass Logisitc Regression</li>
</ol>

</div>
</div>
</div>
<div class="cell border-box-sizing code_cell rendered">
<div class="input">
<div class="prompt input_prompt">In&nbsp;[1]:</div>
<div class="inner_cell">
    <div class="input_area">
<div class=" highlight hl-ipython2"><pre><span></span><span class="kn">import</span> <span class="nn">matplotlib</span>
<span class="kn">import</span> <span class="nn">numpy</span> <span class="k">as</span> <span class="nn">np</span>
<span class="kn">import</span> <span class="nn">matplotlib.pyplot</span> <span class="k">as</span> <span class="nn">plt</span>
<span class="o">%</span><span class="k">matplotlib</span> inline
</pre></div>

    </div>
</div>
</div>

</div>
<div class="cell border-box-sizing text_cell rendered"><div class="prompt input_prompt">
</div><div class="inner_cell">
<div class="text_cell_render border-box-sizing rendered_html">
<h2 id="Classification-with-Iris">Classification with Iris<a class="anchor-link" href="#Classification-with-Iris">&#182;</a></h2><p>We're going to use the Iris dataset.</p>
<p>We will only work with the first 2 flower classes
(Setosa and Versicolour), and with just the first
two features: length and width of the sepal</p>
<p>If you don't know what the sepal is, see this
diagram:
<a href="https://www.math.umd.edu/~petersd/666/html/iris_with_labels.jpg">https://www.math.umd.edu/~petersd/666/html/iris_with_labels.jpg</a></p>

</div>
</div>
</div>
<div class="cell border-box-sizing code_cell rendered">
<div class="input">
<div class="prompt input_prompt">In&nbsp;[2]:</div>
<div class="inner_cell">
    <div class="input_area">
<div class=" highlight hl-ipython2"><pre><span></span><span class="kn">from</span> <span class="nn">sklearn.datasets</span> <span class="kn">import</span> <span class="n">load_iris</span>
<span class="n">iris</span> <span class="o">=</span> <span class="n">load_iris</span><span class="p">()</span>
<span class="nb">print</span> <span class="n">iris</span><span class="p">[</span><span class="s1">&#39;DESCR&#39;</span><span class="p">]</span>
</pre></div>

    </div>
</div>
</div>

<div class="output_wrapper">
<div class="output">


<div class="output_area">

    <div class="prompt"></div>


<div class="output_subarea output_stream output_stdout output_text">
<pre>Iris Plants Database

Notes
-----
Data Set Characteristics:
    :Number of Instances: 150 (50 in each of three classes)
    :Number of Attributes: 4 numeric, predictive attributes and the class
    :Attribute Information:
        - sepal length in cm
        - sepal width in cm
        - petal length in cm
        - petal width in cm
        - class:
                - Iris-Setosa
                - Iris-Versicolour
                - Iris-Virginica
    :Summary Statistics:
    ============== ==== ==== ======= ===== ====================
                    Min  Max   Mean    SD   Class Correlation
    ============== ==== ==== ======= ===== ====================
    sepal length:   4.3  7.9   5.84   0.83    0.7826
    sepal width:    2.0  4.4   3.05   0.43   -0.4194
    petal length:   1.0  6.9   3.76   1.76    0.9490  (high!)
    petal width:    0.1  2.5   1.20  0.76     0.9565  (high!)
    ============== ==== ==== ======= ===== ====================
    :Missing Attribute Values: None
    :Class Distribution: 33.3% for each of 3 classes.
    :Creator: R.A. Fisher
    :Donor: Michael Marshall (MARSHALL%<a href="/cdn-cgi/l/email-protection" class="__cf_email__" data-cfemail="7e2e322b3e1711501f0c1d50101f0d1f50191108">[email&#160;protected]</a>)
    :Date: July, 1988

This is a copy of UCI ML iris datasets.
http://archive.ics.uci.edu/ml/datasets/Iris

The famous Iris database, first used by Sir R.A Fisher

This is perhaps the best known database to be found in the
pattern recognition literature.  Fisher&#39;s paper is a classic in the field and
is referenced frequently to this day.  (See Duda &amp; Hart, for example.)  The
data set contains 3 classes of 50 instances each, where each class refers to a
type of iris plant.  One class is linearly separable from the other 2; the
latter are NOT linearly separable from each other.

References
----------
   - Fisher,R.A. &#34;The use of multiple measurements in taxonomic problems&#34;
     Annual Eugenics, 7, Part II, 179-188 (1936); also in &#34;Contributions to
     Mathematical Statistics&#34; (John Wiley, NY, 1950).
   - Duda,R.O., &amp; Hart,P.E. (1973) Pattern Classification and Scene Analysis.
     (Q327.D83) John Wiley &amp; Sons.  ISBN 0-471-22361-1.  See page 218.
   - Dasarathy, B.V. (1980) &#34;Nosing Around the Neighborhood: A New System
     Structure and Classification Rule for Recognition in Partially Exposed
     Environments&#34;.  IEEE Transactions on Pattern Analysis and Machine
     Intelligence, Vol. PAMI-2, No. 1, 67-71.
   - Gates, G.W. (1972) &#34;The Reduced Nearest Neighbor Rule&#34;.  IEEE Transactions
     on Information Theory, May 1972, 431-433.
   - See also: 1988 MLC Proceedings, 54-64.  Cheeseman et al&#34;s AUTOCLASS II
     conceptual clustering system finds 3 classes in the data.
   - Many, many more ...

</pre>
</div>
</div>

</div>
</div>

</div>
<div class="cell border-box-sizing code_cell rendered">
<div class="input">
<div class="prompt input_prompt">In&nbsp;[4]:</div>
<div class="inner_cell">
    <div class="input_area">
<div class=" highlight hl-ipython2"><pre><span></span><span class="c1"># code from</span>
<span class="c1"># http://stackoverflow.com/questions/21131707/multiple-data-in-scatter-matrix</span>
<span class="kn">from</span> <span class="nn">pandas.tools.plotting</span> <span class="kn">import</span> <span class="n">scatter_matrix</span>
<span class="kn">import</span> <span class="nn">pandas</span> <span class="k">as</span> <span class="nn">pd</span>

<span class="n">iris_data</span> <span class="o">=</span> <span class="n">pd</span><span class="o">.</span><span class="n">DataFrame</span><span class="p">(</span><span class="n">data</span><span class="o">=</span><span class="n">iris</span><span class="p">[</span><span class="s1">&#39;data&#39;</span><span class="p">],</span><span class="n">columns</span><span class="o">=</span><span class="n">iris</span><span class="p">[</span><span class="s1">&#39;feature_names&#39;</span><span class="p">])</span>
<span class="n">iris_data</span><span class="p">[</span><span class="s2">&quot;target&quot;</span><span class="p">]</span> <span class="o">=</span> <span class="n">iris</span><span class="p">[</span><span class="s1">&#39;target&#39;</span><span class="p">]</span>
<span class="n">color_wheel</span> <span class="o">=</span> <span class="p">{</span><span class="mi">1</span><span class="p">:</span> <span class="s2">&quot;#0392cf&quot;</span><span class="p">,</span> 
               <span class="mi">2</span><span class="p">:</span> <span class="s2">&quot;#7bc043&quot;</span><span class="p">,</span> 
               <span class="mi">3</span><span class="p">:</span> <span class="s2">&quot;#ee4035&quot;</span><span class="p">}</span>
<span class="n">colors</span> <span class="o">=</span> <span class="n">iris_data</span><span class="p">[</span><span class="s2">&quot;target&quot;</span><span class="p">]</span><span class="o">.</span><span class="n">map</span><span class="p">(</span><span class="k">lambda</span> <span class="n">x</span><span class="p">:</span> <span class="n">color_wheel</span><span class="o">.</span><span class="n">get</span><span class="p">(</span><span class="n">x</span> <span class="o">+</span> <span class="mi">1</span><span class="p">))</span>
<span class="n">ax</span> <span class="o">=</span> <span class="n">scatter_matrix</span><span class="p">(</span><span class="n">iris_data</span><span class="p">,</span> <span class="n">color</span><span class="o">=</span><span class="n">colors</span><span class="p">,</span> <span class="n">alpha</span><span class="o">=</span><span class="mf">0.6</span><span class="p">,</span> <span class="n">figsize</span><span class="o">=</span><span class="p">(</span><span class="mi">15</span><span class="p">,</span> <span class="mi">15</span><span class="p">),</span> <span class="n">diagonal</span><span class="o">=</span><span class="s1">&#39;hist&#39;</span><span class="p">)</span>
</pre></div>

    </div>
</div>
</div>

<div class="output_wrapper">
<div class="output">


<div class="output_area">

    <div class="prompt"></div>




<div class="output_png output_subarea ">
<img src="data:image/png;base64,iVBORw0KGgoAAAANSUhEUgAAA3IAAANyCAYAAAAn1/nhAAAABHNCSVQICAgIfAhkiAAAAAlwSFlz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==
"
>
</div>

</div>

</div>
</div>

</div>
<div class="cell border-box-sizing code_cell rendered">
<div class="input">
<div class="prompt input_prompt">In&nbsp;[5]:</div>
<div class="inner_cell">
    <div class="input_area">
<div class=" highlight hl-ipython2"><pre><span></span><span class="c1"># Select first 2 flower classes (~100 rows)</span>
<span class="c1"># And first 2 features</span>

<span class="n">sepal_len</span> <span class="o">=</span> <span class="n">iris</span><span class="p">[</span><span class="s1">&#39;data&#39;</span><span class="p">][:</span><span class="mi">100</span><span class="p">,</span><span class="mi">0</span><span class="p">]</span>
<span class="n">sepal_wid</span> <span class="o">=</span> <span class="n">iris</span><span class="p">[</span><span class="s1">&#39;data&#39;</span><span class="p">][:</span><span class="mi">100</span><span class="p">,</span><span class="mi">1</span><span class="p">]</span>
<span class="n">labels</span> <span class="o">=</span> <span class="n">iris</span><span class="p">[</span><span class="s1">&#39;target&#39;</span><span class="p">][:</span><span class="mi">100</span><span class="p">]</span>

<span class="c1"># We will also center the data</span>
<span class="c1"># This is done to make numbers nice, so that we have no</span>
<span class="c1"># need for biases in our classification. (You might not</span>
<span class="c1"># be able to remove biases this way in general.)</span>

<span class="n">sepal_len</span> <span class="o">-=</span> <span class="n">np</span><span class="o">.</span><span class="n">mean</span><span class="p">(</span><span class="n">sepal_len</span><span class="p">)</span>
<span class="n">sepal_wid</span> <span class="o">-=</span> <span class="n">np</span><span class="o">.</span><span class="n">mean</span><span class="p">(</span><span class="n">sepal_wid</span><span class="p">)</span>
</pre></div>

    </div>
</div>
</div>

</div>
<div class="cell border-box-sizing code_cell rendered">
<div class="input">
<div class="prompt input_prompt">In&nbsp;[6]:</div>
<div class="inner_cell">
    <div class="input_area">
<div class=" highlight hl-ipython2"><pre><span></span><span class="c1"># Plot Iris</span>

<span class="n">plt</span><span class="o">.</span><span class="n">scatter</span><span class="p">(</span><span class="n">sepal_len</span><span class="p">,</span> 
            <span class="n">sepal_wid</span><span class="p">,</span>
            <span class="n">c</span><span class="o">=</span><span class="n">labels</span><span class="p">,</span>
            <span class="n">cmap</span><span class="o">=</span><span class="n">plt</span><span class="o">.</span><span class="n">cm</span><span class="o">.</span><span class="n">Paired</span><span class="p">)</span>
<span class="n">plt</span><span class="o">.</span><span class="n">xlabel</span><span class="p">(</span><span class="s2">&quot;sepal length&quot;</span><span class="p">)</span>
<span class="n">plt</span><span class="o">.</span><span class="n">ylabel</span><span class="p">(</span><span class="s2">&quot;sepal width&quot;</span><span class="p">)</span>
</pre></div>

    </div>
</div>
</div>

<div class="output_wrapper">
<div class="output">


<div class="output_area">

    <div class="prompt output_prompt">Out[6]:</div>




<div class="output_text output_subarea output_execute_result">
<pre>&lt;matplotlib.text.Text at 0x10ec88f50&gt;</pre>
</div>

</div>

<div class="output_area">

    <div class="prompt"></div>




<div class="output_png output_subarea ">
<img src="data:image/png;base64,iVBORw0KGgoAAAANSUhEUgAAAY0AAAEPCAYAAAC+35gCAAAABHNCSVQICAgIfAhkiAAAAAlwSFlz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"
>
</div>

</div>

</div>
</div>

</div>
<div class="cell border-box-sizing text_cell rendered"><div class="prompt input_prompt">
</div><div class="inner_cell">
<div class="text_cell_render border-box-sizing rendered_html">
<h3 id="Plotting-Decision-Boundary">Plotting Decision Boundary<a class="anchor-link" href="#Plotting-Decision-Boundary">&#182;</a></h3><p>Plot decision boundary hypothese</p>
$$w_1 x_1 + w_2 x_2 \ge 0$$<p>for classification as Setosa.</p>

</div>
</div>
</div>
<div class="cell border-box-sizing code_cell rendered">
<div class="input">
<div class="prompt input_prompt">In&nbsp;[7]:</div>
<div class="inner_cell">
    <div class="input_area">
<div class=" highlight hl-ipython2"><pre><span></span><span class="k">def</span> <span class="nf">plot_sep</span><span class="p">(</span><span class="n">w1</span><span class="p">,</span> <span class="n">w2</span><span class="p">,</span> <span class="n">color</span><span class="o">=</span><span class="s1">&#39;green&#39;</span><span class="p">):</span>
    <span class="sd">&#39;&#39;&#39;</span>
<span class="sd">    Plot decision boundary hypothesis </span>
<span class="sd">      w1 * sepal_len + w2 * sepal_wid = 0</span>
<span class="sd">    in input space, highlighting the hyperplane</span>
<span class="sd">    &#39;&#39;&#39;</span>
    <span class="n">plt</span><span class="o">.</span><span class="n">scatter</span><span class="p">(</span><span class="n">sepal_len</span><span class="p">,</span> 
                <span class="n">sepal_wid</span><span class="p">,</span>
                <span class="n">c</span><span class="o">=</span><span class="n">labels</span><span class="p">,</span>
                <span class="n">cmap</span><span class="o">=</span><span class="n">plt</span><span class="o">.</span><span class="n">cm</span><span class="o">.</span><span class="n">Paired</span><span class="p">)</span>
    <span class="n">plt</span><span class="o">.</span><span class="n">title</span><span class="p">(</span><span class="s2">&quot;Separation in Input Space&quot;</span><span class="p">)</span>
    <span class="n">plt</span><span class="o">.</span><span class="n">ylim</span><span class="p">([</span><span class="o">-</span><span class="mf">1.5</span><span class="p">,</span><span class="mf">1.5</span><span class="p">])</span>
    <span class="n">plt</span><span class="o">.</span><span class="n">xlim</span><span class="p">([</span><span class="o">-</span><span class="mf">1.5</span><span class="p">,</span><span class="mi">2</span><span class="p">])</span>
    <span class="n">plt</span><span class="o">.</span><span class="n">xlabel</span><span class="p">(</span><span class="s2">&quot;sepal length&quot;</span><span class="p">)</span>
    <span class="n">plt</span><span class="o">.</span><span class="n">ylabel</span><span class="p">(</span><span class="s2">&quot;sepal width&quot;</span><span class="p">)</span>
    <span class="k">if</span> <span class="n">w2</span> <span class="o">!=</span> <span class="mi">0</span><span class="p">:</span>
        <span class="n">m</span> <span class="o">=</span> <span class="o">-</span><span class="n">w1</span><span class="o">/</span><span class="n">w2</span>
        <span class="n">t</span> <span class="o">=</span> <span class="mi">1</span> <span class="k">if</span> <span class="n">w2</span> <span class="o">&gt;</span> <span class="mi">0</span> <span class="k">else</span> <span class="o">-</span><span class="mi">1</span>
        <span class="n">plt</span><span class="o">.</span><span class="n">plot</span><span class="p">(</span>
            <span class="p">[</span><span class="o">-</span><span class="mf">1.5</span><span class="p">,</span><span class="mf">2.0</span><span class="p">],</span> 
            <span class="p">[</span><span class="o">-</span><span class="mf">1.5</span><span class="o">*</span><span class="n">m</span><span class="p">,</span> <span class="mf">2.0</span><span class="o">*</span><span class="n">m</span><span class="p">],</span> 
            <span class="s1">&#39;-y&#39;</span><span class="p">,</span> 
            <span class="n">color</span><span class="o">=</span><span class="n">color</span><span class="p">)</span>
        <span class="n">plt</span><span class="o">.</span><span class="n">fill_between</span><span class="p">(</span>
            <span class="p">[</span><span class="o">-</span><span class="mf">1.5</span><span class="p">,</span> <span class="mf">2.0</span><span class="p">],</span>
            <span class="p">[</span><span class="n">m</span><span class="o">*-</span><span class="mf">1.5</span><span class="p">,</span> <span class="n">m</span><span class="o">*</span><span class="mf">2.0</span><span class="p">],</span>
            <span class="p">[</span><span class="n">t</span><span class="o">*</span><span class="mf">1.5</span><span class="p">,</span> <span class="n">t</span><span class="o">*</span><span class="mf">1.5</span><span class="p">],</span>
            <span class="n">alpha</span><span class="o">=</span><span class="mf">0.2</span><span class="p">,</span>
            <span class="n">color</span><span class="o">=</span><span class="n">color</span><span class="p">)</span>
    <span class="k">if</span> <span class="n">w2</span> <span class="o">==</span> <span class="mi">0</span><span class="p">:</span> <span class="c1"># decision boundary is vertical</span>
        <span class="n">t</span> <span class="o">=</span> <span class="mi">1</span> <span class="k">if</span> <span class="n">w1</span> <span class="o">&gt;</span> <span class="mi">0</span> <span class="k">else</span> <span class="o">-</span><span class="mi">1</span>
        <span class="n">plt</span><span class="o">.</span><span class="n">plot</span><span class="p">([</span><span class="mi">0</span><span class="p">,</span> <span class="mi">0</span><span class="p">],</span>
                 <span class="p">[</span><span class="o">-</span><span class="mf">1.5</span><span class="p">,</span> <span class="mf">2.0</span><span class="p">],</span>
                 <span class="s1">&#39;-y&#39;</span><span class="p">,</span>
                <span class="n">color</span><span class="o">=</span><span class="n">color</span><span class="p">)</span>
        <span class="n">plt</span><span class="o">.</span><span class="n">fill_between</span><span class="p">(</span>
            <span class="p">[</span><span class="mi">0</span><span class="p">,</span> <span class="mf">2.0</span><span class="o">*</span><span class="n">t</span><span class="p">],</span>
            <span class="p">[</span><span class="o">-</span><span class="mf">1.5</span><span class="p">,</span> <span class="o">-</span><span class="mf">2.0</span><span class="p">],</span>
            <span class="p">[</span><span class="mf">1.5</span><span class="p">,</span> <span class="mi">2</span><span class="p">],</span>
            <span class="n">alpha</span><span class="o">=</span><span class="mf">0.2</span><span class="p">,</span>
            <span class="n">color</span><span class="o">=</span><span class="n">color</span><span class="p">)</span>
</pre></div>

    </div>
</div>
</div>

</div>
<div class="cell border-box-sizing code_cell rendered">
<div class="input">
<div class="prompt input_prompt">In&nbsp;[8]:</div>
<div class="inner_cell">
    <div class="input_area">
<div class=" highlight hl-ipython2"><pre><span></span><span class="c1"># Example hypothesis</span>
<span class="c1">#   sepal_wid &gt;= 0</span>

<span class="n">plot_sep</span><span class="p">(</span><span class="mi">0</span><span class="p">,</span> <span class="mi">1</span><span class="p">)</span>
</pre></div>

    </div>
</div>
</div>

<div class="output_wrapper">
<div class="output">


<div class="output_area">

    <div class="prompt"></div>




<div class="output_png output_subarea ">
<img src="data:image/png;base64,iVBORw0KGgoAAAANSUhEUgAAAY0AAAEZCAYAAABrUHmEAAAABHNCSVQICAgIfAhkiAAAAAlwSFlz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"
>
</div>

</div>

</div>
</div>

</div>
<div class="cell border-box-sizing code_cell rendered">
<div class="input">
<div class="prompt input_prompt">In&nbsp;[9]:</div>
<div class="inner_cell">
    <div class="input_area">
<div class=" highlight hl-ipython2"><pre><span></span><span class="c1"># Another example hypothesis:</span>
<span class="c1">#   -0.5*sepal_len + 1*sepal_wid &gt;= 0</span>

<span class="n">plot_sep</span><span class="p">(</span><span class="o">-</span><span class="mf">0.5</span><span class="p">,</span> <span class="mi">1</span><span class="p">)</span>
</pre></div>

    </div>
</div>
</div>

<div class="output_wrapper">
<div class="output">


<div class="output_area">

    <div class="prompt"></div>




<div class="output_png output_subarea ">
<img src="data:image/png;base64,iVBORw0KGgoAAAANSUhEUgAAAY0AAAEZCAYAAABrUHmEAAAABHNCSVQICAgIfAhkiAAAAAlwSFlz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"
>
</div>

</div>

</div>
</div>

</div>
<div class="cell border-box-sizing code_cell rendered">
<div class="input">
<div class="prompt input_prompt">In&nbsp;[10]:</div>
<div class="inner_cell">
    <div class="input_area">
<div class=" highlight hl-ipython2"><pre><span></span><span class="c1"># We&#39;re going to hand pick one point and</span>
<span class="c1"># analyze that point:</span>

<span class="n">a1</span> <span class="o">=</span> <span class="n">sepal_len</span><span class="p">[</span><span class="mi">41</span><span class="p">]</span>
<span class="n">a2</span> <span class="o">=</span> <span class="n">sepal_wid</span><span class="p">[</span><span class="mi">41</span><span class="p">]</span>
<span class="nb">print</span> <span class="p">(</span><span class="n">a1</span><span class="p">,</span> <span class="n">a2</span><span class="p">)</span> <span class="c1"># (-0.97, -0.79)</span>

<span class="n">plot_sep</span><span class="p">(</span><span class="o">-</span><span class="mf">0.5</span><span class="p">,</span> <span class="mi">1</span><span class="p">)</span>
<span class="n">plt</span><span class="o">.</span><span class="n">plot</span><span class="p">(</span><span class="n">a1</span><span class="p">,</span> <span class="n">a2</span><span class="p">,</span> <span class="s1">&#39;ob&#39;</span><span class="p">)</span> <span class="c1"># highlight the point</span>
</pre></div>

    </div>
</div>
</div>

<div class="output_wrapper">
<div class="output">


<div class="output_area">

    <div class="prompt"></div>


<div class="output_subarea output_stream output_stdout output_text">
<pre>(-0.97100000000000097, -0.79400000000000004)
</pre>
</div>
</div>

<div class="output_area">

    <div class="prompt output_prompt">Out[10]:</div>




<div class="output_text output_subarea output_execute_result">
<pre>[&lt;matplotlib.lines.Line2D at 0x10cee6cd0&gt;]</pre>
</div>

</div>

<div class="output_area">

    <div class="prompt"></div>




<div class="output_png output_subarea ">
<img src="data:image/png;base64,iVBORw0KGgoAAAANSUhEUgAAAY0AAAEZCAYAAABrUHmEAAAABHNCSVQICAgIfAhkiAAAAAlwSFlz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"
>
</div>

</div>

</div>
</div>

</div>
<div class="cell border-box-sizing text_cell rendered"><div class="prompt input_prompt">
</div><div class="inner_cell">
<div class="text_cell_render border-box-sizing rendered_html">
<h3 id="Plot-Constraints-in-Weight-Space">Plot Constraints in Weight Space<a class="anchor-link" href="#Plot-Constraints-in-Weight-Space">&#182;</a></h3><p>We'll plot the constraints for some of the points
that we chose earlier.</p>

</div>
</div>
</div>
<div class="cell border-box-sizing code_cell rendered">
<div class="input">
<div class="prompt input_prompt">In&nbsp;[11]:</div>
<div class="inner_cell">
    <div class="input_area">
<div class=" highlight hl-ipython2"><pre><span></span><span class="k">def</span> <span class="nf">plot_weight_space</span><span class="p">(</span><span class="n">sepal_len</span><span class="p">,</span> <span class="n">sepal_wid</span><span class="p">,</span> <span class="n">lab</span><span class="o">=</span><span class="mi">1</span><span class="p">,</span>
                      <span class="n">color</span><span class="o">=</span><span class="s1">&#39;steelblue&#39;</span><span class="p">,</span>
                      <span class="n">maxlim</span><span class="o">=</span><span class="mf">2.0</span><span class="p">):</span>
    <span class="n">plt</span><span class="o">.</span><span class="n">title</span><span class="p">(</span><span class="s2">&quot;Constraint(s) in Weight Space&quot;</span><span class="p">)</span>
    <span class="n">plt</span><span class="o">.</span><span class="n">ylim</span><span class="p">([</span><span class="o">-</span><span class="n">maxlim</span><span class="p">,</span><span class="n">maxlim</span><span class="p">])</span>
    <span class="n">plt</span><span class="o">.</span><span class="n">xlim</span><span class="p">([</span><span class="o">-</span><span class="n">maxlim</span><span class="p">,</span><span class="n">maxlim</span><span class="p">])</span>
    <span class="n">plt</span><span class="o">.</span><span class="n">xlabel</span><span class="p">(</span><span class="s2">&quot;w1&quot;</span><span class="p">)</span>
    <span class="n">plt</span><span class="o">.</span><span class="n">ylabel</span><span class="p">(</span><span class="s2">&quot;w2&quot;</span><span class="p">)</span>

    <span class="k">if</span> <span class="n">sepal_wid</span> <span class="o">!=</span> <span class="mi">0</span><span class="p">:</span>
        <span class="n">m</span> <span class="o">=</span> <span class="o">-</span><span class="n">sepal_len</span><span class="o">/</span><span class="n">sepal_wid</span>
        <span class="n">t</span> <span class="o">=</span> <span class="mi">1</span><span class="o">*</span><span class="n">lab</span> <span class="k">if</span> <span class="n">sepal_wid</span> <span class="o">&gt;</span> <span class="mi">0</span> <span class="k">else</span> <span class="o">-</span><span class="mi">1</span><span class="o">*</span><span class="n">lab</span>
        <span class="n">plt</span><span class="o">.</span><span class="n">plot</span><span class="p">([</span><span class="o">-</span><span class="n">maxlim</span><span class="p">,</span> <span class="n">maxlim</span><span class="p">],</span> 
                 <span class="p">[</span><span class="o">-</span><span class="n">maxlim</span><span class="o">*</span><span class="n">m</span><span class="p">,</span> <span class="n">maxlim</span><span class="o">*</span><span class="n">m</span><span class="p">],</span> 
                 <span class="s1">&#39;-y&#39;</span><span class="p">,</span>
                 <span class="n">color</span><span class="o">=</span><span class="n">color</span><span class="p">)</span>
        <span class="n">plt</span><span class="o">.</span><span class="n">fill_between</span><span class="p">(</span>
            <span class="p">[</span><span class="o">-</span><span class="n">maxlim</span><span class="p">,</span> <span class="n">maxlim</span><span class="p">],</span>     <span class="c1"># x </span>
            <span class="p">[</span><span class="n">m</span><span class="o">*-</span><span class="n">maxlim</span><span class="p">,</span> <span class="n">m</span><span class="o">*</span><span class="n">maxlim</span><span class="p">],</span> <span class="c1"># y-min</span>
            <span class="p">[</span><span class="n">t</span><span class="o">*</span><span class="n">maxlim</span><span class="p">,</span> <span class="n">t</span><span class="o">*</span><span class="n">maxlim</span><span class="p">],</span>      <span class="c1"># y-max</span>
            <span class="n">alpha</span><span class="o">=</span><span class="mf">0.2</span><span class="p">,</span>
            <span class="n">color</span><span class="o">=</span><span class="n">color</span><span class="p">)</span>
    <span class="k">if</span> <span class="n">sepal_wid</span> <span class="o">==</span> <span class="mi">0</span><span class="p">:</span> <span class="c1"># decision boundary is vertical</span>
        <span class="n">t</span> <span class="o">=</span> <span class="mi">1</span><span class="o">*</span><span class="n">lab</span> <span class="k">if</span> <span class="n">sepal_len</span> <span class="o">&gt;</span> <span class="mi">0</span> <span class="k">else</span> <span class="o">-</span><span class="mi">1</span><span class="o">*</span><span class="n">lab</span>
        <span class="n">plt</span><span class="o">.</span><span class="n">plot</span><span class="p">([</span><span class="mi">0</span><span class="p">,</span> <span class="mi">0</span><span class="p">],</span> 
                 <span class="p">[</span><span class="o">-</span><span class="n">maxlim</span><span class="p">,</span> <span class="n">maxlim</span><span class="p">],</span> 
                 <span class="s1">&#39;-y&#39;</span><span class="p">,</span>
                 <span class="n">color</span><span class="o">=</span><span class="n">color</span><span class="p">)</span>
        <span class="n">plt</span><span class="o">.</span><span class="n">fill_between</span><span class="p">(</span>
            <span class="p">[</span><span class="mi">0</span><span class="p">,</span> <span class="mf">2.0</span><span class="o">*</span><span class="n">t</span><span class="p">],</span>
            <span class="p">[</span><span class="o">-</span><span class="n">maxlim</span><span class="p">,</span> <span class="o">-</span><span class="n">maxlim</span><span class="p">],</span>
            <span class="p">[</span><span class="n">maxlim</span><span class="p">,</span> <span class="n">maxlim</span><span class="p">],</span>
            <span class="n">alpha</span><span class="o">=</span><span class="mf">0.2</span><span class="p">,</span>
            <span class="n">color</span><span class="o">=</span><span class="n">color</span><span class="p">)</span>
</pre></div>

    </div>
</div>
</div>

</div>
<div class="cell border-box-sizing code_cell rendered">
<div class="input">
<div class="prompt input_prompt">In&nbsp;[12]:</div>
<div class="inner_cell">
    <div class="input_area">
<div class=" highlight hl-ipython2"><pre><span></span><span class="c1"># Plot the constraint for the point identified earlier:</span>

<span class="n">a1</span> <span class="o">=</span> <span class="n">sepal_len</span><span class="p">[</span><span class="mi">41</span><span class="p">]</span>
<span class="n">a2</span> <span class="o">=</span> <span class="n">sepal_wid</span><span class="p">[</span><span class="mi">41</span><span class="p">]</span>
<span class="nb">print</span> <span class="p">(</span><span class="n">a1</span><span class="p">,</span> <span class="n">a2</span><span class="p">)</span>

<span class="c1"># Do this on the board first by hand</span>

<span class="n">plot_weight_space</span><span class="p">(</span><span class="n">a1</span><span class="p">,</span> <span class="n">a2</span><span class="p">,</span> <span class="n">lab</span><span class="o">=</span><span class="mi">1</span><span class="p">)</span>

<span class="c1"># Below is the hypothesis we plotted earlier</span>
<span class="c1"># Notice it falls outside the range.</span>
<span class="n">plt</span><span class="o">.</span><span class="n">plot</span><span class="p">(</span><span class="o">-</span><span class="mf">0.5</span><span class="p">,</span> <span class="mi">1</span><span class="p">,</span> <span class="s1">&#39;og&#39;</span><span class="p">)</span>
</pre></div>

    </div>
</div>
</div>

<div class="output_wrapper">
<div class="output">


<div class="output_area">

    <div class="prompt"></div>


<div class="output_subarea output_stream output_stdout output_text">
<pre>(-0.97100000000000097, -0.79400000000000004)
</pre>
</div>
</div>

<div class="output_area">

    <div class="prompt output_prompt">Out[12]:</div>




<div class="output_text output_subarea output_execute_result">
<pre>[&lt;matplotlib.lines.Line2D at 0x10e928fd0&gt;]</pre>
</div>

</div>

<div class="output_area">

    <div class="prompt"></div>




<div class="output_png output_subarea ">
<img src="data:image/png;base64,iVBORw0KGgoAAAANSUhEUgAAAY0AAAEZCAYAAABrUHmEAAAABHNCSVQICAgIfAhkiAAAAAlwSFlz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"
>
</div>

</div>

</div>
</div>

</div>
<div class="cell border-box-sizing text_cell rendered"><div class="prompt input_prompt">
</div><div class="inner_cell">
<div class="text_cell_render border-box-sizing rendered_html">
<h3 id="Perceptron-Learning-Rule-Example">Perceptron Learning Rule Example<a class="anchor-link" href="#Perceptron-Learning-Rule-Example">&#182;</a></h3><p>We'll take one step using the perceptron learning rule</p>

</div>
</div>
</div>
<div class="cell border-box-sizing code_cell rendered">
<div class="input">
<div class="prompt input_prompt">In&nbsp;[20]:</div>
<div class="inner_cell">
    <div class="input_area">
<div class=" highlight hl-ipython2"><pre><span></span><span class="c1"># Using the perceptron learning rule</span>
<span class="c1"># TODO: Fill in</span>

<span class="n">w1</span> <span class="o">=</span> <span class="o">-</span><span class="mf">0.5</span> <span class="c1"># + ...</span>
<span class="n">w2</span> <span class="o">=</span>  <span class="mi">1</span>   <span class="c1"># + ...</span>
</pre></div>

    </div>
</div>
</div>

</div>
<div class="cell border-box-sizing code_cell rendered">
<div class="input">
<div class="prompt input_prompt">In&nbsp;[21]:</div>
<div class="inner_cell">
    <div class="input_area">
<div class=" highlight hl-ipython2"><pre><span></span><span class="c1"># This should bring the point closer to the boundary</span>
<span class="c1"># In this case, the step brought the point into the</span>
<span class="c1"># condition boundary</span>
<span class="n">plot_weight_space</span><span class="p">(</span><span class="n">a1</span><span class="p">,</span> <span class="n">a2</span><span class="p">,</span> <span class="n">lab</span><span class="o">=</span><span class="mi">1</span><span class="p">)</span>
<span class="n">plt</span><span class="o">.</span><span class="n">plot</span><span class="p">(</span><span class="o">-</span><span class="mf">0.5</span><span class="o">+</span><span class="n">a1</span><span class="p">,</span> <span class="mi">1</span><span class="o">+</span><span class="n">a2</span><span class="p">,</span> <span class="s1">&#39;og&#39;</span><span class="p">)</span>
<span class="c1"># old hypothesis</span>
<span class="n">plt</span><span class="o">.</span><span class="n">plot</span><span class="p">(</span><span class="o">-</span><span class="mf">0.5</span><span class="p">,</span> <span class="mi">1</span><span class="p">,</span> <span class="s1">&#39;og&#39;</span><span class="p">)</span>
<span class="n">plt</span><span class="o">.</span><span class="n">plot</span><span class="p">([</span><span class="o">-</span><span class="mf">0.5</span><span class="p">,</span> <span class="o">-</span><span class="mf">0.5</span><span class="o">+</span><span class="n">a1</span><span class="p">],</span> <span class="p">[</span><span class="mi">1</span><span class="p">,</span> <span class="mi">1</span><span class="o">+</span><span class="n">a2</span><span class="p">],</span> <span class="s1">&#39;-g&#39;</span><span class="p">)</span>

<span class="n">plt</span><span class="o">.</span><span class="n">axes</span><span class="p">()</span><span class="o">.</span><span class="n">set_aspect</span><span class="p">(</span><span class="s1">&#39;equal&#39;</span><span class="p">,</span> <span class="s1">&#39;box&#39;</span><span class="p">)</span>
</pre></div>

    </div>
</div>
</div>

<div class="output_wrapper">
<div class="output">


<div class="output_area">

    <div class="prompt"></div>




<div class="output_png output_subarea ">
<img src="data:image/png;base64,iVBORw0KGgoAAAANSUhEUgAAAR4AAAEZCAYAAABBzEpuAAAABHNCSVQICAgIfAhkiAAAAAlwSFlz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==
"
>
</div>

</div>

</div>
</div>

</div>
<div class="cell border-box-sizing code_cell rendered">
<div class="input">
<div class="prompt input_prompt">In&nbsp;[22]:</div>
<div class="inner_cell">
    <div class="input_area">
<div class=" highlight hl-ipython2"><pre><span></span><span class="c1"># Which means that the point (a1, a2) in input</span>
<span class="c1"># space is correctly classified.</span>

<span class="n">plot_sep</span><span class="p">(</span><span class="o">-</span><span class="mf">0.5</span><span class="o">+</span><span class="n">a1</span><span class="p">,</span> <span class="mi">1</span><span class="o">+</span><span class="n">a2</span><span class="p">)</span>
</pre></div>

    </div>
</div>
</div>

<div class="output_wrapper">
<div class="output">


<div class="output_area">

    <div class="prompt"></div>




<div class="output_png output_subarea ">
<img src="data:image/png;base64,iVBORw0KGgoAAAANSUhEUgAAAY0AAAEZCAYAAABrUHmEAAAABHNCSVQICAgIfAhkiAAAAAlwSFlz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"
>
</div>

</div>

</div>
</div>

</div>
<div class="cell border-box-sizing text_cell rendered"><div class="prompt input_prompt">
</div><div class="inner_cell">
<div class="text_cell_render border-box-sizing rendered_html">
<h3 id="Visualizing-Multiple-Constraints">Visualizing Multiple Constraints<a class="anchor-link" href="#Visualizing-Multiple-Constraints">&#182;</a></h3><p>We'll visualize multiple constraints in weight space.</p>

</div>
</div>
</div>
<div class="cell border-box-sizing code_cell rendered">
<div class="input">
<div class="prompt input_prompt">In&nbsp;[23]:</div>
<div class="inner_cell">
    <div class="input_area">
<div class=" highlight hl-ipython2"><pre><span></span><span class="c1"># Pick a second point</span>
<span class="n">b1</span> <span class="o">=</span> <span class="n">sepal_len</span><span class="p">[</span><span class="mi">84</span><span class="p">]</span>
<span class="n">b2</span> <span class="o">=</span> <span class="n">sepal_wid</span><span class="p">[</span><span class="mi">84</span><span class="p">]</span>

<span class="n">plot_sep</span><span class="p">(</span><span class="o">-</span><span class="mf">0.5</span><span class="o">+</span><span class="n">a1</span><span class="p">,</span> <span class="mi">1</span><span class="o">+</span><span class="n">a2</span><span class="p">)</span>
<span class="n">plt</span><span class="o">.</span><span class="n">plot</span><span class="p">(</span><span class="n">b1</span><span class="p">,</span> <span class="n">b2</span><span class="p">,</span> <span class="s1">&#39;or&#39;</span><span class="p">)</span> <span class="c1"># plot the circle in red</span>
</pre></div>

    </div>
</div>
</div>

<div class="output_wrapper">
<div class="output">


<div class="output_area">

    <div class="prompt output_prompt">Out[23]:</div>




<div class="output_text output_subarea output_execute_result">
<pre>[&lt;matplotlib.lines.Line2D at 0x10cc68ed0&gt;]</pre>
</div>

</div>

<div class="output_area">

    <div class="prompt"></div>




<div class="output_png output_subarea ">
<img src="data:image/png;base64,iVBORw0KGgoAAAANSUhEUgAAAY0AAAEZCAYAAABrUHmEAAAABHNCSVQICAgIfAhkiAAAAAlwSFlz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"
>
</div>

</div>

</div>
</div>

</div>
<div class="cell border-box-sizing code_cell rendered">
<div class="input">
<div class="prompt input_prompt">In&nbsp;[24]:</div>
<div class="inner_cell">
    <div class="input_area">
<div class=" highlight hl-ipython2"><pre><span></span><span class="c1"># our weights fall outside constraint of second pt.</span>

<span class="n">plot_weight_space</span><span class="p">(</span><span class="n">a1</span><span class="p">,</span> <span class="n">a2</span><span class="p">,</span> <span class="n">lab</span><span class="o">=</span><span class="mi">1</span><span class="p">,</span> <span class="n">color</span><span class="o">=</span><span class="s1">&#39;blue&#39;</span><span class="p">)</span>
<span class="n">plot_weight_space</span><span class="p">(</span><span class="n">b1</span><span class="p">,</span> <span class="n">b2</span><span class="p">,</span> <span class="n">lab</span><span class="o">=-</span><span class="mi">1</span><span class="p">,</span> <span class="n">color</span><span class="o">=</span><span class="s1">&#39;red&#39;</span><span class="p">)</span>
<span class="n">plt</span><span class="o">.</span><span class="n">plot</span><span class="p">(</span><span class="n">w1</span><span class="p">,</span> <span class="n">w2</span><span class="p">,</span> <span class="s1">&#39;ob&#39;</span><span class="p">)</span>
</pre></div>

    </div>
</div>
</div>

<div class="output_wrapper">
<div class="output">


<div class="output_area">

    <div class="prompt output_prompt">Out[24]:</div>




<div class="output_text output_subarea output_execute_result">
<pre>[&lt;matplotlib.lines.Line2D at 0x10dc8a4d0&gt;]</pre>
</div>

</div>

<div class="output_area">

    <div class="prompt"></div>




<div class="output_png output_subarea ">
<img src="data:image/png;base64,iVBORw0KGgoAAAANSUhEUgAAAY0AAAEZCAYAAABrUHmEAAAABHNCSVQICAgIfAhkiAAAAAlwSFlz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"
>
</div>

</div>

</div>
</div>

</div>
<div class="cell border-box-sizing code_cell rendered">
<div class="input">
<div class="prompt input_prompt">In&nbsp;[25]:</div>
<div class="inner_cell">
    <div class="input_area">
<div class=" highlight hl-ipython2"><pre><span></span><span class="c1"># Example of a separating hyperplane</span>
<span class="n">plot_weight_space</span><span class="p">(</span><span class="n">a1</span><span class="p">,</span> <span class="n">a2</span><span class="p">,</span> <span class="n">lab</span><span class="o">=</span><span class="mi">1</span><span class="p">,</span> <span class="n">color</span><span class="o">=</span><span class="s1">&#39;blue&#39;</span><span class="p">)</span>
<span class="n">plot_weight_space</span><span class="p">(</span><span class="n">b1</span><span class="p">,</span> <span class="n">b2</span><span class="p">,</span> <span class="n">lab</span><span class="o">=-</span><span class="mi">1</span><span class="p">,</span> <span class="n">color</span><span class="o">=</span><span class="s1">&#39;red&#39;</span><span class="p">)</span>
<span class="n">plt</span><span class="o">.</span><span class="n">plot</span><span class="p">(</span><span class="o">-</span><span class="mi">1</span><span class="p">,</span> <span class="mi">1</span><span class="p">,</span> <span class="s1">&#39;ok&#39;</span><span class="p">)</span>
<span class="n">plt</span><span class="o">.</span><span class="n">show</span><span class="p">()</span>
<span class="n">plot_sep</span><span class="p">(</span><span class="o">-</span><span class="mi">1</span><span class="p">,</span> <span class="mi">1</span><span class="p">)</span>
<span class="n">plt</span><span class="o">.</span><span class="n">show</span><span class="p">()</span>
</pre></div>

    </div>
</div>
</div>

<div class="output_wrapper">
<div class="output">


<div class="output_area">

    <div class="prompt"></div>




<div class="output_png output_subarea ">
<img src="data:image/png;base64,iVBORw0KGgoAAAANSUhEUgAAAY0AAAEZCAYAAABrUHmEAAAABHNCSVQICAgIfAhkiAAAAAlwSFlz
AAALEgAACxIB0t1+/AAAIABJREFUeJzt3XlYVHXbwPHvsArihqKIa+DeqhiaaZFlqZWKWppLmevT
q5m5ZOZGlpmauWQqWW6pZZumWU/ZYtlmD+aa4obgruCuKAjM+8c9BOKwz8yZgftzXVzMnDlzzs0B
zj2/HZRSSimllFJKKaWUUkoppZRSSimllFJKKaWUUkoVU5eA2kV4vzfwD1Alj/3uAH7LY5+vgd5F
iMUWegLf5nPfPsAm+4WilCrOegDRyE34OHIDvNeO5wsHjtjx+NakA8HZtj0PzMvn+9cDj9k0IjEG
ud5Z7c9h25M2PG8fck8aG4F+eRyjH7AHuAicRK6Rnw1iU0o5seHAKaAT4AO4A48CU+14znDyThru
Nj5nOhCSbdsu4J58vr8HsM6mEYkWwHnAZHleFTiEJG+3LNvSgUAbnrcPuSeNn8g9adyPJIo7Lc8r
ICUtTRpKFWPlkNJFl1z28QZmAccsXzMBL8tr4cBRMhPPceRmlKE9Uv1zMct+vsBVIM1y7ovITTES
+Az4ELgA9AXuBv4AzlmO/Q7gmeX4WUsPS4B3ga8sx/wzy2u/WPa9bDnnE0BNIInMG7O1eEdkea2a
Zf+s589qI5k32T7Ar8B04CwQC7TN4X1ewBWgseX5k8Aiy/GaZNm23/K4HPABcj2OAq9l+Rn6cGMi
eBjYiySld4Gfs8W4KYcYJwOpyO/pEjDHStwjgdU5/Ewgv48FwHfI9dyIXPMMs4HDyO86GmiZ5TU3
4BXggOW90UB1y2sNgA3AGSAG+V0qpRykLXCdG2+c2U0CfgcqWb5+s2wDSRrXkRu+O9AOuQGWs7x+
gsxqrnJk3hjv5+aSRiSQAnSwPC+F3DTDLPHVAnYDL2R5T/akkQg0tcSyHPgoh31BSlO7ssWQU7wZ
LgC3Yd1PSKIDuSGnIDdoE/AfJOHm5EdgmOXxXOBZ4PVs2963PF4NzEdKhQHAZmBglvNmJI1Klng7
IddvqCWm/MaY9eexpiWSRCORa+ad7fUlyA2/JZIYZ3FjQuuJlE7ckA8TJ8j8MDIK2AHUtTy/HfAH
SiN/N89Y3ncXkAA0zCVOpZQN9UT+WXNzgBs/JT+MVJ+AJI3sn9ZPITd6gHjkhlY22zHDsZ40NuYR
yzDgiyzPsyaCxcB7WV5rh9S3W9sX5Gf/I9vxc4o3w1Fu/EScVfaksT/La76W81fO4b0Tyfy5tiHV
aI9k2bYdqfqpAlxDEmqGp5Ckk3HejBvz09zceH+4ADHmVT0F8nexFikJXgJmkPm3sARYmWXf0kjp
pVoOxzqLJAeQ0tHjVvbphpQas4oCJuQRp7Kh3D5hquLvDPKJNLe/gyDkZprhsGVb1mOkZ3meRGa9
dhekyicOSQjN84jnaLbn9ZDqphPIp+bJQMVc3n8qy+Or5F6/fg4ok21bXvGWQap68uNklsdJlu85
xfMLkowqIKWHg0hCa2HZdqtln1pI9dgJS/znkCqgACvHDOLm65n9eV4xmnOIN8N/kZJhBaAjkoj6
Z3lv1vNdQRJDxt/OSKTkeB75Ocohf4sgVVEHrZyvFtCMzJ/9HNLWlFfvN2VDmjRKtj+AZCAil32O
c2O31pqWbfkRjVSPBABrgE8s263djMxWts9Hbix1kJvKWGz3N7sDuCXb8XKKF+QTshfyKdjW/kR+
vgFklg4uItd5oOV7PFI6S0YSZwXLVzkyP6FndZzMdgCQKqjqVvbLSV4JI7sfLV+3ZjlfjSyv+yFV
TMeBVkgV1BNAeeTnuEBmZ4AjyO88u8NIu0yFLF9lgMEFjFUVgSaNku0CUrR/F/mk6It8km1HZu+p
j4BxZLZpTEAaq/PiiVQBlSOz0TvN8top5MaXtRrIxM38LO9LQhpAn8vlfNben9Upbuw9dRSpemuW
j3hB2mF+QNpwbO0qkrCGc2P1y6+WbT9bnp9AGpbfRm6WbsjPdJ+VY36NJJOOgAdyYy1I76vs1yu7
Dkh1UQXk2och1+jPLPu0R9o7vJAG+z+QdpMySFVVouW1Cdz4t/C+Zf86lmPfgSScr5DSZy/k9+WJ
dJZoUICfSxWRJg31NnJjGgecRj7N/R+ZPWNeR25oOyxf0ZZtGXL7RNoLaf+4gHxi7mnZHoMko1ik
yqIq1ksaI5Hqh4tIe8XH2fbJ/jj7+7M+jwSWIlUaXS3borhxQF5O8WJ5vCCHnzO7vGKx5mekhPNr
lm2bkESdNZE8jdxodyPX7lMyk0HW8yYin+SnWR43RH53yfmMcTZync4ijdjZnUNKRvuQ6/Wh5VwZ
nQ/MSJvGRKQKszFyfUGqtf5reW8ckjQPZzn220gp7zvLsRci7TiXkTa17kjyOQFMIbMBXRVzNZDG
tn+QXixDc9hvDtJgt52be7MoVRRe2G5EuLNzQ2609zvofIuR0oJSNhOIdJkDqYbYy81d59qTOTK2
GTcWfZVSuXsYaTPwRkqSx7i5a6y9LEGTRrFkZPXUSaR7IUixcw839soBqTddanm8GfkH0J4SSuXP
PUi7TQIyLqUTmdVT9mat+kspm6mN9A7J3iVxHdLtMMP3QKiDYlJKKZWNMzSE+yHTR7yAlDiyy94r
Rj+9KKWUQTwMPr8n8Dky5cMaK68f48a+3tWxMh1D9YpB5qNn8jt0QCmllMVBrI+JyVFefdvtyYS0
V5wBXsxhn/bAEMv35kjXP2ujis27P4y2R4x5+m5zWV5dUptJg44x5Kkzue4bGRVF5KBBDoqscFwh
RtA4bU3jtC2XiDMxEVPbtlDAPGBkSeNepN/2DmCrZdsrZM6EGYX0nGqPNOZdQSZycyoPN7tIrcC9
DJ1dh237fFgw9igeRpfflFLKToy8vf1K/tpUhtg7kKKqXyuZjyNjGD73Fu7rV5c1M2Op7J+W9xuV
UsrFOENDeLFQoWwa7798gOCqSYT2bMjfe0rdtE94qPN3/HKFGEHjtDWN07ZcJc7CMLJNw5YMa9Ow
5tMf/Zn5aXXmjY7nqXYXjA5HKaVu5oJtGsXWE63PEhJ0jWEzQti2N5EpQ0/gpmU6pVQxoLcyO2nS
IImPIvewflNZHh0azMXLeqmVUq5P72R2VLViKssn7MPdnMbdveuz/7BOxqmUcm2aNOzM28vMtMHx
PNrsDPf0acB/f8ttMTmllHJumjQcwGSCAR1P81rfQ/QYF8z0JQGYdTIUpZQL0qThQOGhl/hwbAzz
Pwug99iaJKcUl85rSqmSQpOGgwVXS+HjyBgOn/Dk3mfrcvy0dmBTSrkOTRoGKFM6nfkjD3LHLZcI
7dWAP3f4GB2SUkrliyYNg7i5waieJxja5SjthtZl8ZcVjA5JKaXypHUjBut033mCqyYzbG4I2/b6
MHPkcR0IqJRyWnp7cgJ31L3Kx5Ex/LLFjzb/CeH8Rf21KKWck96dnETlCqksGbuPcr4phPZqwD8H
vY0OSSmlbqJJw4l4ecLkQUd44v7T3Ne/Pl/+VMbokJRS6gbapuGEnmmfSN3q1+j3WjA79p9k3IDT
mHRIh1LKCWhJw0m1uOMyK8bH8OH6ijwxqjZXr2nWUEoZT5OGE6sZmMKKiXs5d8FE82fqE3/C0+iQ
lFIlnCYNJ+fnk847Lx7inkbnCXu6AT9H+xodklKqBDM6aSwCTgE7c3g9HLgAbLV8jXNMWM7FZIIX
njzJy08dJmJkHeZ/4m90SEqpEsrohvDFwDvAslz2+Rno4JhwnFvbey5Qq+o+Xpgdwra9vrw75ige
Rv8GlVIlitEljU3AuTz20RbgLBrWvsbHkTFsjfEhfEBdEs+5Gx2SUqoEMTpp5MUMtAC2A18DjXLe
s+QsUOFfLo0PxuyneqWrhPZqwLaYUkaHpJQqIZw9afwN1ADuRKqx1uS0Y+1X+1B66yZHxWU4D3eY
2PcofR45Qevn6vHJd+WMDkkpVQI4e434pSyPvwHmAf7A2ew7jgmsRZkFE0j39uH2Nt248/FnHBWj
obq3OUtI9WsMmRrC9r0JvD7kpA4EVEpZtTE6mo1btsiTpKRCHcMZbi+1gXXA7VZeqwKcRqqpwoBP
LPtnZ46ONkNqKpW+iKLqkimklqtIQqf+JN3Rwk5hO5fjiZ48PzOE4OrJfDQlnjKl040OSSnlzBIT
MbVtCwXMA0YnjY+A+4FKSNfbiUDGCLYoYDDwHJAKJAHDgT+tHEeSRobrKQR8HkXgkjdJrRBAQsQA
km5vbrcfwllcSzYxJqoW8ad9+GrWAUJqXDc6JKWUs3LRpGErNyaNDNdTCPhsPoFLp5LqX4WEiIEk
3Rbm+OgcyGyGqDWVWfF9IB9NjqXNPZeNDkkp5Yw0aeTce8qUkkylT+dRddk0UgKCSOg0kKu3NnVg
eI73w//KMmFxbcb3Pc6LvRONDkcp5Ww0aeTd5daUkkzAJ3MJXDaNlCo1SIgYxNWGTRwQnjEOHPXm
+Vkh3N/kEgsnHMFLp65SSmXQpJH/cRqm5GuSPD6cTkpgLRIiBnK1QWM7hmeci1fcGP7OLVxPc+fL
mbFUDUg1OiSllDMoZNJw9nEadmH2LsXp3iPZuS6ecw92odq7r1BjynOU2rvN6NBsrmzpdKJeOkjD
mpdp2rsBf+30MTokpZQLK5EljexM165S+aPZVFnxNsnVg0mIGMi1enfaMDznsPrnCkz/uAZzRh6m
92PnjQ5HKWUkrZ4q+jQipmtXqbLibSqvnElyjbokdBnEtTrWho+4rm37fHhxbgg9HjnDW8NP4FYi
y5pKKU0aNkgaGUxXk6iyYgZVVs7iau0GJHYeyLWQ22x2fKOdOuvBC7ODqVIxjU+nHaJcGR0IqFSJ
o20atmP28eVk//Hs+Cqei80focbbw6n+1guUiv3H6NBsoop/KkvH7cfX8zpNezVgT6yX0SEppVyE
Jo1cmH39ODlwAju+iudS2EPUmDGM6jOG4R27x+jQiszb08wb/zlMRMsEWvZrwFc/lzE6JKWUC9Dq
qQJwu3KJKsumU/mTuVytcxsJnQeRXLuB3c9rb79u9+PlqGBG9DzJmH6ndcJDpUoCbdNw3Hoabpcv
UmXZNCp/+i5Jde8kMWIgybXrO+z89hB/0oshM0MIbZjE0kmHKeVdctYnUapE0qTh+Juc26ULBC6d
SsDn80mqdxeJnQeRXLOuw+OwlctJbrw0rzbnrniydtZBagbqQEClii1tCHe89DLlOD7kDXZ+eYgr
tzaj5pT/UG32S3gdOWB0aIXi55vO3OGxhNW/QFjvhmza6mt0SEopJ6MlDRtyu3iewCVTCPgiiqSG
oSR0HkRK9RCjwyqU9b+VY/LyWkwdcpSBXW9a80op5eq0esr4pJHB7cJZqi6eQqXV75F0axgJnQeS
Ui3Y6LAKbHdsKYbOqUOH+88xd/Qx3N2NjkgpZTOaNJwnaWRwP3+GwMVvUGnN+1y5rRkJnQdxPai2
0WEVyJkL7rwwOxi/0ma+eOsQFcunGR2SUsoWtE3D+aSVr8ixF2ewa81Brt3SiFsmPUvQu2PxPHnY
6NDyrWK5NJaM3U+VctcI7dWAHfu8jQ5JKWUgTRoOkFahEkdHzmLn6oNcq1WPWyKfoer88S6TPDzc
4dX+R+nd5iThg+rz+fdljQ5JKWUQrZ4ygPvZ0wS9P4mK65dx6c6WJHQeSGqVGkaHlS+b/ynNqPnB
PNflNK8+d0oHAirlqly0emoRcArYmcs+c4D9wHagWKyUlOZfmSMvzWXn5/tICbqF4IlPU3XBBDxO
HTM6tDw1u/UKKyfG8MmGCnR68RYuJ2nWUKokMfo/vhVwGVgGWJuDvD0wxPK9GTAbaG5lP5cqaWTn
kXCCqu9PouI3K7gUej8JnQaSWjnIoTFs3LaJ5d+uIiU1BS8PL3o90o3wu1rluP/VZBMvz6/FsTOl
WDf7IMHVrjswWqVUkbloSWMTcC6X1zsASy2PNwPlgSr2DsrRUgOqcmTMfHZ9FsP1gGoEj+9J4MJJ
eCSccMj5N27bxJQPZ/D7rj+Jjvmb33f9yZQPZ7Bx26Yc3+PjbWbWC3G0vusczZ5uwI+bSzskVqWU
sYxOGnmpBhzJ8vwoUN2gWOwutXIQh19ZwK5P95DqX5ngcT0IfP81PBJP2vW8y79dxZHTR2/YduT0
UVZ890mu7zOZ4P+6nGL80/F0HR3C7JUV7RmmUsoJeBgdQD5kLzpZrYeKior893FoaDhNm4bbLyI7
S61SjcPjFnJ8wESCoiYSPPYpLt79IAkRA0iraPuCVkpqitXtydeT8/X+NmEXqR24lyGz6rB9ry8L
xh3By9OWESqlbGFjdDQbt2yRJ0lJhTqG0W0aALWBdVhv01gAbAQ+tjyPAe5HGs+zcuk2jbx4nDxM
UFQk/j98xsWwh0iI6E+av+2SR/+pQ/h91583bb/39ntY+NI7+T7OuYvujJh7C7iZ+HJmLJX9dSCg
Uk7LRds08rIWeNryuDlwnpsTRrGXGliTwxMX8c+qnaT5lSVkTHeqLJ6C+7nTNjl+r0e6UaPyjbV+
NSpXp+fDTxboOBXKprHw5QOEVE2iSY+GRP9TyibxKaWch9EljY+QkkMlJBlMBDIqNqIs3+cCbYEr
wLPA31aOU6xLGtl5Ho8jaMEEKmxcw4V72pLYsS9pFQKKdMyN2zax4rtPSL6ejLenNz0ffjLX3lN5
+exHf97+tDrvvnSYHu3PFyk2pZQd6NxTJSdpZPA8FivJ4+e1XGjRTpJH+UpGh/Wvv/f6MnxuCM88
msibL5zAzdnLtUqVJMW0ekrl4nq1YOJfW87uFX9jdncnZPQTVFk2HfeLzjGVeZP6SXwcuYdvfitL
++eDuXhZ/9yUcnX6X1wMpNSoQ9zklexZvgWzyUTIqC5U/vAt3JwgeQRWTOXD8fvwII27e9dnX7yX
0SEppYpAk0YxklyzLnFvfMSe5dGY0tOpM6oLlZe/jdul3MZP2p+3l5lpg+N5vHkiLZ5twNeb/AyN
RylVeJo0iqHkmvU49OYq9iz7C1NqiiSPFTNxu2Rcg7TJBP06JPB6v0P0nhDM1MUBmEteM5RSLk8b
wksA79jdBC2YQLnNGzh3X0fOdOhDul85w+KJO+7F4Jl1aHb7ZZa8egRvL/3dKeVw2hCucpIc3IhD
0z4jZvEfuF+9RMjIzgR8PAe3KxcNiad2UAofR8Zw7KQHLfrU49gpV5iYQCkFmjRKlGvBjYh9azV7
P/gV98sXCBkRQaVVcw1JHmVKpzN/ZCx3hVykae+G/LbN1+ExKKUKTpNGCXStzm3EzljD3vc34XHx
LCEjI6j0ybu4Xbnk0Djc3GBkjxO82PUIjw2rw6LVFRx6fqVUwWmbhqLUvu1Umz8Ov62bOPdgV860
743Z17E9nHYe8GHYOyF0aX2WWaOO4+7u0NMrVfLoiHBNGkXlE7OVoPnj8Nvxe2by8HHcOhkJ590Z
NjuE8mXT+Gz6IfzLpTvs3EqVONoQrorqaoPGHJy9nn3zfsDr1FHqjOhExS+iMF294pDzB5RPY/Er
+/AvnULTXg3YdcDbIedVSuWfJg11k6sNm3DgnW/YN/dbvE8cps7ITlRcvRDT1cLNv18QXp7w2sAj
dH/gNPcNqM/qH8ra/ZxKqfzT6imVJ99dfxE0fxyl90Rztk03zrbridnbx+7n/WNnaV5aEMzzT55m
wqBTmIrLX6tSzkDbNDRp2Jvvzj+pNm8cvnu3cubhbpxr28PuyePIKU+GzKrDbSFXWf56PL4++ntW
yia0TUPZW9Ltzdk//3v2z/oKn7gY6ozohP/axZiSr9ntnDWqXGflhBguXjTR/Jn6xB3XdWSVMpIm
DVVgSXfcw/4FP7J/xpf4HNxFyIiO+H+1FFNK/tYUL6jSPmbmvHiIe289T9jTDfg52nE9upRSN9Lq
KVVkpbduotr8cZSK3c3Ztj0416YbZi/79Hz69s9yTFpai9efO8b/dTtjl3MoVSJom4YmDaP5bfmZ
oPnjKRUfw5l2PTn30JPgafv1M2LiSjF0Tght77nA/FeO4qFTVylVcJo0NGk4C7/onyR5HN7PmXY9
7JI8zl5058U5t+DpZWLNjFgC/NNsenylij0XbQhvC8QA+4HRVl4PBy4AWy1f4xwWmSq0y00fYN8H
v3Jo8kr8dm6mzsgIKvx3JVy/brNz+JdN44MxB6gVkERorwZs3VPKZsdWSuXMyJKGO7AXeAg4BvwP
eArYk2WfcGA40CGPY2lJw4mV2byBoPnj8ToRz5n2vTj/QBfwtF0vqFU/+DP7s+rMfzme7m0v2Oy4
ShVrLljSCAMOAHHAdeBjoKOV/YpLFVqJdalZG/Yu+ZO4yCWU+fsXQkZFUH7DKkhLtcnxuz14lneG
HmDo9JqMmROoKwIqZUdGJo1qwJEsz49atmVlBloA24GvgUaOCU3Zw6V7HmHv0s3ET1xM2eifCBnV
mfLff2qT5BHaMImPImNY+3M5Hht6C5euGF3zqlTxZOSn+C5Im8YAy/NeQDPg+Sz7lAHSgCSgHTAb
qGflWOYBAyb++yQ0NJymTcNtH7GyqbKb1hMUNQHPMyc58+jTnH8gAtyKNif6tWQTY9+rSexJX76a
dZA6NVNsFK1Srm9jdDQbt2yRJ0lJvLpiBbhQ76nmQCSSOADGAOnA1FzecwgIBc5m265tGq7KbKbs
r+sJWjABz3OnSXz0aS6EdypS8jCbYeGXlflwQyArX4/l4RaXbRiwUsWEC7ZpRAN1gdqAF9ANWJtt
nypk/kBhlsfZE4ZyZSYTF1s9RszyLRwePY/yv31NyEtdKbdxNaQXrhutyQQDO51mUt9DdB8bzNvL
Ktk4aKVKLqMbmdsBs5CeVB8AU4BBlteigMHAc0AqUkU1HPjTynG0pFFcmM2U27iGoKiJuF86z5nH
+3Ch1eOyNmwhHDzqzZBZIbS66zLvTzyCt5f+nSgF6OA+TRrFjNlMuR9XU+29CbhduUzi489wseVj
hUoeF6+4MWLuLSSnuvPl27EEVbZNry2lXJomDU0axZLZTPkfPicoaiJu166Q+NizXGzZvsDJIz0d
pq8M4rtof1a/dZBmt1+1U8BKuQhNGpo0ijWzmfLff0rQe5G4JV8j8fE+XGzRrsDJY/XPFZj+cQ1m
Dj9Cnw7n7BSsUi5Ak4YmjRLBbKb8hlUERUXilnqdxMef5WKLthRkWb8d+30YNjeE7m3OMmPE8cI2
lyjl2jRpaNIoUcxmKnz7EVXfexVTehqJHfpyqfnD+U4ep855MGxWMJUqpPHZ9EOUL5tu54CVcjKa
NDRplEhmM/7frKDqwkmAWZJHszb5Sh7J101EflCDXYf8WDvrII2C7bOIlFJOSZOGJo0SLT0d/6+X
U/X9SWByI7FjXy6FPZSv5LF0fSUWrg9iycRDPB5+yQHBKuUENGlo0lBI8li/jKrvv4bZw4MzHfpx
6e7WeSaP37b78fJ7wQx76iRj+58uSBOJUq5Jk4YmDZVFejoVv1pC1fdfJ93Ti8RO/bgc+kCuySP+
pBfPzwzhrvpJLHvtMD6l9G9KFWOaNPQfXFmRlkbFdYup+sHrpHv7SvJocn+OyePyVTdGz6vFmUte
rJt9kJqBOhBQFVOaNDRpqFykpVHxyw+oumgy6T5+JHbqz+XGrawmD7MZZn8SyJrfAvh06kHua5Jk
QMBK2ZkmDU0aKh/S0qi0eiGBi98g3a8sCR37c6VxK6u7fv17OSZ/WIspQ44yqKvOk6mKGU0amjRU
AaSmUmnNQqoueoPUshVI7NSfK3fee9Nuuw+V4oU5ITzW8jxzXz6Gh4cBsSplD5o0NGmoQkhNpdIX
UVRdMoXUshVJiOhP0h0tbtjl7AV3hs0JplQpM6tnHKJShcJN2a6UU9GkoUlDFcH1FAI+jyJwyZuk
VgggIWIgSbc3+/fl1DSYvKQ6f+4px5dvH+TO+tcMDFYpG9CkoUlD2cD1FAI+m0/g0qmk+leR5HFb
2L8vf/RdReauqcaCMfE8+fAFAwNVqog0aWjSULZjSkmm0qfzqLpsGikBQSR0GsjVW5sCsHl3aUbN
C2ZQRAKvDT6pAwGVa9KkoUlD2Z4pJZmAT94lcNk0UqpUJyFiIFcbhnIs0ZOhM0OoUyOZlVPi8PPV
vz/lYlxwjXClnJ7Zy5vTvYazc10c59p0o9qC8dR84z/USfyL5RP2kpJsJqx3Aw4e8TQ6VKUcIq+k
0RboB9TOtr2vXaJRykmZvUtx6ulR7FwXz7mHulJt3ljqvf0f5rddw0NNztK8TwO+/7O00WEqZXe5
JY0pwCvA7cAPwNAsrz1vo/O3BWKA/cDoHPaZY3l9O9DYRudVqlDM3qU49cxodq6L4/wDnak+dwxv
7O/K3DZf8uSYEGatqGR0iErZVW5J43HgQWAYEAq0A2Zhu3YQd2AukjgaAU8BDbPt0x6oA9QFBgLz
bXRupYrEXMqHU8++zM6v4rnQ6nE6b3iO3YEP8O2S4zw7oQYp142OUCn7yC1puAMZf/rnkSRSFvgU
8LLBucOAA0Cc5TwfAx2z7dMBWGp5vBkoD1SxwbmVsglzKR9O9hvLzq8Ok/bgI3yZ9jh9fn6Wvj2u
cTLR3ejwlLK53JJGLHB/luepSFtGDDeXCAqjGnAky/Ojlm157VPdBudWyqbMPr6c7D+eXV/FEdKz
GXOPRbDl8VfZtfag0aEpZVO5zaTTFamKWg78DGxCEsY4bFNNlN8+itmrw6y+Lyoq8t/HoaHhNG0a
XqiglCoKs68fpwZO4HSv4XiMnUXAa0OJ/+g2ak3oAw1t8VlLqcLbGB3Nxi1b5ElS4WZvzk/7RGug
FdASaV/4G0kgswp1xkzNgUikTQNgDJAOTM2yzwJgI1J1BZK07gdOZTuWjtNQTmnXn5eIe2kew9Om
4xfWCNOgQdCggdFhKWXXcRo/ApOB8cBC4G7guYLGZ0U00sBdG2kj6QaszbbPWuBpy+PmSNtK9oSh
lNO6rXkZ7v50NK1rH+KDIw+TPngIjBgBe/caHZpShZKfpPED8CtyU98LNAXq2+DcqcAQ4FtgN7AK
2AMMsnxTVsADAAAW6UlEQVQBfI20rRwAooD/s8F5lXKoKlVg9qIyfFZ/HI394zld/14YPBhGjoT9
+40OT6kCyU+xZCaSKK4BvyPtG38AV+0YV0Fp9ZRyemYzLFsGy5fDinkXaLf9TViwAJo0gYEDoU4d
o0NUJYkdq6deRNo0OgOJwGKkmkgpVQAmEzzzDEyYAD3/rxxvlJmC+WAshIbCoEHw0ktwUHtbKeeW
n6TxPPAJsA0ZR7EIGeinlCqEVq3g/fdh4ULo9p8KXJs0DWJjpcQxYAC8/LI8V8oJ5SdplAJmAA2A
h4BXkcZxpVQh1aoFS5bAsWPQvDkcTfKH6dMlWdxxB/TvD2PGQFyc0aEqdYP8JI3pyGhsnRhBKRvy
84NZsyRHhIbCr78CFSvCjBlSTdWoEfTtC2PHwuHDRoerFKBToytlKDc3eOEF6Uz12GPw3nuWFypV
koxy4ADUqyeNIePHa/JQhtOkoZQTePRRmDMHJk6E556DtDTLCwEB8sKBAxASkpk8jhzJ9XhK2Ysm
DaWcxK23SjvH77/DAw/AmTNZXqxcGd55B/btg1tugaeflm5Yx44ZFa4qoTRpKOVEKlWCqCioUEHa
OXbuzLZDYCC8+66MKK9ZE3r1gshIOH7ciHBVCaRJQykn4+kphYguXeC+++Dzz63sVLUqzJ8PMTFQ
rRr07AmTJsGJEw6PV5UsmjSUclI9esDkyTJYfMIEGVF+k6AgGVW+Z49UYfXoAa+9BidPOjxeVTJo
0lDKiTVrBosXw8qV0KlTLrNZV6smowV375Y6rqeegtdfh1M6v6eyLU0aSjm5atUkcVy4AHffDYcO
5bJz9eoy3HzXLmkY6d5diiuaPJSNaNJQygX4+sJbb8E990BYGPzwQx5vqFkTFi2SlvSyZSV5TJkC
p087JF5VfGnSUMpFmEwyhmPECGkknzMnH2/KmK9kxw7JPN26wdSpkJBg73BVMaVJQykX06aNdJya
Ng2efRZSU/Pxptq1ZV72bdvAywuefFIOkJho73BVMaNJQykXVK8eLF0qtU8tWxag1ik4WBb0+Ptv
8PCAJ56QiRLPnrVrvKr40KShlIsqXx7mzZPmi8aNYcuWAry5Th1YsULeZDJJfddbb2nyUHnSpKGU
C3N3h9GjZUqqBx+UPFAgdevCRx9BdDSkp0vyePttOHfOLvEq16dJQ6liIKOgMGyYLD2enl7AA9Sr
B6tWwV9/QUqKHHDmTDivi3SqGxmVNPyBDcA+4DugfA77xQE7gK3AXw6JTCkX1bixdJRavx7atYOL
FwtxkAYN4NNP4Y8/4No16NwZZs+WQSJKYVzSeBlJGvWAHyzPrTED4UBjIMwhkSnlwgID4YMPZMqR
pk1lUtxCadQIPvtMksfly5I85swpZCZSxYlRSaMDsNTyeCnQKZd9TfYPR6niw9sb3ngDHnpIlpL9
5psiHKxRI/jiC/jtNyltRETIFO2aPEoso5JGFSBjXoNTlufWmIHvgWhggAPiUqpYMJmgXz8YN07m
MJw6NYcJD/Pr1lthzRrYtEl6WEVEyBTtly7ZLGblGjzseOwNQKCV7WOzPTdbvqy5FzgBBFiOFwNs
srZjVFTkv49DQ8Np2jS8QMEqVRzdfz/UqAGjRsm4viVLpCRSaLffDmvXwvbtkpE6dYKuXaF3b1n0
XDm1jdHRbMzom53j7Je5M6rqJwZpqzgJVAV+Ahrk8Z6JwGVghpXXzNHRRfkYpVTxdukSjBkDycnw
1Vcyo7pNbN0qyeP33zOTR+nSNjq4sqvERExt20IB84BR1VNrgWcsj58B1ljZxxcoY3lcGngYyL6O
mVIqH8qUkXbshg2hSRNp37aJxo2lu9YPP8DRo1LyiIqCK1dsdALlbIxKGm8CbZAut60tzwGCgPWW
x4FIVdQ2YDPwFdI9VylVCG5uMHw4DBokXXI/+MCGB2/SRFrcv/sODh+W5PHee4WuAlHOq7j0TNLq
KaUKYOdOGUn+xBNSAnGz9cfHv/6SaqvoaJlZt2dP8PGx8UlUkbhY9ZRSykC33y4THv7yC7RubYeB
32FhUur4+mvYvx86dpSizdWrNj6RcjRNGkqVUAEBUoPk5ye1S//8Y4eTNG8O338P69ZBTIxUWy1e
LKPNlUvSpKFUCebpCa++KgWBVq1g9Wo7nahFC/jxR/jyS8lOHTtKUSc52U4nVPaiSUMpRa9eMGmS
DAh89dUiDgTMzb33wk8/yUDBHTskeSxbpsnDhWjSUEoBsv74Bx/IPbxzZzs3P7RsCRs3yvxWW7dK
tdWHH8oMu8qpadJQSv2rZk1pcjhzRtqy4+PtfML775fW+FWrpKdVp06ysqAmD6elSUMpdYPSpWUd
prvvlq+NGx1w0gcegF9/lQWhNm+Wua1WroTr1x1wclUQmjSUUjcxmWDwYHjxRfnw/+67Djpx69Yy
JcmHH8r3iAj4+GNNHk5Ek4ZSKkcPPywJ4403oH9/SE110InbtJG5TpYskeqriAipwnJYAConmjSU
Urlq0EDu3X//DffdB4mJDjz5I49IddXixdLrKiICPvlEk4eBNGkopfLk7w/z58vKgI0bS4cnh2rb
Fv73P3j/fZkcsXNn6XmVlubgQJQmDaVUvnh4wNixsqhT69bS1OBw7dtL8oiKgm+/leTx+eeaPBxI
k4ZSqkCefBLefBOGDIGXX7bjQMCcmEzw2GOwZQvMmyfzW3XtKsPZNXnYnSYNpVSBNW0q7RyrV8Oj
jxq06qvJBB06SF3Z7NmyomDXrjJVSXq6AQGVDJo0lFKFUrUqLFokM4A0bQoHDhgUiMkkDeTbt8Os
WfDFFzLn+9q1mjzsQJOGUqrQSpWCqVNlbF6zZtLMYBiTSdo4du6EGTOkreOJJ2R9W00eNqNJQylV
JCYTDBgg7Rvdu8NbbzlBQF26SPKYNk3Gd3TrJsvSavIoMl25TyllMwcPwsiRMp5j0SLw8jI6IqSl
ftUqmb43JQWefVa68JqKy+2vkHTlPqWU0UJCZJmM/ftlCY0TJ4yOCEkO3bvD7t3w2msyRUn37lKX
5vCuX67PqKTxBPAPkAY0yWW/tkAMsB8Y7YC4lFJFVLYsvPMO1KkDoaEyoNspmEwyyCQmBiIjpfvX
U0/JsrSaPPLNqKSxE4gAfsllH3dgLpI4GgFPAQ3tH5pSqqjc3WHUKJmv6pFHpPThNEwmWXUqJgYm
TJB6tB49YMMGTR75YFTSiAH25bFPGHAAiAOuAx8DHe0bllLKljp2lGnWR42CYcOcrB3azQ1694a9
e+GVV2DhQujZU6Yp0eSRI2du06gGHMny/Khlm1LKhdx5p9QEbdggk9deuGB0RNm4uUGfPtIQM3o0
LFggJZEff9TkYYWHHY+9AQi0sv0VYF0+3l+g31ZUVOS/j0NDw2naNLwgb1dK2VGVKjLX4GuvQZMm
sG4dNGpkdFTZuLlB377wzDMyq+7rr8v3fv1khcFi0NtqY3Q0G7dskSdJSYU6htFX4SdgBPC3ldea
A5FImwbAGCAdmGplX+1yq5QLMJtlDfLly6X00aGD0RHlIi1NFk2fPBn8/KSBplWrYpE8AJfucptT
wNFAXaA24AV0A9Y6KCallB2YTPJBPjJSaoRef92Ja4Dc3WHgQIiNhaFDZYqSPn1g0yajIzOUUUkj
AmmvaA6sB76xbA+yPAdIBYYA3wK7gVXAHseGqZSyh3vvlQ/xixbJrLnXrhkdUS7c3WHQIBm5OHiw
TFHy7LPw229GR2aIYlLO0uoppVzR5cuyRsfFizJFVM2aRkeUD6mpsp7HlClQsaJUW7VoYXRUBefC
1VNKqRLKzw9mzpTVAO++20Vqfjw8pMRx6JAkjDfflMZypxnFaF+aNJRShnJzkyaD55+Hxx+XHq8u
wdNTgj50SKqrXn9dkshffxkdmV1p9ZRSymns2SMDATt0kEX53N2NjqgAkpMl6GnTIChIGtGbNjU6
qpxp9ZRSytU1bChdcjdvhvBwOHPG6IgKwNsbXnwR4uJkZPnEidKAnjEuopjQpKGUcir+/tLOXLGi
DATcvt3oiArI2xuGD5fk0a0bjB8P//mPLEtbDGjSUEo5HQ8Pudc++aSUOD77zOiICqFUKalri4+X
tcvHjoXnnoNt24yOrEg0aSilnFb37vDGG/JBfdw4Jx4ImJtSpWROq7g4WY52zBjpfeVyRSihSUMp
5dTCwmQKqFWrpIH88mWjIyokHx9ZEzc+XrqJjR4NQ4bIsrQuRJOGUsrpBQVJ4rh8WcZzxMYaHVER
+PhIVVV8PDz6qKyPO3SoyyQPTRpKKZfg4wPTp8ucgWFh8P33RkdURL6+UucWFycrVY0YIcnjn3+M
jixXmjSUUi7DZJJerC+9JG3LM2caHZEN+PnJCoLx8bLgyLBh8rXHOafa06ShlHI5Dz4oI8dnzJBZ
c1NSjI7IBvz8ZPrf+Hh44AEpdQwfLsvSOhFNGkopl1S3rqw9vns3tGwJp08bHZGNlCkDkyZJtVWr
VjJVyYgRsiytE9CkoZRyWeXLw7vvQu3aMunh//5ndEQ2VLaszGcVFyez6A4eLI3m+/YZGpYmDaWU
S3N3l96rzzwjTQLLlxsdkY2VLSuDVeLioHlzGSA4ahQcOGBIOJo0lFLFQpcu0sYxfLjU5qSnGx2R
jZUrJ2t4HDokEyFm9Ag4eNChYWjSUEoVG3fdJWuPf/01tG0rizsVOxUqyEy6sbEyOdeAATJo0EGD
VzRpKKWKlSpVZClZkwlCQ52m/dj2/P1l4EpsLNxxh6zlMWaMVGPZkVFJ4wngHyANaJLLfnHADmAr
ULxXNlFK2Yy3N0yeLGPm7rkH1q83OiI7qlhR6uUOHoRGjaBv38wR53ZgVNLYCUQAv+SxnxkIBxoD
YXaOSSlVjJhMsqDe+PHQu7c0B7jkhIf5VakSzJolDeT16kGfPjLi/PBhm57GqKQRA+S331hxWV1Q
KWWA++6DhQtljY7u3WWBvWItIADmzJHkUaeOdCsbPx6OHLHJ4Z29TcMMfA9EAwMMjkUp5aJq15YG
8iNHpNfqsWNGR+QAlSvDO+/IuI5bboGnn5bpSor4w9szaWxAqqGyfz1egGPci1RNtQMGA61sHKNS
qoQoUwZmz4Zbb5VOR7/9ZnREDhIYKCMg9+6FmjWhVy+ZriQhoVCH87BtdDdoY4NjnLB8TwBWI+0a
m6ztGBUV+e/j0NBwmjYNt8HplVLFiZubLONdt67MSv7WW9LpqESoWpWN3bqx0dcXfv4ZBg4s1GGM
bi/4CRgJWFt53RdwBy4BpYHvgFct37MzR0cX5xYupZSt7dolI8m7dJEmAHd3oyNysKtXMfn6QgHz
gFFtGhHAEaA5sB74xrI9yPIcIBApVWwDNgNfYT1hKKVUgd12m0x4uGmTzJp79qzRETmYj0+h3mZ0
ScNWtKShlCqU69dlaqedO2HdOkkmJYXJZAIXKWkopZRT8PSEiRMhIkJmIv/iC6Mjcm72bAhXSimX
0bMnhITIVE7bt0sHI1NxqYuxIS1pKKWURfPmMm/VihXQqRMkJRkdkfPRpKGUUlnUqAGLF8P58xAW
Zvf5/1yOJg2llMrG11fmAAwLg7vvhp9+Mjoi56FJQymlrDCZZIXV4cOlkXzuXKMjcg7aEK6UUrl4
+GGoVUtWWP37b3jvPfAowXdOLWkopVQe6teXgYDbt0u33EJO21QsaNJQSql8qFAB5s2DatWgcWMp
dZREmjSUUiqfPDxkRdXevaF1a1i50uiIHK8E18wppVThdO0KwcEwdChs2wZTp5acgYBa0lBKqUJo
0kQWdlq7Ftq3h0uXjI7IMTRpKKVUIVWtKiPIU1MhNBT27zc6IvvTpKGUUkVQqhRMmQIPPSTTkPz3
v0ZHZF+aNJRSqohMJujXD155BZ56CqZPNzoi+9GGcKWUspHwcFmGe8QI2LpV5rDy9jY6KtvSkoZS
StlQcLAMBIyNhRYt4PhxoyOyLU0aSillY2XLwjvvyEjy0FD480+jI7IdTRpKKWUHbm5STTVwILRt
C4sWGR2RbRiVNKYDe4DtwBdAuRz2awvEAPuB0Y4JTSmlbKdDB5g1S0aSDx0K6elGR1Q0RiWN74Bb
gTuBfcAYK/u4A3ORxNEIeApo6KgA7SE6eqPRIeTJFWIEjdPWNE7byh7n7bfLQMAff5SuuefPGxKW
TRiVNDYAGfl2M1Ddyj5hwAEgDrgOfAx0dERw9rJly0ajQ8iTK8QIGqetaZy2ZS3OypVh4ULw8ZHR
5Lt3Oz4uW3CGNo2+wNdWtlcDjmR5ftSyTSmlXJKXF0yaJFVWLVvCl18aHVHB2XOcxgYg0Mr2V4B1
lsdjgRTA2lyR5oKcLDGxQLEZIinJ+eN0hRhB47Q1jdO28oqzXTuoWBH69oWePaF/f2k4d6TCjh8x
cl7GPsAA4EHgmpXXmwORSJsGSLtHOjDVyr4HgBCbR6iUUsXbQaCO0UHkR1vgH6BSLvt4ID9QbcAL
2IaLN4QrpZQqnP1APLDV8jXPsj0IWJ9lv3bAXqQkYa2HlVJKKaWUUkrZhqsMDHwCqYJLA5rksl8c
sAMpcf1l/7Bukt84jb6e/kjnin3IOJ/yOewXhzHXMz/XZ47l9e1AYwfFlV1ecYYDF8isBRjnsMgy
LQJOATtz2ccZrmVecYZj/LWsAfyE/I/vAobmsJ8zXE+7aUNmV+E3LV/ZuSNVWrUBT4xpD2kA1EN+
YbndjA8hN0Sj5CdOZ7ie04CXLI9HY/33DsZcz/xcn/Zkdi1vBhgxG1F+4gwH1jo0qpu1Qm5cOd2M
neFaQt5xhmP8tQwE7rI89kOq+4v0t+kM4zQKylUGBsYgn4rzw8hebPmJ0xmuZwdgqeXxUqBTLvs6
+nrm5/pkjX8zUlKq4qD4MuT392j0atebgHO5vO4M1xLyjhOMv5YnkQ8HAJeRWpqgbPsU6Hq6YtLI
qjgMDDQD3wPRSBdkZ+QM17MKUhWA5XtOf9RGXM/8XB9r+1j7wGNP+YnTDLRAqim+RqbwcTbOcC3z
w9muZW2kZLQ52/YCXU9nXYTJoQMDiyA/ceblXuAEEGA5XgzyCcaWihqn0ddzbLbnZnKOyRHXM7v8
Xp/snzoddV0Lcr6/kXrwJKT34hqk+tLZGH0t88OZrqUf8BnwAlLiyC7f19NZk0abPF7vg9TDPZjD
68eQX1aGGkj2tLW84syPE5bvCcBqpArB1je5osbpDNfzFJJQTgJVgdM57OeI65ldfq5P9n2qW7Y5
Un7ivJTl8TdId3h/4Kx9QysQZ7iW+eEs19IT+BxYjiSu7Fzlehaaqw0M/AkIzeE1X6CM5XFp4Dfg
YUcEZUVucTrD9ZxGZm+fl7HeEG7U9czP9cna2NgcYxpv8xNnFTI/dYYh7R9GqE3+GsKNupYZapNz
nM5wLU3AMmBmLvs40/W0C1cZGBiB1BNeRT4df2PZnjXOYOQfdxvSHc5Z4wTjr6c/0laRvcuts1xP
a9dnkOUrw1zL69vJvUedPeUV52Dk2m0DfkduIo72EXAcqX4+grRdOuO1zCtOZ7iWLZGOQ9vIvGe2
wzmvp1JKKaWUUkoppZRSSimllFJKKaWUUkoppZRSSimVX5OBw9w4SlgppZSyKgyZBkWThlJKKUYB
z1sezwR+sDxujcz5k0GThnJprj41ulLO4hdkUR6ApsjcVx6WbT8bFZRStqZJQynb+BuZ8LEMcA34
A0keLbH/LLtKOYyzTo2ulKu5jiw12weZnG4HUjVVB1nTQymllLrBRGQG5tZAZaS31OfZ9tE2DaWU
UoAki2TAx/J8LzDM8ngaMn12quX7BIdHp5RSSimllFJKKaWUUkoppZRSSimllFJKKaWUUkoppZRS
SimlXM//AyV8GK0O+QIXAAAAAElFTkSuQmCC
"
>
</div>

</div>

<div class="output_area">

    <div class="prompt"></div>




<div class="output_png output_subarea ">
<img src="data:image/png;base64,iVBORw0KGgoAAAANSUhEUgAAAY0AAAEZCAYAAABrUHmEAAAABHNCSVQICAgIfAhkiAAAAAlwSFlz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"
>
</div>

</div>

</div>
</div>

</div>
<div class="cell border-box-sizing text_cell rendered"><div class="prompt input_prompt">
</div><div class="inner_cell">
<div class="text_cell_render border-box-sizing rendered_html">
<h2 id="Perceptron-Convergence-Proof:">Perceptron Convergence Proof:<a class="anchor-link" href="#Perceptron-Convergence-Proof:">&#182;</a></h2><p>(From Geoffrey Hinton's slides 2d)</p>
<p>Hopeful claim: Every time the perceptron makes a mistake, the learning algo moves the current weight vector closer to all feasible weight vectors</p>
<p>BUT: weight vector may not get close to feasible vector in the boundary</p>

</div>
</div>
</div>
<div class="cell border-box-sizing code_cell rendered">
<div class="input">
<div class="prompt input_prompt">In&nbsp;[26]:</div>
<div class="inner_cell">
    <div class="input_area">
<div class=" highlight hl-ipython2"><pre><span></span><span class="c1"># The feasible region is inside the intersection of these two regions:</span>
<span class="n">plot_weight_space</span><span class="p">(</span><span class="n">a1</span><span class="p">,</span> <span class="n">a2</span><span class="p">,</span> <span class="n">lab</span><span class="o">=</span><span class="mi">1</span><span class="p">,</span> <span class="n">color</span><span class="o">=</span><span class="s1">&#39;blue&#39;</span><span class="p">)</span>
<span class="c1">#plot_weight_space(b1, b2, lab=-1, color=&#39;red&#39;)</span>

<span class="c1"># This is a vector in the feasible region.</span>
<span class="n">plt</span><span class="o">.</span><span class="n">plot</span><span class="p">(</span><span class="o">-</span><span class="mf">0.3</span><span class="p">,</span> <span class="mf">0.3</span><span class="p">,</span> <span class="s1">&#39;ok&#39;</span><span class="p">)</span>

<span class="c1"># We started with this point</span>
<span class="n">plt</span><span class="o">.</span><span class="n">plot</span><span class="p">(</span><span class="o">-</span><span class="mf">0.5</span><span class="p">,</span> <span class="mi">1</span><span class="p">,</span> <span class="s1">&#39;og&#39;</span><span class="p">)</span>

<span class="c1"># And ended up here</span>
<span class="n">plt</span><span class="o">.</span><span class="n">plot</span><span class="p">(</span><span class="o">-</span><span class="mf">0.5</span><span class="o">+</span><span class="n">a1</span><span class="p">,</span> <span class="mi">1</span><span class="o">+</span><span class="n">a2</span><span class="p">,</span> <span class="s1">&#39;or&#39;</span><span class="p">)</span>

<span class="c1"># Notice that red point is further away to black than the green</span>

<span class="n">plt</span><span class="o">.</span><span class="n">axes</span><span class="p">()</span><span class="o">.</span><span class="n">set_aspect</span><span class="p">(</span><span class="s1">&#39;equal&#39;</span><span class="p">,</span> <span class="s1">&#39;box&#39;</span><span class="p">)</span>
</pre></div>

    </div>
</div>
</div>

<div class="output_wrapper">
<div class="output">


<div class="output_area">

    <div class="prompt"></div>




<div class="output_png output_subarea ">
<img src="data:image/png;base64,iVBORw0KGgoAAAANSUhEUgAAAR4AAAEZCAYAAABBzEpuAAAABHNCSVQICAgIfAhkiAAAAAlwSFlz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"
>
</div>

</div>

</div>
</div>

</div>
<div class="cell border-box-sizing text_cell rendered"><div class="prompt input_prompt">
</div><div class="inner_cell">
<div class="text_cell_render border-box-sizing rendered_html">
<ul>
<li>So consider “generously feasible” weight vectors that lie within the feasible region by a margin at least as great as the length of the input vector that defines each constraint plane.</li>
<li>Every time the perceptron makes a mistake, the squared distance to all of these generously feasible weight vectors is always decreased by at least the squared length of the update vector.</li>
</ul>

</div>
</div>
</div>
<div class="cell border-box-sizing code_cell rendered">
<div class="input">
<div class="prompt input_prompt">In&nbsp;[27]:</div>
<div class="inner_cell">
    <div class="input_area">
<div class=" highlight hl-ipython2"><pre><span></span><span class="n">plot_weight_space</span><span class="p">(</span><span class="n">a1</span><span class="p">,</span> <span class="n">a2</span><span class="p">,</span> <span class="n">lab</span><span class="o">=</span><span class="mi">1</span><span class="p">,</span> <span class="n">color</span><span class="o">=</span><span class="s1">&#39;blue&#39;</span> <span class="p">,</span><span class="n">maxlim</span><span class="o">=</span><span class="mi">15</span><span class="p">)</span>
<span class="n">plot_weight_space</span><span class="p">(</span><span class="n">b1</span><span class="p">,</span> <span class="n">b2</span><span class="p">,</span> <span class="n">lab</span><span class="o">=-</span><span class="mi">1</span><span class="p">,</span> <span class="n">color</span><span class="o">=</span><span class="s1">&#39;red&#39;</span><span class="p">,</span> <span class="n">maxlim</span><span class="o">=</span><span class="mi">15</span><span class="p">)</span>

<span class="c1"># We started with this point</span>
<span class="n">plt</span><span class="o">.</span><span class="n">plot</span><span class="p">(</span><span class="o">-</span><span class="mf">0.5</span><span class="p">,</span> <span class="mi">1</span><span class="p">,</span> <span class="s1">&#39;og&#39;</span><span class="p">)</span>
<span class="n">plt</span><span class="o">.</span><span class="n">plot</span><span class="p">(</span><span class="o">-</span><span class="mf">0.5</span><span class="o">+</span><span class="n">a1</span><span class="p">,</span> <span class="mi">1</span><span class="o">+</span><span class="n">a2</span><span class="p">,</span> <span class="s1">&#39;or&#39;</span><span class="p">)</span>
<span class="n">plt</span><span class="o">.</span><span class="n">axes</span><span class="p">()</span><span class="o">.</span><span class="n">set_aspect</span><span class="p">(</span><span class="s1">&#39;equal&#39;</span><span class="p">,</span> <span class="s1">&#39;box&#39;</span><span class="p">)</span>

<span class="c1"># red is closer to &quot;generously feasible&quot; vectors on the top left</span>
</pre></div>

    </div>
</div>
</div>

<div class="output_wrapper">
<div class="output">


<div class="output_area">

    <div class="prompt"></div>




<div class="output_png output_subarea ">
<img src="data:image/png;base64,iVBORw0KGgoAAAANSUhEUgAAARkAAAEZCAYAAACjEFEXAAAABHNCSVQICAgIfAhkiAAAAAlwSFlz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"
>
</div>

</div>

</div>
</div>

</div>
<div class="cell border-box-sizing text_cell rendered"><div class="prompt input_prompt">
</div><div class="inner_cell">
<div class="text_cell_render border-box-sizing rendered_html">
<h3 id="Inform-Sketch-of-Proof-of-Convergence">Inform Sketch of Proof of Convergence<a class="anchor-link" href="#Inform-Sketch-of-Proof-of-Convergence">&#182;</a></h3><ul>
<li>Each time the perceptron makes a mistake, the current weight vector moves to decrease its squared distance from every weight vector in the “generously feasible” region.</li>
<li>The squared distance decreases by at least the squared length of the input vector.</li>
<li>So after a finite number of mistakes, the weight vector must lie in the feasible region if this region exists.</li>
</ul>

</div>
</div>
</div>
<div class="cell border-box-sizing text_cell rendered"><div class="prompt input_prompt">
</div><div class="inner_cell">
<div class="text_cell_render border-box-sizing rendered_html">
<h2 id="Gradient-Descent-for-Multiclass-Logisitc-Regression">Gradient Descent for Multiclass Logisitc Regression<a class="anchor-link" href="#Gradient-Descent-for-Multiclass-Logisitc-Regression">&#182;</a></h2><p>Multiclass logistic regression:</p>
\begin{align}
{\bf z} &amp;= {\bf W}{\bf x} + {\bf b} \\
{\bf y} &amp;= \text{softmax}({\bf z}) \\
{\mathcal L}_\text{CE} &amp;= -{\bf t}^T(\log \bf{y}) 
\end{align}<p>Draw out the shapes on the board before continuing.</p>

</div>
</div>
</div>
<div class="cell border-box-sizing code_cell rendered">
<div class="input">
<div class="prompt input_prompt">In&nbsp;[28]:</div>
<div class="inner_cell">
    <div class="input_area">
<div class=" highlight hl-ipython2"><pre><span></span><span class="c1"># Aside: lots of functions work on vectors</span>

<span class="nb">print</span> <span class="n">np</span><span class="o">.</span><span class="n">log</span><span class="p">([</span><span class="mf">1.5</span><span class="p">,</span><span class="mi">2</span><span class="p">,</span><span class="mi">3</span><span class="p">])</span>
<span class="nb">print</span> <span class="n">np</span><span class="o">.</span><span class="n">exp</span><span class="p">([</span><span class="mf">1.5</span><span class="p">,</span><span class="mi">2</span><span class="p">,</span><span class="mi">3</span><span class="p">])</span>
</pre></div>

    </div>
</div>
</div>

<div class="output_wrapper">
<div class="output">


<div class="output_area">

    <div class="prompt"></div>


<div class="output_subarea output_stream output_stdout output_text">
<pre>[ 0.40546511  0.69314718  1.09861229]
[  4.48168907   7.3890561   20.08553692]
</pre>
</div>
</div>

</div>
</div>

</div>
<div class="cell border-box-sizing text_cell rendered"><div class="prompt input_prompt">
</div><div class="inner_cell">
<div class="text_cell_render border-box-sizing rendered_html">
<p>Start by expanding the cross entropy loss so that we can work with it</p>
$$ {\mathcal L}_\text{CE} = -\sum_l t_l \log(y_l)$$
</div>
</div>
</div>
<div class="cell border-box-sizing text_cell rendered"><div class="prompt input_prompt">
</div><div class="inner_cell">
<div class="text_cell_render border-box-sizing rendered_html">
<h3 id="Main-setup">Main setup<a class="anchor-link" href="#Main-setup">&#182;</a></h3><p>We'll take the derivative with respect to the loss:</p>
\begin{align}
\frac{\partial {\mathcal L}_\text{CE}}{\partial w_{kj}} &amp;= 
  \frac{\partial }{\partial w_{kj}} (-\sum_l t_l \log(y_l)) \\
&amp;= -\sum_l \frac{t_l}{y_l} \frac{\partial y_l}{\partial w_{kj}}
\end{align}
</div>
</div>
</div>
<div class="cell border-box-sizing text_cell rendered"><div class="prompt input_prompt">
</div><div class="inner_cell">
<div class="text_cell_render border-box-sizing rendered_html">
<p>Normally in calculus we have the rule:</p>
\begin{align}
\frac{\partial y_l}{\partial w_{kj}} &amp;= 
  \sum_m \frac{\partial y_l}{\partial z_m} \frac{\partial z_m}{\partial w_{kj}}
\end{align}<p>But $w_{kj}$ is independent of $z_m$ for $m \ne k$, so</p>
\begin{align}
\frac{\partial y_l}{\partial w_{kj}} &amp;= 
  \frac{\partial y_l}{\partial z_k} \frac{\partial z_k}{\partial w_{kj}}
\end{align}<p>AND</p>
$$\frac{\partial z_k}{\partial w_{kj}} = x_j$$
</div>
</div>
</div>
<div class="cell border-box-sizing text_cell rendered"><div class="prompt input_prompt">
</div><div class="inner_cell">
<div class="text_cell_render border-box-sizing rendered_html">
<p>Thus</p>
\begin{align}
\frac{\partial {\mathcal L}_\text{CE}}{\partial w_{kj}} &amp;= 
-\sum_l \frac{t_l}{y_l} \frac{\partial y_l}{\partial z_k} \frac{\partial z_k}{\partial w_{kj}} \\
&amp;= 
-\sum_l \frac{t_l}{y_l} \frac{\partial y_l}{\partial z_k} x_j \\
&amp;= x_j (-\sum_l \frac{t_l}{y_l} \frac{\partial y_l}{\partial z_k}) \\
&amp;= x_j \frac{\partial {\mathcal L}_\text{CE}}{\partial z_k} 
\end{align}
</div>
</div>
</div>
<div class="cell border-box-sizing text_cell rendered"><div class="prompt input_prompt">
</div><div class="inner_cell">
<div class="text_cell_render border-box-sizing rendered_html">
<h3 id="Derivative-with-respect-to-$z_k$">Derivative with respect to $z_k$<a class="anchor-link" href="#Derivative-with-respect-to-$z_k$">&#182;</a></h3><p>But we can show (on board) that</p>
$$
\frac{\partial y_l}{\partial z_k} = y_k (I_{k,l} - y_l)
$$<p>Where $I_{k,l} = 1$ if $k=l$ and $0$ otherwise.</p>

</div>
</div>
</div>
<div class="cell border-box-sizing text_cell rendered"><div class="prompt input_prompt">
</div><div class="inner_cell">
<div class="text_cell_render border-box-sizing rendered_html">
<p>Therefore</p>
\begin{align}
\frac{\partial {\mathcal L}_\text{CE}}{\partial z_k} &amp;= 
-\sum_l \frac{t_l}{y_l} (y_k (I_{k,l} - y_l)) \\
&amp;= -\frac{t_k}{y_k} y_k(1 - y_k) - \sum_{l \ne k} \frac{t_l}{y_l} (-y_k y_l) \\
&amp;= - t_k(1 - y_k) + \sum_{l \ne k} t_l y_k \\
&amp;= -t_k + t_k y_k + \sum_{l \ne k} t_l y_k \\
&amp;= -t_k + \sum_{l} t_l y_k \\
&amp;= -t_k + y_k \sum_{l} t_l  \\
&amp;= -t_k + y_k \\
&amp;= y_k - t_k
\end{align}
</div>
</div>
</div>
<div class="cell border-box-sizing text_cell rendered"><div class="prompt input_prompt">
</div><div class="inner_cell">
<div class="text_cell_render border-box-sizing rendered_html">
<h3 id="Putting-it-all-together">Putting it all together<a class="anchor-link" href="#Putting-it-all-together">&#182;</a></h3>\begin{align}
\frac{\partial {\mathcal L}_\text{CE}}{\partial w_{kj}}
&amp;= x_j (y_k - t_k)
\end{align}
</div>
</div>
</div>
<div class="cell border-box-sizing text_cell rendered"><div class="prompt input_prompt">
</div><div class="inner_cell">
<div class="text_cell_render border-box-sizing rendered_html">
<h3 id="Vectorization">Vectorization<a class="anchor-link" href="#Vectorization">&#182;</a></h3><p>Outer product.</p>
\begin{align}
\frac{\partial {\mathcal L}_\text{CE}}{\partial {\bf W}}
&amp;= (\bf{y} - \bf{t}) \bf{x}^T \\
\frac{\partial {\mathcal L}_\text{CE}}{\partial {\bf b}}
&amp;= (\bf{y} - \bf{t})
\end{align}
</div>
</div>
</div>
<div class="cell border-box-sizing code_cell rendered">
<div class="input">
<div class="prompt input_prompt">In&nbsp;[29]:</div>
<div class="inner_cell">
    <div class="input_area">
<div class=" highlight hl-ipython2"><pre><span></span><span class="k">def</span> <span class="nf">softmax</span><span class="p">(</span><span class="n">x</span><span class="p">):</span>
    <span class="c1">#return np.exp(x) / np.sum(np.exp(x))</span>
    <span class="k">return</span> <span class="n">np</span><span class="o">.</span><span class="n">exp</span><span class="p">(</span><span class="n">x</span> <span class="o">-</span> <span class="nb">max</span><span class="p">(</span><span class="n">x</span><span class="p">))</span> <span class="o">/</span> <span class="n">np</span><span class="o">.</span><span class="n">sum</span><span class="p">(</span><span class="n">np</span><span class="o">.</span><span class="n">exp</span><span class="p">(</span><span class="n">x</span> <span class="o">-</span> <span class="nb">max</span><span class="p">(</span><span class="n">x</span><span class="p">)))</span>
</pre></div>

    </div>
</div>
</div>

</div>
<div class="cell border-box-sizing code_cell rendered">
<div class="input">
<div class="prompt input_prompt">In&nbsp;[30]:</div>
<div class="inner_cell">
    <div class="input_area">
<div class=" highlight hl-ipython2"><pre><span></span><span class="n">x1</span> <span class="o">=</span> <span class="n">np</span><span class="o">.</span><span class="n">array</span><span class="p">([</span><span class="mi">1</span><span class="p">,</span><span class="mi">3</span><span class="p">,</span><span class="mi">3</span><span class="p">])</span>
<span class="n">softmax</span><span class="p">(</span><span class="n">x1</span><span class="p">)</span>
</pre></div>

    </div>
</div>
</div>

<div class="output_wrapper">
<div class="output">


<div class="output_area">

    <div class="prompt output_prompt">Out[30]:</div>




<div class="output_text output_subarea output_execute_result">
<pre>array([ 0.06337894,  0.46831053,  0.46831053])</pre>
</div>

</div>

</div>
</div>

</div>
<div class="cell border-box-sizing code_cell rendered">
<div class="input">
<div class="prompt input_prompt">In&nbsp;[31]:</div>
<div class="inner_cell">
    <div class="input_area">
<div class=" highlight hl-ipython2"><pre><span></span><span class="n">x2</span> <span class="o">=</span> <span class="n">np</span><span class="o">.</span><span class="n">array</span><span class="p">([</span><span class="mi">1000</span><span class="p">,</span><span class="mi">3000</span><span class="p">,</span><span class="mi">3000</span><span class="p">])</span>
<span class="n">softmax</span><span class="p">(</span><span class="n">x2</span><span class="p">)</span>
</pre></div>

    </div>
</div>
</div>

<div class="output_wrapper">
<div class="output">


<div class="output_area">

    <div class="prompt output_prompt">Out[31]:</div>




<div class="output_text output_subarea output_execute_result">
<pre>array([ 0. ,  0.5,  0.5])</pre>
</div>

</div>

</div>
</div>

</div>
<div class="cell border-box-sizing code_cell rendered">
<div class="input">
<div class="prompt input_prompt">In&nbsp;[32]:</div>
<div class="inner_cell">
    <div class="input_area">
<div class=" highlight hl-ipython2"><pre><span></span><span class="k">def</span> <span class="nf">gradient</span><span class="p">(</span><span class="n">W</span><span class="p">,</span> <span class="n">b</span><span class="p">,</span> <span class="n">x</span><span class="p">,</span> <span class="n">t</span><span class="p">):</span>
    <span class="sd">&#39;&#39;&#39;</span>
<span class="sd">    Gradient update for a single data point.</span>
<span class="sd">        returns dW and db</span>
<span class="sd">    This is meant to show how to implement the</span>
<span class="sd">    obtained equation in code. (not tested)</span>
<span class="sd">    &#39;&#39;&#39;</span>
    <span class="n">z</span> <span class="o">=</span> <span class="n">np</span><span class="o">.</span><span class="n">matmul</span><span class="p">(</span><span class="n">W</span><span class="p">,</span> <span class="n">x</span><span class="p">)</span> <span class="o">+</span> <span class="n">b</span>
    <span class="n">y</span> <span class="o">=</span> <span class="n">softmax</span><span class="p">(</span><span class="n">z</span><span class="p">)</span>
    <span class="n">dW</span> <span class="o">=</span> <span class="n">np</span><span class="o">.</span><span class="n">matmul</span><span class="p">(</span><span class="n">x</span><span class="p">,</span> <span class="p">(</span><span class="n">y</span><span class="o">-</span><span class="n">t</span><span class="p">)</span><span class="o">.</span><span class="n">T</span><span class="p">)</span>
    <span class="n">db</span> <span class="o">=</span> <span class="p">(</span><span class="n">y</span><span class="o">-</span><span class="n">t</span><span class="p">)</span>
    <span class="k">return</span> <span class="n">dW</span><span class="p">,</span> <span class="n">db</span>
</pre></div>

    </div>
</div>
</div>

</div>
<div class="cell border-box-sizing code_cell rendered">
<div class="input">
<div class="prompt input_prompt">In&nbsp;[&nbsp;]:</div>
<div class="inner_cell">
    <div class="input_area">
<div class=" highlight hl-ipython2"><pre><span></span> 
</pre></div>

    </div>
</div>
</div>

</div>
 


    </div>
  </div>

  </div>


  
    <footer class="footer hidden-print">
      <div class="container">
        <div class="col-md-4">
          <p>
            This website does not host notebooks, it only renders notebooks
            available on other websites.
          </p>
        </div>

        <div class="col-md-4">
          <p>
            Delivered by <a href="https://www.fastly.com/">Fastly</a>,
            Rendered by <a href="https://ovhcloud.com">OVHcloud</a>
          </p>
          <p>
            nbviewer GitHub <a href="https://github.com/jupyter/nbviewer">repository</a>.
          </p>
        </div>

        <div class="col-md-4">
          
  
            
              <p>
                nbviewer version:
                <a href="https://github.com/jupyter/nbviewer/commit/d25d3c39c10d5f6b9891eba2503f30689c1aae28">
                  d25d3c3
                </a>
              </p>
            
          
  
  <p>
    nbconvert version: <a href="https://github.com/jupyter/nbconvert/releases/tag/5.6.1">
      5.6.1
    </a>
  </p>
  

          
  
  
  <p>
    Rendered
    <span class='date' data-date='Thu, 19 May 2022 02:14:03 UTC' title='Thu, 19 May 2022 02:14:03 UTC'>(Thu, 19 May 2022 02:14:03 UTC)</span>
  </p>
  

        </div>
      </div>
    </footer>
  

  <script data-cfasync="false" src="/cdn-cgi/scripts/5c5dd728/cloudflare-static/email-decode.min.js"></script><script src="/static/components/bootstrap/js/bootstrap.min.js"></script>
  <script src="/static/components/headroom.js/dist/headroom.min.js"></script>
  <script src="/static/components/headroom.js/dist/jQuery.headroom.min.js"></script>

  
  
  <script>
    $(function(){ $("#menubar").headroom({
      tolerance: 5,
      offset: 205,
      classes: {
        initial: "animated",
        pinned: "slideInDown",
        unpinned: "slideOutUp"
      }
    })});
  </script>


  
  <script>
    (function(i,s,o,g,r,a,m){i['GoogleAnalyticsObject']=r;i[r]=i[r]||function(){
      (i[r].q=i[r].q||[]).push(arguments)},i[r].l=1*new Date();a=s.createElement(o),
      m=s.getElementsByTagName(o)[0];a.async=1;a.src=g;m.parentNode.insertBefore(a,m)
    })(window,document,'script','https://www.google-analytics.com/analytics.js','ga');
    ga('create', 'UA-52617120-5', 'auto',
       {'storage': 'none'});
    ga('set', 'anonymizeIp', true);
    ga('send', 'pageview');
  </script>
  
  <script>
    require({
        paths: {
          moment: "/static/components/moment/min/moment.min.js"
        }
      }, ["moment"], function(moment){
      var date = $("footer .date"),
        m = moment(new Date(date.data('date'))),
        update = function(){ date.text(m.fromNow()); };
      setInterval(update, 61*1000);
      update();
      var w = $(window).scroll(function(event){
        $("body").toggleClass("scrolled", w.scrollTop() > 0);
      });
    });
  </script>

  <!--NEW RELIC Stop Perf Measurement-->
  
  <!--NEW RELIC End-->
</body>
</html>