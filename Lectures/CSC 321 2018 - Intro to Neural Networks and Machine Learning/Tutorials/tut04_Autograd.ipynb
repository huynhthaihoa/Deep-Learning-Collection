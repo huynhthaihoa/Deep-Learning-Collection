{
 "cells": [
  {
   "cell_type": "markdown",
   "metadata": {},
   "source": [
    "# Autograd Tutorial\n",
    "\n",
    "References:\n",
    "\n",
    "* Ryan Adams' talk: https://www.youtube.com/watch?v=sq2gPzlrM0g\n",
    "* Backpropagation notes from Stanford's CS231n: http://cs231n.github.io/optimization-2/\n",
    "* Autograd Github Repository (contains a tutorial and examples): https://github.com/HIPS/autograd\n",
    "\n",
    "## Approaches for Computing Derivatives\n",
    "\n",
    "* **Symbolic differentiation:** automatic manipulation of mathematical expressions to get derivatives\n",
    "    - Takes a math expression and returns a math expression: $f(x) = x^2 \\rightarrow \\frac{df(x)}{dx} = 2x$\n",
    "    - Used in Mathematica, Maple, Sympy, etc.\n",
    "* **Numeric differentiation:** Approximating derivatives by finite differences:\n",
    "$$\n",
    "\\frac{\\partial}{\\partial x_i} f(x_1, \\dots, x_N) = \\lim_{h \\to 0} \\frac{f(x_1, \\dots, x_i + h, \\dots, x_N) - f(x_1, \\dots, x_i - h, \\dots, x_N)}{2h}\n",
    "$$\n",
    "* **Automatic differentiation:** Takes code that computes a function and returns code that computes the derivative of that function.\n",
    "    - Reverse Mode AD: A method to get exact derivatives efficiently, by storing information as you go forward that you can reuse as you go backwards\n",
    "    - \"The goal isn't to obtain closed-form solutions, but to be able to wirte a program that efficiently computes the derivatives.\" - Lecture 6 Slides (Backpropagation)\n",
    "    - **Autograd**, **Torch Autograd**\n",
    "\n",
    "## Reverse Mode Automatic Differentiation\n",
    "\n",
    "In machine learning, we have functions that have large fan-in, e.g. a neural net can have millions of parameters, that all squeeze down to one scalar that tells you how well it predicts something.  cats.\n",
    "\n",
    "### General Idea for Implementation\n",
    "\n",
    "* Create a \"tape\" data structure that tracks the operations performed in computing a function\n",
    "* Overload primitives to:\n",
    "    - Add themselves to the tape when called\n",
    "    - Compute gradients with respect to their local inputs\n",
    "* _Forward pass_ computes the function, and adds operations to the tape\n",
    "* _Reverse pass_ accumulates the local gradients using the chain rule\n",
    "* This is efficient for graphs with large fan-in, like most loss functions in ML"
   ]
  },
  {
   "cell_type": "markdown",
   "metadata": {},
   "source": [
    "## Autograd\n",
    "\n",
    "* [Autograd](https://github.com/HIPS/autograd) is a Python package for automatic differentiation.\n",
    "* To install Autograd:\n",
    "                pip install autograd\n",
    "* There are a lot of great [examples](https://github.com/HIPS/autograd/tree/master/examples) provided with the source code\n",
    "\n",
    "### What can Autograd do?\n",
    "\n",
    "From the Autograd Github repository:\n",
    "\n",
    "* Autograd can automatically differentiate native Python and Numpy code.\n",
    "* It can handle a large subset of Python's features, including loops, conditional statements (if/else), recursion and closures\n",
    "* It can also compute higher-order derivatives\n",
    "* It uses reverse-mode differentiation (a.k.a. backpropagation) so it can efficiently take gradients of scalar-valued functions with respect to array-valued arguments.\n",
    "\n",
    "\n",
    "## Autograd vs Tensorflow, Theano, etc.\n",
    "\n",
    "Many deep learning packages implement automatic differentiation using small _domain-specific languages_ within Python:\n",
    "    - Theano\n",
    "    - Caffe\n",
    "    - Vanilla Torch (as compared to Autograd for Torch)\n",
    "    - Tensorflow\n",
    "Most of these alternatives require you to _explicitly_ construct a computation graph; Autograd constructs a computation graph _implicitly_, by tracking the sequence of operations that have been performed during the execution of a program.\n",
    "\n",
    "\n",
    "## GPU Support for Autograd?\n",
    "\n",
    "There are a couple projects to look into if you are interested in GPU support for Autograd:\n",
    "\n",
    "* [MinPy](https://github.com/dmlc/minpy)\n",
    "* [PyTorch](http://pytorch.org/)"
   ]
  },
  {
   "cell_type": "markdown",
   "metadata": {},
   "source": [
    "## Autograd Basic Usage"
   ]
  },
  {
   "cell_type": "code",
   "execution_count": 1,
   "metadata": {
    "collapsed": true
   },
   "outputs": [],
   "source": [
    "import autograd.numpy as np # Import thinly-wrapped numpy\n",
    "from autograd import grad   # Basicallly the only function you need"
   ]
  },
  {
   "cell_type": "code",
   "execution_count": 2,
   "metadata": {},
   "outputs": [
    {
     "name": "stdout",
     "output_type": "stream",
     "text": [
      "0.393223866483\n",
      "0.393223866365\n"
     ]
    }
   ],
   "source": [
    "# Define a function like normal, using Python and Numpy\n",
    "def tanh(x):\n",
    "    y = np.exp(-x)\n",
    "    return (1.0 - y) / (1.0 + y)\n",
    "\n",
    "# Create a *function* that computes the gradient of tanh\n",
    "grad_tanh = grad(tanh)\n",
    "\n",
    "# Evaluate the gradient at x = 1.0\n",
    "print(grad_tanh(1.0))\n",
    "\n",
    "# Compare to numeric gradient computed using finite differences\n",
    "print((tanh(1.0001) - tanh(0.9999)) / 0.0002)"
   ]
  },
  {
   "cell_type": "markdown",
   "metadata": {},
   "source": [
    "## Autograd vs Manual Gradients via Staged Computation\n",
    "\n",
    "In this example, we will see how a complicated computation can be written as a composition of simpler functions, and how this provides a scalable strategy for computing gradients using the chain rule.\n",
    "\n",
    "Say we want to write a function to compute the gradient of the *sigmoid function*:\n",
    "$$\n",
    "\\sigma(x) = \\frac{1}{1 + e^{-x}}\n",
    "$$\n",
    "We can write $\\sigma(x)$ as a composition of several elementary functions, as $\\sigma(x) = s(c(b(a(x))))$, where:\n",
    "\n",
    "$$\n",
    "a(x) = -x\n",
    "$$\n",
    "\n",
    "$$\n",
    "b(a) = e^a\n",
    "$$\n",
    "\n",
    "$$\n",
    "c(b) = 1 + b\n",
    "$$\n",
    "\n",
    "$$\n",
    "s(c) = \\frac{1}{c}\n",
    "$$\n",
    "\n",
    "Here, we have \"staged\" the computation such that it contains several intermediate variables, each of which are basic expressions for which we can easily compute the local gradients.\n",
    "\n",
    "The computation graph for this expression is shown in the figure below. \n",
    "\n",
    "![Gradient Computation Image](images/ComputationGraph.png)\n",
    "\n",
    "The input to this function is $x$, and the output is represented by node $s$. We wish compute the gradient of $s$ with respect to $x$, $\\frac{\\partial s}{\\partial x}$. In order to make use of our intermediate computations, we can use the chain rule as follows:\n",
    "$$\n",
    "\\frac{\\partial s}{\\partial x} = \\frac{\\partial s}{\\partial c} \\frac{\\partial c}{\\partial b} \\frac{\\partial b}{\\partial a} \\frac{\\partial a}{\\partial x}\n",
    "$$\n",
    "\n",
    "<!--\n",
    "Given a vector-to-scalar function, $\\mathbb{R}^D \\to \\mathbb{R}$, composed of a set of primitive functions\n",
    "$\\mathbb{R}^M \\to \\mathbb{R}^N$ (for various $M$, $N$), the gradient of the composition is given by the product of the gradients of the primitive functions, according to the chain rule. But the chain rule doesn’t prescribe the order in which to multiply the gradients. From the perspective of computational complexity, the order makes all the\n",
    "difference.\n",
    "-->"
   ]
  },
  {
   "cell_type": "code",
   "execution_count": 3,
   "metadata": {},
   "outputs": [
    {
     "name": "stdout",
     "output_type": "stream",
     "text": [
      "0.104993585404\n",
      "0.104993585404\n"
     ]
    }
   ],
   "source": [
    "def grad_sigmoid_manual(x):\n",
    "    \"\"\"Implements the gradient of the logistic sigmoid function \n",
    "    $\\sigma(x) = 1 / (1 + e^{-x})$ using staged computation\n",
    "    \"\"\"\n",
    "    # Forward pass, keeping track of intermediate values for use in the \n",
    "    # backward pass\n",
    "    a = -x         # -x in denominator\n",
    "    b = np.exp(a)  # e^{-x} in denominator\n",
    "    c = 1 + b      # 1 + e^{-x} in denominator\n",
    "    s = 1.0 / c    # Final result, 1.0 / (1 + e^{-x})\n",
    "    \n",
    "    # Backward pass\n",
    "    dsdc = (-1.0 / (c**2))\n",
    "    dsdb = dsdc * 1\n",
    "    dsda = dsdb * np.exp(a)\n",
    "    dsdx = dsda * (-1)\n",
    "    \n",
    "    return dsdx\n",
    "\n",
    "\n",
    "def sigmoid(x):\n",
    "    y = 1.0 / (1.0 + np.exp(-x))\n",
    "    return y\n",
    "\n",
    "# Instead of writing grad_sigmoid_manual manually, we can use \n",
    "# Autograd's grad function:\n",
    "grad_sigmoid_automatic = grad(sigmoid)\n",
    "\n",
    "# Compare the results of manual and automatic gradient functions:\n",
    "print(grad_sigmoid_automatic(2.0))\n",
    "print(grad_sigmoid_manual(2.0))"
   ]
  },
  {
   "cell_type": "markdown",
   "metadata": {},
   "source": [
    "## Gradients of Data Structures: `flatten` and `unflatten`\n",
    "\n",
    "Autograd allows you to compute gradients for many different data structures.\n",
    "Autograd provides a lot of flexibility in the types of data structures you can use to store the parameters of your model. This flexibility is achieved through the `flatten` function, which converts any nested combination of lists, tuples, arrays, or dicts into a 1-dimensional Numpy array.\n",
    "\n",
    "The idea is that we know how to compute gradients of vectors, and we can convert many data structures into vectors (i.e. \"flatten\" the data structures). "
   ]
  },
  {
   "cell_type": "code",
   "execution_count": 4,
   "metadata": {},
   "outputs": [],
   "source": [
    "import autograd.numpy as np\n",
    "import autograd.numpy.random as npr\n",
    "from autograd import grad\n",
    "from autograd.misc import flatten "
   ]
  },
  {
   "cell_type": "markdown",
   "metadata": {},
   "source": [
    "You can flatten a list of tuples:"
   ]
  },
  {
   "cell_type": "code",
   "execution_count": 5,
   "metadata": {
    "scrolled": false
   },
   "outputs": [
    {
     "name": "stdout",
     "output_type": "stream",
     "text": [
      "Flattened: [ 1.  1.  2.  2.  3.  3.  3.]\n",
      "Unflattened: [(array(1.0), array(1.0)), (array(2.0), array(2.0)), (array(3.0), array(3.0), array(3.0))]\n"
     ]
    }
   ],
   "source": [
    "params = [(1.0, 1.0), (2.0,2.0), (3.0,3.0,3.0)]\n",
    "flat_params, unflatten_func = flatten(params)\n",
    "print('Flattened: {}'.format(flat_params))\n",
    "print('Unflattened: {}'.format(unflatten_func(flat_params)))"
   ]
  },
  {
   "cell_type": "markdown",
   "metadata": {},
   "source": [
    "A list of matrices (of different sizes):"
   ]
  },
  {
   "cell_type": "code",
   "execution_count": 6,
   "metadata": {},
   "outputs": [
    {
     "name": "stdout",
     "output_type": "stream",
     "text": [
      "Flattened: [-0.86718318 -0.39787176 -0.14008288  1.17582056 -2.20750251 -0.90372716\n",
      "  0.28830369 -0.71615753  0.44306775 -0.23534406  0.77017371 -0.82302491\n",
      " -0.38458041  0.4164451  -2.0029848   0.19021276 -1.15892003 -0.56156495\n",
      "  0.52243588 -0.09529192  0.59047335  0.33227221 -1.15584222  0.90891582\n",
      "  1.79415157 -0.76722565 -0.41225893  0.61663727  0.8957365  -0.42721445\n",
      " -1.41281425  0.32935995 -1.43127652  1.0173327 ]\n",
      "Unflattened: [array([[-0.86718318, -0.39787176, -0.14008288],\n",
      "       [ 1.17582056, -2.20750251, -0.90372716],\n",
      "       [ 0.28830369, -0.71615753,  0.44306775]]), array([[-0.23534406,  0.77017371, -0.82302491, -0.38458041],\n",
      "       [ 0.4164451 , -2.0029848 ,  0.19021276, -1.15892003],\n",
      "       [-0.56156495,  0.52243588, -0.09529192,  0.59047335],\n",
      "       [ 0.33227221, -1.15584222,  0.90891582,  1.79415157]]), array([[-0.76722565, -0.41225893,  0.61663727],\n",
      "       [ 0.8957365 , -0.42721445, -1.41281425],\n",
      "       [ 0.32935995, -1.43127652,  1.0173327 ]])]\n"
     ]
    }
   ],
   "source": [
    "params = [npr.randn(3,3), npr.randn(4,4), npr.randn(3,3)]\n",
    "flat_params, unflatten_func = flatten(params)\n",
    "print('Flattened: {}'.format(flat_params))\n",
    "print('Unflattened: {}'.format(unflatten_func(flat_params)))"
   ]
  },
  {
   "cell_type": "markdown",
   "metadata": {},
   "source": [
    "A dictionary:"
   ]
  },
  {
   "cell_type": "code",
   "execution_count": 7,
   "metadata": {
    "scrolled": true
   },
   "outputs": [
    {
     "name": "stdout",
     "output_type": "stream",
     "text": [
      "Flattened: [ 1.  2.  1.  2.  3.  4.]\n",
      "Unflattened: {'weights': [array(1.0), array(2.0), array(3.0), array(4.0)], 'biases': [array(1.0), array(2.0)]}\n"
     ]
    }
   ],
   "source": [
    "params = { 'weights': [1.0,2.0,3.0,4.0], 'biases': [1.0,2.0] }\n",
    "flat_params, unflatten_func = flatten(params)\n",
    "print('Flattened: {}'.format(flat_params))\n",
    "print('Unflattened: {}'.format(unflatten_func(flat_params)))"
   ]
  },
  {
   "cell_type": "markdown",
   "metadata": {},
   "source": [
    "Or even a dictionary of dictionaries (etc.):"
   ]
  },
  {
   "cell_type": "code",
   "execution_count": 8,
   "metadata": {},
   "outputs": [
    {
     "name": "stdout",
     "output_type": "stream",
     "text": [
      "Flattened: [ 1.  2.  1.  2.  3.  4.  6.  7.  5.  6.  7.  8.]\n",
      "Unflattened: {'layer1': {'weights': [array(1.0), array(2.0), array(3.0), array(4.0)], 'biases': [array(1.0), array(2.0)]}, 'layer2': {'weights': [array(5.0), array(6.0), array(7.0), array(8.0)], 'biases': [array(6.0), array(7.0)]}}\n"
     ]
    }
   ],
   "source": [
    "params = { 'layer1': { 'weights': [1.0,2.0,3.0,4.0], 'biases': [1.0,2.0]}, 'layer2': { 'weights': [5.0,6.0,7.0,8.0], 'biases': [6.0,7.0]} }\n",
    "flat_params, unflatten_func = flatten(params)\n",
    "print('Flattened: {}'.format(flat_params))\n",
    "print('Unflattened: {}'.format(unflatten_func(flat_params)))"
   ]
  },
  {
   "cell_type": "markdown",
   "metadata": {},
   "source": [
    "## Gradient Functions\n",
    "\n",
    "There are several functions that compute gradients, which have different signatures\n",
    "\n",
    "* `grad(fun, argnum=0)`\n",
    "    - Returns a function which computes the gradient of `fun` with respect to\n",
    "      positional argument number `argnum`. The returned function takes the same\n",
    "      arguments as `fun`, but returns the gradient instead. The function `fun`\n",
    "      should be scalar-valued. The gradient has the same type as the argument.\n",
    "* `grad_named(fun, argname)`\n",
    "    - Takes gradients with respect to a named argument.\n",
    "* `multigrad(fun, argnums=[0])`\n",
    "    - Takes gradients wrt multiple arguments simultaneously.\n",
    "* `multigrad_dict(fun)`\n",
    "    - Takes gradients with respect to all arguments simultaneously, and returns a dict mapping `argname` to `gradval`"
   ]
  },
  {
   "cell_type": "markdown",
   "metadata": {},
   "source": [
    "## Modularity: Implementing Custom Gradients\n",
    "\n",
    "The implementation of Autograd is simple, readable, and extensible!\n",
    "\n",
    "One thing you can do is define custom gradients for your own functions. There are several reasons you might want to do this, including:\n",
    "\n",
    "1. **Speed:** You may know a faster way to compute the gradient for a specific function.\n",
    "2. **Numerical Stability**\n",
    "3. When your code depends on **external library calls**\n",
    "\n",
    "The `@primitive` decorator wraps a function so that its gradient can be specified manually and its invocation can be recorded."
   ]
  },
  {
   "cell_type": "code",
   "execution_count": 9,
   "metadata": {},
   "outputs": [],
   "source": [
    "import autograd.numpy as np\n",
    "import autograd.numpy.random as npr\n",
    "from autograd import grad\n",
    "from autograd.extend import primitive, defvjp\n",
    "\n",
    "# From the Autograd examples:\n",
    "# @primitive tells autograd not to look inside this function, but instead\n",
    "# to treat it as a black box, whose gradient might be specified later.\n",
    "@primitive\n",
    "def logsumexp(x):\n",
    "    \"\"\"Numerically stable log(sum(exp(x)))\"\"\"\n",
    "    max_x = np.max(x)\n",
    "    return max_x + np.log(np.sum(np.exp(x - max_x)))\n",
    "\n",
    "# Next, we write a function that specifies the gradient with a closure.\n",
    "def make_grad_logsumexp(ans, x):\n",
    "    # If you want to be able to take higher-order derivatives, then all the\n",
    "    # code inside this function must be itself differentiable by autograd.\n",
    "    def gradient_product(g):\n",
    "        return np.full(x.shape, g) * np.exp(x - np.full(x.shape, ans))\n",
    "    return gradient_product\n",
    "\n",
    "# Now we tell autograd that logsumexmp has a gradient-making function.\n",
    "defvjp(logsumexp, make_grad_logsumexp)"
   ]
  },
  {
   "cell_type": "code",
   "execution_count": 10,
   "metadata": {},
   "outputs": [
    {
     "name": "stdout",
     "output_type": "stream",
     "text": [
      "Gradient:  [ 0.01964729 -0.01052768  0.08082344  0.02737456  0.07575397 -0.01597028\n",
      "  3.0434424   0.00794668  0.00345275 -0.05588763]\n"
     ]
    }
   ],
   "source": [
    "# Now we can use logsumexp() inside a larger function that we want to differentiate.\n",
    "def example_func(y):\n",
    "    z = y**2\n",
    "    lse = logsumexp(z)\n",
    "    return np.sum(lse)\n",
    "\n",
    "grad_of_example = grad(example_func)\n",
    "print(\"Gradient: \", grad_of_example(npr.randn(10)))\n",
    "\n",
    "# Check the gradients numerically, just to be safe.\n",
    "# Fails if a mismatch occurs\n",
    "from autograd.test_util import check_grads\n",
    "check_grads(example_func, modes=['rev'], order=2)(npr.randn(10))"
   ]
  },
  {
   "cell_type": "markdown",
   "metadata": {},
   "source": [
    "# Examples\n",
    "\n",
    "The next three sections of the notebook show examples of using Autograd in the context of three problems:\n",
    "\n",
    "1. **1-D linear regression**, where we try to fit a model to a function $y = wx + b$\n",
    "2. **Linear regression using a polynomial feature map**, to fit a function of the form $y = w_0 + w_1 x + w_2 x^2 + \\dots + w_M x^M$\n",
    "3. **Nonlinear regression using a neural network**"
   ]
  },
  {
   "cell_type": "markdown",
   "metadata": {},
   "source": [
    "## Linear Regression"
   ]
  },
  {
   "cell_type": "markdown",
   "metadata": {},
   "source": [
    "### Review\n",
    "\n",
    "We are given a set of data points $\\{ (x_1, t_1), (x_2, t_2), \\dots, (x_N, t_N) \\}$, where each point $(x_i, t_i)$ consists of an *input value* $x_i$ and a *target value* $t_i$. \n",
    "\n",
    "The **model** we use is:\n",
    "$$\n",
    "y_i = wx_i + b\n",
    "$$\n",
    "\n",
    "We want each predicted value $y_i$ to be close to the ground truth value $t_i$. In linear regression, we use squared error to quantify the disagreement between $y_i$ and $t_i$. The **loss function** for a single example is:\n",
    "$$\n",
    "\\mathcal{L}(y_i,t_i) = \\frac{1}{2} (y_i - t_i)^2\n",
    "$$\n",
    "\n",
    "The **cost function** is the loss averaged over all the training examples:\n",
    "$$\n",
    "\\mathcal{E}(w,b) = \\frac{1}{N} \\sum_{i=1}^N \\mathcal{L}(y_i, t_i) = \\frac{1}{N} \\sum_{i=1}^N \\frac{1}{2} \\left(wx_i + b - t_i \\right)^2\n",
    "$$"
   ]
  },
  {
   "cell_type": "code",
   "execution_count": 11,
   "metadata": {},
   "outputs": [],
   "source": [
    "import autograd.numpy as np # Import wrapped NumPy from Autograd\n",
    "import autograd.numpy.random as npr # For convenient access to numpy.random\n",
    "from autograd import grad # To compute gradients\n",
    "\n",
    "import matplotlib.pyplot as plt # For plotting\n",
    "\n",
    "%matplotlib inline"
   ]
  },
  {
   "cell_type": "markdown",
   "metadata": {},
   "source": [
    "## Generate Synthetic Data"
   ]
  },
  {
   "cell_type": "markdown",
   "metadata": {},
   "source": [
    "We generate a synthetic dataset $\\{ (x_i, t_i) \\}$ by first taking the $x_i$ to be linearly spaced in the range $[0, 10]$ and generating the corresponding value of $t_i$ using the following equation (where $w = 4$ and $b=10$):\n",
    "$$\n",
    "t_i = 4 x_i + 10 + \\epsilon\n",
    "$$\n",
    "\n",
    "Here, $\\epsilon \\sim \\mathcal{N}(0, 2)$ (that is, $\\epsilon$ is drawn from a Gaussian distribution with mean 0 and variance 2). This introduces some random fluctuation in the data, to mimic real data that has an underlying regularity, but for which individual observations are corrupted by random noise."
   ]
  },
  {
   "cell_type": "code",
   "execution_count": 12,
   "metadata": {},
   "outputs": [
    {
     "data": {
      "text/plain": [
       "[<matplotlib.lines.Line2D at 0x10ec4eeb8>]"
      ]
     },
     "execution_count": 12,
     "metadata": {},
     "output_type": "execute_result"
    },
    {
     "data": {
      "image/png": "[encoded data removed]",
      "text/plain": [
       "<matplotlib.figure.Figure at 0x10ee18a20>"
      ]
     },
     "metadata": {},
     "output_type": "display_data"
    }
   ],
   "source": [
    "# In our synthetic data, we have w = 4 and b = 10\n",
    "N = 100 # Number of training data points\n",
    "x = np.linspace(0, 10, N)\n",
    "t = 4 * x + 10 + npr.normal(0, 2, x.shape[0])\n",
    "plt.plot(x, t, 'r.')"
   ]
  },
  {
   "cell_type": "code",
   "execution_count": 13,
   "metadata": {},
   "outputs": [
    {
     "name": "stdout",
     "output_type": "stream",
     "text": [
      "{'w': 4.1287788378129608, 'b': 9.1779559871908081}\n"
     ]
    }
   ],
   "source": [
    "# Initialize random parameters\n",
    "w = npr.normal(0, 1)\n",
    "b = npr.normal(0, 1)\n",
    "params = { 'w': w, 'b': b } # One option: aggregate parameters in a dictionary\n",
    "\n",
    "def cost(params):\n",
    "    y = params['w'] * x + params['b']\n",
    "    return (1 / N) * np.sum(0.5 * np.square(y - t))\n",
    "\n",
    "# Find the gradient of the cost function using Autograd\n",
    "grad_cost = grad(cost) \n",
    "\n",
    "num_epochs = 1000  # Number of epochs of training\n",
    "alpha = 0.01       # Learning rate\n",
    "\n",
    "for i in range(num_epochs):\n",
    "    # Evaluate the gradient of the current parameters stored in params\n",
    "    cost_params = grad_cost(params)\n",
    "    \n",
    "    # Update parameters w and b\n",
    "    params['w'] = params['w'] - alpha * cost_params['w']\n",
    "    params['b'] = params['b'] - alpha * cost_params['b']\n",
    "\n",
    "print(params)"
   ]
  },
  {
   "cell_type": "code",
   "execution_count": 14,
   "metadata": {},
   "outputs": [
    {
     "data": {
      "text/plain": [
       "[<matplotlib.lines.Line2D at 0x10f09a9b0>]"
      ]
     },
     "execution_count": 14,
     "metadata": {},
     "output_type": "execute_result"
    },
    {
     "data": {
      "image/png": "[encoded data removed]",
      "text/plain": [
       "<matplotlib.figure.Figure at 0x10ee268d0>"
      ]
     },
     "metadata": {},
     "output_type": "display_data"
    }
   ],
   "source": [
    "# Plot the training data again, together with the line defined by y = wx + b\n",
    "# where w and b are our final learned parameters\n",
    "plt.plot(x, t, 'r.')\n",
    "plt.plot([0, 10], [params['b'], params['w'] * 10 + params['b']], 'b-')"
   ]
  },
  {
   "cell_type": "markdown",
   "metadata": {},
   "source": [
    "## Linear Regression with a Feature Mapping"
   ]
  },
  {
   "cell_type": "markdown",
   "metadata": {},
   "source": [
    "In this example we will fit a polynomial using linear regression with a polynomial feature mapping.\n",
    "The target function is:\n",
    "\n",
    "$$\n",
    "t = x^4 - 10 x^2 + 10 x + \\epsilon\n",
    "$$\n",
    "\n",
    "where $\\epsilon \\sim \\mathcal{N}(0, 4)$. \n",
    "\n",
    "This is an example of a _generalized linear model_, in which we perform a fixed nonlinear transformation of the inputs $\\mathbf{x} = (x_1, x_2, \\dots, x_D)$, and the model is still linear in the _parameters_. We can define a set of _feature mappings_ (also called feature functions or basis functions) $\\phi$ to implement the fixed transformations.\n",
    "\n",
    "In this case, we have $x \\in \\mathbb{R}$, and we define the feature mapping:\n",
    "$$\n",
    "\\mathbf{\\phi}(x) = \\begin{pmatrix}\\phi_1(x) \\\\ \\phi_2(x) \\\\ \\phi_3(x) \\\\ \\phi_4(x) \\end{pmatrix} = \\begin{pmatrix}1\\\\x\\\\x^2\\\\x^3\\end{pmatrix}\n",
    "$$"
   ]
  },
  {
   "cell_type": "code",
   "execution_count": 15,
   "metadata": {},
   "outputs": [
    {
     "data": {
      "text/plain": [
       "[<matplotlib.lines.Line2D at 0x10f2b90f0>]"
      ]
     },
     "execution_count": 15,
     "metadata": {},
     "output_type": "execute_result"
    },
    {
     "data": {
      "image/png": "[encoded data removed]",
      "text/plain": [
       "<matplotlib.figure.Figure at 0x10f1ce080>"
      ]
     },
     "metadata": {},
     "output_type": "display_data"
    }
   ],
   "source": [
    "# Generate synthetic data\n",
    "N = 100 # Number of data points\n",
    "x = np.linspace(-3, 3, N) # Generate N values linearly-spaced between -3 and 3\n",
    "t = x ** 4 - 10 * x ** 2 + 10 * x + npr.normal(0, 4, x.shape[0]) # Generate corresponding targets\n",
    "plt.plot(x, t, 'r.') # Plot data points"
   ]
  },
  {
   "cell_type": "code",
   "execution_count": 16,
   "metadata": {},
   "outputs": [
    {
     "name": "stdout",
     "output_type": "stream",
     "text": [
      "[ -0.68443928  10.33612329  -9.48556594  -0.04644112   0.93365519]\n"
     ]
    }
   ],
   "source": [
    "M = 4 # Degree of polynomial to fit to the data (this is a hyperparameter)\n",
    "feature_matrix = np.array([[item ** i for i in range(M+1)] for item in x]) # Construct a feature matrix \n",
    "W = npr.randn(feature_matrix.shape[-1])\n",
    "\n",
    "def cost(W):\n",
    "    y = np.dot(feature_matrix, W)\n",
    "    return (1.0 / N) * np.sum(0.5 * np.square(y - t))\n",
    "\n",
    "# Compute the gradient of the cost function using Autograd\n",
    "cost_grad = grad(cost)\n",
    "\n",
    "num_epochs = 10000\n",
    "learning_rate = 0.001\n",
    "\n",
    "# Manually implement gradient descent\n",
    "for i in range(num_epochs):\n",
    "    W = W - learning_rate * cost_grad(W)\n",
    "\n",
    "# Print the final learned parameters.\n",
    "print(W)"
   ]
  },
  {
   "cell_type": "code",
   "execution_count": 17,
   "metadata": {},
   "outputs": [
    {
     "data": {
      "text/plain": [
       "[<matplotlib.lines.Line2D at 0x10f2f4048>]"
      ]
     },
     "execution_count": 17,
     "metadata": {},
     "output_type": "execute_result"
    },
    {
     "data": {
      "image/png": "[encoded data removed]",
      "text/plain": [
       "<matplotlib.figure.Figure at 0x10f2f4128>"
      ]
     },
     "metadata": {},
     "output_type": "display_data"
    }
   ],
   "source": [
    "# Plot the original training data again, together with the polynomial we fit\n",
    "plt.plot(x, t, 'r.')\n",
    "plt.plot(x, np.dot(feature_matrix, W), 'b-')"
   ]
  },
  {
   "cell_type": "markdown",
   "metadata": {},
   "source": [
    "## Neural Net Regression"
   ]
  },
  {
   "cell_type": "markdown",
   "metadata": {},
   "source": [
    "In this example we will implement a (nonlinear) regression model using a neural network. To implement and train a neural net using Autograd, you only have to define the forward pass of the network and the loss function you wish to use; you do _not_ need to implement the _backward pass_ of the network. When you take the gradient of the loss function using `grad`, Autograd automatically computes computes the backward pass. It essentially executes the backpropagation algorithm implicitly.\n",
    "\n",
    "\n",
    "![Neural Network Architecture for Regression](images/NeuralNetRegression.png)"
   ]
  },
  {
   "cell_type": "code",
   "execution_count": 18,
   "metadata": {},
   "outputs": [],
   "source": [
    "import matplotlib.pyplot as plt\n",
    "\n",
    "import autograd.numpy as np\n",
    "import autograd.numpy.random as npr\n",
    "from autograd import grad\n",
    "from autograd.misc import flatten #, flatten_func\n",
    "\n",
    "from autograd.misc.optimizers import sgd\n",
    "\n",
    "%matplotlib inline"
   ]
  },
  {
   "cell_type": "markdown",
   "metadata": {},
   "source": [
    "### Autograd Implementation of Stochastic Gradient Descent (with momentum)\n",
    "\n",
    "```\n",
    "def sgd(grad, init_params, callback=None, num_iters=200, step_size=0.1, mass=0.9):\n",
    "    \"\"\"Stochastic gradient descent with momentum.\n",
    "    grad() must have signature grad(x, i), where i is the iteration number.\"\"\"\n",
    "    flattened_grad, unflatten, x = flatten_func(grad, init_params)\n",
    "    \n",
    "    velocity = np.zeros(len(x))\n",
    "    for i in range(num_iters):\n",
    "        g = flattened_grad(x, i)\n",
    "        if callback:\n",
    "            callback(unflatten(x), i, unflatten(g))\n",
    "        velocity = mass * velocity - (1.0 - mass) * g\n",
    "        x = x + step_size * velocity\n",
    "    return unflatten(x)\n",
    "```\n",
    "\n",
    "The next example shows how to use the `sgd` function."
   ]
  },
  {
   "cell_type": "code",
   "execution_count": 19,
   "metadata": {},
   "outputs": [
    {
     "data": {
      "text/plain": [
       "[<matplotlib.lines.Line2D at 0x10f3c5dd8>]"
      ]
     },
     "execution_count": 19,
     "metadata": {},
     "output_type": "execute_result"
    },
    {
     "data": {
      "image/png": "[encoded data removed]",
      "text/plain": [
       "<matplotlib.figure.Figure at 0x10f3057f0>"
      ]
     },
     "metadata": {},
     "output_type": "display_data"
    }
   ],
   "source": [
    "# Generate synthetic data\n",
    "x = np.linspace(-5, 5, 1000)\n",
    "t = x ** 3 - 20 * x + 10 + npr.normal(0, 4, x.shape[0])\n",
    "plt.plot(x, t, 'r.')"
   ]
  },
  {
   "cell_type": "code",
   "execution_count": 20,
   "metadata": {},
   "outputs": [
    {
     "name": "stdout",
     "output_type": "stream",
     "text": [
      "361.238545336\n",
      "{'W1': array([[-1.04822356, -0.50365952, -0.99694494,  0.98227972]]), 'b1': array([ 4.78361845, -1.08061677,  1.27453929,  4.81991562]), 'W2': array([[-4.17283061, -3.25142667, -1.75741222, -3.65814981],\n",
      "       [ 2.03801363,  1.04339347, -2.17499704, -2.95023117],\n",
      "       [ 1.95205777,  0.87350044, -1.61815863, -2.90276696],\n",
      "       [ 0.28546842,  3.68840033,  4.15099628,  3.37168634]]), 'b2': array([ 3.12534049,  0.31222713,  1.16031296,  0.6667576 ]), 'W3': array([[ 13.56277971],\n",
      "       [ 18.00861121],\n",
      "       [ 11.14465696],\n",
      "       [ -5.91832481]]), 'b3': array([-1.30607817])}\n",
      "7.99260111674\n"
     ]
    },
    {
     "data": {
      "text/plain": [
       "[<matplotlib.lines.Line2D at 0x10f2f9da0>]"
      ]
     },
     "execution_count": 20,
     "metadata": {},
     "output_type": "execute_result"
    },
    {
     "data": {
      "image/png": "[encoded data removed]",
      "text/plain": [
       "<matplotlib.figure.Figure at 0x10f1aa048>"
      ]
     },
     "metadata": {},
     "output_type": "display_data"
    }
   ],
   "source": [
    "inputs = x.reshape(x.shape[-1],1)\n",
    "W1 = npr.randn(1,4)\n",
    "b1 = npr.randn(4)\n",
    "W2 = npr.randn(4,4)\n",
    "b2 = npr.randn(4)\n",
    "W3 = npr.randn(4,1)\n",
    "b3 = npr.randn(1)\n",
    "\n",
    "params = { 'W1': W1, 'b1': b1, 'W2': W2, 'b2': b2, 'W3': W3, 'b3': b3 }\n",
    "\n",
    "def relu(x):\n",
    "    return np.maximum(0, x)\n",
    "\n",
    "nonlinearity = np.tanh\n",
    "#nonlinearity = relu\n",
    "\n",
    "def predict(params, inputs):\n",
    "    h1 = nonlinearity(np.dot(inputs, params['W1']) + params['b1'])\n",
    "    h2 = nonlinearity(np.dot(h1, params['W2']) + params['b2'])\n",
    "    output = np.dot(h2, params['W3']) + params['b3']\n",
    "    return output\n",
    "\n",
    "def loss(params, i):\n",
    "    output = predict(params, inputs)\n",
    "    return (1.0 / inputs.shape[0]) * np.sum(0.5 * np.square(output.reshape(output.shape[0]) - t))\n",
    "\n",
    "print(loss(params, 0))\n",
    "\n",
    "optimized_params = sgd(grad(loss), params, step_size=0.01, num_iters=5000)\n",
    "print(optimized_params)\n",
    "print(loss(optimized_params, 0))\n",
    "\n",
    "final_y = predict(optimized_params, inputs)\n",
    "plt.plot(x, t, 'r.')\n",
    "plt.plot(x, final_y, 'b-')"
   ]
  },
  {
   "cell_type": "code",
   "execution_count": 21,
   "metadata": {
    "scrolled": true
   },
   "outputs": [
    {
     "data": {
      "text/plain": [
       "[<matplotlib.lines.Line2D at 0x10f587eb8>]"
      ]
     },
     "execution_count": 21,
     "metadata": {},
     "output_type": "execute_result"
    },
    {
     "data": {
      "image/png": "[encoded data removed]",
      "text/plain": [
       "<matplotlib.figure.Figure at 0x10f220710>"
      ]
     },
     "metadata": {},
     "output_type": "display_data"
    }
   ],
   "source": [
    "plt.plot(x, final_y, 'b-')"
   ]
  },
  {
   "cell_type": "code",
   "execution_count": 22,
   "metadata": {
    "scrolled": false
   },
   "outputs": [
    {
     "data": {
      "text/plain": [
       "[<matplotlib.lines.Line2D at 0x10f6a5278>]"
      ]
     },
     "execution_count": 22,
     "metadata": {},
     "output_type": "execute_result"
    },
    {
     "data": {
      "image/png": "[encoded data removed]",
      "text/plain": [
       "<matplotlib.figure.Figure at 0x10f5fcd30>"
      ]
     },
     "metadata": {},
     "output_type": "display_data"
    }
   ],
   "source": [
    "# A plot of the result of this model using ReLU activations\n",
    "plt.plot(x, final_y, 'b-')"
   ]
  },
  {
   "cell_type": "code",
   "execution_count": null,
   "metadata": {
    "collapsed": true
   },
   "outputs": [],
   "source": []
  },
  {
   "cell_type": "code",
   "execution_count": null,
   "metadata": {
    "collapsed": true
   },
   "outputs": [],
   "source": []
  }
 ],
 "metadata": {
  "kernelspec": {
   "display_name": "Python 3",
   "language": "python",
   "name": "python3"
  },
  "language_info": {
   "codemirror_mode": {
    "name": "ipython",
    "version": 3
   },
   "file_extension": ".py",
   "mimetype": "text/x-python",
   "name": "python",
   "nbconvert_exporter": "python",
   "pygments_lexer": "ipython3",
   "version": "3.6.3"
  }
 },
 "nbformat": 4,
 "nbformat_minor": 1
}
