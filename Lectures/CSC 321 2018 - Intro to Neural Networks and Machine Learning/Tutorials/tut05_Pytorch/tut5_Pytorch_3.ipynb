








<!DOCTYPE html>
<html lang="en">

<head>
  <meta charset="utf-8">
  <title>Jupyter Notebook Viewer</title>
  <meta name="viewport" content="width=device-width, initial-scale=1.0">
  <meta name="description" content="">
  <meta name="author" content="">
  
  <meta name="robots" content="noindex,nofollow">
  

  <!--NEW RELIC Start Perf Measurement-->
  
  <!--NREND-->

  <!-- Le styles -->
  <link href="/static/build/styles.css" rel="stylesheet">

  <!-- Le HTML5 shim, for IE6-8 support of HTML5 elements -->
  <!--[if lt IE 9]>
    <script src="http://html5shim.googlecode.com/svn/trunk/html5.js"></script>
  <![endif]-->

  <!-- Le fav and touch icons -->
  <link rel="shortcut icon" href="/static/ico/ipynb_icon_16x16.png">
  <link rel="apple-touch-icon-precomposed" sizes="144x144"
        href="/static/ico/apple-touch-icon-144-precomposed.png">
  <link rel="apple-touch-icon-precomposed" sizes="114x114"
        href="/static/ico/apple-touch-icon-114-precomposed.png">
  <link rel="apple-touch-icon-precomposed" sizes="72x72"
        href="/static/ico/apple-touch-icon-72-precomposed.png">
  <link rel="apple-touch-icon-precomposed"
        href="/static/ico/apple-touch-icon-57-precomposed.png">
  
  

  

  
  <meta name="twitter:card" content="summary">
  <meta name="twitter:title" content="Notebook on nbviewer">
  <meta name="twitter:description" content="Check out this Jupyter notebook!">

  
  <meta name="twitter:domain" content="nbviewer.jupyter.org">
  <meta name="twitter:image:src" content="http://ipython.org/ipython-doc/dev/_images/ipynb_icon_128x128.png">

  
    <link href="/static/build/notebook.css" rel="stylesheet">
  

  

  
    <script src="https://cdnjs.cloudflare.com/ajax/libs/mathjax/2.7.1/MathJax.js?config=TeX-AMS_HTML" type="text/javascript">
    </script>
    <script type="text/javascript">
      init_mathjax = function() {
        if (window.MathJax) {
          // MathJax loaded
          MathJax.Hub.Config({
            TeX: {
              equationNumbers: {
                autoNumber: "AMS",
                useLabelIds: true
              }
            },
            tex2jax: {
              inlineMath: [ ['$','$'], ["\\(","\\)"] ],
              displayMath: [ ['$$','$$'], ["\\[","\\]"] ],
              processEscapes: true,
              processEnvironments: true
            },
            displayAlign: 'center',
            "HTML-CSS": {
              styles: {'.MathJax_Display': {"margin": 0}},
              linebreaks: { automatic: true }
            }
          });
          MathJax.Hub.Queue(["Typeset", MathJax.Hub]);
        }
      }
      init_mathjax();
    </script>
  

  
    <script>
      (function() {
        function addWidgetsRenderer() {
          var mimeElement = document.querySelector('script[type="application/vnd.jupyter.widget-view+json"]');
          var scriptElement = document.createElement('script');
          var widgetRendererSrc = 'https://unpkg.com/@jupyter-widgets/html-manager@0.15/dist/embed-amd.js';
          var widgetState;

          try {
            widgetState = mimeElement && JSON.parse(mimeElement.innerHTML);

            if (widgetState && (widgetState.version_major < 2 || !widgetState.version_major)) {
              widgetRendererSrc = 'https://unpkg.com/jupyter-js-widgets@2.1/dist/embed.js';
            }
          } catch(e) {}

          scriptElement.src = widgetRendererSrc;
          document.body.appendChild(scriptElement);
        }

        document.addEventListener('DOMContentLoaded', addWidgetsRenderer);
      }());
    </script>
  

</head>

<body class="nbviewer">

  <!-- These are loaded at the top of the body so they are available to
       notebook cells when they are loaded below. -->
  <script src="/static/components/jquery/dist/jquery.min.js"></script>
  <script src="/static/components/requirejs/require.js"></script>
  <script src="/static/components/moment/min/moment.min.js"></script>
<!-- Navbar
================================================== -->
  <nav id="menubar" class="navbar navbar-default navbar-fixed-top" data-spy="affix">
    <div class="container">
      <div class="navbar-header">
        <button type="button" class="navbar-toggle collapsed" data-toggle="collapse" data-target=".navbar-collapse">
          <span class="sr-only">Toggle navigation</span>
          <i class="fa fa-bars"></i>
        </button>
        <a class="navbar-brand" href="/">
          <img src="/static/img/nav_logo.svg" width="159"/>
        </a>
      </div>

      <div class="collapse navbar-collapse">
        <ul class="nav navbar-nav navbar-right">
          <li>
            <a class="active" href="https://jupyter.org">JUPYTER</a>
          </li>
          <li>
    <a href="/faq" title="FAQ" >
      
        <span>FAQ</span>
      
    </a>
  </li>

          
  
    
  
    
      
        <li>
    <a href="script/url/www.cs.toronto.edu/~rgrosse/courses/csc321_2018/tutorials/tut5c.ipynb" title="View as Code" >
      <span class="fa fa-code fa-2x menu-icon"></span>
      <span class="menu-text">View as Code</span>
    </a>
  </li>
      
    
  

  
    <li>
    <a href="#" title="Python [default] Kernel" >
      <span class="fa fa-server fa-2x menu-icon"></span>
      <span class="menu-text">Python [default] Kernel</span>
    </a>
  </li>
  

  

  

  <li>
    <a href="http://www.cs.toronto.edu/~rgrosse/courses/csc321_2018/tutorials/tut5c.ipynb" title="Download Notebook" download>
      <span class="fa fa-download fa-2x menu-icon"></span>
      <span class="menu-text">Download Notebook</span>
    </a>
  </li>

        </ul>
      </div><!-- /.navbar-collapse -->
      
      
    </div>
  </nav>

  <div class="container container-main">
    
  
  <div id="notebook">
    <div id="notebook-container">
      <div class="cell border-box-sizing code_cell rendered">
<div class="input">
<div class="prompt input_prompt">In&nbsp;[1]:</div>
<div class="inner_cell">
    <div class="input_area">
<div class=" highlight hl-ipython2"><pre><span></span><span class="kn">from</span> <span class="nn">torch.autograd</span> <span class="kn">import</span> <span class="n">Variable</span>
<span class="kn">import</span> <span class="nn">torch</span>
<span class="kn">import</span> <span class="nn">numpy</span> <span class="k">as</span> <span class="nn">np</span>
<span class="kn">import</span> <span class="nn">matplotlib.pyplot</span> <span class="k">as</span> <span class="nn">plt</span>



<span class="kn">from</span> <span class="nn">scipy.io</span> <span class="kn">import</span> <span class="n">loadmat</span>



<span class="o">%</span><span class="k">matplotlib</span> inline  

<span class="n">M</span> <span class="o">=</span> <span class="n">loadmat</span><span class="p">(</span><span class="s2">&quot;mnist_all.mat&quot;</span><span class="p">)</span>



<span class="k">def</span> <span class="nf">get_test</span><span class="p">(</span><span class="n">M</span><span class="p">):</span>
    <span class="n">batch_xs</span> <span class="o">=</span> <span class="n">np</span><span class="o">.</span><span class="n">zeros</span><span class="p">((</span><span class="mi">0</span><span class="p">,</span> <span class="mi">28</span><span class="o">*</span><span class="mi">28</span><span class="p">))</span>
    <span class="n">batch_y_s</span> <span class="o">=</span> <span class="n">np</span><span class="o">.</span><span class="n">zeros</span><span class="p">(</span> <span class="p">(</span><span class="mi">0</span><span class="p">,</span> <span class="mi">10</span><span class="p">))</span>
    
    <span class="n">test_k</span> <span class="o">=</span>  <span class="p">[</span><span class="s2">&quot;test&quot;</span><span class="o">+</span><span class="nb">str</span><span class="p">(</span><span class="n">i</span><span class="p">)</span> <span class="k">for</span> <span class="n">i</span> <span class="ow">in</span> <span class="nb">range</span><span class="p">(</span><span class="mi">10</span><span class="p">)]</span>
    <span class="k">for</span> <span class="n">k</span> <span class="ow">in</span> <span class="nb">range</span><span class="p">(</span><span class="mi">10</span><span class="p">):</span>
        <span class="n">batch_xs</span> <span class="o">=</span> <span class="n">np</span><span class="o">.</span><span class="n">vstack</span><span class="p">((</span><span class="n">batch_xs</span><span class="p">,</span> <span class="p">((</span><span class="n">np</span><span class="o">.</span><span class="n">array</span><span class="p">(</span><span class="n">M</span><span class="p">[</span><span class="n">test_k</span><span class="p">[</span><span class="n">k</span><span class="p">]])[:])</span><span class="o">/</span><span class="mf">255.</span><span class="p">)</span>  <span class="p">))</span>
        <span class="n">one_hot</span> <span class="o">=</span> <span class="n">np</span><span class="o">.</span><span class="n">zeros</span><span class="p">(</span><span class="mi">10</span><span class="p">)</span>
        <span class="n">one_hot</span><span class="p">[</span><span class="n">k</span><span class="p">]</span> <span class="o">=</span> <span class="mi">1</span>
        <span class="n">batch_y_s</span> <span class="o">=</span> <span class="n">np</span><span class="o">.</span><span class="n">vstack</span><span class="p">((</span><span class="n">batch_y_s</span><span class="p">,</span>   <span class="n">np</span><span class="o">.</span><span class="n">tile</span><span class="p">(</span><span class="n">one_hot</span><span class="p">,</span> <span class="p">(</span><span class="nb">len</span><span class="p">(</span><span class="n">M</span><span class="p">[</span><span class="n">test_k</span><span class="p">[</span><span class="n">k</span><span class="p">]]),</span> <span class="mi">1</span><span class="p">))</span>   <span class="p">))</span>
    <span class="k">return</span> <span class="n">batch_xs</span><span class="p">,</span> <span class="n">batch_y_s</span>


<span class="k">def</span> <span class="nf">get_train</span><span class="p">(</span><span class="n">M</span><span class="p">):</span>
    <span class="n">batch_xs</span> <span class="o">=</span> <span class="n">np</span><span class="o">.</span><span class="n">zeros</span><span class="p">((</span><span class="mi">0</span><span class="p">,</span> <span class="mi">28</span><span class="o">*</span><span class="mi">28</span><span class="p">))</span>
    <span class="n">batch_y_s</span> <span class="o">=</span> <span class="n">np</span><span class="o">.</span><span class="n">zeros</span><span class="p">(</span> <span class="p">(</span><span class="mi">0</span><span class="p">,</span> <span class="mi">10</span><span class="p">))</span>
    
    <span class="n">train_k</span> <span class="o">=</span>  <span class="p">[</span><span class="s2">&quot;train&quot;</span><span class="o">+</span><span class="nb">str</span><span class="p">(</span><span class="n">i</span><span class="p">)</span> <span class="k">for</span> <span class="n">i</span> <span class="ow">in</span> <span class="nb">range</span><span class="p">(</span><span class="mi">10</span><span class="p">)]</span>
    <span class="k">for</span> <span class="n">k</span> <span class="ow">in</span> <span class="nb">range</span><span class="p">(</span><span class="mi">10</span><span class="p">):</span>
        <span class="n">batch_xs</span> <span class="o">=</span> <span class="n">np</span><span class="o">.</span><span class="n">vstack</span><span class="p">((</span><span class="n">batch_xs</span><span class="p">,</span> <span class="p">((</span><span class="n">np</span><span class="o">.</span><span class="n">array</span><span class="p">(</span><span class="n">M</span><span class="p">[</span><span class="n">train_k</span><span class="p">[</span><span class="n">k</span><span class="p">]])[:])</span><span class="o">/</span><span class="mf">255.</span><span class="p">)</span>  <span class="p">))</span>
        <span class="n">one_hot</span> <span class="o">=</span> <span class="n">np</span><span class="o">.</span><span class="n">zeros</span><span class="p">(</span><span class="mi">10</span><span class="p">)</span>
        <span class="n">one_hot</span><span class="p">[</span><span class="n">k</span><span class="p">]</span> <span class="o">=</span> <span class="mi">1</span>
        <span class="n">batch_y_s</span> <span class="o">=</span> <span class="n">np</span><span class="o">.</span><span class="n">vstack</span><span class="p">((</span><span class="n">batch_y_s</span><span class="p">,</span>   <span class="n">np</span><span class="o">.</span><span class="n">tile</span><span class="p">(</span><span class="n">one_hot</span><span class="p">,</span> <span class="p">(</span><span class="nb">len</span><span class="p">(</span><span class="n">M</span><span class="p">[</span><span class="n">train_k</span><span class="p">[</span><span class="n">k</span><span class="p">]]),</span> <span class="mi">1</span><span class="p">))</span>   <span class="p">))</span>
    <span class="k">return</span> <span class="n">batch_xs</span><span class="p">,</span> <span class="n">batch_y_s</span>
        

<span class="n">train_x</span><span class="p">,</span> <span class="n">train_y</span> <span class="o">=</span> <span class="n">get_train</span><span class="p">(</span><span class="n">M</span><span class="p">)</span>
<span class="n">test_x</span><span class="p">,</span> <span class="n">test_y</span> <span class="o">=</span> <span class="n">get_test</span><span class="p">(</span><span class="n">M</span><span class="p">)</span>



<span class="n">train_x</span><span class="p">,</span> <span class="n">train_y</span> <span class="o">=</span> <span class="n">get_train</span><span class="p">(</span><span class="n">M</span><span class="p">)</span>
<span class="n">test_x</span><span class="p">,</span> <span class="n">test_y</span> <span class="o">=</span> <span class="n">get_test</span><span class="p">(</span><span class="n">M</span><span class="p">)</span>

<span class="n">dim_x</span> <span class="o">=</span> <span class="mi">28</span><span class="o">*</span><span class="mi">28</span>
<span class="n">dim_h</span> <span class="o">=</span> <span class="mi">20</span>
<span class="n">dim_out</span> <span class="o">=</span> <span class="mi">10</span>

<span class="n">dtype_float</span> <span class="o">=</span> <span class="n">torch</span><span class="o">.</span><span class="n">FloatTensor</span>
<span class="n">dtype_long</span> <span class="o">=</span> <span class="n">torch</span><span class="o">.</span><span class="n">LongTensor</span>



<span class="c1">################################################################################</span>
<span class="c1">#Subsample the training set for faster training</span>

<span class="n">train_idx</span> <span class="o">=</span> <span class="n">np</span><span class="o">.</span><span class="n">random</span><span class="o">.</span><span class="n">permutation</span><span class="p">(</span><span class="nb">range</span><span class="p">(</span><span class="n">train_x</span><span class="o">.</span><span class="n">shape</span><span class="p">[</span><span class="mi">0</span><span class="p">]))[:</span><span class="mi">1000</span><span class="p">]</span>
<span class="n">x</span> <span class="o">=</span> <span class="n">Variable</span><span class="p">(</span><span class="n">torch</span><span class="o">.</span><span class="n">from_numpy</span><span class="p">(</span><span class="n">train_x</span><span class="p">[</span><span class="n">train_idx</span><span class="p">]),</span> <span class="n">requires_grad</span><span class="o">=</span><span class="kc">False</span><span class="p">)</span><span class="o">.</span><span class="n">type</span><span class="p">(</span><span class="n">dtype_float</span><span class="p">)</span>
<span class="n">y_classes</span> <span class="o">=</span> <span class="n">Variable</span><span class="p">(</span><span class="n">torch</span><span class="o">.</span><span class="n">from_numpy</span><span class="p">(</span><span class="n">np</span><span class="o">.</span><span class="n">argmax</span><span class="p">(</span><span class="n">train_y</span><span class="p">[</span><span class="n">train_idx</span><span class="p">],</span> <span class="mi">1</span><span class="p">)),</span> <span class="n">requires_grad</span><span class="o">=</span><span class="kc">False</span><span class="p">)</span><span class="o">.</span><span class="n">type</span><span class="p">(</span><span class="n">dtype_long</span><span class="p">)</span>
<span class="c1">#################################################################################</span>
</pre></div>

    </div>
</div>
</div>

</div>
<div class="cell border-box-sizing text_cell rendered"><div class="prompt input_prompt">
</div><div class="inner_cell">
<div class="text_cell_render border-box-sizing rendered_html">
<p><code>x</code>, <code>y</code>, and <code>y_classes</code> are PyTorch Variables. We will now define the neural network model. We'll use <code>toch.nn.Sequential</code></p>

</div>
</div>
</div>
<div class="cell border-box-sizing code_cell rendered">
<div class="input">
<div class="prompt input_prompt">In&nbsp;[2]:</div>
<div class="inner_cell">
    <div class="input_area">
<div class=" highlight hl-ipython2"><pre><span></span><span class="n">model</span> <span class="o">=</span> <span class="n">torch</span><span class="o">.</span><span class="n">nn</span><span class="o">.</span><span class="n">Sequential</span><span class="p">(</span>
    <span class="n">torch</span><span class="o">.</span><span class="n">nn</span><span class="o">.</span><span class="n">Linear</span><span class="p">(</span><span class="n">dim_x</span><span class="p">,</span> <span class="n">dim_h</span><span class="p">),</span>
    <span class="n">torch</span><span class="o">.</span><span class="n">nn</span><span class="o">.</span><span class="n">ReLU</span><span class="p">(),</span>
    <span class="n">torch</span><span class="o">.</span><span class="n">nn</span><span class="o">.</span><span class="n">Linear</span><span class="p">(</span><span class="n">dim_h</span><span class="p">,</span> <span class="n">dim_out</span><span class="p">),</span>
<span class="p">)</span>
</pre></div>

    </div>
</div>
</div>

</div>
<div class="cell border-box-sizing text_cell rendered"><div class="prompt input_prompt">
</div><div class="inner_cell">
<div class="text_cell_render border-box-sizing rendered_html">
<p><code>model</code> can be used to apply the network to <code>Variable</code> inputs.</p>
<p>We'll define a loss function using <code>torch.nn.CrossEntropyLoss()</code>, which computes the cross entropy from the logits  of the class probability (i.e., outputs of the softmax) and the class labels (i.e., the average negative log-probability of the correct answer).</p>

</div>
</div>
</div>
<div class="cell border-box-sizing code_cell rendered">
<div class="input">
<div class="prompt input_prompt">In&nbsp;[3]:</div>
<div class="inner_cell">
    <div class="input_area">
<div class=" highlight hl-ipython2"><pre><span></span><span class="n">loss_fn</span> <span class="o">=</span> <span class="n">torch</span><span class="o">.</span><span class="n">nn</span><span class="o">.</span><span class="n">CrossEntropyLoss</span><span class="p">()</span>
</pre></div>

    </div>
</div>
</div>

</div>
<div class="cell border-box-sizing text_cell rendered"><div class="prompt input_prompt">
</div><div class="inner_cell">
<div class="text_cell_render border-box-sizing rendered_html">
<h3 id="Training-the-model">Training the model<a class="anchor-link" href="#Training-the-model">&#182;</a></h3><p>We will now use Adam, a variant of Gradient Descent, to optimize the model</p>

</div>
</div>
</div>
<div class="cell border-box-sizing code_cell rendered">
<div class="input">
<div class="prompt input_prompt">In&nbsp;[4]:</div>
<div class="inner_cell">
    <div class="input_area">
<div class=" highlight hl-ipython2"><pre><span></span><span class="n">learning_rate</span> <span class="o">=</span> <span class="mf">1e-2</span>
<span class="n">optimizer</span> <span class="o">=</span> <span class="n">torch</span><span class="o">.</span><span class="n">optim</span><span class="o">.</span><span class="n">Adam</span><span class="p">(</span><span class="n">model</span><span class="o">.</span><span class="n">parameters</span><span class="p">(),</span> <span class="n">lr</span><span class="o">=</span><span class="n">learning_rate</span><span class="p">)</span>
<span class="k">for</span> <span class="n">t</span> <span class="ow">in</span> <span class="nb">range</span><span class="p">(</span><span class="mi">10000</span><span class="p">):</span>
    <span class="n">y_pred</span> <span class="o">=</span> <span class="n">model</span><span class="p">(</span><span class="n">x</span><span class="p">)</span>
    <span class="n">loss</span> <span class="o">=</span> <span class="n">loss_fn</span><span class="p">(</span><span class="n">y_pred</span><span class="p">,</span> <span class="n">y_classes</span><span class="p">)</span>
    
    <span class="n">model</span><span class="o">.</span><span class="n">zero_grad</span><span class="p">()</span>  <span class="c1"># Zero out the previous gradient computation</span>
    <span class="n">loss</span><span class="o">.</span><span class="n">backward</span><span class="p">()</span>    <span class="c1"># Compute the gradient</span>
    <span class="n">optimizer</span><span class="o">.</span><span class="n">step</span><span class="p">()</span>   <span class="c1"># Use the gradient information to </span>
                       <span class="c1"># make a step</span>
</pre></div>

    </div>
</div>
</div>

</div>
<div class="cell border-box-sizing text_cell rendered"><div class="prompt input_prompt">
</div><div class="inner_cell">
<div class="text_cell_render border-box-sizing rendered_html">
<p>Now, let's make predictions for the test set</p>

</div>
</div>
</div>
<div class="cell border-box-sizing code_cell rendered">
<div class="input">
<div class="prompt input_prompt">In&nbsp;[5]:</div>
<div class="inner_cell">
    <div class="input_area">
<div class=" highlight hl-ipython2"><pre><span></span><span class="n">x</span> <span class="o">=</span> <span class="n">Variable</span><span class="p">(</span><span class="n">torch</span><span class="o">.</span><span class="n">from_numpy</span><span class="p">(</span><span class="n">test_x</span><span class="p">),</span> <span class="n">requires_grad</span><span class="o">=</span><span class="kc">False</span><span class="p">)</span><span class="o">.</span><span class="n">type</span><span class="p">(</span><span class="n">dtype_float</span><span class="p">)</span>
</pre></div>

    </div>
</div>
</div>

</div>
<div class="cell border-box-sizing code_cell rendered">
<div class="input">
<div class="prompt input_prompt">In&nbsp;[6]:</div>
<div class="inner_cell">
    <div class="input_area">
<div class=" highlight hl-ipython2"><pre><span></span><span class="n">y_pred</span> <span class="o">=</span> <span class="n">model</span><span class="p">(</span><span class="n">x</span><span class="p">)</span><span class="o">.</span><span class="n">data</span><span class="o">.</span><span class="n">numpy</span><span class="p">()</span>
</pre></div>

    </div>
</div>
</div>

</div>
<div class="cell border-box-sizing text_cell rendered"><div class="prompt input_prompt">
</div><div class="inner_cell">
<div class="text_cell_render border-box-sizing rendered_html">
<p>Let's now look at the performance:</p>

</div>
</div>
</div>
<div class="cell border-box-sizing code_cell rendered">
<div class="input">
<div class="prompt input_prompt">In&nbsp;[7]:</div>
<div class="inner_cell">
    <div class="input_area">
<div class=" highlight hl-ipython2"><pre><span></span><span class="n">np</span><span class="o">.</span><span class="n">mean</span><span class="p">(</span><span class="n">np</span><span class="o">.</span><span class="n">argmax</span><span class="p">(</span><span class="n">y_pred</span><span class="p">,</span> <span class="mi">1</span><span class="p">)</span> <span class="o">==</span> <span class="n">np</span><span class="o">.</span><span class="n">argmax</span><span class="p">(</span><span class="n">test_y</span><span class="p">,</span> <span class="mi">1</span><span class="p">))</span>
</pre></div>

    </div>
</div>
</div>

<div class="output_wrapper">
<div class="output">


<div class="output_area">

    <div class="prompt output_prompt">Out[7]:</div>




<div class="output_text output_subarea output_execute_result">
<pre>0.86929999999999996</pre>
</div>

</div>

</div>
</div>

</div>
<div class="cell border-box-sizing text_cell rendered"><div class="prompt input_prompt">
</div><div class="inner_cell">
<div class="text_cell_render border-box-sizing rendered_html">
<p>Let's explore the weights a little bit. We can access the weights like this:</p>

</div>
</div>
</div>
<div class="cell border-box-sizing code_cell rendered">
<div class="input">
<div class="prompt input_prompt">In&nbsp;[8]:</div>
<div class="inner_cell">
    <div class="input_area">
<div class=" highlight hl-ipython2"><pre><span></span><span class="n">model</span><span class="p">[</span><span class="mi">0</span><span class="p">]</span><span class="o">.</span><span class="n">weight</span>
</pre></div>

    </div>
</div>
</div>

<div class="output_wrapper">
<div class="output">


<div class="output_area">

    <div class="prompt output_prompt">Out[8]:</div>




<div class="output_text output_subarea output_execute_result">
<pre>Parameter containing:
 1.8317e-02 -8.1070e-04 -8.9239e-03  ...  -1.7976e-02 -1.6271e-02  1.3195e-02
 2.3840e-02 -1.4551e-02 -7.6378e-03  ...   6.7932e-03  6.7870e-03  3.7834e-03
 1.0463e-02 -1.8262e-02 -3.3359e-02  ...   7.9622e-03  1.9038e-03  3.5023e-02
                ...                   ⋱                   ...                
 1.5796e-02  7.9954e-03  1.1018e-02  ...  -2.4500e-03  6.5649e-03  2.4900e-02
 3.0337e-02  2.4651e-02 -2.7405e-02  ...  -3.7025e-03 -3.4223e-02  2.2323e-02
 1.2682e-02  5.7500e-03 -1.0330e-02  ...  -6.1994e-03  3.1073e-02  3.0751e-02
[torch.FloatTensor of size 20x784]</pre>
</div>

</div>

</div>
</div>

</div>
<div class="cell border-box-sizing text_cell rendered"><div class="prompt input_prompt">
</div><div class="inner_cell">
<div class="text_cell_render border-box-sizing rendered_html">
<p>Let's look at the weights associated with unit 10</p>

</div>
</div>
</div>
<div class="cell border-box-sizing code_cell rendered">
<div class="input">
<div class="prompt input_prompt">In&nbsp;[9]:</div>
<div class="inner_cell">
    <div class="input_area">
<div class=" highlight hl-ipython2"><pre><span></span><span class="n">model</span><span class="p">[</span><span class="mi">0</span><span class="p">]</span><span class="o">.</span><span class="n">weight</span><span class="o">.</span><span class="n">data</span><span class="o">.</span><span class="n">numpy</span><span class="p">()[</span><span class="mi">10</span><span class="p">,</span> <span class="p">:]</span><span class="o">.</span><span class="n">shape</span>
</pre></div>

    </div>
</div>
</div>

<div class="output_wrapper">
<div class="output">


<div class="output_area">

    <div class="prompt output_prompt">Out[9]:</div>




<div class="output_text output_subarea output_execute_result">
<pre>(784,)</pre>
</div>

</div>

</div>
</div>

</div>
<div class="cell border-box-sizing code_cell rendered">
<div class="input">
<div class="prompt input_prompt">In&nbsp;[10]:</div>
<div class="inner_cell">
    <div class="input_area">
<div class=" highlight hl-ipython2"><pre><span></span><span class="n">plt</span><span class="o">.</span><span class="n">imshow</span><span class="p">(</span><span class="n">model</span><span class="p">[</span><span class="mi">0</span><span class="p">]</span><span class="o">.</span><span class="n">weight</span><span class="o">.</span><span class="n">data</span><span class="o">.</span><span class="n">numpy</span><span class="p">()[</span><span class="mi">10</span><span class="p">,</span> <span class="p">:]</span><span class="o">.</span><span class="n">reshape</span><span class="p">((</span><span class="mi">28</span><span class="p">,</span> <span class="mi">28</span><span class="p">)),</span> <span class="n">cmap</span><span class="o">=</span><span class="n">plt</span><span class="o">.</span><span class="n">cm</span><span class="o">.</span><span class="n">coolwarm</span><span class="p">)</span>
</pre></div>

    </div>
</div>
</div>

<div class="output_wrapper">
<div class="output">


<div class="output_area">

    <div class="prompt output_prompt">Out[10]:</div>




<div class="output_text output_subarea output_execute_result">
<pre>&lt;matplotlib.image.AxesImage at 0x7fabe00f8a50&gt;</pre>
</div>

</div>

<div class="output_area">

    <div class="prompt"></div>




<div class="output_png output_subarea ">
<img src="data:image/png;base64,iVBORw0KGgoAAAANSUhEUgAAAP8AAAD8CAYAAAC4nHJkAAAABHNCSVQICAgIfAhkiAAAAAlwSFlz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"
>
</div>

</div>

</div>
</div>

</div>
<div class="cell border-box-sizing code_cell rendered">
<div class="input">
<div class="prompt input_prompt">In&nbsp;[11]:</div>
<div class="inner_cell">
    <div class="input_area">
<div class=" highlight hl-ipython2"><pre><span></span><span class="n">plt</span><span class="o">.</span><span class="n">imshow</span><span class="p">(</span><span class="n">model</span><span class="p">[</span><span class="mi">0</span><span class="p">]</span><span class="o">.</span><span class="n">weight</span><span class="o">.</span><span class="n">data</span><span class="o">.</span><span class="n">numpy</span><span class="p">()[</span><span class="mi">12</span><span class="p">,</span> <span class="p">:]</span><span class="o">.</span><span class="n">reshape</span><span class="p">((</span><span class="mi">28</span><span class="p">,</span> <span class="mi">28</span><span class="p">)),</span> <span class="n">cmap</span><span class="o">=</span><span class="n">plt</span><span class="o">.</span><span class="n">cm</span><span class="o">.</span><span class="n">coolwarm</span><span class="p">)</span>
</pre></div>

    </div>
</div>
</div>

<div class="output_wrapper">
<div class="output">


<div class="output_area">

    <div class="prompt output_prompt">Out[11]:</div>




<div class="output_text output_subarea output_execute_result">
<pre>&lt;matplotlib.image.AxesImage at 0x7fab816d8b50&gt;</pre>
</div>

</div>

<div class="output_area">

    <div class="prompt"></div>




<div class="output_png output_subarea ">
<img src="data:image/png;base64,iVBORw0KGgoAAAANSUhEUgAAAP8AAAD8CAYAAAC4nHJkAAAABHNCSVQICAgIfAhkiAAAAAlwSFlz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"
>
</div>

</div>

</div>
</div>

</div>
<div class="cell border-box-sizing code_cell rendered">
<div class="input">
<div class="prompt input_prompt">In&nbsp;[&nbsp;]:</div>
<div class="inner_cell">
    <div class="input_area">
<div class=" highlight hl-ipython2"><pre><span></span> 
</pre></div>

    </div>
</div>
</div>

</div>
 


    </div>
  </div>

  </div>


  
    <footer class="footer hidden-print">
      <div class="container">
        <div class="col-md-4">
          <p>
            This website does not host notebooks, it only renders notebooks
            available on other websites.
          </p>
        </div>

        <div class="col-md-4">
          <p>
            Delivered by <a href="https://www.fastly.com/">Fastly</a>,
            Rendered by <a href="https://ovhcloud.com">OVHcloud</a>
          </p>
          <p>
            nbviewer GitHub <a href="https://github.com/jupyter/nbviewer">repository</a>.
          </p>
        </div>

        <div class="col-md-4">
          
  
            
              <p>
                nbviewer version:
                <a href="https://github.com/jupyter/nbviewer/commit/d25d3c39c10d5f6b9891eba2503f30689c1aae28">
                  d25d3c3
                </a>
              </p>
            
          
  
  <p>
    nbconvert version: <a href="https://github.com/jupyter/nbconvert/releases/tag/5.6.1">
      5.6.1
    </a>
  </p>
  

          
  
  
  <p>
    Rendered
    <span class='date' data-date='Thu, 19 May 2022 02:15:05 UTC' title='Thu, 19 May 2022 02:15:05 UTC'>(Thu, 19 May 2022 02:15:05 UTC)</span>
  </p>
  

        </div>
      </div>
    </footer>
  

  <script src="/static/components/bootstrap/js/bootstrap.min.js"></script>
  <script src="/static/components/headroom.js/dist/headroom.min.js"></script>
  <script src="/static/components/headroom.js/dist/jQuery.headroom.min.js"></script>

  
  
  <script>
    $(function(){ $("#menubar").headroom({
      tolerance: 5,
      offset: 205,
      classes: {
        initial: "animated",
        pinned: "slideInDown",
        unpinned: "slideOutUp"
      }
    })});
  </script>


  
  <script>
    (function(i,s,o,g,r,a,m){i['GoogleAnalyticsObject']=r;i[r]=i[r]||function(){
      (i[r].q=i[r].q||[]).push(arguments)},i[r].l=1*new Date();a=s.createElement(o),
      m=s.getElementsByTagName(o)[0];a.async=1;a.src=g;m.parentNode.insertBefore(a,m)
    })(window,document,'script','https://www.google-analytics.com/analytics.js','ga');
    ga('create', 'UA-52617120-5', 'auto',
       {'storage': 'none'});
    ga('set', 'anonymizeIp', true);
    ga('send', 'pageview');
  </script>
  
  <script>
    require({
        paths: {
          moment: "/static/components/moment/min/moment.min.js"
        }
      }, ["moment"], function(moment){
      var date = $("footer .date"),
        m = moment(new Date(date.data('date'))),
        update = function(){ date.text(m.fromNow()); };
      setInterval(update, 61*1000);
      update();
      var w = $(window).scroll(function(event){
        $("body").toggleClass("scrolled", w.scrollTop() > 0);
      });
    });
  </script>

  <!--NEW RELIC Stop Perf Measurement-->
  
  <!--NEW RELIC End-->
</body>
</html>