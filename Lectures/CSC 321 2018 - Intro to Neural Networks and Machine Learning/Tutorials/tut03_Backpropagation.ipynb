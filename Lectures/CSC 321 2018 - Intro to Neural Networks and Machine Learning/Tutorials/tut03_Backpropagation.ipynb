








<!DOCTYPE html>
<html lang="en">

<head>
  <meta charset="utf-8">
  <title>Jupyter Notebook Viewer</title>
  <meta name="viewport" content="width=device-width, initial-scale=1.0">
  <meta name="description" content="">
  <meta name="author" content="">
  
  <meta name="robots" content="noindex,nofollow">
  

  <!--NEW RELIC Start Perf Measurement-->
  
  <!--NREND-->

  <!-- Le styles -->
  <link href="/static/build/styles.css" rel="stylesheet">

  <!-- Le HTML5 shim, for IE6-8 support of HTML5 elements -->
  <!--[if lt IE 9]>
    <script src="http://html5shim.googlecode.com/svn/trunk/html5.js"></script>
  <![endif]-->

  <!-- Le fav and touch icons -->
  <link rel="shortcut icon" href="/static/ico/ipynb_icon_16x16.png">
  <link rel="apple-touch-icon-precomposed" sizes="144x144"
        href="/static/ico/apple-touch-icon-144-precomposed.png">
  <link rel="apple-touch-icon-precomposed" sizes="114x114"
        href="/static/ico/apple-touch-icon-114-precomposed.png">
  <link rel="apple-touch-icon-precomposed" sizes="72x72"
        href="/static/ico/apple-touch-icon-72-precomposed.png">
  <link rel="apple-touch-icon-precomposed"
        href="/static/ico/apple-touch-icon-57-precomposed.png">
  
  

  

  
  <meta name="twitter:card" content="summary">
  <meta name="twitter:title" content="Notebook on nbviewer">
  <meta name="twitter:description" content="Check out this Jupyter notebook!">

  
  <meta name="twitter:domain" content="nbviewer.jupyter.org">
  <meta name="twitter:image:src" content="http://ipython.org/ipython-doc/dev/_images/ipynb_icon_128x128.png">

  
    <link href="/static/build/notebook.css" rel="stylesheet">
  

  

  
    <script src="https://cdnjs.cloudflare.com/ajax/libs/mathjax/2.7.1/MathJax.js?config=TeX-AMS_HTML" type="text/javascript">
    </script>
    <script type="text/javascript">
      init_mathjax = function() {
        if (window.MathJax) {
          // MathJax loaded
          MathJax.Hub.Config({
            TeX: {
              equationNumbers: {
                autoNumber: "AMS",
                useLabelIds: true
              }
            },
            tex2jax: {
              inlineMath: [ ['$','$'], ["\\(","\\)"] ],
              displayMath: [ ['$$','$$'], ["\\[","\\]"] ],
              processEscapes: true,
              processEnvironments: true
            },
            displayAlign: 'center',
            "HTML-CSS": {
              styles: {'.MathJax_Display': {"margin": 0}},
              linebreaks: { automatic: true }
            }
          });
          MathJax.Hub.Queue(["Typeset", MathJax.Hub]);
        }
      }
      init_mathjax();
    </script>
  

  
    <script>
      (function() {
        function addWidgetsRenderer() {
          var mimeElement = document.querySelector('script[type="application/vnd.jupyter.widget-view+json"]');
          var scriptElement = document.createElement('script');
          var widgetRendererSrc = 'https://unpkg.com/@jupyter-widgets/html-manager@0.15/dist/embed-amd.js';
          var widgetState;

          try {
            widgetState = mimeElement && JSON.parse(mimeElement.innerHTML);

            if (widgetState && (widgetState.version_major < 2 || !widgetState.version_major)) {
              widgetRendererSrc = 'https://unpkg.com/jupyter-js-widgets@2.1/dist/embed.js';
            }
          } catch(e) {}

          scriptElement.src = widgetRendererSrc;
          document.body.appendChild(scriptElement);
        }

        document.addEventListener('DOMContentLoaded', addWidgetsRenderer);
      }());
    </script>
  

</head>

<body class="nbviewer">

  <!-- These are loaded at the top of the body so they are available to
       notebook cells when they are loaded below. -->
  <script src="/static/components/jquery/dist/jquery.min.js"></script>
  <script src="/static/components/requirejs/require.js"></script>
  <script src="/static/components/moment/min/moment.min.js"></script>
<!-- Navbar
================================================== -->
  <nav id="menubar" class="navbar navbar-default navbar-fixed-top" data-spy="affix">
    <div class="container">
      <div class="navbar-header">
        <button type="button" class="navbar-toggle collapsed" data-toggle="collapse" data-target=".navbar-collapse">
          <span class="sr-only">Toggle navigation</span>
          <i class="fa fa-bars"></i>
        </button>
        <a class="navbar-brand" href="/">
          <img src="/static/img/nav_logo.svg" width="159"/>
        </a>
      </div>

      <div class="collapse navbar-collapse">
        <ul class="nav navbar-nav navbar-right">
          <li>
            <a class="active" href="https://jupyter.org">JUPYTER</a>
          </li>
          <li>
    <a href="/faq" title="FAQ" >
      
        <span>FAQ</span>
      
    </a>
  </li>

          
  
    
  
    
      
        <li>
    <a href="script/url/www.cs.toronto.edu/~rgrosse/courses/csc321_2018/tutorials/tut3.ipynb" title="View as Code" >
      <span class="fa fa-code fa-2x menu-icon"></span>
      <span class="menu-text">View as Code</span>
    </a>
  </li>
      
    
  

  
    <li>
    <a href="#" title="Python 2 Kernel" >
      <span class="fa fa-server fa-2x menu-icon"></span>
      <span class="menu-text">Python 2 Kernel</span>
    </a>
  </li>
  

  

  

  <li>
    <a href="http://www.cs.toronto.edu/~rgrosse/courses/csc321_2018/tutorials/tut3.ipynb" title="Download Notebook" download>
      <span class="fa fa-download fa-2x menu-icon"></span>
      <span class="menu-text">Download Notebook</span>
    </a>
  </li>

        </ul>
      </div><!-- /.navbar-collapse -->
      
      
    </div>
  </nav>

  <div class="container container-main">
    
  
  <div id="notebook">
    <div id="notebook-container">
      <div class="cell border-box-sizing text_cell rendered"><div class="prompt input_prompt">
</div><div class="inner_cell">
<div class="text_cell_render border-box-sizing rendered_html">
<h1 id="Tutorial:-Backpropagation">Tutorial: Backpropagation<a class="anchor-link" href="#Tutorial:-Backpropagation">&#182;</a></h1><p>Agenda:</p>
<ol>
<li>Introduce classification problem</li>
<li>Derive backprop equations for a simple neural network</li>
<li>Implement backprop equations in code</li>
</ol>

</div>
</div>
</div>
<div class="cell border-box-sizing code_cell rendered">
<div class="input">
<div class="prompt input_prompt">In&nbsp;[11]:</div>
<div class="inner_cell">
    <div class="input_area">
<div class=" highlight hl-ipython2"><pre><span></span><span class="kn">import</span> <span class="nn">matplotlib</span>
<span class="kn">import</span> <span class="nn">numpy</span> <span class="k">as</span> <span class="nn">np</span>
<span class="kn">import</span> <span class="nn">matplotlib.pyplot</span> <span class="k">as</span> <span class="nn">plt</span>
<span class="kn">from</span> <span class="nn">scipy.special</span> <span class="kn">import</span> <span class="n">expit</span> <span class="k">as</span> <span class="n">sigmoid</span>
<span class="kn">import</span> <span class="nn">math</span>
<span class="o">%</span><span class="k">matplotlib</span> inline
</pre></div>

    </div>
</div>
</div>

</div>
<div class="cell border-box-sizing text_cell rendered"><div class="prompt input_prompt">
</div><div class="inner_cell">
<div class="text_cell_render border-box-sizing rendered_html">
<h2 id="Introducing-the-toy-dataset">Introducing the toy dataset<a class="anchor-link" href="#Introducing-the-toy-dataset">&#182;</a></h2><p>We've seen in lecture that a linear classifier is bound to produce errors if our data is not linearly separable. We can avoid this issue by using a more powerful classifier.</p>
<p>In this tutorial, we examine a classification problem for which the data is not linearly separable. We will instead implement a neural network and train it using gradient descent, computing gradients using the backpropagation algorithm.</p>

</div>
</div>
</div>
<div class="cell border-box-sizing code_cell rendered">
<div class="input">
<div class="prompt input_prompt">In&nbsp;[12]:</div>
<div class="inner_cell">
    <div class="input_area">
<div class=" highlight hl-ipython2"><pre><span></span><span class="n">np</span><span class="o">.</span><span class="n">random</span><span class="o">.</span><span class="n">seed</span><span class="p">(</span><span class="mi">0</span><span class="p">)</span>

<span class="k">def</span> <span class="nf">make_dataset</span><span class="p">(</span><span class="n">num_points</span><span class="p">):</span>
    <span class="n">radius</span> <span class="o">=</span> <span class="mi">5</span>
    <span class="n">data</span> <span class="o">=</span> <span class="p">[]</span>
    <span class="n">labels</span> <span class="o">=</span> <span class="p">[]</span>
    <span class="c1"># Generate positive examples (labeled 1).</span>
    <span class="k">for</span> <span class="n">i</span> <span class="ow">in</span> <span class="nb">range</span><span class="p">(</span><span class="n">num_points</span> <span class="o">//</span> <span class="mi">2</span><span class="p">):</span>
        <span class="n">r</span> <span class="o">=</span> <span class="n">np</span><span class="o">.</span><span class="n">random</span><span class="o">.</span><span class="n">uniform</span><span class="p">(</span><span class="mi">0</span><span class="p">,</span> <span class="n">radius</span><span class="o">*</span><span class="mf">0.5</span><span class="p">)</span>
        <span class="n">angle</span> <span class="o">=</span> <span class="n">np</span><span class="o">.</span><span class="n">random</span><span class="o">.</span><span class="n">uniform</span><span class="p">(</span><span class="mi">0</span><span class="p">,</span> <span class="mi">2</span><span class="o">*</span><span class="n">math</span><span class="o">.</span><span class="n">pi</span><span class="p">)</span>
        <span class="n">x</span> <span class="o">=</span> <span class="n">r</span> <span class="o">*</span> <span class="n">math</span><span class="o">.</span><span class="n">sin</span><span class="p">(</span><span class="n">angle</span><span class="p">)</span>
        <span class="n">y</span> <span class="o">=</span> <span class="n">r</span> <span class="o">*</span> <span class="n">math</span><span class="o">.</span><span class="n">cos</span><span class="p">(</span><span class="n">angle</span><span class="p">)</span>
        <span class="n">data</span><span class="o">.</span><span class="n">append</span><span class="p">([</span><span class="n">x</span><span class="p">,</span> <span class="n">y</span><span class="p">])</span>
        <span class="n">labels</span><span class="o">.</span><span class="n">append</span><span class="p">(</span><span class="mi">1</span><span class="p">)</span>
        
    <span class="c1"># Generate negative examples (labeled 0).</span>
    <span class="k">for</span> <span class="n">i</span> <span class="ow">in</span> <span class="nb">range</span><span class="p">(</span><span class="n">num_points</span> <span class="o">//</span> <span class="mi">2</span><span class="p">):</span>
        <span class="n">r</span> <span class="o">=</span> <span class="n">np</span><span class="o">.</span><span class="n">random</span><span class="o">.</span><span class="n">uniform</span><span class="p">(</span><span class="n">radius</span><span class="o">*</span><span class="mf">0.7</span><span class="p">,</span> <span class="n">radius</span><span class="p">)</span>
        <span class="n">angle</span> <span class="o">=</span> <span class="n">np</span><span class="o">.</span><span class="n">random</span><span class="o">.</span><span class="n">uniform</span><span class="p">(</span><span class="mi">0</span><span class="p">,</span> <span class="mi">2</span><span class="o">*</span><span class="n">math</span><span class="o">.</span><span class="n">pi</span><span class="p">)</span>
        <span class="n">x</span> <span class="o">=</span> <span class="n">r</span> <span class="o">*</span> <span class="n">math</span><span class="o">.</span><span class="n">sin</span><span class="p">(</span><span class="n">angle</span><span class="p">)</span>
        <span class="n">y</span> <span class="o">=</span> <span class="n">r</span> <span class="o">*</span> <span class="n">math</span><span class="o">.</span><span class="n">cos</span><span class="p">(</span><span class="n">angle</span><span class="p">)</span>
        <span class="n">data</span><span class="o">.</span><span class="n">append</span><span class="p">([</span><span class="n">x</span><span class="p">,</span> <span class="n">y</span><span class="p">])</span>
        <span class="n">labels</span><span class="o">.</span><span class="n">append</span><span class="p">(</span><span class="mi">0</span><span class="p">)</span>
        
    <span class="n">data</span> <span class="o">=</span> <span class="n">np</span><span class="o">.</span><span class="n">asarray</span><span class="p">(</span><span class="n">data</span><span class="p">)</span>
    <span class="n">labels</span> <span class="o">=</span> <span class="n">np</span><span class="o">.</span><span class="n">asarray</span><span class="p">(</span><span class="n">labels</span><span class="p">)</span>
    <span class="k">return</span> <span class="n">data</span><span class="p">,</span> <span class="n">labels</span>
    
<span class="n">num_data</span> <span class="o">=</span> <span class="mi">500</span>
<span class="n">data</span><span class="p">,</span> <span class="n">labels</span> <span class="o">=</span> <span class="n">make_dataset</span><span class="p">(</span><span class="n">num_data</span><span class="p">)</span>

<span class="c1"># Note: red indicates a label of 1, blue indicates a label of 0</span>
<span class="n">plt</span><span class="o">.</span><span class="n">scatter</span><span class="p">(</span><span class="n">data</span><span class="p">[:</span><span class="n">num_data</span><span class="o">//</span><span class="mi">2</span><span class="p">,</span> <span class="mi">0</span><span class="p">],</span> <span class="n">data</span><span class="p">[:</span><span class="n">num_data</span><span class="o">//</span><span class="mi">2</span><span class="p">,</span> <span class="mi">1</span><span class="p">],</span> <span class="n">color</span><span class="o">=</span><span class="s1">&#39;red&#39;</span><span class="p">)</span> 
<span class="n">plt</span><span class="o">.</span><span class="n">scatter</span><span class="p">(</span><span class="n">data</span><span class="p">[</span><span class="n">num_data</span><span class="o">//</span><span class="mi">2</span><span class="p">:,</span> <span class="mi">0</span><span class="p">],</span> <span class="n">data</span><span class="p">[</span><span class="n">num_data</span><span class="o">//</span><span class="mi">2</span><span class="p">:,</span> <span class="mi">1</span><span class="p">],</span> <span class="n">color</span><span class="o">=</span><span class="s1">&#39;blue&#39;</span><span class="p">)</span>     
</pre></div>

    </div>
</div>
</div>

<div class="output_wrapper">
<div class="output">


<div class="output_area">

    <div class="prompt output_prompt">Out[12]:</div>




<div class="output_text output_subarea output_execute_result">
<pre>&lt;matplotlib.collections.PathCollection at 0x7f09604b7bd0&gt;</pre>
</div>

</div>

<div class="output_area">

    <div class="prompt"></div>




<div class="output_png output_subarea ">
<img src="data:image/png;base64,iVBORw0KGgoAAAANSUhEUgAAAXYAAAD8CAYAAABjAo9vAAAABHNCSVQICAgIfAhkiAAAAAlwSFlz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"
>
</div>

</div>

</div>
</div>

</div>
<div class="cell border-box-sizing text_cell rendered"><div class="prompt input_prompt">
</div><div class="inner_cell">
<div class="text_cell_render border-box-sizing rendered_html">
<h2 id="Neural-network-definition">Neural network definition<a class="anchor-link" href="#Neural-network-definition">&#182;</a></h2><p>We will try to classify this data by training a neural network. As a reminder, our goal is to take as input a two dimensional vector $\mathbf{x} = [x_1, x_2]^T$ and output $\text{Pr}(t = 1 | \mathbf{x})$, where $t$ is the label of the datapoint $\mathbf{x}$.</p>
<p>We will use a neural network with one hidden layer which has three hidden units. The equations describing our neural network are below:</p>
$$\mathbf{g} = \mathbf{U} \mathbf{x} + \mathbf{b}$$$$\mathbf{h} = \tanh(\mathbf{g})$$$$z = \mathbf{W} \mathbf{h} + c$$$$y = \sigma(z)$$<p>In the equations above, $\mathbf{U} = \begin{pmatrix} u_{11} &amp; u_{12} \\ u_{21} &amp; u_{22} \\  u_{31} &amp; u_{32} \end{pmatrix} \in \mathbb{R}^{3 \times 2}, \mathbf{b} = \begin{pmatrix} b_1  \\ b_2 \\ b_3 \end{pmatrix} \in \mathbb{R}^3, \mathbf{W} = \begin{pmatrix} w_{1} &amp; w_{2} &amp; w_{3} \end{pmatrix} \in \mathbb{R}^{1 \times 3}, c \in \mathbb{R}$ are the parameters of our neural network which we must learn. Notice we are writing $\mathbf{W}$ as a matrix with one row.</p>

</div>
</div>
</div>
<div class="cell border-box-sizing text_cell rendered"><div class="prompt input_prompt">
</div><div class="inner_cell">
<div class="text_cell_render border-box-sizing rendered_html">
<h2 id="Vectorizing-the-neural-network">Vectorizing the neural network<a class="anchor-link" href="#Vectorizing-the-neural-network">&#182;</a></h2><p>We want our neural network to produce predictions for multiple points efficiently. We can do so by vectorizing over training examples. Let  $\mathbf{X} = \begin{pmatrix} x_{11} &amp; x_{12} \\ \vdots   &amp; \vdots  \\  x_{N1} &amp; x_{N2}
\end{pmatrix}$ be a matrix containing $N$ datapoints in separate rows. Then we can vectorize by using:</p>
$$\mathbf{G} = \mathbf{X}\mathbf{U}^T + \mathbf{1}\mathbf{b}^T$$$$\mathbf{H} = \tanh(\mathbf{G})$$$$\mathbf{z} =  \mathbf{H}\mathbf{W}^T + \mathbf{1}c$$$$\mathbf{y} = \sigma(\mathbf{z})$$<p>$\mathbf{G}$, for example, will store each of the three hidden unit values for each datapoint in each corresponding row.</p>
<p>We can rewrite in scalar form as:
$$g_{ij} = u_{j1} x_{i1} + u_{j2} x_{i2} + b_j$$
$$h_{ij} = \tanh(g_{ij})$$
$$z_{i} = w_1 h_{i1} + w_2 h_{i2} + w_{3} h_{i3} + c$$
$$y_i = \sigma(z_i)$$
Here, $i$ indexes data points and $j$ indexes hidden units, so $i \in \{1, \dots, N\}$ and $j \in \{1, 2, 3\}$.</p>

</div>
</div>
</div>
<div class="cell border-box-sizing code_cell rendered">
<div class="input">
<div class="prompt input_prompt">In&nbsp;[13]:</div>
<div class="inner_cell">
    <div class="input_area">
<div class=" highlight hl-ipython2"><pre><span></span><span class="c1"># First, initialize our neural network parameters.</span>
<span class="n">params</span> <span class="o">=</span> <span class="p">{}</span>
<span class="n">params</span><span class="p">[</span><span class="s1">&#39;U&#39;</span><span class="p">]</span> <span class="o">=</span> <span class="n">np</span><span class="o">.</span><span class="n">random</span><span class="o">.</span><span class="n">randn</span><span class="p">(</span><span class="mi">3</span><span class="p">,</span> <span class="mi">2</span><span class="p">)</span>
<span class="n">params</span><span class="p">[</span><span class="s1">&#39;b&#39;</span><span class="p">]</span> <span class="o">=</span> <span class="n">np</span><span class="o">.</span><span class="n">zeros</span><span class="p">(</span><span class="mi">3</span><span class="p">)</span>
<span class="n">params</span><span class="p">[</span><span class="s1">&#39;W&#39;</span><span class="p">]</span> <span class="o">=</span> <span class="n">np</span><span class="o">.</span><span class="n">random</span><span class="o">.</span><span class="n">randn</span><span class="p">(</span><span class="mi">3</span><span class="p">)</span>
<span class="n">params</span><span class="p">[</span><span class="s1">&#39;c&#39;</span><span class="p">]</span> <span class="o">=</span> <span class="mi">0</span>

<span class="c1"># Notice we make use of numpy&#39;s broadcasting when adding the bias b.</span>
<span class="k">def</span> <span class="nf">forward</span><span class="p">(</span><span class="n">X</span><span class="p">,</span> <span class="n">params</span><span class="p">):</span>    
    <span class="n">G</span> <span class="o">=</span> <span class="n">np</span><span class="o">.</span><span class="n">dot</span><span class="p">(</span><span class="n">X</span><span class="p">,</span> <span class="n">params</span><span class="p">[</span><span class="s1">&#39;U&#39;</span><span class="p">]</span><span class="o">.</span><span class="n">T</span><span class="p">)</span>  <span class="o">+</span> <span class="n">params</span><span class="p">[</span><span class="s1">&#39;b&#39;</span><span class="p">]</span>
    <span class="n">H</span> <span class="o">=</span> <span class="n">np</span><span class="o">.</span><span class="n">tanh</span><span class="p">(</span><span class="n">G</span><span class="p">)</span>
    <span class="n">z</span> <span class="o">=</span> <span class="n">np</span><span class="o">.</span><span class="n">dot</span><span class="p">(</span><span class="n">H</span><span class="p">,</span> <span class="n">params</span><span class="p">[</span><span class="s1">&#39;W&#39;</span><span class="p">]</span><span class="o">.</span><span class="n">T</span><span class="p">)</span> <span class="o">+</span> <span class="n">params</span><span class="p">[</span><span class="s1">&#39;c&#39;</span><span class="p">]</span>
    <span class="n">y</span> <span class="o">=</span> <span class="n">sigmoid</span><span class="p">(</span><span class="n">z</span><span class="p">)</span>
    
    <span class="k">return</span> <span class="n">y</span>
</pre></div>

    </div>
</div>
</div>

</div>
<div class="cell border-box-sizing text_cell rendered"><div class="prompt input_prompt">
</div><div class="inner_cell">
<div class="text_cell_render border-box-sizing rendered_html">
<h2 id="Visualize-the-network's-predictions">Visualize the network's predictions<a class="anchor-link" href="#Visualize-the-network's-predictions">&#182;</a></h2><p>Let's visualize the predictions of our untrained network. As we can see, the network does not succeed at classifying the points without training</p>

</div>
</div>
</div>
<div class="cell border-box-sizing code_cell rendered">
<div class="input">
<div class="prompt input_prompt">In&nbsp;[14]:</div>
<div class="inner_cell">
    <div class="input_area">
<div class=" highlight hl-ipython2"><pre><span></span><span class="n">num_points</span> <span class="o">=</span> <span class="mi">200</span>
<span class="n">x1s</span> <span class="o">=</span> <span class="n">np</span><span class="o">.</span><span class="n">linspace</span><span class="p">(</span><span class="o">-</span><span class="mf">6.0</span><span class="p">,</span> <span class="mf">6.0</span><span class="p">,</span> <span class="n">num_points</span><span class="p">)</span>
<span class="n">x2s</span> <span class="o">=</span> <span class="n">np</span><span class="o">.</span><span class="n">linspace</span><span class="p">(</span><span class="o">-</span><span class="mf">6.0</span><span class="p">,</span> <span class="mf">6.0</span><span class="p">,</span> <span class="n">num_points</span><span class="p">)</span>

<span class="n">points</span> <span class="o">=</span> <span class="n">np</span><span class="o">.</span><span class="n">transpose</span><span class="p">([</span><span class="n">np</span><span class="o">.</span><span class="n">tile</span><span class="p">(</span><span class="n">x1s</span><span class="p">,</span> <span class="nb">len</span><span class="p">(</span><span class="n">x2s</span><span class="p">)),</span> <span class="n">np</span><span class="o">.</span><span class="n">repeat</span><span class="p">(</span><span class="n">x2s</span><span class="p">,</span> <span class="nb">len</span><span class="p">(</span><span class="n">x1s</span><span class="p">))])</span>
<span class="n">Y</span> <span class="o">=</span> <span class="n">forward</span><span class="p">(</span><span class="n">points</span><span class="p">,</span> <span class="n">params</span><span class="p">)</span><span class="o">.</span><span class="n">reshape</span><span class="p">(</span><span class="n">num_points</span><span class="p">,</span> <span class="n">num_points</span><span class="p">)</span>
<span class="n">X1</span><span class="p">,</span> <span class="n">X2</span> <span class="o">=</span> <span class="n">np</span><span class="o">.</span><span class="n">meshgrid</span><span class="p">(</span><span class="n">x1s</span><span class="p">,</span> <span class="n">x2s</span><span class="p">)</span>

<span class="n">plt</span><span class="o">.</span><span class="n">pcolormesh</span><span class="p">(</span><span class="n">X1</span><span class="p">,</span> <span class="n">X2</span><span class="p">,</span> <span class="n">Y</span><span class="p">,</span> <span class="n">cmap</span><span class="o">=</span><span class="n">plt</span><span class="o">.</span><span class="n">cm</span><span class="o">.</span><span class="n">get_cmap</span><span class="p">(</span><span class="s1">&#39;YlGn&#39;</span><span class="p">))</span>
<span class="n">plt</span><span class="o">.</span><span class="n">colorbar</span><span class="p">()</span>
<span class="n">plt</span><span class="o">.</span><span class="n">scatter</span><span class="p">(</span><span class="n">data</span><span class="p">[:</span><span class="n">num_data</span><span class="o">//</span><span class="mi">2</span><span class="p">,</span> <span class="mi">0</span><span class="p">],</span> <span class="n">data</span><span class="p">[:</span><span class="n">num_data</span><span class="o">//</span><span class="mi">2</span><span class="p">,</span> <span class="mi">1</span><span class="p">],</span> <span class="n">color</span><span class="o">=</span><span class="s1">&#39;red&#39;</span><span class="p">)</span> 
<span class="n">plt</span><span class="o">.</span><span class="n">scatter</span><span class="p">(</span><span class="n">data</span><span class="p">[</span><span class="n">num_data</span><span class="o">//</span><span class="mi">2</span><span class="p">:,</span> <span class="mi">0</span><span class="p">],</span> <span class="n">data</span><span class="p">[</span><span class="n">num_data</span><span class="o">//</span><span class="mi">2</span><span class="p">:,</span> <span class="mi">1</span><span class="p">],</span> <span class="n">color</span><span class="o">=</span><span class="s1">&#39;blue&#39;</span><span class="p">)</span> 
</pre></div>

    </div>
</div>
</div>

<div class="output_wrapper">
<div class="output">


<div class="output_area">

    <div class="prompt output_prompt">Out[14]:</div>




<div class="output_text output_subarea output_execute_result">
<pre>&lt;matplotlib.collections.PathCollection at 0x7f0963073d50&gt;</pre>
</div>

</div>

<div class="output_area">

    <div class="prompt"></div>




<div class="output_png output_subarea ">
<img src="data:image/png;base64,iVBORw0KGgoAAAANSUhEUgAAAWIAAAD8CAYAAABNR679AAAABHNCSVQICAgIfAhkiAAAAAlwSFlz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==
"
>
</div>

</div>

</div>
</div>

</div>
<div class="cell border-box-sizing text_cell rendered"><div class="prompt input_prompt">
</div><div class="inner_cell">
<div class="text_cell_render border-box-sizing rendered_html">
<h2 id="Loss-function">Loss function<a class="anchor-link" href="#Loss-function">&#182;</a></h2><p>We will use the same cross entropy loss function as in logistic regression. This loss function is:</p>
$$\mathcal{L}_{CE}(y, t) = -t \log(y) - (1 - t)\log(1 - y)$$<p>Here $y = Pr(t = 1|\mathbf{x})$ and $t$ is the true label.</p>
<p>Remember that computing the derivative of this loss function $\frac{d L}{dy}$ can become numerically unstable. Instead, we combine the logistic function and the cross entropy loss into a single function called logistic cross-entropy:</p>
$$\mathcal{L}_{LCE}(z, t) = t \log(1 + \exp(-z)) + (1 -t) \log(1 + \exp(z))$$<p>See Lecture 4 Notes for review on this.</p>
<p>Our cost function is the sum over multiple examples of the loss function, normalized by the number of examples:</p>
$$\mathcal{E}(\mathbf{z}, \mathbf{t}) = \frac{1}{N} \left[\sum_{i=1}^N \mathcal{L}(z_i, t_i)\right]$$
</div>
</div>
</div>
<div class="cell border-box-sizing text_cell rendered"><div class="prompt input_prompt">
</div><div class="inner_cell">
<div class="text_cell_render border-box-sizing rendered_html">
<h2 id="Derive-backpropagation-equations">Derive backpropagation equations<a class="anchor-link" href="#Derive-backpropagation-equations">&#182;</a></h2><p>We now derive the backpropagation equations in scalar form and then vectorize on the board.</p>

</div>
</div>
</div>
<div class="cell border-box-sizing text_cell rendered"><div class="prompt input_prompt">
</div><div class="inner_cell">
<div class="text_cell_render border-box-sizing rendered_html">
<h2 id="Implement-backpropagation-equations">Implement backpropagation equations<a class="anchor-link" href="#Implement-backpropagation-equations">&#182;</a></h2>
</div>
</div>
</div>
<div class="cell border-box-sizing code_cell rendered">
<div class="input">
<div class="prompt input_prompt">In&nbsp;[15]:</div>
<div class="inner_cell">
    <div class="input_area">
<div class=" highlight hl-ipython2"><pre><span></span><span class="k">def</span> <span class="nf">backprop</span><span class="p">(</span><span class="n">X</span><span class="p">,</span> <span class="n">t</span><span class="p">,</span> <span class="n">params</span><span class="p">):</span>
    <span class="n">N</span> <span class="o">=</span> <span class="n">X</span><span class="o">.</span><span class="n">shape</span><span class="p">[</span><span class="mi">0</span><span class="p">]</span>
    
    <span class="c1"># Perform forwards computation.</span>
    <span class="n">G</span> <span class="o">=</span> <span class="n">np</span><span class="o">.</span><span class="n">dot</span><span class="p">(</span><span class="n">X</span><span class="p">,</span> <span class="n">params</span><span class="p">[</span><span class="s1">&#39;U&#39;</span><span class="p">]</span><span class="o">.</span><span class="n">T</span><span class="p">)</span>  <span class="o">+</span> <span class="n">params</span><span class="p">[</span><span class="s1">&#39;b&#39;</span><span class="p">]</span>
    <span class="n">H</span> <span class="o">=</span> <span class="n">np</span><span class="o">.</span><span class="n">tanh</span><span class="p">(</span><span class="n">G</span><span class="p">)</span>
    <span class="n">z</span> <span class="o">=</span> <span class="n">np</span><span class="o">.</span><span class="n">dot</span><span class="p">(</span><span class="n">H</span><span class="p">,</span> <span class="n">params</span><span class="p">[</span><span class="s1">&#39;W&#39;</span><span class="p">]</span><span class="o">.</span><span class="n">T</span><span class="p">)</span> <span class="o">+</span> <span class="n">params</span><span class="p">[</span><span class="s1">&#39;c&#39;</span><span class="p">]</span>
    <span class="n">y</span> <span class="o">=</span> <span class="n">sigmoid</span><span class="p">(</span><span class="n">z</span><span class="p">)</span>
    <span class="n">loss</span> <span class="o">=</span> <span class="p">(</span><span class="mf">1.</span><span class="o">/</span><span class="n">N</span><span class="p">)</span> <span class="o">*</span> <span class="n">np</span><span class="o">.</span><span class="n">sum</span><span class="p">(</span><span class="o">-</span><span class="n">t</span> <span class="o">*</span> <span class="n">np</span><span class="o">.</span><span class="n">log</span><span class="p">(</span><span class="n">y</span><span class="p">)</span> <span class="o">-</span> <span class="p">(</span><span class="mi">1</span> <span class="o">-</span> <span class="n">t</span><span class="p">)</span> <span class="o">*</span> <span class="n">np</span><span class="o">.</span><span class="n">log</span><span class="p">(</span><span class="mi">1</span> <span class="o">-</span> <span class="n">y</span><span class="p">))</span>
    
    <span class="c1"># Perform backwards computation.</span>
    <span class="n">E_bar</span> <span class="o">=</span> <span class="mi">1</span>
    <span class="n">z_bar</span> <span class="o">=</span> <span class="p">(</span><span class="mf">1.</span><span class="o">/</span><span class="n">N</span><span class="p">)</span> <span class="o">*</span> <span class="p">(</span><span class="n">y</span> <span class="o">-</span> <span class="n">t</span><span class="p">)</span>
    <span class="n">W_bar</span> <span class="o">=</span> <span class="n">np</span><span class="o">.</span><span class="n">dot</span><span class="p">(</span><span class="n">H</span><span class="o">.</span><span class="n">T</span><span class="p">,</span> <span class="n">z_bar</span><span class="p">)</span>
    <span class="n">c_bar</span> <span class="o">=</span> <span class="n">np</span><span class="o">.</span><span class="n">dot</span><span class="p">(</span><span class="n">z_bar</span><span class="p">,</span> <span class="n">np</span><span class="o">.</span><span class="n">ones</span><span class="p">(</span><span class="n">N</span><span class="p">))</span>
    <span class="n">H_bar</span> <span class="o">=</span> <span class="n">np</span><span class="o">.</span><span class="n">outer</span><span class="p">(</span><span class="n">z_bar</span><span class="p">,</span> <span class="n">params</span><span class="p">[</span><span class="s1">&#39;W&#39;</span><span class="p">]</span><span class="o">.</span><span class="n">T</span><span class="p">)</span>
    <span class="n">G_bar</span> <span class="o">=</span> <span class="n">H_bar</span> <span class="o">*</span> <span class="p">(</span><span class="mi">1</span> <span class="o">-</span> <span class="n">np</span><span class="o">.</span><span class="n">tanh</span><span class="p">(</span><span class="n">G</span><span class="p">)</span><span class="o">**</span><span class="mi">2</span><span class="p">)</span>
    <span class="n">U_bar</span> <span class="o">=</span> <span class="n">np</span><span class="o">.</span><span class="n">dot</span><span class="p">(</span><span class="n">G_bar</span><span class="o">.</span><span class="n">T</span><span class="p">,</span> <span class="n">X</span><span class="p">)</span>
    <span class="n">b_bar</span> <span class="o">=</span> <span class="n">np</span><span class="o">.</span><span class="n">dot</span><span class="p">(</span><span class="n">G_bar</span><span class="o">.</span><span class="n">T</span><span class="p">,</span> <span class="n">np</span><span class="o">.</span><span class="n">ones</span><span class="p">(</span><span class="n">N</span><span class="p">))</span>
    
    <span class="c1"># Wrap our gradients in a dictionary.</span>
    <span class="n">grads</span> <span class="o">=</span> <span class="p">{}</span>
    <span class="n">grads</span><span class="p">[</span><span class="s1">&#39;U&#39;</span><span class="p">]</span> <span class="o">=</span> <span class="n">U_bar</span>
    <span class="n">grads</span><span class="p">[</span><span class="s1">&#39;b&#39;</span><span class="p">]</span> <span class="o">=</span> <span class="n">b_bar</span>
    <span class="n">grads</span><span class="p">[</span><span class="s1">&#39;W&#39;</span><span class="p">]</span> <span class="o">=</span> <span class="n">W_bar</span>
    <span class="n">grads</span><span class="p">[</span><span class="s1">&#39;c&#39;</span><span class="p">]</span> <span class="o">=</span> <span class="n">c_bar</span>
    
    <span class="k">return</span> <span class="n">grads</span><span class="p">,</span> <span class="n">loss</span>
</pre></div>

    </div>
</div>
</div>

</div>
<div class="cell border-box-sizing text_cell rendered"><div class="prompt input_prompt">
</div><div class="inner_cell">
<div class="text_cell_render border-box-sizing rendered_html">
<h2 id="Training-the-network">Training the network<a class="anchor-link" href="#Training-the-network">&#182;</a></h2><p>We can train our network parameters using gradient descent once we have computed derivatives using the backpropagation algorithm. Recall that the gradient descent update rule for a given parameter $p$ and a learning rate $\alpha$ is:</p>
$$p \gets p - \alpha * \frac{\partial \mathcal{E}}{\partial p}$$
</div>
</div>
</div>
<div class="cell border-box-sizing code_cell rendered">
<div class="input">
<div class="prompt input_prompt">In&nbsp;[16]:</div>
<div class="inner_cell">
    <div class="input_area">
<div class=" highlight hl-ipython2"><pre><span></span><span class="n">num_steps</span> <span class="o">=</span> <span class="mi">1000</span>
<span class="n">alpha</span> <span class="o">=</span> <span class="mi">1</span>
<span class="k">for</span> <span class="n">step</span> <span class="ow">in</span> <span class="nb">range</span><span class="p">(</span><span class="n">num_steps</span><span class="p">):</span>        
    <span class="n">grads</span><span class="p">,</span> <span class="n">loss</span> <span class="o">=</span> <span class="n">backprop</span><span class="p">(</span><span class="n">data</span><span class="p">,</span> <span class="n">labels</span><span class="p">,</span> <span class="n">params</span><span class="p">)</span>
    <span class="k">for</span> <span class="n">k</span> <span class="ow">in</span> <span class="n">params</span><span class="p">:</span>
        <span class="n">params</span><span class="p">[</span><span class="n">k</span><span class="p">]</span> <span class="o">-=</span> <span class="n">alpha</span> <span class="o">*</span> <span class="n">grads</span><span class="p">[</span><span class="n">k</span><span class="p">]</span>

    <span class="c1"># Print loss every so often.</span>
    <span class="k">if</span> <span class="n">step</span> <span class="o">%</span> <span class="mi">50</span> <span class="o">==</span> <span class="mi">0</span><span class="p">:</span>
        <span class="nb">print</span><span class="p">(</span><span class="s2">&quot;Step </span><span class="si">{:3d}</span><span class="s2"> | Loss </span><span class="si">{:3.2f}</span><span class="s2">&quot;</span><span class="o">.</span><span class="n">format</span><span class="p">(</span><span class="n">step</span><span class="p">,</span> <span class="n">loss</span><span class="p">))</span>
</pre></div>

    </div>
</div>
</div>

<div class="output_wrapper">
<div class="output">


<div class="output_area">

    <div class="prompt"></div>


<div class="output_subarea output_stream output_stdout output_text">
<pre>Step   0 | Loss 0.75
Step  50 | Loss 0.43
Step 100 | Loss 0.35
Step 150 | Loss 0.16
Step 200 | Loss 0.11
Step 250 | Loss 0.09
Step 300 | Loss 0.07
Step 350 | Loss 0.06
Step 400 | Loss 0.06
Step 450 | Loss 0.05
Step 500 | Loss 0.05
Step 550 | Loss 0.05
Step 600 | Loss 0.04
Step 650 | Loss 0.04
Step 700 | Loss 0.04
Step 750 | Loss 0.04
Step 800 | Loss 0.04
Step 850 | Loss 0.04
Step 900 | Loss 0.04
Step 950 | Loss 0.03
</pre>
</div>
</div>

</div>
</div>

</div>
<div class="cell border-box-sizing text_cell rendered"><div class="prompt input_prompt">
</div><div class="inner_cell">
<div class="text_cell_render border-box-sizing rendered_html">
<h2 id="Visualizing-the-predictions">Visualizing the predictions<a class="anchor-link" href="#Visualizing-the-predictions">&#182;</a></h2>
</div>
</div>
</div>
<div class="cell border-box-sizing code_cell rendered">
<div class="input">
<div class="prompt input_prompt">In&nbsp;[17]:</div>
<div class="inner_cell">
    <div class="input_area">
<div class=" highlight hl-ipython2"><pre><span></span><span class="n">num_points</span> <span class="o">=</span> <span class="mi">200</span>
<span class="n">x1s</span> <span class="o">=</span> <span class="n">np</span><span class="o">.</span><span class="n">linspace</span><span class="p">(</span><span class="o">-</span><span class="mf">6.0</span><span class="p">,</span> <span class="mf">6.0</span><span class="p">,</span> <span class="n">num_points</span><span class="p">)</span>
<span class="n">x2s</span> <span class="o">=</span> <span class="n">np</span><span class="o">.</span><span class="n">linspace</span><span class="p">(</span><span class="o">-</span><span class="mf">6.0</span><span class="p">,</span> <span class="mf">6.0</span><span class="p">,</span> <span class="n">num_points</span><span class="p">)</span>

<span class="n">points</span> <span class="o">=</span> <span class="n">np</span><span class="o">.</span><span class="n">transpose</span><span class="p">([</span><span class="n">np</span><span class="o">.</span><span class="n">tile</span><span class="p">(</span><span class="n">x1s</span><span class="p">,</span> <span class="nb">len</span><span class="p">(</span><span class="n">x2s</span><span class="p">)),</span> <span class="n">np</span><span class="o">.</span><span class="n">repeat</span><span class="p">(</span><span class="n">x2s</span><span class="p">,</span> <span class="nb">len</span><span class="p">(</span><span class="n">x1s</span><span class="p">))])</span>
<span class="n">Y</span> <span class="o">=</span> <span class="n">forward</span><span class="p">(</span><span class="n">points</span><span class="p">,</span> <span class="n">params</span><span class="p">)</span><span class="o">.</span><span class="n">reshape</span><span class="p">(</span><span class="n">num_points</span><span class="p">,</span> <span class="n">num_points</span><span class="p">)</span>
<span class="n">X1</span><span class="p">,</span> <span class="n">X2</span> <span class="o">=</span> <span class="n">np</span><span class="o">.</span><span class="n">meshgrid</span><span class="p">(</span><span class="n">x1s</span><span class="p">,</span> <span class="n">x2s</span><span class="p">)</span>

<span class="n">plt</span><span class="o">.</span><span class="n">pcolormesh</span><span class="p">(</span><span class="n">X1</span><span class="p">,</span> <span class="n">X2</span><span class="p">,</span> <span class="n">Y</span><span class="p">,</span> <span class="n">cmap</span><span class="o">=</span><span class="n">plt</span><span class="o">.</span><span class="n">cm</span><span class="o">.</span><span class="n">get_cmap</span><span class="p">(</span><span class="s1">&#39;YlGn&#39;</span><span class="p">))</span>
<span class="n">plt</span><span class="o">.</span><span class="n">colorbar</span><span class="p">()</span>
<span class="n">plt</span><span class="o">.</span><span class="n">scatter</span><span class="p">(</span><span class="n">data</span><span class="p">[:</span><span class="n">num_data</span><span class="o">//</span><span class="mi">2</span><span class="p">,</span> <span class="mi">0</span><span class="p">],</span> <span class="n">data</span><span class="p">[:</span><span class="n">num_data</span><span class="o">//</span><span class="mi">2</span><span class="p">,</span> <span class="mi">1</span><span class="p">],</span> <span class="n">color</span><span class="o">=</span><span class="s1">&#39;red&#39;</span><span class="p">)</span> 
<span class="n">plt</span><span class="o">.</span><span class="n">scatter</span><span class="p">(</span><span class="n">data</span><span class="p">[</span><span class="n">num_data</span><span class="o">//</span><span class="mi">2</span><span class="p">:,</span> <span class="mi">0</span><span class="p">],</span> <span class="n">data</span><span class="p">[</span><span class="n">num_data</span><span class="o">//</span><span class="mi">2</span><span class="p">:,</span> <span class="mi">1</span><span class="p">],</span> <span class="n">color</span><span class="o">=</span><span class="s1">&#39;blue&#39;</span><span class="p">)</span> 
</pre></div>

    </div>
</div>
</div>

<div class="output_wrapper">
<div class="output">


<div class="output_area">

    <div class="prompt output_prompt">Out[17]:</div>




<div class="output_text output_subarea output_execute_result">
<pre>&lt;matplotlib.collections.PathCollection at 0x7f0960196550&gt;</pre>
</div>

</div>

<div class="output_area">

    <div class="prompt"></div>




<div class="output_png output_subarea ">
<img src="data:image/png;base64,iVBORw0KGgoAAAANSUhEUgAAAWIAAAD8CAYAAABNR679AAAABHNCSVQICAgIfAhkiAAAAAlwSFlz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"
>
</div>

</div>

</div>
</div>

</div>
<div class="cell border-box-sizing text_cell rendered"><div class="prompt input_prompt">
</div><div class="inner_cell">
<div class="text_cell_render border-box-sizing rendered_html">
<h2 id="Looking-forward:-Automatic-differentiation">Looking forward: Automatic differentiation<a class="anchor-link" href="#Looking-forward:-Automatic-differentiation">&#182;</a></h2><p>You probably noticed that manually deriving the backpropagation equations is slow and error prone. It becomes even easier to make an error when implementing in code. Luckily, we almost never have to derive the backwards equations by hand. Instead, we make use of automatic differentation software packaged in libraries such as Autograd, PyTorch, and Tensorflow to compute derivatives for us.</p>

</div>
</div>
</div>
 


    </div>
  </div>

  </div>


  
    <footer class="footer hidden-print">
      <div class="container">
        <div class="col-md-4">
          <p>
            This website does not host notebooks, it only renders notebooks
            available on other websites.
          </p>
        </div>

        <div class="col-md-4">
          <p>
            Delivered by <a href="https://www.fastly.com/">Fastly</a>,
            Rendered by <a href="https://ovhcloud.com">OVHcloud</a>
          </p>
          <p>
            nbviewer GitHub <a href="https://github.com/jupyter/nbviewer">repository</a>.
          </p>
        </div>

        <div class="col-md-4">
          
  
            
              <p>
                nbviewer version:
                <a href="https://github.com/jupyter/nbviewer/commit/d25d3c39c10d5f6b9891eba2503f30689c1aae28">
                  d25d3c3
                </a>
              </p>
            
          
  
  <p>
    nbconvert version: <a href="https://github.com/jupyter/nbconvert/releases/tag/5.6.1">
      5.6.1
    </a>
  </p>
  

          
  
  
  <p>
    Rendered
    <span class='date' data-date='Thu, 19 May 2022 02:14:15 UTC' title='Thu, 19 May 2022 02:14:15 UTC'>(Thu, 19 May 2022 02:14:15 UTC)</span>
  </p>
  

        </div>
      </div>
    </footer>
  

  <script src="/static/components/bootstrap/js/bootstrap.min.js"></script>
  <script src="/static/components/headroom.js/dist/headroom.min.js"></script>
  <script src="/static/components/headroom.js/dist/jQuery.headroom.min.js"></script>

  
  
  <script>
    $(function(){ $("#menubar").headroom({
      tolerance: 5,
      offset: 205,
      classes: {
        initial: "animated",
        pinned: "slideInDown",
        unpinned: "slideOutUp"
      }
    })});
  </script>


  
  <script>
    (function(i,s,o,g,r,a,m){i['GoogleAnalyticsObject']=r;i[r]=i[r]||function(){
      (i[r].q=i[r].q||[]).push(arguments)},i[r].l=1*new Date();a=s.createElement(o),
      m=s.getElementsByTagName(o)[0];a.async=1;a.src=g;m.parentNode.insertBefore(a,m)
    })(window,document,'script','https://www.google-analytics.com/analytics.js','ga');
    ga('create', 'UA-52617120-5', 'auto',
       {'storage': 'none'});
    ga('set', 'anonymizeIp', true);
    ga('send', 'pageview');
  </script>
  
  <script>
    require({
        paths: {
          moment: "/static/components/moment/min/moment.min.js"
        }
      }, ["moment"], function(moment){
      var date = $("footer .date"),
        m = moment(new Date(date.data('date'))),
        update = function(){ date.text(m.fromNow()); };
      setInterval(update, 61*1000);
      update();
      var w = $(window).scroll(function(event){
        $("body").toggleClass("scrolled", w.scrollTop() > 0);
      });
    });
  </script>

  <!--NEW RELIC Stop Perf Measurement-->
  
  <!--NEW RELIC End-->
</body>
</html>