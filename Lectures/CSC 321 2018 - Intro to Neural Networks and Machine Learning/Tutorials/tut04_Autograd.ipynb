








<!DOCTYPE html>
<html lang="en">

<head>
  <meta charset="utf-8">
  <title>Jupyter Notebook Viewer</title>
  <meta name="viewport" content="width=device-width, initial-scale=1.0">
  <meta name="description" content="">
  <meta name="author" content="">
  
  <meta name="robots" content="noindex,nofollow">
  

  <!--NEW RELIC Start Perf Measurement-->
  
  <!--NREND-->

  <!-- Le styles -->
  <link href="/static/build/styles.css" rel="stylesheet">

  <!-- Le HTML5 shim, for IE6-8 support of HTML5 elements -->
  <!--[if lt IE 9]>
    <script src="http://html5shim.googlecode.com/svn/trunk/html5.js"></script>
  <![endif]-->

  <!-- Le fav and touch icons -->
  <link rel="shortcut icon" href="/static/ico/ipynb_icon_16x16.png">
  <link rel="apple-touch-icon-precomposed" sizes="144x144"
        href="/static/ico/apple-touch-icon-144-precomposed.png">
  <link rel="apple-touch-icon-precomposed" sizes="114x114"
        href="/static/ico/apple-touch-icon-114-precomposed.png">
  <link rel="apple-touch-icon-precomposed" sizes="72x72"
        href="/static/ico/apple-touch-icon-72-precomposed.png">
  <link rel="apple-touch-icon-precomposed"
        href="/static/ico/apple-touch-icon-57-precomposed.png">
  
  

  

  
  <meta name="twitter:card" content="summary">
  <meta name="twitter:title" content="Notebook on nbviewer">
  <meta name="twitter:description" content="Check out this Jupyter notebook!">

  
  <meta name="twitter:domain" content="nbviewer.jupyter.org">
  <meta name="twitter:image:src" content="http://ipython.org/ipython-doc/dev/_images/ipynb_icon_128x128.png">

  
    <link href="/static/build/notebook.css" rel="stylesheet">
  

  

  
    <script src="https://cdnjs.cloudflare.com/ajax/libs/mathjax/2.7.1/MathJax.js?config=TeX-AMS_HTML" type="text/javascript">
    </script>
    <script type="text/javascript">
      init_mathjax = function() {
        if (window.MathJax) {
          // MathJax loaded
          MathJax.Hub.Config({
            TeX: {
              equationNumbers: {
                autoNumber: "AMS",
                useLabelIds: true
              }
            },
            tex2jax: {
              inlineMath: [ ['$','$'], ["\\(","\\)"] ],
              displayMath: [ ['$$','$$'], ["\\[","\\]"] ],
              processEscapes: true,
              processEnvironments: true
            },
            displayAlign: 'center',
            "HTML-CSS": {
              styles: {'.MathJax_Display': {"margin": 0}},
              linebreaks: { automatic: true }
            }
          });
          MathJax.Hub.Queue(["Typeset", MathJax.Hub]);
        }
      }
      init_mathjax();
    </script>
  

  
    <script>
      (function() {
        function addWidgetsRenderer() {
          var mimeElement = document.querySelector('script[type="application/vnd.jupyter.widget-view+json"]');
          var scriptElement = document.createElement('script');
          var widgetRendererSrc = 'https://unpkg.com/@jupyter-widgets/html-manager@0.15/dist/embed-amd.js';
          var widgetState;

          try {
            widgetState = mimeElement && JSON.parse(mimeElement.innerHTML);

            if (widgetState && (widgetState.version_major < 2 || !widgetState.version_major)) {
              widgetRendererSrc = 'https://unpkg.com/jupyter-js-widgets@2.1/dist/embed.js';
            }
          } catch(e) {}

          scriptElement.src = widgetRendererSrc;
          document.body.appendChild(scriptElement);
        }

        document.addEventListener('DOMContentLoaded', addWidgetsRenderer);
      }());
    </script>
  

</head>

<body class="nbviewer">

  <!-- These are loaded at the top of the body so they are available to
       notebook cells when they are loaded below. -->
  <script src="/static/components/jquery/dist/jquery.min.js"></script>
  <script src="/static/components/requirejs/require.js"></script>
  <script src="/static/components/moment/min/moment.min.js"></script>
<!-- Navbar
================================================== -->
  <nav id="menubar" class="navbar navbar-default navbar-fixed-top" data-spy="affix">
    <div class="container">
      <div class="navbar-header">
        <button type="button" class="navbar-toggle collapsed" data-toggle="collapse" data-target=".navbar-collapse">
          <span class="sr-only">Toggle navigation</span>
          <i class="fa fa-bars"></i>
        </button>
        <a class="navbar-brand" href="/">
          <img src="/static/img/nav_logo.svg" width="159"/>
        </a>
      </div>

      <div class="collapse navbar-collapse">
        <ul class="nav navbar-nav navbar-right">
          <li>
            <a class="active" href="https://jupyter.org">JUPYTER</a>
          </li>
          <li>
    <a href="/faq" title="FAQ" >
      
        <span>FAQ</span>
      
    </a>
  </li>

          
  
    
  
    
      
        <li>
    <a href="script/url/www.cs.toronto.edu/~rgrosse/courses/csc321_2018/tutorials/tut4.ipynb" title="View as Code" >
      <span class="fa fa-code fa-2x menu-icon"></span>
      <span class="menu-text">View as Code</span>
    </a>
  </li>
      
    
  

  
    <li>
    <a href="#" title="Python 3 Kernel" >
      <span class="fa fa-server fa-2x menu-icon"></span>
      <span class="menu-text">Python 3 Kernel</span>
    </a>
  </li>
  

  

  

  <li>
    <a href="http://www.cs.toronto.edu/~rgrosse/courses/csc321_2018/tutorials/tut4.ipynb" title="Download Notebook" download>
      <span class="fa fa-download fa-2x menu-icon"></span>
      <span class="menu-text">Download Notebook</span>
    </a>
  </li>

        </ul>
      </div><!-- /.navbar-collapse -->
      
      
    </div>
  </nav>

  <div class="container container-main">
    
  
  <div id="notebook">
    <div id="notebook-container">
      <div class="cell border-box-sizing text_cell rendered"><div class="prompt input_prompt">
</div><div class="inner_cell">
<div class="text_cell_render border-box-sizing rendered_html">
<h1 id="Autograd-Tutorial">Autograd Tutorial<a class="anchor-link" href="#Autograd-Tutorial">&#182;</a></h1><p>References:</p>
<ul>
<li>Ryan Adams' talk: <a href="https://www.youtube.com/watch?v=sq2gPzlrM0g">https://www.youtube.com/watch?v=sq2gPzlrM0g</a></li>
<li>Backpropagation notes from Stanford's CS231n: <a href="https://cs231n.github.io/optimization-2/">http://cs231n.github.io/optimization-2/</a></li>
<li>Autograd Github Repository (contains a tutorial and examples): <a href="https://github.com/HIPS/autograd">https://github.com/HIPS/autograd</a></li>
</ul>
<h2 id="Approaches-for-Computing-Derivatives">Approaches for Computing Derivatives<a class="anchor-link" href="#Approaches-for-Computing-Derivatives">&#182;</a></h2><ul>
<li><strong>Symbolic differentiation:</strong> automatic manipulation of mathematical expressions to get derivatives<ul>
<li>Takes a math expression and returns a math expression: $f(x) = x^2 \rightarrow \frac{df(x)}{dx} = 2x$</li>
<li>Used in Mathematica, Maple, Sympy, etc.</li>
</ul>
</li>
<li><strong>Numeric differentiation:</strong> Approximating derivatives by finite differences:
$$
\frac{\partial}{\partial x_i} f(x_1, \dots, x_N) = \lim_{h \to 0} \frac{f(x_1, \dots, x_i + h, \dots, x_N) - f(x_1, \dots, x_i - h, \dots, x_N)}{2h}
$$</li>
<li><strong>Automatic differentiation:</strong> Takes code that computes a function and returns code that computes the derivative of that function.<ul>
<li>Reverse Mode AD: A method to get exact derivatives efficiently, by storing information as you go forward that you can reuse as you go backwards</li>
<li>"The goal isn't to obtain closed-form solutions, but to be able to wirte a program that efficiently computes the derivatives." - Lecture 6 Slides (Backpropagation)</li>
<li><strong>Autograd</strong>, <strong>Torch Autograd</strong></li>
</ul>
</li>
</ul>
<h2 id="Reverse-Mode-Automatic-Differentiation">Reverse Mode Automatic Differentiation<a class="anchor-link" href="#Reverse-Mode-Automatic-Differentiation">&#182;</a></h2><p>In machine learning, we have functions that have large fan-in, e.g. a neural net can have millions of parameters, that all squeeze down to one scalar that tells you how well it predicts something.  cats.</p>
<h3 id="General-Idea-for-Implementation">General Idea for Implementation<a class="anchor-link" href="#General-Idea-for-Implementation">&#182;</a></h3><ul>
<li>Create a "tape" data structure that tracks the operations performed in computing a function</li>
<li>Overload primitives to:<ul>
<li>Add themselves to the tape when called</li>
<li>Compute gradients with respect to their local inputs</li>
</ul>
</li>
<li><em>Forward pass</em> computes the function, and adds operations to the tape</li>
<li><em>Reverse pass</em> accumulates the local gradients using the chain rule</li>
<li>This is efficient for graphs with large fan-in, like most loss functions in ML</li>
</ul>

</div>
</div>
</div>
<div class="cell border-box-sizing text_cell rendered"><div class="prompt input_prompt">
</div><div class="inner_cell">
<div class="text_cell_render border-box-sizing rendered_html">
<h2 id="Autograd">Autograd<a class="anchor-link" href="#Autograd">&#182;</a></h2><ul>
<li><a href="https://github.com/HIPS/autograd">Autograd</a> is a Python package for automatic differentiation.</li>
<li>To install Autograd:
<pre><code>          pip install autograd</code></pre>
</li>
<li>There are a lot of great <a href="https://github.com/HIPS/autograd/tree/master/examples">examples</a> provided with the source code</li>
</ul>
<h3 id="What-can-Autograd-do?">What can Autograd do?<a class="anchor-link" href="#What-can-Autograd-do?">&#182;</a></h3><p>From the Autograd Github repository:</p>
<ul>
<li>Autograd can automatically differentiate native Python and Numpy code.</li>
<li>It can handle a large subset of Python's features, including loops, conditional statements (if/else), recursion and closures</li>
<li>It can also compute higher-order derivatives</li>
<li>It uses reverse-mode differentiation (a.k.a. backpropagation) so it can efficiently take gradients of scalar-valued functions with respect to array-valued arguments.</li>
</ul>
<h2 id="Autograd-vs-Tensorflow,-Theano,-etc.">Autograd vs Tensorflow, Theano, etc.<a class="anchor-link" href="#Autograd-vs-Tensorflow,-Theano,-etc.">&#182;</a></h2><p>Many deep learning packages implement automatic differentiation using small <em>domain-specific languages</em> within Python:</p>

<pre><code>- Theano
- Caffe
- Vanilla Torch (as compared to Autograd for Torch)
- Tensorflow
</code></pre>
<p>Most of these alternatives require you to <em>explicitly</em> construct a computation graph; Autograd constructs a computation graph <em>implicitly</em>, by tracking the sequence of operations that have been performed during the execution of a program.</p>
<h2 id="GPU-Support-for-Autograd?">GPU Support for Autograd?<a class="anchor-link" href="#GPU-Support-for-Autograd?">&#182;</a></h2><p>There are a couple projects to look into if you are interested in GPU support for Autograd:</p>
<ul>
<li><a href="https://github.com/dmlc/minpy">MinPy</a></li>
<li><a href="http://pytorch.org/">PyTorch</a></li>
</ul>

</div>
</div>
</div>
<div class="cell border-box-sizing text_cell rendered"><div class="prompt input_prompt">
</div><div class="inner_cell">
<div class="text_cell_render border-box-sizing rendered_html">
<h2 id="Autograd-Basic-Usage">Autograd Basic Usage<a class="anchor-link" href="#Autograd-Basic-Usage">&#182;</a></h2>
</div>
</div>
</div>
<div class="cell border-box-sizing code_cell rendered">
<div class="input">
<div class="prompt input_prompt">In&nbsp;[1]:</div>
<div class="inner_cell">
    <div class="input_area">
<div class=" highlight hl-ipython3"><pre><span></span><span class="kn">import</span> <span class="nn">autograd.numpy</span> <span class="k">as</span> <span class="nn">np</span> <span class="c1"># Import thinly-wrapped numpy</span>
<span class="kn">from</span> <span class="nn">autograd</span> <span class="kn">import</span> <span class="n">grad</span>   <span class="c1"># Basicallly the only function you need</span>
</pre></div>

    </div>
</div>
</div>

</div>
<div class="cell border-box-sizing code_cell rendered">
<div class="input">
<div class="prompt input_prompt">In&nbsp;[2]:</div>
<div class="inner_cell">
    <div class="input_area">
<div class=" highlight hl-ipython3"><pre><span></span><span class="c1"># Define a function like normal, using Python and Numpy</span>
<span class="k">def</span> <span class="nf">tanh</span><span class="p">(</span><span class="n">x</span><span class="p">):</span>
    <span class="n">y</span> <span class="o">=</span> <span class="n">np</span><span class="o">.</span><span class="n">exp</span><span class="p">(</span><span class="o">-</span><span class="n">x</span><span class="p">)</span>
    <span class="k">return</span> <span class="p">(</span><span class="mf">1.0</span> <span class="o">-</span> <span class="n">y</span><span class="p">)</span> <span class="o">/</span> <span class="p">(</span><span class="mf">1.0</span> <span class="o">+</span> <span class="n">y</span><span class="p">)</span>

<span class="c1"># Create a *function* that computes the gradient of tanh</span>
<span class="n">grad_tanh</span> <span class="o">=</span> <span class="n">grad</span><span class="p">(</span><span class="n">tanh</span><span class="p">)</span>

<span class="c1"># Evaluate the gradient at x = 1.0</span>
<span class="nb">print</span><span class="p">(</span><span class="n">grad_tanh</span><span class="p">(</span><span class="mf">1.0</span><span class="p">))</span>

<span class="c1"># Compare to numeric gradient computed using finite differences</span>
<span class="nb">print</span><span class="p">((</span><span class="n">tanh</span><span class="p">(</span><span class="mf">1.0001</span><span class="p">)</span> <span class="o">-</span> <span class="n">tanh</span><span class="p">(</span><span class="mf">0.9999</span><span class="p">))</span> <span class="o">/</span> <span class="mf">0.0002</span><span class="p">)</span>
</pre></div>

    </div>
</div>
</div>

<div class="output_wrapper">
<div class="output">


<div class="output_area">

    <div class="prompt"></div>


<div class="output_subarea output_stream output_stdout output_text">
<pre>0.393223866483
0.393223866365
</pre>
</div>
</div>

</div>
</div>

</div>
<div class="cell border-box-sizing text_cell rendered"><div class="prompt input_prompt">
</div><div class="inner_cell">
<div class="text_cell_render border-box-sizing rendered_html">
<h2 id="Autograd-vs-Manual-Gradients-via-Staged-Computation">Autograd vs Manual Gradients via Staged Computation<a class="anchor-link" href="#Autograd-vs-Manual-Gradients-via-Staged-Computation">&#182;</a></h2><p>In this example, we will see how a complicated computation can be written as a composition of simpler functions, and how this provides a scalable strategy for computing gradients using the chain rule.</p>
<p>Say we want to write a function to compute the gradient of the <em>sigmoid function</em>:
$$
\sigma(x) = \frac{1}{1 + e^{-x}}
$$
We can write $\sigma(x)$ as a composition of several elementary functions, as $\sigma(x) = s(c(b(a(x))))$, where:</p>
$$
a(x) = -x
$$$$
b(a) = e^a
$$$$
c(b) = 1 + b
$$$$
s(c) = \frac{1}{c}
$$<p>Here, we have "staged" the computation such that it contains several intermediate variables, each of which are basic expressions for which we can easily compute the local gradients.</p>
<p>The computation graph for this expression is shown in the figure below.</p>
<p><img src="images/ComputationGraph.png" alt="Gradient Computation Image"></p>
<p>The input to this function is $x$, and the output is represented by node $s$. We wish compute the gradient of $s$ with respect to $x$, $\frac{\partial s}{\partial x}$. In order to make use of our intermediate computations, we can use the chain rule as follows:
$$
\frac{\partial s}{\partial x} = \frac{\partial s}{\partial c} \frac{\partial c}{\partial b} \frac{\partial b}{\partial a} \frac{\partial a}{\partial x}
$$</p>
<!--
Given a vector-to-scalar function, $\mathbb{R}^D \to \mathbb{R}$, composed of a set of primitive functions
$\mathbb{R}^M \to \mathbb{R}^N$ (for various $M$, $N$), the gradient of the composition is given by the product of the gradients of the primitive functions, according to the chain rule. But the chain rule doesn’t prescribe the order in which to multiply the gradients. From the perspective of computational complexity, the order makes all the
difference.
-->
</div>
</div>
</div>
<div class="cell border-box-sizing code_cell rendered">
<div class="input">
<div class="prompt input_prompt">In&nbsp;[3]:</div>
<div class="inner_cell">
    <div class="input_area">
<div class=" highlight hl-ipython3"><pre><span></span><span class="k">def</span> <span class="nf">grad_sigmoid_manual</span><span class="p">(</span><span class="n">x</span><span class="p">):</span>
    <span class="sd">&quot;&quot;&quot;Implements the gradient of the logistic sigmoid function </span>
<span class="sd">    $\sigma(x) = 1 / (1 + e^{-x})$ using staged computation</span>
<span class="sd">    &quot;&quot;&quot;</span>
    <span class="c1"># Forward pass, keeping track of intermediate values for use in the </span>
    <span class="c1"># backward pass</span>
    <span class="n">a</span> <span class="o">=</span> <span class="o">-</span><span class="n">x</span>         <span class="c1"># -x in denominator</span>
    <span class="n">b</span> <span class="o">=</span> <span class="n">np</span><span class="o">.</span><span class="n">exp</span><span class="p">(</span><span class="n">a</span><span class="p">)</span>  <span class="c1"># e^{-x} in denominator</span>
    <span class="n">c</span> <span class="o">=</span> <span class="mi">1</span> <span class="o">+</span> <span class="n">b</span>      <span class="c1"># 1 + e^{-x} in denominator</span>
    <span class="n">s</span> <span class="o">=</span> <span class="mf">1.0</span> <span class="o">/</span> <span class="n">c</span>    <span class="c1"># Final result, 1.0 / (1 + e^{-x})</span>
    
    <span class="c1"># Backward pass</span>
    <span class="n">dsdc</span> <span class="o">=</span> <span class="p">(</span><span class="o">-</span><span class="mf">1.0</span> <span class="o">/</span> <span class="p">(</span><span class="n">c</span><span class="o">**</span><span class="mi">2</span><span class="p">))</span>
    <span class="n">dsdb</span> <span class="o">=</span> <span class="n">dsdc</span> <span class="o">*</span> <span class="mi">1</span>
    <span class="n">dsda</span> <span class="o">=</span> <span class="n">dsdb</span> <span class="o">*</span> <span class="n">np</span><span class="o">.</span><span class="n">exp</span><span class="p">(</span><span class="n">a</span><span class="p">)</span>
    <span class="n">dsdx</span> <span class="o">=</span> <span class="n">dsda</span> <span class="o">*</span> <span class="p">(</span><span class="o">-</span><span class="mi">1</span><span class="p">)</span>
    
    <span class="k">return</span> <span class="n">dsdx</span>


<span class="k">def</span> <span class="nf">sigmoid</span><span class="p">(</span><span class="n">x</span><span class="p">):</span>
    <span class="n">y</span> <span class="o">=</span> <span class="mf">1.0</span> <span class="o">/</span> <span class="p">(</span><span class="mf">1.0</span> <span class="o">+</span> <span class="n">np</span><span class="o">.</span><span class="n">exp</span><span class="p">(</span><span class="o">-</span><span class="n">x</span><span class="p">))</span>
    <span class="k">return</span> <span class="n">y</span>

<span class="c1"># Instead of writing grad_sigmoid_manual manually, we can use </span>
<span class="c1"># Autograd&#39;s grad function:</span>
<span class="n">grad_sigmoid_automatic</span> <span class="o">=</span> <span class="n">grad</span><span class="p">(</span><span class="n">sigmoid</span><span class="p">)</span>

<span class="c1"># Compare the results of manual and automatic gradient functions:</span>
<span class="nb">print</span><span class="p">(</span><span class="n">grad_sigmoid_automatic</span><span class="p">(</span><span class="mf">2.0</span><span class="p">))</span>
<span class="nb">print</span><span class="p">(</span><span class="n">grad_sigmoid_manual</span><span class="p">(</span><span class="mf">2.0</span><span class="p">))</span>
</pre></div>

    </div>
</div>
</div>

<div class="output_wrapper">
<div class="output">


<div class="output_area">

    <div class="prompt"></div>


<div class="output_subarea output_stream output_stdout output_text">
<pre>0.104993585404
0.104993585404
</pre>
</div>
</div>

</div>
</div>

</div>
<div class="cell border-box-sizing text_cell rendered"><div class="prompt input_prompt">
</div><div class="inner_cell">
<div class="text_cell_render border-box-sizing rendered_html">
<h2 id="Gradients-of-Data-Structures:-flatten-and-unflatten">Gradients of Data Structures: <code>flatten</code> and <code>unflatten</code><a class="anchor-link" href="#Gradients-of-Data-Structures:-flatten-and-unflatten">&#182;</a></h2><p>Autograd allows you to compute gradients for many different data structures.
Autograd provides a lot of flexibility in the types of data structures you can use to store the parameters of your model. This flexibility is achieved through the <code>flatten</code> function, which converts any nested combination of lists, tuples, arrays, or dicts into a 1-dimensional Numpy array.</p>
<p>The idea is that we know how to compute gradients of vectors, and we can convert many data structures into vectors (i.e. "flatten" the data structures).</p>

</div>
</div>
</div>
<div class="cell border-box-sizing code_cell rendered">
<div class="input">
<div class="prompt input_prompt">In&nbsp;[4]:</div>
<div class="inner_cell">
    <div class="input_area">
<div class=" highlight hl-ipython3"><pre><span></span><span class="kn">import</span> <span class="nn">autograd.numpy</span> <span class="k">as</span> <span class="nn">np</span>
<span class="kn">import</span> <span class="nn">autograd.numpy.random</span> <span class="k">as</span> <span class="nn">npr</span>
<span class="kn">from</span> <span class="nn">autograd</span> <span class="kn">import</span> <span class="n">grad</span>
<span class="kn">from</span> <span class="nn">autograd.misc</span> <span class="kn">import</span> <span class="n">flatten</span> 
</pre></div>

    </div>
</div>
</div>

</div>
<div class="cell border-box-sizing text_cell rendered"><div class="prompt input_prompt">
</div><div class="inner_cell">
<div class="text_cell_render border-box-sizing rendered_html">
<p>You can flatten a list of tuples:</p>

</div>
</div>
</div>
<div class="cell border-box-sizing code_cell rendered">
<div class="input">
<div class="prompt input_prompt">In&nbsp;[5]:</div>
<div class="inner_cell">
    <div class="input_area">
<div class=" highlight hl-ipython3"><pre><span></span><span class="n">params</span> <span class="o">=</span> <span class="p">[(</span><span class="mf">1.0</span><span class="p">,</span> <span class="mf">1.0</span><span class="p">),</span> <span class="p">(</span><span class="mf">2.0</span><span class="p">,</span><span class="mf">2.0</span><span class="p">),</span> <span class="p">(</span><span class="mf">3.0</span><span class="p">,</span><span class="mf">3.0</span><span class="p">,</span><span class="mf">3.0</span><span class="p">)]</span>
<span class="n">flat_params</span><span class="p">,</span> <span class="n">unflatten_func</span> <span class="o">=</span> <span class="n">flatten</span><span class="p">(</span><span class="n">params</span><span class="p">)</span>
<span class="nb">print</span><span class="p">(</span><span class="s1">&#39;Flattened: </span><span class="si">{}</span><span class="s1">&#39;</span><span class="o">.</span><span class="n">format</span><span class="p">(</span><span class="n">flat_params</span><span class="p">))</span>
<span class="nb">print</span><span class="p">(</span><span class="s1">&#39;Unflattened: </span><span class="si">{}</span><span class="s1">&#39;</span><span class="o">.</span><span class="n">format</span><span class="p">(</span><span class="n">unflatten_func</span><span class="p">(</span><span class="n">flat_params</span><span class="p">)))</span>
</pre></div>

    </div>
</div>
</div>

<div class="output_wrapper">
<div class="output">


<div class="output_area">

    <div class="prompt"></div>


<div class="output_subarea output_stream output_stdout output_text">
<pre>Flattened: [ 1.  1.  2.  2.  3.  3.  3.]
Unflattened: [(array(1.0), array(1.0)), (array(2.0), array(2.0)), (array(3.0), array(3.0), array(3.0))]
</pre>
</div>
</div>

</div>
</div>

</div>
<div class="cell border-box-sizing text_cell rendered"><div class="prompt input_prompt">
</div><div class="inner_cell">
<div class="text_cell_render border-box-sizing rendered_html">
<p>A list of matrices (of different sizes):</p>

</div>
</div>
</div>
<div class="cell border-box-sizing code_cell rendered">
<div class="input">
<div class="prompt input_prompt">In&nbsp;[6]:</div>
<div class="inner_cell">
    <div class="input_area">
<div class=" highlight hl-ipython3"><pre><span></span><span class="n">params</span> <span class="o">=</span> <span class="p">[</span><span class="n">npr</span><span class="o">.</span><span class="n">randn</span><span class="p">(</span><span class="mi">3</span><span class="p">,</span><span class="mi">3</span><span class="p">),</span> <span class="n">npr</span><span class="o">.</span><span class="n">randn</span><span class="p">(</span><span class="mi">4</span><span class="p">,</span><span class="mi">4</span><span class="p">),</span> <span class="n">npr</span><span class="o">.</span><span class="n">randn</span><span class="p">(</span><span class="mi">3</span><span class="p">,</span><span class="mi">3</span><span class="p">)]</span>
<span class="n">flat_params</span><span class="p">,</span> <span class="n">unflatten_func</span> <span class="o">=</span> <span class="n">flatten</span><span class="p">(</span><span class="n">params</span><span class="p">)</span>
<span class="nb">print</span><span class="p">(</span><span class="s1">&#39;Flattened: </span><span class="si">{}</span><span class="s1">&#39;</span><span class="o">.</span><span class="n">format</span><span class="p">(</span><span class="n">flat_params</span><span class="p">))</span>
<span class="nb">print</span><span class="p">(</span><span class="s1">&#39;Unflattened: </span><span class="si">{}</span><span class="s1">&#39;</span><span class="o">.</span><span class="n">format</span><span class="p">(</span><span class="n">unflatten_func</span><span class="p">(</span><span class="n">flat_params</span><span class="p">)))</span>
</pre></div>

    </div>
</div>
</div>

<div class="output_wrapper">
<div class="output">


<div class="output_area">

    <div class="prompt"></div>


<div class="output_subarea output_stream output_stdout output_text">
<pre>Flattened: [-0.86718318 -0.39787176 -0.14008288  1.17582056 -2.20750251 -0.90372716
  0.28830369 -0.71615753  0.44306775 -0.23534406  0.77017371 -0.82302491
 -0.38458041  0.4164451  -2.0029848   0.19021276 -1.15892003 -0.56156495
  0.52243588 -0.09529192  0.59047335  0.33227221 -1.15584222  0.90891582
  1.79415157 -0.76722565 -0.41225893  0.61663727  0.8957365  -0.42721445
 -1.41281425  0.32935995 -1.43127652  1.0173327 ]
Unflattened: [array([[-0.86718318, -0.39787176, -0.14008288],
       [ 1.17582056, -2.20750251, -0.90372716],
       [ 0.28830369, -0.71615753,  0.44306775]]), array([[-0.23534406,  0.77017371, -0.82302491, -0.38458041],
       [ 0.4164451 , -2.0029848 ,  0.19021276, -1.15892003],
       [-0.56156495,  0.52243588, -0.09529192,  0.59047335],
       [ 0.33227221, -1.15584222,  0.90891582,  1.79415157]]), array([[-0.76722565, -0.41225893,  0.61663727],
       [ 0.8957365 , -0.42721445, -1.41281425],
       [ 0.32935995, -1.43127652,  1.0173327 ]])]
</pre>
</div>
</div>

</div>
</div>

</div>
<div class="cell border-box-sizing text_cell rendered"><div class="prompt input_prompt">
</div><div class="inner_cell">
<div class="text_cell_render border-box-sizing rendered_html">
<p>A dictionary:</p>

</div>
</div>
</div>
<div class="cell border-box-sizing code_cell rendered">
<div class="input">
<div class="prompt input_prompt">In&nbsp;[7]:</div>
<div class="inner_cell">
    <div class="input_area">
<div class=" highlight hl-ipython3"><pre><span></span><span class="n">params</span> <span class="o">=</span> <span class="p">{</span> <span class="s1">&#39;weights&#39;</span><span class="p">:</span> <span class="p">[</span><span class="mf">1.0</span><span class="p">,</span><span class="mf">2.0</span><span class="p">,</span><span class="mf">3.0</span><span class="p">,</span><span class="mf">4.0</span><span class="p">],</span> <span class="s1">&#39;biases&#39;</span><span class="p">:</span> <span class="p">[</span><span class="mf">1.0</span><span class="p">,</span><span class="mf">2.0</span><span class="p">]</span> <span class="p">}</span>
<span class="n">flat_params</span><span class="p">,</span> <span class="n">unflatten_func</span> <span class="o">=</span> <span class="n">flatten</span><span class="p">(</span><span class="n">params</span><span class="p">)</span>
<span class="nb">print</span><span class="p">(</span><span class="s1">&#39;Flattened: </span><span class="si">{}</span><span class="s1">&#39;</span><span class="o">.</span><span class="n">format</span><span class="p">(</span><span class="n">flat_params</span><span class="p">))</span>
<span class="nb">print</span><span class="p">(</span><span class="s1">&#39;Unflattened: </span><span class="si">{}</span><span class="s1">&#39;</span><span class="o">.</span><span class="n">format</span><span class="p">(</span><span class="n">unflatten_func</span><span class="p">(</span><span class="n">flat_params</span><span class="p">)))</span>
</pre></div>

    </div>
</div>
</div>

<div class="output_wrapper">
<div class="output">


<div class="output_area">

    <div class="prompt"></div>


<div class="output_subarea output_stream output_stdout output_text">
<pre>Flattened: [ 1.  2.  1.  2.  3.  4.]
Unflattened: {&#39;weights&#39;: [array(1.0), array(2.0), array(3.0), array(4.0)], &#39;biases&#39;: [array(1.0), array(2.0)]}
</pre>
</div>
</div>

</div>
</div>

</div>
<div class="cell border-box-sizing text_cell rendered"><div class="prompt input_prompt">
</div><div class="inner_cell">
<div class="text_cell_render border-box-sizing rendered_html">
<p>Or even a dictionary of dictionaries (etc.):</p>

</div>
</div>
</div>
<div class="cell border-box-sizing code_cell rendered">
<div class="input">
<div class="prompt input_prompt">In&nbsp;[8]:</div>
<div class="inner_cell">
    <div class="input_area">
<div class=" highlight hl-ipython3"><pre><span></span><span class="n">params</span> <span class="o">=</span> <span class="p">{</span> <span class="s1">&#39;layer1&#39;</span><span class="p">:</span> <span class="p">{</span> <span class="s1">&#39;weights&#39;</span><span class="p">:</span> <span class="p">[</span><span class="mf">1.0</span><span class="p">,</span><span class="mf">2.0</span><span class="p">,</span><span class="mf">3.0</span><span class="p">,</span><span class="mf">4.0</span><span class="p">],</span> <span class="s1">&#39;biases&#39;</span><span class="p">:</span> <span class="p">[</span><span class="mf">1.0</span><span class="p">,</span><span class="mf">2.0</span><span class="p">]},</span> <span class="s1">&#39;layer2&#39;</span><span class="p">:</span> <span class="p">{</span> <span class="s1">&#39;weights&#39;</span><span class="p">:</span> <span class="p">[</span><span class="mf">5.0</span><span class="p">,</span><span class="mf">6.0</span><span class="p">,</span><span class="mf">7.0</span><span class="p">,</span><span class="mf">8.0</span><span class="p">],</span> <span class="s1">&#39;biases&#39;</span><span class="p">:</span> <span class="p">[</span><span class="mf">6.0</span><span class="p">,</span><span class="mf">7.0</span><span class="p">]}</span> <span class="p">}</span>
<span class="n">flat_params</span><span class="p">,</span> <span class="n">unflatten_func</span> <span class="o">=</span> <span class="n">flatten</span><span class="p">(</span><span class="n">params</span><span class="p">)</span>
<span class="nb">print</span><span class="p">(</span><span class="s1">&#39;Flattened: </span><span class="si">{}</span><span class="s1">&#39;</span><span class="o">.</span><span class="n">format</span><span class="p">(</span><span class="n">flat_params</span><span class="p">))</span>
<span class="nb">print</span><span class="p">(</span><span class="s1">&#39;Unflattened: </span><span class="si">{}</span><span class="s1">&#39;</span><span class="o">.</span><span class="n">format</span><span class="p">(</span><span class="n">unflatten_func</span><span class="p">(</span><span class="n">flat_params</span><span class="p">)))</span>
</pre></div>

    </div>
</div>
</div>

<div class="output_wrapper">
<div class="output">


<div class="output_area">

    <div class="prompt"></div>


<div class="output_subarea output_stream output_stdout output_text">
<pre>Flattened: [ 1.  2.  1.  2.  3.  4.  6.  7.  5.  6.  7.  8.]
Unflattened: {&#39;layer1&#39;: {&#39;weights&#39;: [array(1.0), array(2.0), array(3.0), array(4.0)], &#39;biases&#39;: [array(1.0), array(2.0)]}, &#39;layer2&#39;: {&#39;weights&#39;: [array(5.0), array(6.0), array(7.0), array(8.0)], &#39;biases&#39;: [array(6.0), array(7.0)]}}
</pre>
</div>
</div>

</div>
</div>

</div>
<div class="cell border-box-sizing text_cell rendered"><div class="prompt input_prompt">
</div><div class="inner_cell">
<div class="text_cell_render border-box-sizing rendered_html">
<h2 id="Gradient-Functions">Gradient Functions<a class="anchor-link" href="#Gradient-Functions">&#182;</a></h2><p>There are several functions that compute gradients, which have different signatures</p>
<ul>
<li><code>grad(fun, argnum=0)</code><ul>
<li>Returns a function which computes the gradient of <code>fun</code> with respect to
positional argument number <code>argnum</code>. The returned function takes the same
arguments as <code>fun</code>, but returns the gradient instead. The function <code>fun</code>
should be scalar-valued. The gradient has the same type as the argument.</li>
</ul>
</li>
<li><code>grad_named(fun, argname)</code><ul>
<li>Takes gradients with respect to a named argument.</li>
</ul>
</li>
<li><code>multigrad(fun, argnums=[0])</code><ul>
<li>Takes gradients wrt multiple arguments simultaneously.</li>
</ul>
</li>
<li><code>multigrad_dict(fun)</code><ul>
<li>Takes gradients with respect to all arguments simultaneously, and returns a dict mapping <code>argname</code> to <code>gradval</code></li>
</ul>
</li>
</ul>

</div>
</div>
</div>
<div class="cell border-box-sizing text_cell rendered"><div class="prompt input_prompt">
</div><div class="inner_cell">
<div class="text_cell_render border-box-sizing rendered_html">
<h2 id="Modularity:-Implementing-Custom-Gradients">Modularity: Implementing Custom Gradients<a class="anchor-link" href="#Modularity:-Implementing-Custom-Gradients">&#182;</a></h2><p>The implementation of Autograd is simple, readable, and extensible!</p>
<p>One thing you can do is define custom gradients for your own functions. There are several reasons you might want to do this, including:</p>
<ol>
<li><strong>Speed:</strong> You may know a faster way to compute the gradient for a specific function.</li>
<li><strong>Numerical Stability</strong></li>
<li>When your code depends on <strong>external library calls</strong></li>
</ol>
<p>The <code>@primitive</code> decorator wraps a function so that its gradient can be specified manually and its invocation can be recorded.</p>

</div>
</div>
</div>
<div class="cell border-box-sizing code_cell rendered">
<div class="input">
<div class="prompt input_prompt">In&nbsp;[9]:</div>
<div class="inner_cell">
    <div class="input_area">
<div class=" highlight hl-ipython3"><pre><span></span><span class="kn">import</span> <span class="nn">autograd.numpy</span> <span class="k">as</span> <span class="nn">np</span>
<span class="kn">import</span> <span class="nn">autograd.numpy.random</span> <span class="k">as</span> <span class="nn">npr</span>
<span class="kn">from</span> <span class="nn">autograd</span> <span class="kn">import</span> <span class="n">grad</span>
<span class="kn">from</span> <span class="nn">autograd.extend</span> <span class="kn">import</span> <span class="n">primitive</span><span class="p">,</span> <span class="n">defvjp</span>

<span class="c1"># From the Autograd examples:</span>
<span class="c1"># @primitive tells autograd not to look inside this function, but instead</span>
<span class="c1"># to treat it as a black box, whose gradient might be specified later.</span>
<span class="nd">@primitive</span>
<span class="k">def</span> <span class="nf">logsumexp</span><span class="p">(</span><span class="n">x</span><span class="p">):</span>
    <span class="sd">&quot;&quot;&quot;Numerically stable log(sum(exp(x)))&quot;&quot;&quot;</span>
    <span class="n">max_x</span> <span class="o">=</span> <span class="n">np</span><span class="o">.</span><span class="n">max</span><span class="p">(</span><span class="n">x</span><span class="p">)</span>
    <span class="k">return</span> <span class="n">max_x</span> <span class="o">+</span> <span class="n">np</span><span class="o">.</span><span class="n">log</span><span class="p">(</span><span class="n">np</span><span class="o">.</span><span class="n">sum</span><span class="p">(</span><span class="n">np</span><span class="o">.</span><span class="n">exp</span><span class="p">(</span><span class="n">x</span> <span class="o">-</span> <span class="n">max_x</span><span class="p">)))</span>

<span class="c1"># Next, we write a function that specifies the gradient with a closure.</span>
<span class="k">def</span> <span class="nf">make_grad_logsumexp</span><span class="p">(</span><span class="n">ans</span><span class="p">,</span> <span class="n">x</span><span class="p">):</span>
    <span class="c1"># If you want to be able to take higher-order derivatives, then all the</span>
    <span class="c1"># code inside this function must be itself differentiable by autograd.</span>
    <span class="k">def</span> <span class="nf">gradient_product</span><span class="p">(</span><span class="n">g</span><span class="p">):</span>
        <span class="k">return</span> <span class="n">np</span><span class="o">.</span><span class="n">full</span><span class="p">(</span><span class="n">x</span><span class="o">.</span><span class="n">shape</span><span class="p">,</span> <span class="n">g</span><span class="p">)</span> <span class="o">*</span> <span class="n">np</span><span class="o">.</span><span class="n">exp</span><span class="p">(</span><span class="n">x</span> <span class="o">-</span> <span class="n">np</span><span class="o">.</span><span class="n">full</span><span class="p">(</span><span class="n">x</span><span class="o">.</span><span class="n">shape</span><span class="p">,</span> <span class="n">ans</span><span class="p">))</span>
    <span class="k">return</span> <span class="n">gradient_product</span>

<span class="c1"># Now we tell autograd that logsumexmp has a gradient-making function.</span>
<span class="n">defvjp</span><span class="p">(</span><span class="n">logsumexp</span><span class="p">,</span> <span class="n">make_grad_logsumexp</span><span class="p">)</span>
</pre></div>

    </div>
</div>
</div>

</div>
<div class="cell border-box-sizing code_cell rendered">
<div class="input">
<div class="prompt input_prompt">In&nbsp;[10]:</div>
<div class="inner_cell">
    <div class="input_area">
<div class=" highlight hl-ipython3"><pre><span></span><span class="c1"># Now we can use logsumexp() inside a larger function that we want to differentiate.</span>
<span class="k">def</span> <span class="nf">example_func</span><span class="p">(</span><span class="n">y</span><span class="p">):</span>
    <span class="n">z</span> <span class="o">=</span> <span class="n">y</span><span class="o">**</span><span class="mi">2</span>
    <span class="n">lse</span> <span class="o">=</span> <span class="n">logsumexp</span><span class="p">(</span><span class="n">z</span><span class="p">)</span>
    <span class="k">return</span> <span class="n">np</span><span class="o">.</span><span class="n">sum</span><span class="p">(</span><span class="n">lse</span><span class="p">)</span>

<span class="n">grad_of_example</span> <span class="o">=</span> <span class="n">grad</span><span class="p">(</span><span class="n">example_func</span><span class="p">)</span>
<span class="nb">print</span><span class="p">(</span><span class="s2">&quot;Gradient: &quot;</span><span class="p">,</span> <span class="n">grad_of_example</span><span class="p">(</span><span class="n">npr</span><span class="o">.</span><span class="n">randn</span><span class="p">(</span><span class="mi">10</span><span class="p">)))</span>

<span class="c1"># Check the gradients numerically, just to be safe.</span>
<span class="c1"># Fails if a mismatch occurs</span>
<span class="kn">from</span> <span class="nn">autograd.test_util</span> <span class="kn">import</span> <span class="n">check_grads</span>
<span class="n">check_grads</span><span class="p">(</span><span class="n">example_func</span><span class="p">,</span> <span class="n">modes</span><span class="o">=</span><span class="p">[</span><span class="s1">&#39;rev&#39;</span><span class="p">],</span> <span class="n">order</span><span class="o">=</span><span class="mi">2</span><span class="p">)(</span><span class="n">npr</span><span class="o">.</span><span class="n">randn</span><span class="p">(</span><span class="mi">10</span><span class="p">))</span>
</pre></div>

    </div>
</div>
</div>

<div class="output_wrapper">
<div class="output">


<div class="output_area">

    <div class="prompt"></div>


<div class="output_subarea output_stream output_stdout output_text">
<pre>Gradient:  [ 0.01964729 -0.01052768  0.08082344  0.02737456  0.07575397 -0.01597028
  3.0434424   0.00794668  0.00345275 -0.05588763]
</pre>
</div>
</div>

</div>
</div>

</div>
<div class="cell border-box-sizing text_cell rendered"><div class="prompt input_prompt">
</div><div class="inner_cell">
<div class="text_cell_render border-box-sizing rendered_html">
<h1 id="Examples">Examples<a class="anchor-link" href="#Examples">&#182;</a></h1><p>The next three sections of the notebook show examples of using Autograd in the context of three problems:</p>
<ol>
<li><strong>1-D linear regression</strong>, where we try to fit a model to a function $y = wx + b$</li>
<li><strong>Linear regression using a polynomial feature map</strong>, to fit a function of the form $y = w_0 + w_1 x + w_2 x^2 + \dots + w_M x^M$</li>
<li><strong>Nonlinear regression using a neural network</strong></li>
</ol>

</div>
</div>
</div>
<div class="cell border-box-sizing text_cell rendered"><div class="prompt input_prompt">
</div><div class="inner_cell">
<div class="text_cell_render border-box-sizing rendered_html">
<h2 id="Linear-Regression">Linear Regression<a class="anchor-link" href="#Linear-Regression">&#182;</a></h2>
</div>
</div>
</div>
<div class="cell border-box-sizing text_cell rendered"><div class="prompt input_prompt">
</div><div class="inner_cell">
<div class="text_cell_render border-box-sizing rendered_html">
<h3 id="Review">Review<a class="anchor-link" href="#Review">&#182;</a></h3><p>We are given a set of data points $\{ (x_1, t_1), (x_2, t_2), \dots, (x_N, t_N) \}$, where each point $(x_i, t_i)$ consists of an <em>input value</em> $x_i$ and a <em>target value</em> $t_i$.</p>
<p>The <strong>model</strong> we use is:
$$
y_i = wx_i + b
$$</p>
<p>We want each predicted value $y_i$ to be close to the ground truth value $t_i$. In linear regression, we use squared error to quantify the disagreement between $y_i$ and $t_i$. The <strong>loss function</strong> for a single example is:
$$
\mathcal{L}(y_i,t_i) = \frac{1}{2} (y_i - t_i)^2
$$</p>
<p>The <strong>cost function</strong> is the loss averaged over all the training examples:
$$
\mathcal{E}(w,b) = \frac{1}{N} \sum_{i=1}^N \mathcal{L}(y_i, t_i) = \frac{1}{N} \sum_{i=1}^N \frac{1}{2} \left(wx_i + b - t_i \right)^2
$$</p>

</div>
</div>
</div>
<div class="cell border-box-sizing code_cell rendered">
<div class="input">
<div class="prompt input_prompt">In&nbsp;[11]:</div>
<div class="inner_cell">
    <div class="input_area">
<div class=" highlight hl-ipython3"><pre><span></span><span class="kn">import</span> <span class="nn">autograd.numpy</span> <span class="k">as</span> <span class="nn">np</span> <span class="c1"># Import wrapped NumPy from Autograd</span>
<span class="kn">import</span> <span class="nn">autograd.numpy.random</span> <span class="k">as</span> <span class="nn">npr</span> <span class="c1"># For convenient access to numpy.random</span>
<span class="kn">from</span> <span class="nn">autograd</span> <span class="kn">import</span> <span class="n">grad</span> <span class="c1"># To compute gradients</span>

<span class="kn">import</span> <span class="nn">matplotlib.pyplot</span> <span class="k">as</span> <span class="nn">plt</span> <span class="c1"># For plotting</span>

<span class="o">%</span><span class="k">matplotlib</span> inline
</pre></div>

    </div>
</div>
</div>

</div>
<div class="cell border-box-sizing text_cell rendered"><div class="prompt input_prompt">
</div><div class="inner_cell">
<div class="text_cell_render border-box-sizing rendered_html">
<h2 id="Generate-Synthetic-Data">Generate Synthetic Data<a class="anchor-link" href="#Generate-Synthetic-Data">&#182;</a></h2>
</div>
</div>
</div>
<div class="cell border-box-sizing text_cell rendered"><div class="prompt input_prompt">
</div><div class="inner_cell">
<div class="text_cell_render border-box-sizing rendered_html">
<p>We generate a synthetic dataset $\{ (x_i, t_i) \}$ by first taking the $x_i$ to be linearly spaced in the range $[0, 10]$ and generating the corresponding value of $t_i$ using the following equation (where $w = 4$ and $b=10$):
$$
t_i = 4 x_i + 10 + \epsilon
$$</p>
<p>Here, $\epsilon \sim \mathcal{N}(0, 2)$ (that is, $\epsilon$ is drawn from a Gaussian distribution with mean 0 and variance 2). This introduces some random fluctuation in the data, to mimic real data that has an underlying regularity, but for which individual observations are corrupted by random noise.</p>

</div>
</div>
</div>
<div class="cell border-box-sizing code_cell rendered">
<div class="input">
<div class="prompt input_prompt">In&nbsp;[12]:</div>
<div class="inner_cell">
    <div class="input_area">
<div class=" highlight hl-ipython3"><pre><span></span><span class="c1"># In our synthetic data, we have w = 4 and b = 10</span>
<span class="n">N</span> <span class="o">=</span> <span class="mi">100</span> <span class="c1"># Number of training data points</span>
<span class="n">x</span> <span class="o">=</span> <span class="n">np</span><span class="o">.</span><span class="n">linspace</span><span class="p">(</span><span class="mi">0</span><span class="p">,</span> <span class="mi">10</span><span class="p">,</span> <span class="n">N</span><span class="p">)</span>
<span class="n">t</span> <span class="o">=</span> <span class="mi">4</span> <span class="o">*</span> <span class="n">x</span> <span class="o">+</span> <span class="mi">10</span> <span class="o">+</span> <span class="n">npr</span><span class="o">.</span><span class="n">normal</span><span class="p">(</span><span class="mi">0</span><span class="p">,</span> <span class="mi">2</span><span class="p">,</span> <span class="n">x</span><span class="o">.</span><span class="n">shape</span><span class="p">[</span><span class="mi">0</span><span class="p">])</span>
<span class="n">plt</span><span class="o">.</span><span class="n">plot</span><span class="p">(</span><span class="n">x</span><span class="p">,</span> <span class="n">t</span><span class="p">,</span> <span class="s1">&#39;r.&#39;</span><span class="p">)</span>
</pre></div>

    </div>
</div>
</div>

<div class="output_wrapper">
<div class="output">


<div class="output_area">

    <div class="prompt output_prompt">Out[12]:</div>




<div class="output_text output_subarea output_execute_result">
<pre>[&lt;matplotlib.lines.Line2D at 0x10ec4eeb8&gt;]</pre>
</div>

</div>

<div class="output_area">

    <div class="prompt"></div>




<div class="output_png output_subarea ">
<img src="data:image/png;base64,iVBORw0KGgoAAAANSUhEUgAAAXQAAAD8CAYAAABn919SAAAABHNCSVQICAgIfAhkiAAAAAlwSFlz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=
"
>
</div>

</div>

</div>
</div>

</div>
<div class="cell border-box-sizing code_cell rendered">
<div class="input">
<div class="prompt input_prompt">In&nbsp;[13]:</div>
<div class="inner_cell">
    <div class="input_area">
<div class=" highlight hl-ipython3"><pre><span></span><span class="c1"># Initialize random parameters</span>
<span class="n">w</span> <span class="o">=</span> <span class="n">npr</span><span class="o">.</span><span class="n">normal</span><span class="p">(</span><span class="mi">0</span><span class="p">,</span> <span class="mi">1</span><span class="p">)</span>
<span class="n">b</span> <span class="o">=</span> <span class="n">npr</span><span class="o">.</span><span class="n">normal</span><span class="p">(</span><span class="mi">0</span><span class="p">,</span> <span class="mi">1</span><span class="p">)</span>
<span class="n">params</span> <span class="o">=</span> <span class="p">{</span> <span class="s1">&#39;w&#39;</span><span class="p">:</span> <span class="n">w</span><span class="p">,</span> <span class="s1">&#39;b&#39;</span><span class="p">:</span> <span class="n">b</span> <span class="p">}</span> <span class="c1"># One option: aggregate parameters in a dictionary</span>

<span class="k">def</span> <span class="nf">cost</span><span class="p">(</span><span class="n">params</span><span class="p">):</span>
    <span class="n">y</span> <span class="o">=</span> <span class="n">params</span><span class="p">[</span><span class="s1">&#39;w&#39;</span><span class="p">]</span> <span class="o">*</span> <span class="n">x</span> <span class="o">+</span> <span class="n">params</span><span class="p">[</span><span class="s1">&#39;b&#39;</span><span class="p">]</span>
    <span class="k">return</span> <span class="p">(</span><span class="mi">1</span> <span class="o">/</span> <span class="n">N</span><span class="p">)</span> <span class="o">*</span> <span class="n">np</span><span class="o">.</span><span class="n">sum</span><span class="p">(</span><span class="mf">0.5</span> <span class="o">*</span> <span class="n">np</span><span class="o">.</span><span class="n">square</span><span class="p">(</span><span class="n">y</span> <span class="o">-</span> <span class="n">t</span><span class="p">))</span>

<span class="c1"># Find the gradient of the cost function using Autograd</span>
<span class="n">grad_cost</span> <span class="o">=</span> <span class="n">grad</span><span class="p">(</span><span class="n">cost</span><span class="p">)</span> 

<span class="n">num_epochs</span> <span class="o">=</span> <span class="mi">1000</span>  <span class="c1"># Number of epochs of training</span>
<span class="n">alpha</span> <span class="o">=</span> <span class="mf">0.01</span>       <span class="c1"># Learning rate</span>

<span class="k">for</span> <span class="n">i</span> <span class="ow">in</span> <span class="nb">range</span><span class="p">(</span><span class="n">num_epochs</span><span class="p">):</span>
    <span class="c1"># Evaluate the gradient of the current parameters stored in params</span>
    <span class="n">cost_params</span> <span class="o">=</span> <span class="n">grad_cost</span><span class="p">(</span><span class="n">params</span><span class="p">)</span>
    
    <span class="c1"># Update parameters w and b</span>
    <span class="n">params</span><span class="p">[</span><span class="s1">&#39;w&#39;</span><span class="p">]</span> <span class="o">=</span> <span class="n">params</span><span class="p">[</span><span class="s1">&#39;w&#39;</span><span class="p">]</span> <span class="o">-</span> <span class="n">alpha</span> <span class="o">*</span> <span class="n">cost_params</span><span class="p">[</span><span class="s1">&#39;w&#39;</span><span class="p">]</span>
    <span class="n">params</span><span class="p">[</span><span class="s1">&#39;b&#39;</span><span class="p">]</span> <span class="o">=</span> <span class="n">params</span><span class="p">[</span><span class="s1">&#39;b&#39;</span><span class="p">]</span> <span class="o">-</span> <span class="n">alpha</span> <span class="o">*</span> <span class="n">cost_params</span><span class="p">[</span><span class="s1">&#39;b&#39;</span><span class="p">]</span>

<span class="nb">print</span><span class="p">(</span><span class="n">params</span><span class="p">)</span>
</pre></div>

    </div>
</div>
</div>

<div class="output_wrapper">
<div class="output">


<div class="output_area">

    <div class="prompt"></div>


<div class="output_subarea output_stream output_stdout output_text">
<pre>{&#39;w&#39;: 4.1287788378129608, &#39;b&#39;: 9.1779559871908081}
</pre>
</div>
</div>

</div>
</div>

</div>
<div class="cell border-box-sizing code_cell rendered">
<div class="input">
<div class="prompt input_prompt">In&nbsp;[14]:</div>
<div class="inner_cell">
    <div class="input_area">
<div class=" highlight hl-ipython3"><pre><span></span><span class="c1"># Plot the training data again, together with the line defined by y = wx + b</span>
<span class="c1"># where w and b are our final learned parameters</span>
<span class="n">plt</span><span class="o">.</span><span class="n">plot</span><span class="p">(</span><span class="n">x</span><span class="p">,</span> <span class="n">t</span><span class="p">,</span> <span class="s1">&#39;r.&#39;</span><span class="p">)</span>
<span class="n">plt</span><span class="o">.</span><span class="n">plot</span><span class="p">([</span><span class="mi">0</span><span class="p">,</span> <span class="mi">10</span><span class="p">],</span> <span class="p">[</span><span class="n">params</span><span class="p">[</span><span class="s1">&#39;b&#39;</span><span class="p">],</span> <span class="n">params</span><span class="p">[</span><span class="s1">&#39;w&#39;</span><span class="p">]</span> <span class="o">*</span> <span class="mi">10</span> <span class="o">+</span> <span class="n">params</span><span class="p">[</span><span class="s1">&#39;b&#39;</span><span class="p">]],</span> <span class="s1">&#39;b-&#39;</span><span class="p">)</span>
</pre></div>

    </div>
</div>
</div>

<div class="output_wrapper">
<div class="output">


<div class="output_area">

    <div class="prompt output_prompt">Out[14]:</div>




<div class="output_text output_subarea output_execute_result">
<pre>[&lt;matplotlib.lines.Line2D at 0x10f09a9b0&gt;]</pre>
</div>

</div>

<div class="output_area">

    <div class="prompt"></div>




<div class="output_png output_subarea ">
<img src="data:image/png;base64,iVBORw0KGgoAAAANSUhEUgAAAXQAAAD8CAYAAABn919SAAAABHNCSVQICAgIfAhkiAAAAAlwSFlz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"
>
</div>

</div>

</div>
</div>

</div>
<div class="cell border-box-sizing text_cell rendered"><div class="prompt input_prompt">
</div><div class="inner_cell">
<div class="text_cell_render border-box-sizing rendered_html">
<h2 id="Linear-Regression-with-a-Feature-Mapping">Linear Regression with a Feature Mapping<a class="anchor-link" href="#Linear-Regression-with-a-Feature-Mapping">&#182;</a></h2>
</div>
</div>
</div>
<div class="cell border-box-sizing text_cell rendered"><div class="prompt input_prompt">
</div><div class="inner_cell">
<div class="text_cell_render border-box-sizing rendered_html">
<p>In this example we will fit a polynomial using linear regression with a polynomial feature mapping.
The target function is:</p>
$$
t = x^4 - 10 x^2 + 10 x + \epsilon
$$<p>where $\epsilon \sim \mathcal{N}(0, 4)$.</p>
<p>This is an example of a <em>generalized linear model</em>, in which we perform a fixed nonlinear transformation of the inputs $\mathbf{x} = (x_1, x_2, \dots, x_D)$, and the model is still linear in the <em>parameters</em>. We can define a set of <em>feature mappings</em> (also called feature functions or basis functions) $\phi$ to implement the fixed transformations.</p>
<p>In this case, we have $x \in \mathbb{R}$, and we define the feature mapping:
$$
\mathbf{\phi}(x) = \begin{pmatrix}\phi_1(x) \\ \phi_2(x) \\ \phi_3(x) \\ \phi_4(x) \end{pmatrix} = \begin{pmatrix}1\\x\\x^2\\x^3\end{pmatrix}
$$</p>

</div>
</div>
</div>
<div class="cell border-box-sizing code_cell rendered">
<div class="input">
<div class="prompt input_prompt">In&nbsp;[15]:</div>
<div class="inner_cell">
    <div class="input_area">
<div class=" highlight hl-ipython3"><pre><span></span><span class="c1"># Generate synthetic data</span>
<span class="n">N</span> <span class="o">=</span> <span class="mi">100</span> <span class="c1"># Number of data points</span>
<span class="n">x</span> <span class="o">=</span> <span class="n">np</span><span class="o">.</span><span class="n">linspace</span><span class="p">(</span><span class="o">-</span><span class="mi">3</span><span class="p">,</span> <span class="mi">3</span><span class="p">,</span> <span class="n">N</span><span class="p">)</span> <span class="c1"># Generate N values linearly-spaced between -3 and 3</span>
<span class="n">t</span> <span class="o">=</span> <span class="n">x</span> <span class="o">**</span> <span class="mi">4</span> <span class="o">-</span> <span class="mi">10</span> <span class="o">*</span> <span class="n">x</span> <span class="o">**</span> <span class="mi">2</span> <span class="o">+</span> <span class="mi">10</span> <span class="o">*</span> <span class="n">x</span> <span class="o">+</span> <span class="n">npr</span><span class="o">.</span><span class="n">normal</span><span class="p">(</span><span class="mi">0</span><span class="p">,</span> <span class="mi">4</span><span class="p">,</span> <span class="n">x</span><span class="o">.</span><span class="n">shape</span><span class="p">[</span><span class="mi">0</span><span class="p">])</span> <span class="c1"># Generate corresponding targets</span>
<span class="n">plt</span><span class="o">.</span><span class="n">plot</span><span class="p">(</span><span class="n">x</span><span class="p">,</span> <span class="n">t</span><span class="p">,</span> <span class="s1">&#39;r.&#39;</span><span class="p">)</span> <span class="c1"># Plot data points</span>
</pre></div>

    </div>
</div>
</div>

<div class="output_wrapper">
<div class="output">


<div class="output_area">

    <div class="prompt output_prompt">Out[15]:</div>




<div class="output_text output_subarea output_execute_result">
<pre>[&lt;matplotlib.lines.Line2D at 0x10f2b90f0&gt;]</pre>
</div>

</div>

<div class="output_area">

    <div class="prompt"></div>




<div class="output_png output_subarea ">
<img src="data:image/png;base64,iVBORw0KGgoAAAANSUhEUgAAAXwAAAD8CAYAAAB0IB+mAAAABHNCSVQICAgIfAhkiAAAAAlwSFlz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"
>
</div>

</div>

</div>
</div>

</div>
<div class="cell border-box-sizing code_cell rendered">
<div class="input">
<div class="prompt input_prompt">In&nbsp;[16]:</div>
<div class="inner_cell">
    <div class="input_area">
<div class=" highlight hl-ipython3"><pre><span></span><span class="n">M</span> <span class="o">=</span> <span class="mi">4</span> <span class="c1"># Degree of polynomial to fit to the data (this is a hyperparameter)</span>
<span class="n">feature_matrix</span> <span class="o">=</span> <span class="n">np</span><span class="o">.</span><span class="n">array</span><span class="p">([[</span><span class="n">item</span> <span class="o">**</span> <span class="n">i</span> <span class="k">for</span> <span class="n">i</span> <span class="ow">in</span> <span class="nb">range</span><span class="p">(</span><span class="n">M</span><span class="o">+</span><span class="mi">1</span><span class="p">)]</span> <span class="k">for</span> <span class="n">item</span> <span class="ow">in</span> <span class="n">x</span><span class="p">])</span> <span class="c1"># Construct a feature matrix </span>
<span class="n">W</span> <span class="o">=</span> <span class="n">npr</span><span class="o">.</span><span class="n">randn</span><span class="p">(</span><span class="n">feature_matrix</span><span class="o">.</span><span class="n">shape</span><span class="p">[</span><span class="o">-</span><span class="mi">1</span><span class="p">])</span>

<span class="k">def</span> <span class="nf">cost</span><span class="p">(</span><span class="n">W</span><span class="p">):</span>
    <span class="n">y</span> <span class="o">=</span> <span class="n">np</span><span class="o">.</span><span class="n">dot</span><span class="p">(</span><span class="n">feature_matrix</span><span class="p">,</span> <span class="n">W</span><span class="p">)</span>
    <span class="k">return</span> <span class="p">(</span><span class="mf">1.0</span> <span class="o">/</span> <span class="n">N</span><span class="p">)</span> <span class="o">*</span> <span class="n">np</span><span class="o">.</span><span class="n">sum</span><span class="p">(</span><span class="mf">0.5</span> <span class="o">*</span> <span class="n">np</span><span class="o">.</span><span class="n">square</span><span class="p">(</span><span class="n">y</span> <span class="o">-</span> <span class="n">t</span><span class="p">))</span>

<span class="c1"># Compute the gradient of the cost function using Autograd</span>
<span class="n">cost_grad</span> <span class="o">=</span> <span class="n">grad</span><span class="p">(</span><span class="n">cost</span><span class="p">)</span>

<span class="n">num_epochs</span> <span class="o">=</span> <span class="mi">10000</span>
<span class="n">learning_rate</span> <span class="o">=</span> <span class="mf">0.001</span>

<span class="c1"># Manually implement gradient descent</span>
<span class="k">for</span> <span class="n">i</span> <span class="ow">in</span> <span class="nb">range</span><span class="p">(</span><span class="n">num_epochs</span><span class="p">):</span>
    <span class="n">W</span> <span class="o">=</span> <span class="n">W</span> <span class="o">-</span> <span class="n">learning_rate</span> <span class="o">*</span> <span class="n">cost_grad</span><span class="p">(</span><span class="n">W</span><span class="p">)</span>

<span class="c1"># Print the final learned parameters.</span>
<span class="nb">print</span><span class="p">(</span><span class="n">W</span><span class="p">)</span>
</pre></div>

    </div>
</div>
</div>

<div class="output_wrapper">
<div class="output">


<div class="output_area">

    <div class="prompt"></div>


<div class="output_subarea output_stream output_stdout output_text">
<pre>[ -0.68443928  10.33612329  -9.48556594  -0.04644112   0.93365519]
</pre>
</div>
</div>

</div>
</div>

</div>
<div class="cell border-box-sizing code_cell rendered">
<div class="input">
<div class="prompt input_prompt">In&nbsp;[17]:</div>
<div class="inner_cell">
    <div class="input_area">
<div class=" highlight hl-ipython3"><pre><span></span><span class="c1"># Plot the original training data again, together with the polynomial we fit</span>
<span class="n">plt</span><span class="o">.</span><span class="n">plot</span><span class="p">(</span><span class="n">x</span><span class="p">,</span> <span class="n">t</span><span class="p">,</span> <span class="s1">&#39;r.&#39;</span><span class="p">)</span>
<span class="n">plt</span><span class="o">.</span><span class="n">plot</span><span class="p">(</span><span class="n">x</span><span class="p">,</span> <span class="n">np</span><span class="o">.</span><span class="n">dot</span><span class="p">(</span><span class="n">feature_matrix</span><span class="p">,</span> <span class="n">W</span><span class="p">),</span> <span class="s1">&#39;b-&#39;</span><span class="p">)</span>
</pre></div>

    </div>
</div>
</div>

<div class="output_wrapper">
<div class="output">


<div class="output_area">

    <div class="prompt output_prompt">Out[17]:</div>




<div class="output_text output_subarea output_execute_result">
<pre>[&lt;matplotlib.lines.Line2D at 0x10f2f4048&gt;]</pre>
</div>

</div>

<div class="output_area">

    <div class="prompt"></div>




<div class="output_png output_subarea ">
<img src="data:image/png;base64,iVBORw0KGgoAAAANSUhEUgAAAXwAAAD8CAYAAAB0IB+mAAAABHNCSVQICAgIfAhkiAAAAAlwSFlz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"
>
</div>

</div>

</div>
</div>

</div>
<div class="cell border-box-sizing text_cell rendered"><div class="prompt input_prompt">
</div><div class="inner_cell">
<div class="text_cell_render border-box-sizing rendered_html">
<h2 id="Neural-Net-Regression">Neural Net Regression<a class="anchor-link" href="#Neural-Net-Regression">&#182;</a></h2>
</div>
</div>
</div>
<div class="cell border-box-sizing text_cell rendered"><div class="prompt input_prompt">
</div><div class="inner_cell">
<div class="text_cell_render border-box-sizing rendered_html">
<p>In this example we will implement a (nonlinear) regression model using a neural network. To implement and train a neural net using Autograd, you only have to define the forward pass of the network and the loss function you wish to use; you do <em>not</em> need to implement the <em>backward pass</em> of the network. When you take the gradient of the loss function using <code>grad</code>, Autograd automatically computes computes the backward pass. It essentially executes the backpropagation algorithm implicitly.</p>
<p><img src="images/NeuralNetRegression.png" alt="Neural Network Architecture for Regression"></p>

</div>
</div>
</div>
<div class="cell border-box-sizing code_cell rendered">
<div class="input">
<div class="prompt input_prompt">In&nbsp;[18]:</div>
<div class="inner_cell">
    <div class="input_area">
<div class=" highlight hl-ipython3"><pre><span></span><span class="kn">import</span> <span class="nn">matplotlib.pyplot</span> <span class="k">as</span> <span class="nn">plt</span>

<span class="kn">import</span> <span class="nn">autograd.numpy</span> <span class="k">as</span> <span class="nn">np</span>
<span class="kn">import</span> <span class="nn">autograd.numpy.random</span> <span class="k">as</span> <span class="nn">npr</span>
<span class="kn">from</span> <span class="nn">autograd</span> <span class="kn">import</span> <span class="n">grad</span>
<span class="kn">from</span> <span class="nn">autograd.misc</span> <span class="kn">import</span> <span class="n">flatten</span> <span class="c1">#, flatten_func</span>

<span class="kn">from</span> <span class="nn">autograd.misc.optimizers</span> <span class="kn">import</span> <span class="n">sgd</span>

<span class="o">%</span><span class="k">matplotlib</span> inline
</pre></div>

    </div>
</div>
</div>

</div>
<div class="cell border-box-sizing text_cell rendered"><div class="prompt input_prompt">
</div><div class="inner_cell">
<div class="text_cell_render border-box-sizing rendered_html">
<h3 id="Autograd-Implementation-of-Stochastic-Gradient-Descent-(with-momentum)">Autograd Implementation of Stochastic Gradient Descent (with momentum)<a class="anchor-link" href="#Autograd-Implementation-of-Stochastic-Gradient-Descent-(with-momentum)">&#182;</a></h3>
<pre><code>def sgd(grad, init_params, callback=None, num_iters=200, step_size=0.1, mass=0.9):
    """Stochastic gradient descent with momentum.
    grad() must have signature grad(x, i), where i is the iteration number."""
    flattened_grad, unflatten, x = flatten_func(grad, init_params)

    velocity = np.zeros(len(x))
    for i in range(num_iters):
        g = flattened_grad(x, i)
        if callback:
            callback(unflatten(x), i, unflatten(g))
        velocity = mass * velocity - (1.0 - mass) * g
        x = x + step_size * velocity
    return unflatten(x)</code></pre>
<p>The next example shows how to use the <code>sgd</code> function.</p>

</div>
</div>
</div>
<div class="cell border-box-sizing code_cell rendered">
<div class="input">
<div class="prompt input_prompt">In&nbsp;[19]:</div>
<div class="inner_cell">
    <div class="input_area">
<div class=" highlight hl-ipython3"><pre><span></span><span class="c1"># Generate synthetic data</span>
<span class="n">x</span> <span class="o">=</span> <span class="n">np</span><span class="o">.</span><span class="n">linspace</span><span class="p">(</span><span class="o">-</span><span class="mi">5</span><span class="p">,</span> <span class="mi">5</span><span class="p">,</span> <span class="mi">1000</span><span class="p">)</span>
<span class="n">t</span> <span class="o">=</span> <span class="n">x</span> <span class="o">**</span> <span class="mi">3</span> <span class="o">-</span> <span class="mi">20</span> <span class="o">*</span> <span class="n">x</span> <span class="o">+</span> <span class="mi">10</span> <span class="o">+</span> <span class="n">npr</span><span class="o">.</span><span class="n">normal</span><span class="p">(</span><span class="mi">0</span><span class="p">,</span> <span class="mi">4</span><span class="p">,</span> <span class="n">x</span><span class="o">.</span><span class="n">shape</span><span class="p">[</span><span class="mi">0</span><span class="p">])</span>
<span class="n">plt</span><span class="o">.</span><span class="n">plot</span><span class="p">(</span><span class="n">x</span><span class="p">,</span> <span class="n">t</span><span class="p">,</span> <span class="s1">&#39;r.&#39;</span><span class="p">)</span>
</pre></div>

    </div>
</div>
</div>

<div class="output_wrapper">
<div class="output">


<div class="output_area">

    <div class="prompt output_prompt">Out[19]:</div>




<div class="output_text output_subarea output_execute_result">
<pre>[&lt;matplotlib.lines.Line2D at 0x10f3c5dd8&gt;]</pre>
</div>

</div>

<div class="output_area">

    <div class="prompt"></div>




<div class="output_png output_subarea ">
<img src="data:image/png;base64,iVBORw0KGgoAAAANSUhEUgAAAXwAAAD8CAYAAAB0IB+mAAAABHNCSVQICAgIfAhkiAAAAAlwSFlz
AAALEgAACxIB0t1+/AAAADl0RVh0U29mdHdhcmUAbWF0cGxvdGxpYiB2ZXJzaW9uIDIuMS4wLCBo
dHRwOi8vbWF0cGxvdGxpYi5vcmcvpW3flQAAIABJREFUeJztnXuQXFd17r99Ts+0RQWVcwdyhW0U
JzzteydY1iDcRSEP14qEFGwLlAAXh1FZQiPJlszYhgGFckUVEwnkGE/8npEllaZiErgZsPxA+KGo
/WA6kUceGQU/sM0FxZgJZrgqk8IaTXfv+8eaVXuf3ed09zz6edavqqtfp0+f7j699tprrf0tpbWG
IAiC0Px4tT4AQRAEoTqIwRcEQYgJYvAFQRBighh8QRCEmCAGXxAEISaIwRcEQYgJYvAFQRBighh8
QRCEmCAGXxAEISYkan0ANm9729v0ueeeW+vDEARBaCiOHj36a63120ttV1cG/9xzz8XIyEitD0MQ
BKGhUEr9vJztJKQjCIIQE8TgC4IgxAQx+IIgCDFBDL4gCEJMEIMvCIIQE8TgC4IgxAQx+M1MJgPs
3EnXYfcFQYgVdVWHL8whmQxwySXA6dNAayvQ1wf09Jj7hw4BqdT09pdOA52d03udIAh1gxj8ZiWd
JuOey9H1nj3AqVOA1nQ/nS7fcLuDx3QHC0EQ6gIJ6TQrnZ1AYmo81xo4epSuAXq8s7P8fbmDRzo9
t8cqCEJVEIPf6BSLy+dydJ3Pm9tKAVdeOT0PvbOTPHvfp+vpDBaCINQNEtJpZIqFWtJpY+QZpYAz
zgC6uqb3PqkU7TudBtrajIcvYR1BaCjE4DcyYaEWNsKdnUBLCz0O0O3168nYz8RQ82skli8IDYsY
/EYlkwFOnDBx+tZW8r537jSVNOk0MDhIz5cy9OVU4dgDzMQEsH07XcToC0JDIAa/EbFDOb4PbNgA
LFoUXnZZjjEutwqHY/kTE5QXeOwx4MknxdMXhAZBDH4jYnvaALBwITA+Hl5JE+W12x69vb9Tp4Bd
u4AlS8Jft3Yt8MwzwMgIGf3plngKglAzxOA3Ilxymc/TdVsbMDpKt7Wm5OzJk9Fee9iiLN8ng681
cN99wP33A8mkeZ07q2hpAbJZun3iBD0vRl8Q6hopy2wEwkovuaY+lwOuuQbYvZtuK0UDwTe/SaGX
sNp5N9k7Pg6sW0evZWzv3X1NLkelnRs20Gt276bBQCQbBKGuEQ+/3gmLr3PJpdbGALNnzwOB1uTx
KxWsnQ9L9vJz+/eb+LxS5L3zcxy/Zw+fyWYLq4REhkEQ6hIx+PVClJEMK710ja9SZHj5GiCDf+21
wJlnmn2GJXvt6p1Dh6iqZ88esz+Ga/H5+bvvBjzPGH8eOESGQRDqFgnp1ANsJG+4oTA00tlpjDp7
3Gx8b7yRBoDDh+n25z9PRhig7Y8dCw4gg4OUlOVZwcKFZiDYudO8ZzZLA0Y2GwwF8X4mJ+maV/Bu
2GAMu8gwCELdIh5+PRBlJAcHgbExE6ZxPW7bc2bDbYdlHn0UePxxGhAAYO9esy/PK/TIfZ+en47m
jtZm4ACCsw+RYRCEukI8/HrA1appa6PH7r6bKmYmJ8M9bhf2/Ds66L7WZPwHB+nCq24BGhCA4GAz
OWlCQqy5AwQTxl1dJv4PBEM5PEvg2UepcI7o8wtCVREPvx6wtWq4Lp7DJgyHdKJKIO0cwIUXAkeO
mOfGxoAHHwxun8vRQq3OTvL2tTbXnPAdGwM++lEaBOx4/BNPBFfwAoVlnmHYx+i+RmL9glBxxODX
C26IxtXB+bM/Aw4epBLI/ftL19W3ttKg0dIC/OxnxnO3OXKELkqRseeSTr6+7z6zrVuiaSd7d+4M
Si5s2UKvtw25e4xr10brAAmCUBHE4NcjYTo46TTwwAPhBpKTsVrT9cGDVFcPAPPn08rZYnB5Zz5v
4vcuiQQt5rr4YtrWXpRlx+2VMvs6dYqOLSyZC0isXxCqjNJRf/Aa0NHRoUdGRmp9GPUFh0Ha2sK1
cjIZMpZ2fB4gw5tIAL//+8CvflX++9m1/DbnnQf85CdGzsHzgK99Ddi2rfA4t241x5NMmqSxG8IB
pF5fEOYApdRRrXVHqe3Ew683bMM5Ogrs22ckDC66iLzm9euL694DZLQnJ6dn7AHgXe8CXn658PHn
nw/etxdlAcGQ1Ogo0N9vEs2Dg1TJ09dHq3ptAy+GXhCqhhj8WhOWyOSySptcjpKlAPDss0B7ezCc
8uabsz+WZBL40peAq68Oj/kziQRw++3Rxrqri/IMXOrJg5Y7MxHvXhCqihj8WhKVyHSNvcvEBMXl
v/c9ur9iBXDgQHT83YYrcTgxyygF3Hor0N1N9zdvLjwOzwMuuwzo7aX7tva+jV11dOKE0fnhmD4g
FTqCUAPE4FebKFlijnmzaqWLG1u/7z7gL/8S+O53TcLW3hYoHABaWsgz57DKV75iZg2eR48DZPRH
R2kdgI3WwPe/T7cPHiz02t3Pt20b3d+71+j97N5N5Z5SoSMI1UdrXTeXxYsX66ZmeFjrefO09n26
7u8P3h8e1nrTJq2V4mp4c1m6tPAxpbT2vOBjvq91by/tj59TSutEgt7PPpbW1uDrij0fdfE8rZcv
p+3dzzc8TPvatKnwuFtaCrcTBGFGABjRZdhY8fCrSZgssb3gir1cV7UykSAvPgwWL+NtPY+qaVas
ABYsoE5YbqKUj8WeSeTzVAUEmO25NHRsDHjoocLFYPy6Rx+lzlcrVphcwsSE8dy7uoB77gkKu+Vy
NJOYaY9dQRCmTzmjQjkXAD6AUQAPTt3/IwD/BuAlAN8G0FpqH7Hz8KM82+FhrXfsII970yatk8lC
Tx4gr/2KK7R+97vDZwXJZPH3mDcv+DqeMXhe4fG5Xrrnhb/W3saeMfT3Fx7jpk1z990KQoxBmR7+
XGrpfAGAXbv3DQC3aK3fA+D/AVg/h+/VmNgql3a1SpSeTHs7lTNms+RJex6wfDlwxRV0O5sF7r2X
yii1DoqrAdFqlRxn7+sDNm6k6hxO5ubzdGEPnenqAubNo+0SCUre2u/Hr7UZHTWfr70duPzyGX5x
giDMCeWMCqUuAM4BcAjA/wLwIAAF4NcAElPPpwA8XGo/sfDwd+wwnnOYx8+PeR558ByPt+P+iUR4
PF0p2q6Yhx/1nsuXBz3wlpbw1/Lx836KxfdbWugY7GNPJul9is0+BEGYFqhyDL8PQC+At07dbwNw
UmvNxdyvAjh7jt6rMYnqXGVr0GzfDrzlLSYOns8Dt9wSrKxJp6PLNpUibXomLD4eJsW8bRu995NP
0nF4HjVPYQ/frZvn/WzdCtx0U7AaaP584Le/NYuuACP5MDpKq255YZm9f0EQKs6sDb5S6uMAfqW1
PqqU6uSHQzYNLRJXSnUD6AaAhQsXzvZw6hfX0HI9Ojcjz+eBRx4pfF0uR8aeJQwACsFMTJCBb28H
jh8no5pMlk6C8kItfn1bGz1u1867Mg59feY+a+ZnsyYMZLNpE3DbbUZXh/V5tAYGBiiJ3NkpdfiC
UAvKmQYUuwDYCfLgfwZgDMDvANwLCekEsUMpiQRdc9gmLOHKIRo3ecqlm6tXm3BJays9Vm6IpL+f
wi1hyVmtKWzDoSHfp3CPHSpyk7d83dsbPMZksnB736dj58/s+/R+giDMGFQraau13qa1PkdrfS6A
zwD4F631FQAOA/jzqc3WAjgw2/dqaNiD3rAhqE7JC5JsPI88340bw2WQd+8mffvJyeh2hcWaioyP
m1kFh3Xs19kNWXzflITaPWyZfJ4e++IXgTfeoBW6gEk2u+RywP33Bztvsca/IAiVpZxRodwLgE6Y
ssw/BnAEwMsA/g+AZKnXN7WHz+zYESxf5EVInkfe7tKl0d667Xlz+aSdYJ1O2aebCG5tpWNpbTX7
2rSJ9u0u6grz3O3PlEyaRWVuqaY7m+HPLQuwhDjiFnLMENSgLBNa67TW+uNTt3+qtV6itX631vov
tNYTc/leDUtnJ8Xa3ZLG972PvN0f/pAWXkW9lj1vzzPJ28lJiuOX20DcLQ8dHaXttaZrXoDleun5
PHDmmZR4XbIkuE87kXz6NEkvtLdT+WZ/P7B6tYn/2/Bsxz1eaX8oNDs8Y7/hBrquwrkuPW0rQSlj
tXYt8MEPmqRnNkvywxyiiTLWtqG+8MLgc0NDhb1xizUVSaUoERyWLH36aToB29pIf4fhpuaplOmq
xSuB7e0A0vo5coSu77yTVv26JBK0D+62xQnkGvwRBKHqlOugzSEirTDXhJVfslEdGKD2f7mcMZLs
Wdt4XrSxZt35trZg39o1awp74xbre2s/19VFEsYTU5Mw9vTHx6ni5qqrjHSDfRzpdLBUc9cu05XL
5tlngX//d9P83PepI1dXF81MtmyhQe/qq+n58fHwP4LIKQvNhN0prkpd38TgzzVhozYnU6+6yhjD
bNZIEbN8MBNWZ+8aa37t0BAZe77v9sa1Xx81EKVSFKYZHAxq13PdP2BCL7aypfteS5ZQQjaMXI4S
1gsXBmv5T5wwietslso6v/SlYOnoj38M/PVfF7ZWFIRGxV7tHqZ1VSnKCfRX69IUSdtyFSN93zzX
21uY2GSdGTt5OpsVqm6pZVQpZDmrgaPo7y9M5oZp69j7bG2NVvzkz+wmeaWMU2hkpvOfKhOIWmYV
CAuRlAqrMB/+MG1z/Dhw7FjwOa2BPXvCVSq5+cmSJdPzCsqdPrpee7mfByBPhZPJnge8//3Ac8/R
c7bevj0LAihhbbdQzOfpOwlrqu62VhSERiMqClAFxODPlFIhEvcHnD8/eP+pp0jKQIeIngFk5O+7
L/y9H3iALrwKtpwp4Uzj+1GfJ+x1XIHE38kXvhBcsdvWRsnstrbg4NPTE2yr2NoKXHCBaXRuc+21
0zt2Qag3ahC7Z8Tgz5RyR+lMhmLju3cHH7fj9LbRdz1aFy5tZEXLLVvodjkSBTOJ7xcj7HXuoNLe
HpRrYK2e666jEs+TJykPcd11tHALIPmFrVsLk7+eR6+Zi2MXhFoR5nxVyWkRgz9Tyhml2Ri5LQjD
4BJN3s427Fz6uH69MYaTk/Q4r9idzdRwplPMKCE2NySUSpFnz01dWBTuU58ieWeAdIR6e8mgj45G
N1vh0s3ZHrsg1BL+X2QywMUX04xfa+CMMyrqtIjBnynlxLbZGJUy9gDw3vcCP/2pqZDhUE1bWzBk
k8mY2YDnGV382UwNSw1eUd6H/TrfNxIJYd+Fa6izWeBb3wo+dtNNZnBLJMKNPucByj12QahXMhlg
6dLg4ka7U1wFEIM/G4qFSDiMYRvEdevIQz94kMoX7bDOiy+SkduwobjiZTpNJwh7/+vXm1LHmZ4k
xQavUrmKQ4dMOefu3bRK2PVQMhkK5/DAZw9UNjzD4ZLVsbHg95RMFhr06SSVBaGe4P+ySwWdFjH4
c41tIH0fWLWKVpnaRnx8nJKuDMsIswgaQCGQMAPmerRz1RM2avAqFTLhBVjZLG1z6hQNAG7/XJ7p
eB6wbBmtHejpMcJs7ixo0SIy+pwDAaI/a7GksiDUK52dZCPsXNUXvygx/IbCNpC5HFXatLaSAbOr
WVpbjbHjeD1XshRLQlbboy0nZGKfuFqTt28bZ3cfa9bQoLd1K5VfXnABrejlXEc+b1bddneLMRea
l0SC/jdK0YLDb3yjsm9X0b3HETZu3LUKIEN31VV0m4341q1UTw+Qd7x6NSUty0lCVtOjLWeASaUo
XNXfb0Iy7opct7kKJ3A9j8pT+/qoWufRR80+tmyh11dzJaIgVAs3pMNVahVExNPmGjZurpoke/xs
xN3FVr/7Hb12OgJo1aKY0BrT1UUVBlHHzftgnRyOy3OF0fg4tVm09fbZ6E9XRE2UNoVGgGfGgJkZ
V/icFYM/F7gGJpWiZKrbLAQwipNr1gQf5/uudHGjeLXlHjcPaN7UqcfNXtiD//Snzbac2OWev2Fq
gu53L0qbQqPAM2OuuuOZcQWRkM5scatY+vqojnzfPpOk5OoTpYArrwyGZFzxM6DxkpB22abdezcM
N7xjh2sGBkxdPhBcl5DP0yItO5mdyQAf/aj57rlButTlC43AwADwzDOmr3U1ZvTlCO5U69KQ4mlR
XahsITTfn53w2Rx1xakIxYSgyj1u3u7886OF17gzmP0+riAddwqbY2EqQZgz+Fx3BRNXr57VuQoR
T6sSbW1GMCxM1pirTvj2dKl36YBictDlHDd76azFb+N51DMgm6XZES/EOnWqdDcvW6c/qsRVEKqJ
/Z9wbQXn8CqMxPBnAy8o4oVQUdgLiqYbowszqPVEVJK53OMeHAw39gAZ+1tvpbyAHdvXmsI7XV3B
rluAWenLoSWJ5wv1gv2fcO3FW94iLQ7rnulIJzCuxEAp6rFqxyYqWVvquDnZOjYWve9slmL827YB
r78efC6dpstttwEbN9L77N4dNOz1PlgK8YL/Ey5K0ULMajgl5cR9qnVpuBg+x4vdJh1uMw9+XqmZ
xZXrOYZfjKjjdhugcKOTRIJimclkYQzeba7C+ZJ58yh2H9bcReL5Qr0xPEznuJufKtWYqASQGH4V
SKWoKod7sgKk9vjb35qVs7yg6LHHZq5q2WhVO0w5cg0A6QcxXV1mAZodd29vp8VpL75IF46Bcjio
tdW0RORZlOjsCPVGKkXnNzc24nBklap0xODPlvFx05nJ92l5NPeCtY3M4cN0XY9hmWrjSi0sWmQa
pbD4ml3e6Sa77BCaUjRILFpkGsT39NAAwQOOGHqhHuDyZe7jDJiijlKiiXOEGPzZwlU67NHbRj6d
Ji2dW26hGYDvk8cfdwPket7FKn34D2LPCGwuvZS2HRw0yfMKS8wKwrSxnRalgk6L1iSaWIXzVQz+
bOAqnVyOjH5fHz2+eTMtvJqcDJZf5fOFeu5xxfW8XYE2V3WURaZcfvMb4BOfoKQX/4nyeeDIkWht
fkGoNum00Y+y8bxw2e8KIQZ/JrieJ3elGh01kr9hlTvSgDucsFj75s3B7/HSSyl2bzc7B4Anngjf
54EDwMMP19+6BSGetLWFG/tly0hDqkrnqBj86RLmeeop2YSxsfAyTaVo29tvF+MThe3xZzLA3r3B
hikHD5qwWJin76J1YYJcmp0LtWJ8vDCU4/tVNfaAGPzSuEbCXTzxvvcBP/kJjd7f/75ZAGR3uBJ5
3+mRThujrhTwnveQZ6+ntIncP04USpm2i8ePm6RuIkG/TRWSZIIAgP7/nhd0VspxXOYYWXhVDFd5
cWCADEgiYeQUXnjBNBLP5Ugc7cYbyWjddRdViwjTw1601dICvPSSMfBRxv6KK4B584wKJ0Azgv5+
ahJ91VUmp3L6ND0uq2+FapFKUVjSRuuqLwYUg18M25ufmCAPcfdu+qE6Okx1DkCGiFsOsnZ8lFSv
6LUXx169u26diX0qRX+ahDMxXb0a+Id/oNcsWxY0+lqToXe9KTvkIwjVoLeXHBimBiXaEtIphl0v
rpTx5AHgwgspTOD2rrWJWtpfz2Jo9QLH9DMZqs3n76u3F1i50oRnkkm6zwJp27dTBy274xhgBgGl
zOxM1kQI1SSVAh5/nDrdvfYa9cyo8n9fDH4xXO32rVvJW/R9s9hnzx7q9PTQQxRC2LvXJArD+sGK
Xvv0CKvgSaUoVGa3TLT7EaxdC/zgB8DPfmb2c9ll1IXMFnez8yqS0BWqxcMP0/l6/LhZIFglxOCH
kcnQQh7AhGgyGdOZRingjjuAb32rMJ58+jS9ln/EtWvNfvixUk3BhSBuBY/dbGXnzmDY7aqrCsM3
LS00M3CbwTP1LkEtNA81dvjE4LtkMmRMTp+m+/v2mU5KvJLz9OlgZ6ao/dhGpKuLHhd9l5kTZpjt
WRRQaOyVCk6dwzx5mXUJ1SJs1l9FxOC7pNOm0QZgPHaW8eVYcFRZYDJJxr2YERF9l5kR9p1u22YG
0B/8oHAhlu/Tb7d5c1Czx/bka/wnFGJEjR0+MfgunZ0UAmCPUSmqzGHP0feBz3ym0MNPJIDPf15C
N5UkyjDzAHriRKHBz2ZJzwig347FquxBWGZdQjWpocOn9Eza7lWIjo4OPTIyUuvDoGn/rl2kzxIW
Ivjbv6Vk4dAQcMEFJIkcZigkETgzin1v7nP2fSC6XSLT0mIqdCRWL1SDKtgBpdRRrXVHqe3Eww8j
laISy7CVcFqTMFdvL9DdXXo/YlCmR6kEqpvAdbe99VaqnBodDYbmmGuvjR6gBWGu4Z7NfI4ePlzT
827WC6+UUu9USh1WSj2vlPqxUuoLU4//N6XUo0qpl6auf3/2h1slWMsligMHZJVmpZhOW0J721On
aFbW0wMcPWpkGGyUImPPC+MEodJwz2aW7ebqvxoxFyttswCu11qfB+AiAFcrpc4H8BUAh7TW7wFw
aOp+Y2BruYShNRmYGv94Tcl0evh2dtJ2AP0mDzxAf6pcLrxRtOdRPH9goEIHLwgleOaZmjqKszb4
Wutfaq2fmbr9WwDPAzgbwOUA9k9tth/A6tm+V9WwjY7vm/p7G60pdCBe/twS1RQ9att168zvw13H
WIOntTXo5edyFI7buFGMvlAdurqCjctHRmoaHZhTLR2l1LkAFgH4NwD/XWv9S4AGBQB/MJfvVVFs
o3PnnbSSlqWQbbJZ0WKpBKlU+WGXri7z+ySTJEHN4nWHDxdq6zB9fcCKFWL4hcrCCrtLlpBjYleI
1YA5S9oqpX4PwBCAHq31GyrMKw5/XTeAbgBYuHDhXB3O7LGTg/Yy/q1bTcmm55mG2UJtKFVSydo6
blOa55+nyyOPAK+8AnzjG+Y5rqpoaysubS1VWEK5HDtmzr9EomZl2nNSlqmUagHwIICHtdbfnHrs
RQCdWutfKqXeASCttX5fsf3UTVkm45b8sRE4eNC01Esmpbyv3mGpjOeeI8P/X/9FtxnPA556Kqhw
yu3ouAWd+xuLHINQLjt3kmJuLkde/saNJJ0+h1StLFORK78HwPNs7Ke4H8BaAF+fuj4w2/eqKm5n
K6UohNPaSqGAfD68q5JQn+zfT0bc84BPfzpo8PN5qu7p6zOVP6yK6i7SYkSOQSgFOxpjYyYcbMus
1IC5COl8GMDnABxXSh2beuyvQIb+O0qp9QBOAPiLOXiv6mH/ofnPz9U5Bw7UxfRMKBO7gXQ+D3zn
OxRTPXLEbHPkCPCRjwDXXx9smO554dVCIscgFMPV5PJ9YMOGmndZm7XB11o/BSAqYH/JbPdfM+w/
NHv43DGJUYo6XIlnV99wezn+7bJZ4OWXC7fL5YCbbzZtFH3fyGUARnNf5BgEl6hWqEwuRyWZNfTu
AVlpGw5PxVasoBW3/CNt3w48+mjQu6/xDyiUQSpFctZbthjF09/8JnxbngVoTRcuJAiL18tKagEo
zOds3UoG323H+fTTtF0N8z1i8F3cqRi3JOvqMhUfHAu+/Xb5wzcK3d1UbdXTEwzlvP3ttPr2pZfo
vtZBvR1pWiOUYnDQVIHxim/GnlnWQc5PetoCwR6zg4PBqdjkpGl4ffw4NTTp7iZVxlJaOkJ9kUpR
a0qbD3+YwnJ2rf6ZZ1LvXFc+uZzVv0K8YBmWqGrHtjbqudzSQh5/jXN+4uG71ThRgmncxJw9Pwnl
NCZdXcA991BoB6AS25Ur6Y/IA/3rr5MEw8qVJmyzdSvw3e8Cn/ykePeCwZZhUYoS/7ZE9+uvUwk3
hwmLSbZUAfHw7en65GTwBzn3XKrB9n3yAFmjpYYr5YQI7FlaMY4fDzabz2ZpcdVFFxVue9NNtL+B
AZqmv/wyXcvqXIGxZ38tLcD55wNLlwa3sXWdstmaanCJh9/WRsZcaxqhbYP/sY+Z7lVus2yZ1tcP
5SyC4h4H3AwFoN/d96lxyuuvF+73lVdov+3twceHhiScJxjWrqVa+4MHqVkSG/8wee4aE2+Dn8mQ
Ec/l6M9/3XW0+GZykn4wrpk9fpz+5Fu3ipZ6PVIqqcoDwptvBl/3jncAv/oV5WjC9HY4yXbWWcHH
16yZ608gNCK2o8E6OZyg3bCByjDtAgHA2JUaEW+D766qTKeBVatMKWYqRdP3jRvp+UceIeMABGuy
hdoStgjKrot2a6IZ2wvL5ah72Y9+ZM4HXnTV20vx/KEhMvbd3aKjIwQdDZ4tAmT8Fy2iy+gohXE8
jwoBentre75orevmsnjxYl1Vhoe1njdPa8/jqmu6JJP0nNZaL18efG7JEnqN79M1byfUluFhrXfs
oGv+Xfk36u839xMJrc87T+uWFq2VCv6255xjzgXPo98+7Pd19y/nQDxxz4Ply+mcUorOM983t/v7
K3ooAEZ0GTY23klbXi25bFlQ895OyrrT97POKr8jk1A9bEllN8QzPm7krp94Avjc50zVhM0vfhEU
TFuzhhJsmzcHk8HT6colNC+2jPrWrRQBYPchmzXJ2nyezsE6IN4hHYB+tO3bSTudp/d2UpaTczyd
b28HHn5Ykrf1TFiIx10Va8tmXHABNaZgY79sGf3WthT2vn2mH6no6AgMn1crVkRv4/t1c47E1+C7
0sfs4fs+NcIGTJy+uztYlSEaKvVNKZ0b93kgWOWzfTs9Z1dZ2Mlg0dERXNasIQ8/jGuvrZtzJJ4G
3y3jW7vWlGPm88C999I22SwNAHfcETT4oqFS/5T6jdznwwy475sFWlpTae7AgJntbdtWqaMXGg22
D319wAsvmHChUlTZVyfE0+DbMdiJCSqf4oVVWgdXymWztMK2vV2MfDPjDgCpFCll3n033VeKHAE+
N9ibk3r8eFGsOqu9ndZusLHnXFCdhHOAuK605RgsCxtx/DaqLWMuJ4m5ZiZqla7dgFprEs6zGRoq
vQ+heeDIwA03FDYi5zU9dvlvR0fddUKLp8G3q3PY6GsdvvimDkdpYQ4p9idOpYB164wj4Fb1cAVX
sX0IzUNUdRb//k8/Hdz+rLNomzo6H+IZ0gFMdc6TT5pqDS6h4sYXixYVb2ItND52N6yJicJVul1d
pj2i2/zG3ofIJzc/bnVWWxvN6k6coMdsh6ClxfS+rqOex/E1+ByL6+sjo37iBOlg2Ip2Ep9tftra
gv1r29qCz/NscPv2YBWG1lRGper0AAAgAElEQVSf394uZZpxwa7OsrW1WFwxnyfV1fXrafvdu+vO
CYhnSMeegvf00B+0q8ssjdaa6q7raComVIjxcRPK87zwBTI8G+Tzg8nnaWGWvQCnTjw5oQLYCdvx
cTOry2ZNWDifp8gA53/qrIdCPD38sCn4tm0Ur+3vNyvl6mRUFipIZyflaMK8c/6Dt7XRH/z660ky
OazZhZTqNjdhbQwBCu2xcBpANmXLFuDxx+tyrUb8DH4mQ+EbLsMEzDSe47UyNY8PUYuovvxl4O/+
zvyRuan5Rz4CPPUUGX1phBMf3FLum28OSqnb9oSr+ljqo46Il8HnUdpOwOVywDXXmDr7OhyVhQrj
eudf/nKwLylgZn1PPkkJuXXrjKKqKGc2P3aexu2bkc8Dl18OPPQQPV7HVX3xMviuHDLjLpuXP218
yWQobBMFJ/UXLjTGPqr5ijsQyMDQuLgJW1tniSW0e3vr/veNl8HnUdotsZPwjcAMDhbG6O1ex6yR
z5r7PT3AqVOmWQo7Du5A0NcX7Jgmyd3Gw3YG29vpXBkbMy0zG8BZjJfBd0fp0VF6fNEis4iizn8w
ocosXQp8/evB5C07B52dwZWViYR5zi0MGBqSWv1Gxp2d8W/Hg/r+/Q0xiMfL4AOFo3A5/VCF+NDV
Bezda9pcfv3r4Z7bzp2FPUs/8AFz263NX7PGLPKTGWVjYef+PM+IKQ4OmtndqVOmRLeOiZ/Bd7E9
sQb50YQKwg1UisViudIrkQga/ZERMgyHDtH9tWvpmpO77e11H+MVQrBXY+fzVHYJkGPA4T9eu8O/
dZ0iBr+z08RotQb27Kn7H02oMLZHn8mQEwCYHqX79lHFjlJmhSVA16dP0/Z2eS+XbjZAjFcIobMz
KKWRzdIiO7dP8uRk3Yfq4m3wOS530UVG9nZyUrx8gchkCuP0SgW1zl2UokSexOsbk6hKKrvOXmvg
1VcLX6tU3Yfq4mvw7di9IIThdr0CgsbebpACkFHIZoEDB4y+ilKF+jxCfRKVz0ung3X3UYSp7dYZ
8TH4bkvD7duD5ZmeR3/mlhZZPSkQnZ10PthOgedR7H7dOro/MGB6KfC5xIu0ONzT00OPi/JqfROl
etrZGQzdRcErbOv4942HwbdHbt+nP+fkZPAH9H1SuZP4vcCwd2fH8G2jncmYWL1SQW8fMOfXqVOk
rAnQKkz2HGUhVn0RpXqaSgHXXUdSG1qHaykBddWsPIp4GHx75I6amvGfVf54gk2xRKu9ruPECdMO
kWlpofONlRQBo7kPSDlwvcG/Jw/wzMAAcMst0YYeoFnf7bfX/W9Y/0GnuYArcYohksjCTEilSCSr
qwuYN8+oJy5dSgagoyO4PXuBUd2ThNqzfz9p2V9yCRn7q6+miECYd+95wKZNVPTRAP0z4mHwUylg
1arS27EksiBMF/YON24kb+/JJ8lQ8GpugIw9e4EcPqgzvfTYE7ZC2g39trSY23fdRZc69+yZeIR0
AKN34cJldrZGiiCUg1sIkE5TSSZX9tgxfaWADRto8dXOnfQaUWatP6JWSNurbBt4AV18DH5XFy2q
mpykP9/llwMrV1ISztZIabAfUKgRdiEAOw3Fqji0BubPL4zbb9tWvWMWSuNKpAOFK6Z5uwYkPgbf
RmtqMLxyJd1nLXxBKBd76l8OSgHHjgXDBYODDespNjWcqHfr8ru6Gr6yKj4GP50OTrEnJkgTI5+X
Kglh+vDUn8WzbJQC3vUu4JVXggu1LrjACKj5vpFo4PMPaGhj0nS4Olu7dpGjyAPA4cMN9ztVPGmr
lPqYUupFpdTLSqmvVPr9ImlrK1wKn81KlYQwM+wkbTJpzi1egfuhD1HyltEauO020sW/8UZauGWf
f4OD5E3ecANdS7VYbchkaM3EJz4BHDliVs9qDdx/PzmKWtO1W77ZAFTUw1dK+QDuAPCnAF4F8LRS
6n6t9XOVfN8CBgaMN28Ojv6Q7OFLslaYLjz17+oih+HkSarXnpwE7r2XtuEV3CyhOzpKVR0DA+a5
1lbaVvR3akuUdhJTaqVtA1DpkM4SAC9rrX8KAEqpfwJwOYDKGny3euLqqwsrJs44g7wtSdYKs4UN
/86dhTH9fD5o9PftoxW7PT20refRedjeHlTYFAek+hTTTgJMOWY227ASLJU2+GcD+A/r/qsAPmRv
oJTqBtANAAsXLpz9O7qJlrVrC+toN2wQCQVh7mAHIyxsyHAlTzZrul+xBs/4eGF1iJyb1SdMO4lR
ykivNPBvVGmDH3b2BzJcWusBAAMA0NHRUWTtcpm4CycAirG63WoEYS5wdZrCYC8foG2iul+JXn5t
Ye2kXbso9HbihPHwuUqnwX+jShv8VwG807p/DoDXKvqO7sKJri66cIKlvb2iby/EDNvBKBbjZW9e
KToHS3nzDV7+19A8/HCw+kop4Morm0LwrtIG/2kA71FK/RGAXwD4DIDPVvQdw6bGtqphgzQbFuoc
O4zDDgYrsZ4+HS60xSGddJoWXPG5yStv7S5bIqxWfTIZI5tuG3uO3Q8MUO6lgX+Xihp8rXVWKbUF
wMMAfAB7tdY/ruR7AihsUWdr30sFhDBb3DDOqlUk3cFJvMFBSs6yBDfH79nDP3mSjHxbW7gBidJl
FyqH3aicQ3CJBP22Bw+SmBr3PGhgO1LxhVda6+8D+H6l3yeUsB9RKiCE2WI3tc7lqMPVGWcEY7yc
3GPZjpMngZtvJg9/1y7aDyd4tQ4akLY203AjrGNWg4cV6hIeZNlOLFtGuZahITNwe56ZxTWoHWnu
lbZhP+L27fInEWZHW1swXu8abKAwubd5c2HJJocN2JCcOGHCBtksPZ/L0X2W/5BwT2UIE03r6Qk6
i8lkw5dyN7fBd39EMfbCXDA+Hmx5V8rjy2SAZ56J3l9HB/Dss2TsgaDuOq/q3L6dLrt2AW++Sc81
aFihLkmlyJgPDZEExtBQ0Ng3ibPY3Abf/hHXrAnG9WVKLMyUzk7y9jiGv25d9LoOO6wYRjIJXHgh
MDJSuBKc4/75PPDYY8C//Eth0/QGDCtUlXL/65mM8egfecQ8zp59Exh7oNkNPv+Ip09T3TOXZMqU
WJgN01kkZYcVXc4/H7jnHrp9zz2FBv9LXyKFzcceM8lCm0WL5NwtxnTCX3ZexqWvr2m+5+bueOWq
3bEcrbSWE2YLtzYsZQg4rBi2AvfFF4Hjx2kfd9xhFmcB5N0fO0bhBd83VSM269fP+mM0NaX+61wS
m8kU5mVsxscrfaRVo7k9fO5lm8sZHZNbbw3vTC8IlcBujL1vX7BGP5cjUb/2drP6e8sWk7B95BET
XkgkaFAATIjSXjEuYcpC3Bye/V93vf8VK4KvZf0jzyuskmpktNZ1c1m8eLGeU4aHtV6yRGulKA3m
+1rv2EGP87UgVIvhYa03baLzkFOznkfnor3N8uXmnOWLUvTaqP3Om0f7nTdPzmubqP/6pk3mO1Yq
+Jskk1r39mrd0kK/TwN8pwBGdBk2tnk9fDtZ5vasbXA9DKFB4fNu0SLy5HM5SgjanmcqRQlCN0HL
M1Re3GV787JQKxp3ESavjbjnnmAllF0y+4EPAG+8YfImHA5ugu9U6bAl4DWio6NDj4yMzM3ONm8G
+vuNsW+SsiqhSbCNz8GDwGuvUUyewzTcw8GW6/U8U8LpdsqSQoTiuD2IOcwbBudLtDbffzJZ1x2u
lFJHtdYdpbZrTg8/kwH27jU/aEuLGHuhvuBzcelS48kfOULX3d3G8O/ZAxw9asTZnn7anNfszW/b
JtLKpbBnQZ5Hl7B+xFwGm8sBixeb75s1kBr8u21Og59Omx/TVroThHrC7bMMAH/zNyTNy01S3FJB
W9RLpJXLx03g9vXRYMqDLEAFHomEmT2tX09VVE1U4NE8Bt+uUuAfd2KC/hhjY/S8/CGEWuOep2xg
mF/8Arj7bjI+WoeXCra0mGYcck6XR9jaifZ2k+fjXhnt7YXbNNHMqTli+GELLI4fB666ynj6nke9
RKX5iVArXJXNdevIkz94kFbavvpqcHtbvsFmyRKzGMht59lExqkqlCpnbZBy13jF8MOqFE6cCMbo
8nlK5I6Oimck1Ab7PM3lqKiAeysvWEAhBjtJ6xp7llsYGaGBo6/PrCRnFUc7mSvneGk4FBaTvgTN
YfDd+NzJk6Rf7ZLP059MmqAItYDPU+6mxMJoXKIJGKPu4nnAWWdRyCefp9fddJOJ8fPgEKbcGUfK
mfnYlVLXXGPsx+HD9HwT9tFoDoPPIml79pDHdPPN4Rl4QP4QQu1wV91y7N726sPgqpLXXjODQT4P
vPKKEVjzfbqwh98ECcYZ44bOwmY+9jaAsRcTE6RI+vDDTdlHozkMfiYDbN0a3m3e84DLLqPbBw/K
H0KoLXaDlF27gPvvL9yG2+pxjH90lGasYWqaAF37PsmGNLBW+5wR1mfYdfTsbVxee61p+2g0h3ga
/3hh+D7Q2wt873s0VbvxRgnnCPXBgw+GJ2U/8hEjudzdDSxcGAzz+H6hIFs2SwMDMzBA+jCssR8n
OHTm+zRw8u3WVgrfcHtJfjyRIMPOpa7r15vnmkgaGWgWD98WSXPJ582oLrXKQr2QTocbe6VoxvrD
H5pcE+vvu+WDdmjI981tDmEARnytVHVag1SjlIQ/h92ZCjCxeruHcF8fDZL79tFv4fvAbbfRd9Vk
5ZhMcxj8VAq4806qwrH/RE0UexOaDNuIKxXsYctqmRMTxuisWEFyyu97n2l3aPfOPXGCwj5hTs/Q
UHGD71ajNGobv2JVNakUefYcl5+YoM+4cKHpWQsYKeQmdQ6bw+ADdELfey/wxBPmsT/4A2D16tod
kyBE4S4EOn6cDPPb307nMUBG6ORJep5Dls8/Dzz0UHDhFSch9+8vTEICJKVcDDuezVVD+XzjlSIW
E5HLZGhVLRt2/m7f9a7gY80khRxC8xh8APj1r4P3x8YohillmEI9YhtrDjUoZRKynkdNUNwqnsnJ
YHkxYMIYdogCoHwAd3qLwi5rZmGxRixFDNO/z2SCvQhsbr4ZuPTS4PfdRM1Owmgug//e9wLPPRd8
rBFPXCFehAl75fOUTFyzJrwogatObGPW2gp86EPB/rlPPklhDrsc0Y1N27MNN87dSOFQd9YE0Gfn
dQ8uuRxw4EBQZLGRPu8MaC6D39sLPPBAcDorcXyh3rE9U1tDRymTPBwcpBnrb35DCV2t6TVjY8bA
T0wEQ5pAcGCwk7xhMW6+3cgJS/tzbN4MvPlm8Hl3YZt9e+XKxvu806S5DH4qRR7N4CDdX7SoMZNP
QrywPVNOvtqSvNw7l5OSHH7gEE4UXLapVGF7xWKz3kZMWLozF5ZIt1EKuPzyQqeQWbCgGkdaU5rD
4Ls/dqOdrIIQlny168Y7O01oh73/8XFyanzfLBKyDRmXKufzQUVOV1q5EXGlEz760aA0gi2RzihF
Yd877wz2DuaFbtxNrIlpfIMfpkAo4mhCo1Isnt7XFwz9/OAHFN7hGnK7yflb3kKeLGv22Fx+OYU/
G/U/EtaA3A5rDQ6SDeDvCjAD365dlPC+/Xb6ni64ADjzzNhEARp/pa1bitXfTydDJlPrIxOEmZFK
URhnfDx4bo+P02CwYQMZ8SeeMK368nl6vrubVoYuWEAev4tS9Fw6Xfv/CCtUuscR9ThAVXef+hTF
5vl7ee21wu144LzxRupcZbNnDw2khw7RQqu2tvr4PqpBOZ3Oq3VZvHjx9Nu1Dw9TV3nuQA9QB/od
O6a/L0GoJ/jc9n26Hh6mx3fsCJ7vfM4PDwdf43nBbQB6rKWFnm9t1XrTJrPfSn2GHTsK32N4WOtk
kj5HMmmej/rMw8Nar15d+HmSSa37++mzKEXX7nv19wdfs3q1+W6UMt+H/X4NBoARXYaNbfyQTpgC
YaPHJwUBCO/SBJBH6oZptAbuu4/q9t22iECwvp/r+lmTv1LrVIqtfB0cLAzDuKJmnFgGaD9uxQ1A
7UujpBC4Bh+gENaxY2YR2n330TUnx2Oiotv4Bh8oXGYek3icEAPCihDGxwu7YXF8mrHLD5UCPvhB
aobuDgTFDF0xfZ1ytHeKrXyNImzxVJQ4YiJhEq28Xx4geF/8umSSkrkssWBLWSQSZmVxkzuKzWHw
GanQEeIA98KNUohlWlqChmx0lAx8IgGsWlVcLryYd15uJ6gw4810dVHZ5OSkqZAJEz7j/doJ2Hze
lKYyAwPU0pQ/75VXBlco2wNOWxsluQEaCBpVO2gGNJfBF4Q4kEpRNVp/f/gKUoA81/Xr6fbYGPD3
f29W8t52G4VAFiyg5xYsIC0frgwaH6f1AFHeebmee1RIip9LpwtXxUYJn7nrFLhNJHv0dv/qiQn6
XC0tZpCwpRZ6esx30dcXqz7XYvAFoRHp6jL1+lyOPH8+cMstZMySSarR7+kJSgsoRZ5+T4+J9XP4
x9aUSSToAhR658U8d5ewWbcdDtq2jR7bubO48Jk9MNjrFDjk49bcv/YafcZ0mrrgnX8+PR62liFG
iMEXhEYkTDcmnab6cg5PsHGzZwFKkffLRg8Ids4C6PFcjso/Fy4M986jPPdSRIWDSgmf2XIQXKTB
2K9ljhyhCw9iTz1FA4W9liEGMXsXpaOmhDWgo6NDj4yM1PowBKGxiDKi/LgtpsYePK/KtT18xvNo
huDG7eeiIGLnTuCGG0xIpaMDuPBCk3y1BzA76crH9bWv0ePu5z1+PBjWCcP3aRBjmmiBplLqqNa6
o9R2zePhN0vHHkGYLnZM/dQpU+KYSpFHa8sIAMYodnebnrl79pjOWZ//fNAYlpukLec/2NZmKmTy
eeOJ79tHVTQc4tm8uTApzRr227cHG5ls3w788R8X/454UOOWj8lkLKQUXJrD4Jd7QgpCM2K3+NSa
jCcb7PFxU9ViozWFa7q7ybjygMCP2/+fcpK05fwH7YSpO6tgw71mDR2zK3MO0Gs4R8Ezk3weeOwx
k3Pgz6qUGbzmzyfte9v7525iMbMTs5JWUErdpJR6QSn1I6XU95RSZ1rPbVNKvayUelEptWL2h1qE
qMUaghAHuGqH1TFZZZO7PAGmjSJfkkkTJ9+7N2h829qC8gZ2U/CouHfYLCNqG84dcGkk8+ijwMaN
wFe/Wijz7HlBMTjPA84+2xj9XI7kjRMJY+zvuAO46y7SynHXH/h+7OL3wOw9/EcBbNNaZ5VS3wCw
DcCXlVLnA/gMgP8B4CwAjyml3qu1LhJgmwXTqRoQhGbBDqHYVTussunGwAEqVVy1im6zUbY933we
2LqVjObkpGmaHpWk5WPg2vawWQbj/k9Z3vmJJ6h1o5s8Boyk8ZIlQTE53wf+8z/Ntp5H5aXs4Wtt
KnA6O4Mlmr5Pye2YeffALA2+1voR6+6/AvjzqduXA/gnrfUEgP+rlHoZwBIAlVEnmk3VgCA0ImEh
FPs/kE4XtkZkGYH77zceb0tLMBTC0gt2xc6WLcDjj5v4etQxrFplOkjxLKNUdc/AgNH/d2FP/b3v
pfvt7cF6fI7H83EuWhRUEz1yhMJVvAKfB7gmStZOl7mM4a8D8O2p22eDBgDm1anHClBKdQPoBoCF
CxfO/N1lla0QJ9ww5uCgKaEEyCAmEkGjzytT7fBGNkthFMCUP3JfWzvJy8bbnlW4x7BgAdW8F5tp
2//TTAa4+urCDnX2KtpcjiQj7DBNZyd9Xg5h8WcaHTUlm3v2GL0cTgjfddf0vuMmpKTBV0o9BiCs
FcxXtdYHprb5KoAsgHv5ZSHbh9Z/aq0HAAwAVJZZxjELguC2RWRj7ftkCPn26tVkiLkax/aKAdqW
Pd6uLlP3zkbYjfd3dho5hNtuC4ZourrK17PKZChJazdmYSPPcs98m6+zWWDTJjMj4ePnmQmHkRYu
DO43BqJo5VLS4GutlxV7Xim1FsDHAVyiTVH/qwDeaW12DoAQ0WpBEGZElNyAayiXLDHeeBhakwfN
DVHSaVOx43nAsmVkmFMp4BOfMHHw06dJi2ftWrq/aFHh6tmBAWoysmZNUL6AQ0GnTgWP5U/+hGL5
k5MmyWx/Jj5eN1TFTE6a3r92iCiRkLzeFLMK6SilPgbgywAu1lr/znrqfgDfUkp9E5S0fQ+AI7N5
L0EQHMLaIrKHz0bz5MlgRzhOXtqe8333AQ89RNo7HAefmCCDy3LCmzdT7N/mgQfo2n5PzwOuuw74
yU9MSOWRqVQfG/2wFcAA8OyzZl9cWtndTWWVN90UrRvE5PNmPQHDmkLi3QOY5UrbqWRsEgALUvyr
1nrT1HNfBcX1swB6tNYHS+1PVtoKwgyxY+vHj1OilVez8iInXtl61lnhjbyVohj8Jz8J/OM/koFt
aaHHwyQauCTSrakP4+yzgUsvpZALH5/dU9bW+gHovu9Tx6pt22h2wQMIAPzhHwI//3nh8fNr7c8T
g3U55a60FWkFQWg2XPkCt349maTSS3cxElCY2HWNKD/27ncDP/2p2acddy+GfTw8G3jjjWAOguP1
LS3BZPHFF5v8wfr1hWqhvk/hG95PjPpbx09aQRAEIqzefWiIVqTm8/T4G2+QrszYGL2GtfG5Qodx
PXku33zpJbMNN1G3n+cY/DveAbz6anBbO8/wxhtUPcPJ3rY24JprzHvbss18LEpR6MmurVcKuP56
SlJLeXYk4uELQjPi6trYNfN2JQ/X8AMm4XnwoAnhuJ21orCFyfbsMTmEz34W+Pa3g3F1m2QSuPXW
oMInz04Aen970OHB5cYbaftduyg8pXWh4FuMEA9fEOKMuy4lqqrH1rDhxK/d/7YcY8/Mn099Y7mK
Rmvg3nuDEgpswHkmMDlJ8XzuVLV1azBMw+/PoSClTI1/KkVVSA88EBRS46oiFxFYFA9fEGKHLZvM
MXgugXSTqNOl2Gu5zHPNGiORYC/y4v6yYWWX8+aFtyIcGAgmgMOkne3P3KQCi+V6+LMSTxMEoQFh
b3/ZMhOyseWTuULGJZGgev0lS6L3XWyg4DLP7m4y3pdcAnz604WLq1xWr6bj7e42YZ9MplB9k2cO
YQKKIrAIQEI6ghBPUikKfbAhtPE8k9Dl8k2uqFm9moz1TMhmqZ7/iSeAf/5nel8O8dgePieIL7yQ
qnG4ft/NQ1xwQXCWwq8Nk3UQgUUAYvAFIb6ENUNXyjQHSadJDA0gQ3rzzWYlbhSlwkH5PMX1mVzO
zCZ8nwTYFiwIL6e0vfRczkg/cxgnLORjf1YRWBSDLwixJTMlXtvaGl67fvx40Hi7RtbzCo2/W69f
Ti7g0kvJyO/bRzMK1uVxYS/dbsruyj/w59q5M7wXb0wNPSMxfEGIIxwe4WqdxYtJDI09+0yGvGVb
kZJRiozsHXeQAQ573veB884Lf72N71NeACgdY2cvfeNG8uh9n65dY3/JJVTaecklZlATAIjBF4R4
YodHslng6aepJPLii6njVGcnLXY64wzjzTNam+RrOg2cf35w3+9/P8XTX3jBVM7Mm2cSvi0tJuZ+
5530Grvrli12NjAArFhhVD5TKVqodfgw1eK71TaSnC2KhHQEIY644RGtg8nb06eNvrzdcIQTqkND
1JAklQKWLg32oH3rW2kQ4WRqWMjFjqXv3Blc3btypWmOwlr9rgBbVHhGkrPF0VrXzWXx4sVaEIQq
MTys9aZNWieTWvs+XYz5p+fsbefN09rz6DnPo/vDw3RpbdVaKbru76fnfD+4zY4ddB12HK2t5n2T
SXps+fLg8SxfXv7ninqvJgXAiC7DxoqHLwhxhb1kV8fGbmhib3voEHnqtiZPOk1qlul00Gtvbzf3
gWA5pStq5lYLcXvENWuMZw8YqeZyP5dQgBh8QYg7toG0DbUdguF+sGvWAE8+aYz3iRP0PG/LMXN7
nzt3Bssp+/tJxsGOv7tN2O33D2uiIswIkVYQBCEabmvI8X0WOxsdNZLGrMjJcgmudIHd4Yrtja11
zzH9tjaqDOJrd9CJeQ19MUQ8TRCE2ZNOB7VtTp8mY8x9Y7kaZmiosDrGDtnYzcWzWVOJ42rchA0c
QFPr4FQTMfiCIASxvenOzqDuvF35YlfD2KEetzqG97doUWFDFbeMMmzgAKIHE2FaiMEXBMEQpiqZ
TpsYvp1sdaUK2tvNdu7+JiboPtfc5HLmtaUGjuPHTVctKbWcFWLwBUEwhC1c2rYt3KMOq4bhxCsn
ZdNpI3DGeF4wMRs2cNgVPqyI6XkU8hHvfsaIwRcEwTCbhUthg0VnZ7BrFssy2Auxwpq1uBU+vOBr
fHy2nzDWiMEXBMEwXVVJN97vDhapFGnubNlCA4GrfVMKWTk7p0hZpiAIMyMs3g+EDxazKauUksyS
SFmmIAiVZbbx/nKRlbNzhqhlCoIwMzjc4vsSbmkQxMMXBGFmSBephkMMviAIM0fCLQ2FhHQEQRBi
ghh8QRCEmCAGXxAEISaIwRcEQYgJYvAFQRBighh8QRCEmFBX0gpKqdcB/LzWxzED3gbg17U+iCoj
n7n5idvnBRr3M/+h1vrtpTaqK4PfqCilRsrRsWgm5DM3P3H7vEDzf2YJ6QiCIMQEMfiCIAgxQQz+
3DBQ6wOoAfKZm5+4fV6gyT+zxPAFQRBignj4giAIMUEM/hyjlPqiUkorpd5W62OpJEqpm5RSLyil
fqSU+p5S6sxaH1OlUEp9TCn1olLqZaXUV2p9PJVGKfVOpdRhpdTzSqkfK6W+UOtjqhZKKV8pNaqU
erDWx1IJxODPIUqpdwL4UwAnan0sVeBRAP9Ta/0nAH4CYFuNj6ciKKV8AHcAWAngfAD/Wyl1fm2P
quJkAVyvtT4PwEUAro7BZ2a+AOD5Wh9EpRCDP7fcAqAXQNMnRrTWj2its1N3/xXAObU8ngqyBMDL
Wuufaq1PA/gnAJfX+Jgqitb6l1rrZ6Zu/xZkAM+u7VFVHqXUOQD+DMA9tT6WSiEGf45QSl0G4Bda
62drfSw1YB2Ag7U+iOJNZqwAAAGdSURBVApxNoD/sO6/ihgYP0YpdS6ARQD+rbZHUhX6QA5bvtYH
Uimk49U0UEo9BmBByFNfBfBXAJZX94gqS7HPq7U+MLXNV0EhgHureWxVRIU81vQzOABQSv0egCEA
PVrrN2p9PJVEKfVxAL/SWh9VSnXW+ngqhRj8aaC1Xhb2uFKqHcAfAXhWKQVQeOMZpdQSrfVYFQ9x
Ton6vIxSai2AjwO4RDdvfe+rAN5p3T8HwGs1OpaqoZRqARn7e7XW36318VSBDwO4TCm1CsAZAOYr
pf5Ba/2XNT6uOUXq8CuAUupnADq01o0owlQWSqmPAfgmgIu11q/X+ngqhVIqAUpKXwLgFwCeBvBZ
rfWPa3pgFUSR17IfwG+01j21Pp5qM+Xhf1Fr/fFaH8tcIzF8YabcDuCtAB5VSh1TSt1d6wOqBFOJ
6S0AHgYlL7/TzMZ+ig8D+ByA/zX12x6b8nyFBkc8fEEQhJggHr4gCEJMEIMvCIIQE8TgC4IgxAQx
+IIgCDFBDL4gCEJMEIMvCIIQE8TgC4IgxAQx+IIgCDHh/wOQctb3X1CoCwAAAABJRU5ErkJggg==
"
>
</div>

</div>

</div>
</div>

</div>
<div class="cell border-box-sizing code_cell rendered">
<div class="input">
<div class="prompt input_prompt">In&nbsp;[20]:</div>
<div class="inner_cell">
    <div class="input_area">
<div class=" highlight hl-ipython3"><pre><span></span><span class="n">inputs</span> <span class="o">=</span> <span class="n">x</span><span class="o">.</span><span class="n">reshape</span><span class="p">(</span><span class="n">x</span><span class="o">.</span><span class="n">shape</span><span class="p">[</span><span class="o">-</span><span class="mi">1</span><span class="p">],</span><span class="mi">1</span><span class="p">)</span>
<span class="n">W1</span> <span class="o">=</span> <span class="n">npr</span><span class="o">.</span><span class="n">randn</span><span class="p">(</span><span class="mi">1</span><span class="p">,</span><span class="mi">4</span><span class="p">)</span>
<span class="n">b1</span> <span class="o">=</span> <span class="n">npr</span><span class="o">.</span><span class="n">randn</span><span class="p">(</span><span class="mi">4</span><span class="p">)</span>
<span class="n">W2</span> <span class="o">=</span> <span class="n">npr</span><span class="o">.</span><span class="n">randn</span><span class="p">(</span><span class="mi">4</span><span class="p">,</span><span class="mi">4</span><span class="p">)</span>
<span class="n">b2</span> <span class="o">=</span> <span class="n">npr</span><span class="o">.</span><span class="n">randn</span><span class="p">(</span><span class="mi">4</span><span class="p">)</span>
<span class="n">W3</span> <span class="o">=</span> <span class="n">npr</span><span class="o">.</span><span class="n">randn</span><span class="p">(</span><span class="mi">4</span><span class="p">,</span><span class="mi">1</span><span class="p">)</span>
<span class="n">b3</span> <span class="o">=</span> <span class="n">npr</span><span class="o">.</span><span class="n">randn</span><span class="p">(</span><span class="mi">1</span><span class="p">)</span>

<span class="n">params</span> <span class="o">=</span> <span class="p">{</span> <span class="s1">&#39;W1&#39;</span><span class="p">:</span> <span class="n">W1</span><span class="p">,</span> <span class="s1">&#39;b1&#39;</span><span class="p">:</span> <span class="n">b1</span><span class="p">,</span> <span class="s1">&#39;W2&#39;</span><span class="p">:</span> <span class="n">W2</span><span class="p">,</span> <span class="s1">&#39;b2&#39;</span><span class="p">:</span> <span class="n">b2</span><span class="p">,</span> <span class="s1">&#39;W3&#39;</span><span class="p">:</span> <span class="n">W3</span><span class="p">,</span> <span class="s1">&#39;b3&#39;</span><span class="p">:</span> <span class="n">b3</span> <span class="p">}</span>

<span class="k">def</span> <span class="nf">relu</span><span class="p">(</span><span class="n">x</span><span class="p">):</span>
    <span class="k">return</span> <span class="n">np</span><span class="o">.</span><span class="n">maximum</span><span class="p">(</span><span class="mi">0</span><span class="p">,</span> <span class="n">x</span><span class="p">)</span>

<span class="n">nonlinearity</span> <span class="o">=</span> <span class="n">np</span><span class="o">.</span><span class="n">tanh</span>
<span class="c1">#nonlinearity = relu</span>

<span class="k">def</span> <span class="nf">predict</span><span class="p">(</span><span class="n">params</span><span class="p">,</span> <span class="n">inputs</span><span class="p">):</span>
    <span class="n">h1</span> <span class="o">=</span> <span class="n">nonlinearity</span><span class="p">(</span><span class="n">np</span><span class="o">.</span><span class="n">dot</span><span class="p">(</span><span class="n">inputs</span><span class="p">,</span> <span class="n">params</span><span class="p">[</span><span class="s1">&#39;W1&#39;</span><span class="p">])</span> <span class="o">+</span> <span class="n">params</span><span class="p">[</span><span class="s1">&#39;b1&#39;</span><span class="p">])</span>
    <span class="n">h2</span> <span class="o">=</span> <span class="n">nonlinearity</span><span class="p">(</span><span class="n">np</span><span class="o">.</span><span class="n">dot</span><span class="p">(</span><span class="n">h1</span><span class="p">,</span> <span class="n">params</span><span class="p">[</span><span class="s1">&#39;W2&#39;</span><span class="p">])</span> <span class="o">+</span> <span class="n">params</span><span class="p">[</span><span class="s1">&#39;b2&#39;</span><span class="p">])</span>
    <span class="n">output</span> <span class="o">=</span> <span class="n">np</span><span class="o">.</span><span class="n">dot</span><span class="p">(</span><span class="n">h2</span><span class="p">,</span> <span class="n">params</span><span class="p">[</span><span class="s1">&#39;W3&#39;</span><span class="p">])</span> <span class="o">+</span> <span class="n">params</span><span class="p">[</span><span class="s1">&#39;b3&#39;</span><span class="p">]</span>
    <span class="k">return</span> <span class="n">output</span>

<span class="k">def</span> <span class="nf">loss</span><span class="p">(</span><span class="n">params</span><span class="p">,</span> <span class="n">i</span><span class="p">):</span>
    <span class="n">output</span> <span class="o">=</span> <span class="n">predict</span><span class="p">(</span><span class="n">params</span><span class="p">,</span> <span class="n">inputs</span><span class="p">)</span>
    <span class="k">return</span> <span class="p">(</span><span class="mf">1.0</span> <span class="o">/</span> <span class="n">inputs</span><span class="o">.</span><span class="n">shape</span><span class="p">[</span><span class="mi">0</span><span class="p">])</span> <span class="o">*</span> <span class="n">np</span><span class="o">.</span><span class="n">sum</span><span class="p">(</span><span class="mf">0.5</span> <span class="o">*</span> <span class="n">np</span><span class="o">.</span><span class="n">square</span><span class="p">(</span><span class="n">output</span><span class="o">.</span><span class="n">reshape</span><span class="p">(</span><span class="n">output</span><span class="o">.</span><span class="n">shape</span><span class="p">[</span><span class="mi">0</span><span class="p">])</span> <span class="o">-</span> <span class="n">t</span><span class="p">))</span>

<span class="nb">print</span><span class="p">(</span><span class="n">loss</span><span class="p">(</span><span class="n">params</span><span class="p">,</span> <span class="mi">0</span><span class="p">))</span>

<span class="n">optimized_params</span> <span class="o">=</span> <span class="n">sgd</span><span class="p">(</span><span class="n">grad</span><span class="p">(</span><span class="n">loss</span><span class="p">),</span> <span class="n">params</span><span class="p">,</span> <span class="n">step_size</span><span class="o">=</span><span class="mf">0.01</span><span class="p">,</span> <span class="n">num_iters</span><span class="o">=</span><span class="mi">5000</span><span class="p">)</span>
<span class="nb">print</span><span class="p">(</span><span class="n">optimized_params</span><span class="p">)</span>
<span class="nb">print</span><span class="p">(</span><span class="n">loss</span><span class="p">(</span><span class="n">optimized_params</span><span class="p">,</span> <span class="mi">0</span><span class="p">))</span>

<span class="n">final_y</span> <span class="o">=</span> <span class="n">predict</span><span class="p">(</span><span class="n">optimized_params</span><span class="p">,</span> <span class="n">inputs</span><span class="p">)</span>
<span class="n">plt</span><span class="o">.</span><span class="n">plot</span><span class="p">(</span><span class="n">x</span><span class="p">,</span> <span class="n">t</span><span class="p">,</span> <span class="s1">&#39;r.&#39;</span><span class="p">)</span>
<span class="n">plt</span><span class="o">.</span><span class="n">plot</span><span class="p">(</span><span class="n">x</span><span class="p">,</span> <span class="n">final_y</span><span class="p">,</span> <span class="s1">&#39;b-&#39;</span><span class="p">)</span>
</pre></div>

    </div>
</div>
</div>

<div class="output_wrapper">
<div class="output">


<div class="output_area">

    <div class="prompt"></div>


<div class="output_subarea output_stream output_stdout output_text">
<pre>361.238545336
{&#39;W1&#39;: array([[-1.04822356, -0.50365952, -0.99694494,  0.98227972]]), &#39;b1&#39;: array([ 4.78361845, -1.08061677,  1.27453929,  4.81991562]), &#39;W2&#39;: array([[-4.17283061, -3.25142667, -1.75741222, -3.65814981],
       [ 2.03801363,  1.04339347, -2.17499704, -2.95023117],
       [ 1.95205777,  0.87350044, -1.61815863, -2.90276696],
       [ 0.28546842,  3.68840033,  4.15099628,  3.37168634]]), &#39;b2&#39;: array([ 3.12534049,  0.31222713,  1.16031296,  0.6667576 ]), &#39;W3&#39;: array([[ 13.56277971],
       [ 18.00861121],
       [ 11.14465696],
       [ -5.91832481]]), &#39;b3&#39;: array([-1.30607817])}
7.99260111674
</pre>
</div>
</div>

<div class="output_area">

    <div class="prompt output_prompt">Out[20]:</div>




<div class="output_text output_subarea output_execute_result">
<pre>[&lt;matplotlib.lines.Line2D at 0x10f2f9da0&gt;]</pre>
</div>

</div>

<div class="output_area">

    <div class="prompt"></div>




<div class="output_png output_subarea ">
<img src="data:image/png;base64,iVBORw0KGgoAAAANSUhEUgAAAXwAAAD8CAYAAAB0IB+mAAAABHNCSVQICAgIfAhkiAAAAAlwSFlz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"
>
</div>

</div>

</div>
</div>

</div>
<div class="cell border-box-sizing code_cell rendered">
<div class="input">
<div class="prompt input_prompt">In&nbsp;[21]:</div>
<div class="inner_cell">
    <div class="input_area">
<div class=" highlight hl-ipython3"><pre><span></span><span class="n">plt</span><span class="o">.</span><span class="n">plot</span><span class="p">(</span><span class="n">x</span><span class="p">,</span> <span class="n">final_y</span><span class="p">,</span> <span class="s1">&#39;b-&#39;</span><span class="p">)</span>
</pre></div>

    </div>
</div>
</div>

<div class="output_wrapper">
<div class="output">


<div class="output_area">

    <div class="prompt output_prompt">Out[21]:</div>




<div class="output_text output_subarea output_execute_result">
<pre>[&lt;matplotlib.lines.Line2D at 0x10f587eb8&gt;]</pre>
</div>

</div>

<div class="output_area">

    <div class="prompt"></div>




<div class="output_png output_subarea ">
<img src="data:image/png;base64,iVBORw0KGgoAAAANSUhEUgAAAXwAAAD8CAYAAAB0IB+mAAAABHNCSVQICAgIfAhkiAAAAAlwSFlz
AAALEgAACxIB0t1+/AAAADl0RVh0U29mdHdhcmUAbWF0cGxvdGxpYiB2ZXJzaW9uIDIuMS4wLCBo
dHRwOi8vbWF0cGxvdGxpYi5vcmcvpW3flQAAIABJREFUeJzt3Xuc1nP+//HHqyIhokIqOpAtIbsj
KaeNHFvnXfk6rrX5oh+tTUqOsWmcDwk5LIuVQ9lI1BSSMEyplEJYq4Mai91yKFPv3x+vma/WTjU1
13W9r+vzed5vt7ldc01X83lOw2s+8z683hZCQEREkq9O7AAiIpIbKvgiIimhgi8ikhIq+CIiKaGC
LyKSEir4IiIpoYIvIpISKvgiIimhgi8ikhL1YgdYU5MmTUKrVq1ixxARKSjTpk37IoTQdH2vy6uC
36pVK8rKymLHEBEpKGb2aU1epyEdEZGUUMEXEUkJFXwRkZRQwRcRSQkVfBGRlFDBFxFJCRV8EZGU
yKt1+JJZIcCiRfDee7BgAXz1FSxbBptsAvXrQ5MmsNNO0Lo17LwzmMVOLCLZpIKfMJ9+Cs89BxMn
wuTJ8PXXNft7jRvDPvtA9+7wq1/BbrvpB4BI0qjgJ0BFBTz1FIwYAa+84h9r0wZOOgn23hvat/c7
+G23hYYN/fUrVsDSpfCPf8AHH8Dbb0NpKfTv72+77QZnnw1nngnbbx/1yxORDLEQQuwM/6eoqCio
tULNrVoFDz0EQ4bAxx9D27ZeoE85BXbZZeM+52efwdix8PjjMGUK1KsHp54Kl10G7dplNL6IZIiZ
TQshFK3vdZq0LVCvvw6dO8M55/hY/DPP+J36FVdsfLEHaNkSzjsPXn0V5s6F88+HJ57w3xLOOAMW
Lszc1yAiuaWCX2BWroQBA2D//X1IZuRIePNNOO44qJPh7+bPfga33w5//zv88Y/w5JM+1DN0qOcQ
kcKigl9APvsMunWD4mK/s587F04+OfuTq9tvDzfc4Kt9evSAgQOhSxeYMye71xWRzFLBLxDTpsG+
+/qwzahRPkG75Za5zdCmjQ8dPfOML/P8xS/8N4A8mgYSkXVQwS8AJSVw4IGw6aYwdSqccELcPMcd
B7Nnw+GHQ9++Pqn7zTdxM4nI+mWs4JtZXTN7x8zGVj5vbWalZvahmT1hZptm6lppUlICxxzjE7Gl
pdCxY+xEbrvt4G9/8xVCI0dC164+5CQi+SuTd/gXAXPXeF4M3BpC2BX4CvhdBq+VCpMne7Fv1w4m
Tcq/9fBmPp7/wgs+sdu1q4/zi0h+ykjBN7MWwNHA/ZXPDegOPF35koeB4zJxrbSYN8+HTlq39mLf
pEnsRGt3+OG+jLOiwlcPTZ0aO5GIVCdTd/i3Af2B1ZXPGwNfhxAqKp8vAJpn6FqJV14ORx/tPW+e
fz6/i32VvfaCN96Apk3hsMP8B4CI5JdaF3wz6wksDSFMW/PD1by02rUcZtbbzMrMrKy8vLy2cQre
qlW+U3bRInj2Wb/DLxStWnmh32knOOoo3xwmIvkjE3f43YBjzOzvwEh8KOc2oJGZVfXqaQEsqu4v
hxBGhBCKQghFTZs2zUCcwjZkiA/hDBvma90Lzfbbw0svQfPmcMQRPtEsIvmh1gU/hDAwhNAihNAK
6AW8FEI4FXgZOKnyZWcCY2p7raSbPBmuvtqXOZ59duw0G69ZMy/6223nQ1MffBA7kYhAdtfhXwpc
bGbz8TH9B7J4rYK3bJn3qmnbFu6+u/BbEzdvDuPHe7uHI4/0NhAiEldG2yOHEF4BXql8/2OgcyY/
f5INGODr2F97zVsYJ0Hbtt558+CDoWdPePll2GKL2KlE0ks7bfPA5MkwfDhcdJGvZU+Szp19Y9a0
aT5MpTYMIvGo4Ee2ciX07u19aq67Lnaa7DjmGLj+eu+2ecMNsdOIpJdOvIrsjjt8UnPcuGQPd1xy
CUyf7jtzO3XyzVoiklu6w4/o889h8GBfyXLkkbHTZJcZPPAA7LEH9OoFH30UO5FI+qjgRzRwIHz/
Pdx6a+wkubHFFt5aGbzo6xAVkdxSwY9k2jQ/j7ZvX9h119hpcqdNG3jwQSgr83NyRSR3VPAjGTQI
tt3WH9Pm+OP9rNybb/ZOmyKSGyr4EUyZ4puSLr0Utt46dpo4brrJx/PPPBMWL46dRiQdVPBzLAS/
q99hB+jTJ3aaeBo0gCeegOXLvehrfb5I9qng59iECX6Hf/nlsPnmsdPE1b69T1iXlMA998ROI5J8
FvLo1qqoqCiUlZXFjpE1IfjO0/JyX3u/qQ59JATvqjl1Ksyc6e0YRGTDmNm0EELR+l6nO/wcKinx
1SlXXKFiX8UM7r8f6taF3/4WVq9e/98RkY2jgp9DxcWw445w2mmxk+SXli19x/GUKXD77bHTiCSX
Cn6OlJV5j/i+faF+/dhp8s8ZZ8CvfuVr8+fNi51GJLdy9ZutCn6O3HCDL8E899zYSfKTGYwY4at3
evfW0I6kR0UFHHhgbhYuqODnwPz5MGoUnHcebLVV7DT5a4cdfDPWlCned0ckDW67zRct5OKEVxX8
HLj5ZqhXDy68MHaS/HfWWX5gyiWXaEOWJN+XX3pb9KOPhhNPzP71VPCzbMkS+POffXNRs2ax0+Q/
M7j3Xm8q17dv7DQi2VVcDP/+t58XkQsq+Fl2553eFbJfv9hJCke7dr509ckn/YhEkSRatszPr+7V
y9uM5IIKfhYtWwZ33eXNwtq1i52msFxyCey+uzdZW748dhqRzHvsMa8RuRzqVcHPovvug6+/9iZp
smE23dT//RYs8Lt9kSQJwe/uO3WCfffN3XVrXfDNbDMze8vMZprZHDO7pvLjrc2s1Mw+NLMnzCxV
e0tXrvQ+MQcf7O0UZMPtt58vY73zTpg1K3YakcyZPdv/m/79733eKlcycYe/AugeQtgL6AQcYWZd
gGLg1hDCrsBXwO8ycK2C8fjjfnequ/va+dOfoFEjuOACddSU5Bg1ygv9CSfk9rq1LvjBVY2yblL5
FoDuwNOVH38YOK621yoUq1f7Rqs999Rh3bW17bYwdCi89pqPeYokwahRcMABvvcklzIyhm9mdc1s
BrAUKAE+Ar4OIVRUvmQB0DwT1yoE48bBe+9B//65/XUtqc4+24fFLrkE/vWv2GlEaueDD3xIJxfr
7n8qIwU/hLAqhNAJaAF0BtpX97Lq/q6Z9TazMjMrKy8vz0Sc6IqLYeed4Te/iZ0kGerU8dVOS5bA
1VfHTiNSO+PH+2PPnrm/dkZX6YQQvgZeAboAjcysXuUftQAWreXvjAghFIUQiprmYm9xlr3+ug8/
XHwxbLJJ7DTJUVTkE1x33gnvvhs7jcjGmzQJWreGNm1yf+1MrNJpamaNKt9vABwKzAVeBk6qfNmZ
wJjaXqsQFBf7uPPvUjVFnRtDhngDuj59NIErhamiAl55BQ45JM71M3GH3wx42cxmAW8DJSGEscCl
wMVmNh9oDCS+Hdbs2fDss3DRRbDFFrHTJE/jxr4F/dVX4a9/jZ1GZMNNn+7zULEKvo44zKDTToMx
Y+DTT/0uXzJv1Sro0gUWLvTJry23jJ1IpOaKi2HAAJ+P2m67zH1eHXGYYx9/DCNH+kYhFfvsqVvX
x/EXL85dwymRTHnzTdhll8wW+w2hgp8hN97oxejii2MnSb4uXeDUU73t9CefxE4jUjMhQGlpblsp
/JQKfgYsXuwtkM86y8+slewbOtR/wPbvHzuJSM0sWOC1QgW/wN16K/zwg4pPLrVo4W0rnn4aJk+O
nUZk/UpL/VEFv4B99ZV3vTv5ZGjbNnaadOnXD1q29INSVq2KnUZk3UpLvQvsXnvFy6CCX0vDhnm/
9gEDYidJn803955FM2b4kJpIPisthb33hvr142VQwa+Fb76B22/3LdJ77hk7TTqdfDJ06waDBvlR
cSL5aNUqmDYt7nAOqODXyv33wz//CZddFjtJepnBbbfB0qV+GLRIPvroI/j2W7/Dj0kFfyOtXAk3
3QQHHeQHdUg8RUXw29964Z8/P3Yakf9WdYBP7JEAFfyN9Oijvsxq4MDYSQS8z079+josXvLTrFne
9bV9dX2Ec0gFfyOsWuXrwH/+czjssNhpBPwgiUGDvLXFpEmx04j8p1mzoF07aNAgbg4V/I0wejR8
+KHf3euAk/zRt6+fQ9Cvn586JpIv3n03/nAOqOBvsBD87r5dOzj++NhpZE2bbeb9dWbM8CE3kXyw
bJn32tpjj9hJVPA32MSJ3uK0f3/f2i/55eSTYZ99fOXUt9/GTiPibdNBd/gFqbjY++WcdlrsJFKd
OnW8qdrChd7yQiS2qhPaVPALzLRpPiHYt2/c3XKybgcc4MNtQ4d633GRmGbNgoYNfX4pNhX8DVBc
7EfsnXtu7CSyPkOHwvff69BziW/WLB+/z4cFHir4NTR/PowaBeedB1ttFTuNrE+7dv69uu8+eO+9
2GkkrULwgp8Pwzmggl9jw4b5JO2FF8ZOIjV15ZV+trDaVkssCxb4GbYq+AXkm2/goYfgpJOgWbPY
aaSmmjTxzVjPP6/NWBJHvrRUqKKCXwOPPeY/pS+4IHYS2VAXXqjNWBJPVcHv2DFujiq1Lvhm1tLM
XjazuWY2x8wuqvz4tmZWYmYfVj5uU/u4uRcC3HWXH1rQtWvsNLKhtBlLYpo1y284tt46dhKXiTv8
CuCPIYT2QBfgAjPrAAwAJoUQdgUmVT4vOKWl/k07//z8mGWXDVe1GWvQIG3GktzKl5YKVWpd8EMI
i0MI0yvfXwbMBZoDxwIPV77sYeC42l4rhr/8xRse9eoVO4lsrDp1vJX1ggXajCW5s2IFzJuXsIK/
JjNrBewNlALbhxAWg/9QALZby9/pbWZlZlZWXl6eyTi1tmIFjBwJxx2npZiF7sAD/fuozViSK3Pn
emfdfOihUyVjBd/MtgRGAX1DCDU+bC6EMCKEUBRCKGratGmm4mTEuHF+SPnpp8dOIplQXAzffaeT
sSQ3qiZsE1fwzWwTvNg/FkIYXfnhJWbWrPLPmwFLM3GtXHrkEdh+e+jRI3YSyYR27eCcc+Dee/3I
OZFsmjXLW7C0axc7yY8ysUrHgAeAuSGEW9b4o2eBMyvfPxMYU9tr5dK//gVjx8Ipp0C9erHTSKZc
eaV/P6+4InYSSbqZM305Zj7Vj0zc4XcDTge6m9mMyrejgKFADzP7EOhR+bxgjBsHP/wAv/517CSS
STvuCH/4Azz+OLzzTuw0kmT51FKhSq1/9oQQXgPWtmDxkNp+/lj+9jcfztl339hJJNP694d77oEB
A2D8+NhpJIk+/xyWLvX9O/lEO22rsWKF3+Efc4wOOUmirbf2NfkTJqjlgmRHvrVUqKKCX42XXoLl
y30ZnyTT+edDy5Z+lx9C7DSSNDNn+qMKfgF47jnvsnhIwQ5Iyfpsthlcey2UlcHTT8dOI0kzaxY0
bw6NG8dO8p9U8KtRUgK//KVOtUq6007zVRSXXeYT9CKZMnNm/o3fgwr+f/nkEz/sRGvvk69uXW+s
Nn8+PPBA7DSSFCtX+i7bfBvOARX8/1JS4o8q+Olw9NGw//5wzTV+7oFIbc2ZAxUVusMvCCUlPvb2
s5/FTiK5YOYtFz7/HG67LXYaSYK33/bHffaJm6M6KvhrWLXKV+j06KFWyGnStSsce6wX/i++iJ1G
Ct1bb8G220KbNrGT/DcV/DXMng1ffgndu8dOIrk2ZIgP6Vx/fewkUujeegs6d87Pm0YV/DVMneqP
3brFzSG516GDd0UdPhwWLoydRgrV8uU+ht+5c+wk1VPBX8PUqX5IeevWsZNIDFdd5ZNtf/pT7CRS
qKZP97OT83H8HlTw/8PUqX53n4+/ikn2tW7t7ZPvv9+X54psqHyesAUV/P+zcCF8+qmGc9Lu8sv9
SMTBg2MnkUL05puw007eeDEfqeBX0vi9gC/JPf98P8v4/fdjp5FCEgK8+ioccEDsJGungl9p6lTY
fHPo1Cl2EoltwAA/uP6qq2InkUIyb563RD744NhJ1k4Fv9LUqT6zvskmsZNIbNttBxddBE888WOb
W5H1mTzZH1Xw89zKlf4/tg47kSr9+nnf/CuvjJ1ECsUrr/iQYNu2sZOsnQo+8N573i1x771jJ5F8
sc02XvTHjPGNNCLrsno1vPwyHHRQfq/yU8EHZszwR43fy5ouugiaNNGB57J+06b5+P2RR8ZOsm4q
+Phh1ptvDrvsEjuJ5JOGDX0Cd8IEX30hsjbPP+939kccETvJumWk4JvZg2a21Mxmr/Gxbc2sxMw+
rHzcJhPXyoYZM7yVqc6vlZ86/3zffX355ToKUdZu7FjYbz//jTCfZeoO/yHgpz/bBgCTQgi7ApMq
n+edELzgazhHqtOggRf7KVP8Tl/kpxYu9CGdo4+OnWT9MlLwQwivAl/+5MPHAg9Xvv8wkJdHgn/y
Cfz73yr4snbnnAM77+xj+brLl5966il/PPHEuDlqIptj+NuHEBYDVD5ul8VrbbSqCVut0JG12XRT
X5759tt+wL3Imh5/3OvHbrvFTrJ+0Sdtzay3mZWZWVl5eXnOrz9jho/dd+yY80tLATnjDJ/Uv/JK
X4InAvDxx75st1ev2ElqJpsFf4mZNQOofFxa3YtCCCNCCEUhhKKmTZtmMU713nnHjzNs0CDnl5YC
Uq+et1qYORNGj46dRvLFgw/66pyTT46dpGayWfCfBc6sfP9MYEwWr7XRNGErNXXKKdC+vRf+Vati
p5HYVqyA++6Dnj19jqcQZGpZ5uPAG8BuZrbAzH4HDAV6mNmHQI/K53nliy9gwQIVfKmZunXhmmt8
Z/bIkbHTSGxPP+2brS64IHaSmrOQR8sOioqKQllZWc6uN3GiH1g+cSIcckjOLisFbPVqn6D77jsv
/PXqxU4ksXTt6jeN8+b5GQoxmdm0EELR+l4XfdI2pqoVOnvtFTeHFI6qw1E+/BAeeSR2Goll+nR4
4w3fmBe72G+IAoqaeTNmQIsW+b87TvLLMcdAUZEX/pUrY6eRGO66y9uxnHVW7CQbJtUF/513tP5e
NpwZXHst/P3vvkpD0uXLL+Gvf4XTToNGjWKn2TCpLfjffedjb5qwlY1x+OE+hnvddfD997HTSC49
+KB/zwtpsrZKagv+7Nk+AaeCLxuj6i5/4UIYMSJ2GsmV1avh7rv93No994ydZsOltuC/844/akhH
Nlb37n6c3ZAh8O23sdNILrz4ou+uLcS7e0hxwZ8xA7baClq1ip1ECtm118KSJT6JJ8k3fDjssAMc
f3zsJBsn1QW/U6f8Po5M8t/++/t4fnExLFsWO41k0z/+AS+8AL/7nTfUK0SpLPirVnlPFA3nSCYM
Hgz//CfccUfsJJJN99/v7bF///vYSTZeKgv+/Pk+5qoJW8mEzp19bf5NN8HXX8dOI9lQUQEPPOBH
GBZK35zqpLLg69ByybTBg73Y33JL7CSSDWPHwqJFcO65sZPUTioL/jvvwCabQIcOsZNIUuy1F5x0
Etx2mw/vSLLcfz/suGNhHGO4Lqks+DNmwO67F+7Ei+Snq6+G5cvhxhtjJ5FMKi/35ZhnnFH4zfJS
W/A1nCOZtvvu8D//A3fe6Us1JRmeftoXepxySuwktZe6gr94sf/PqBU6kg1XXeUHYwzNu9MfZGP9
9a/+w3yPPWInqb3UFXxN2Eo27bqr/+p/993edkEK26efwmuv+W9uSdizk9qCrx74ki1XXOFDAEOG
xE4itVV1slkShnMghQX/nXegdWvYeuvYSSSpWreGc87x804//TR2GqmNZ57xsw9at46dJDNSV/Cn
T4df/CJ2Ckm6QYP8JKRrr42dRDbW4sVQWgrHHhs7SeakquB//TV89BH8/Oexk0jStWjhm3Qeesh3
dkvhGTvWH1XwC1TV+L0KvuTCwIG+12Pw4NhJZGOMGeNDOR07xk6SOVkv+GZ2hJm9b2bzzWxAtq+3
LtOn+6OWZEou7LAD9OkDjz4Kc+fGTiMbYvlymDjReyQlYXVOlawWfDOrC9wFHAl0AE4xs2gNDaZP
91+1t9suVgJJm/79YYstfBeuFI6SEt9PkaThHMj+HX5nYH4I4eMQwkpgJBDtn3D6dA3nSG41aQJ9
+8KTT8K0abHTSE09+yxss42fd5Ak2S74zYHP1ni+oPJj/8fMeptZmZmVlZeXZy3IN9/4oeUq+JJr
/fpB48Z+tx9C7DSyPiHA+PFw2GHeZDFJsl3wqxv9+o//5EMII0IIRSGEoqZNm2YtyMyZ/o1UwZdc
23pruPJKeOklLySS3+bM8SWZhx0WO0nmZbvgLwBarvG8BbAoy9esVtWv0yr4EsP//i+0bet3+atW
xU4j6zJhgj/26BE3RzZku+C/DexqZq3NbFOgF/Bslq9ZrdJSXzWx444xri5pt+mmcP318O678Mgj
sdPIupSUwM9+Bi1brv+1hSarBT+EUAH0AcYDc4EnQwhzsnnNtXnjDdhvv2QtsZLCctJJfhzi5ZfD
d9/FTiPV+f57mDw5mcM5kIN1+CGEcSGEdiGEtiGEP2X7etVZuhQ+/hi6do1xdRFn5oejLFwIt98e
O41UZ+pU/2GcxOEcSMlO2zfe8Mf99oubQ+TAA30zz/XX+0lKkl9KSnxlzsEHx06SHako+K+/7t9E
NU2TfDB0qO/kvO662EnkpyZM8BvDLbeMnSQ7UlHw33jD2ylstlnsJCLQvr23Tx4+XI3V8kl5ubdP
T+r4PaSg4K9cCWVlGs6R/HL11b5y57LLYieRKhMn+qMKfgErLfVJmIMOip1E5EfNmsEll8BTT/mQ
o8Q3YYK3U0jyXp3EF/xJk/wgiqROwkjhuuQS3xfyhz/A6tWx06RbCD5he+ihULdu7DTZk4qC//Of
+09ukXyyxRZ+7u1bb8Hjj8dOk27z5vly2UMPjZ0kuxJd8JcvhzffhO7dYycRqd7pp/sNyYAB8O23
sdOkV9X4fVLX31dJdMF/5RWoqIBDDomdRKR6derArbfCggVwyy2x06TXxInQpk1yDitfm0QX/DFj
oGFDTdhKfjvwQDjhBF+fvyhKa8F0q6iAl19O/nAOJLjgr14Nzz0HRx4J9evHTiOybjfcAD/84H12
JLfefhuWLUv+cA4kuOCXlsKSJck7okySqW1buPBCeOihH89eltyYONH7HP3yl7GTZF9iC/5TT3k7
haOOip1EpGYGDfKTsS6+WCdj5dLEiT5x3rhx7CTZl8iC/8MP8Oij3qSqUaPYaURqplEjuOYab887
ZkzsNOmwfLm3XknD+D0ktOC/8IL3xTjrrNhJRDZM797QoYNvylq5Mnaa5JsyxW8QVfAL2H33wfbb
w+GHx04ismHq1YObb/amasOGxU6TfBMn+qKObt1iJ8mNxBX8OXNg7Fg477zknTgv6XDEEX6zMngw
fPFF7DTJNnEi7L8/NGgQO0luJK7g33gjbL459OkTO4nIxrv5Zh9fvuaa2EmSa8kSmDUrPcM5kLCC
P2uWHxB97rnpmHGX5Np9dx/Pv/tumDs3dppkmjTJH9O0Ez8xBT8EX8e8zTbavCLJcM013mCtX7/Y
SZLphRegSZNkt0P+qVoVfDP7tZnNMbPVZlb0kz8baGbzzex9M8v69Ontt/tytiFDYNtts301kexr
2tRvXsaN817tkjmrVsGLL/p8SZLbIf9Ube/wZwMnAK+u+UEz6wD0AnYHjgCGm1nW/llLS30Z27HH
wu9/n62riOTehRd6U6+LL/aeL5IZZWU+IZ62jZm1KvghhLkhhPer+aNjgZEhhBUhhE+A+UDn2lxr
XerU8Zn2P//Zt0iLJEX9+nDTTb767J57YqdJjnHjvG4k+TjD6mRrDL858NkazxdUfiwr9tnHu93p
kBNJouOO84nFK67QMs1MGTcOunRJ3+KO9RZ8M5toZrOreVtXW7Lq7rOr7Q5iZr3NrMzMysrLy2ua
WyQ1zHyOatkyL/pSO0uW+JBO2oZzAOqt7wUhhI1ZpboAaLnG8xZAtZ2+QwgjgBEARUVFahklUo3d
d/e9JXfc4cuOO3WKnahwvfiiP6ax4GdrSOdZoJeZ1Tez1sCuwFtZupZIKlx9tQ9BXHihumnWxrPP
+uHxafyhWdtlmceb2QJgP+B5MxsPEEKYAzwJvAe8CFwQQlhV27AiadaokS87njIFnnwydprC9M03
vv7++OPTucDDQh7dKhQVFYWysrLYMUTy1qpVvkihvBzmzfONWVJzo0fDiSfCSy8l68ATM5sWQiha
3+sSs9NWJA3q1oU77/RDz4uLY6cpPKNH+7DYAQfEThKHCr5IgenWDU491c/B/eST2GkKx8qVfs71
scd6G+o0UsEXKUDFxd7+u08fTeDW1KRJ8O9/wwknxE4Sjwq+SAFq3hyuu843ED39dOw0heHRR31z
ZpraIf+UCr5IgerTB37xC1+m+a9/xU6T35Ytg2eegZNP9nYVaaWCL1Kg6taFe++FpUth4MDYafLb
qFHw3Xdw+umxk8Slgi9SwKru8O+5B954I3aa/PXII9C2Ley3X+wkcangixS4wYN9TL93b1+JIv/p
s8+8ueLpp6dzs9WaVPBFClzDhjB8OMye7cVf/tO99/rjmWfGzZEPVPBFEuBXv4KzzoLrr/cDgcSt
XAn33Qc9e0KrVrHTxKeCL5IQt90GLVrAGWfAt9/GTpMfRo3ySe3zz4+dJD+o4IskxNZb+6lvH3wA
AwbEThNfCH6OQNu26TvZam1U8EUSpHt3+H//z/vtjB0bO01cr7ziw1v9+vlxhqKCL5I4N9zgvd7P
OAM+/TR2mniuvx522MHnNsSp4IskzGabwVNPQUUF/OY36VyqWVoKJSXwhz/4v4c4FXyRBNplFx/P
f+st+OMfY6fJrRCgf3/Yfns477zYafKLCr5IQp14ot/hDhvmO3HTYuxYePVVuOoq36MgP9KJVyIJ
VlHh/d/Hj/fOmklfrfL997DXXv7+7NneQjoNdOKViFCvHowcCR06wK9/DbNmxU6UXUOG+LLUYcPS
U+w3hAq+SMI1bOjDHFtt5b3g582LnSg7Zs+GoUP9NLAePWKnyU8q+CIpsNNOfuJTnTpwyCHw0Uex
E2XWd99Br15+wMktt8ROk78gpnjXAAAGX0lEQVRqVfDN7EYzm2dms8zsGTNrtMafDTSz+Wb2vpkd
XvuoIlIb7drBxImwYgUceCC8+27sRJkRAlx0EcyZA3/5C2y3XexE+au2d/glQMcQwp7AB8BAADPr
APQCdgeOAIabWd1aXktEaqljR9+BCnDAATBlStQ4GXH77d4g7dJL4XDdWq5TrQp+CGFCCKGi8umb
QIvK948FRoYQVoQQPgHmA51rcy0RyYyOHeH1130Xao8e8NBDsRNtvNGj4eKL/WDyIUNip8l/mRzD
Pxt4ofL95sBna/zZgsqPiUge2HlneO016NYNfvtb36C0YkXsVBtm1Cg/o7ZzZz/RSv1y1m+9/0Rm
NtHMZlfzduwarxkEVACPVX2omk9V7YJ/M+ttZmVmVlZeXr4xX4OIbIQmTXx9fv/+vjFr331hxozY
qWrmgQd+LPbjx8Pmm8dOVBjWW/BDCIeGEDpW8zYGwMzOBHoCp4Yfd3EtAFqu8WlaAIvW8vlHhBCK
QghFTZs2rd1XIyIbpF49KC6G556DJUtgn33giivgm29iJ6veihVwwQVwzjm+2mj8eG8LLTVT21U6
RwCXAseEENY8cuFZoJeZ1Tez1sCuwFu1uZaIZE/Pnr7KpVcvuO462G03X/GyenXsZD96+20/tH34
cG95/PzzsOWWsVMVltqOeg0DGgIlZjbDzO4BCCHMAZ4E3gNeBC4IIayq5bVEJIu23dbHwl99FXbc
0c+Abd/eV8B8/328XIsW+RxDly7w1Vf+28iNN/pvJ7Jh1EtHRP7L6tU+KTp0KEyf7mvbTz/dfwjs
sUduMsyd63fzDzwAP/wA557rv300arT+v5s2Ne2lo4IvImsVArz8Mtxxhw+hVFT4ss6jjoIjj4Su
XWHTTTN3rY8/hjFj/IfN66/75z7lFLjySmjTJjPXSSIVfBHJqC++8EZso0f7ks4ffvCC3KmTT/bu
sYefH9umDTRvDvXrV/95QvBJ4YULvdHZ++/7+PzUqf4x8M/ZqxecfTZoLcf6qeCLSNYsW+a9eV5/
3Yv1tGn+sTU1aOC9bRo08CIP3vPmn//871O4Wrb0PQHduvlvD7qb3zA1Lfia9hCRDdawIRx3nL+B
j/kvXOhDMh99BJ9/7hOsX33lRd7M3+rXh8aN/a1ZM+/vs+uuPmEs2aeCLyK1VqeO36W3bAkHHRQ7
jayNNiOLiKSECr6ISEqo4IuIpIQKvohISqjgi4ikhAq+iEhKqOCLiKSECr6ISErkVWsFMysHPo2d
YyM0Ab6IHSLH9DUnX9q+Xijcr3nnEMJ6uw7lVcEvVGZWVpM+Fkmirzn50vb1QvK/Zg3piIikhAq+
iEhKqOBnxojYASLQ15x8aft6IeFfs8bwRURSQnf4IiIpoYKfYWbWz8yCmTWJnSWbzOxGM5tnZrPM
7BkzS+zR0mZ2hJm9b2bzzWxA7DzZZmYtzexlM5trZnPM7KLYmXLFzOqa2TtmNjZ2lmxQwc8gM2sJ
9AD+ETtLDpQAHUMIewIfAAMj58kKM6sL3AUcCXQATjGzDnFTZV0F8McQQnugC3BBCr7mKhcBc2OH
yBYV/My6FegPJH5iJIQwIYRQUfn0TaBFzDxZ1BmYH0L4OISwEhgJHBs5U1aFEBaHEKZXvr8ML4DN
46bKPjNrARwN3B87S7ao4GeImR0DLAwhzIydJYKzgRdih8iS5sBnazxfQAqKXxUzawXsDZTGTZIT
t+E3bKtjB8kWnWm7AcxsIrBDNX80CLgMOCy3ibJrXV9vCGFM5WsG4UMAj+UyWw5ZNR9L/G9wAGa2
JTAK6BtC+HfsPNlkZj2BpSGEaWZ2cOw82aKCvwFCCIdW93Ez2wNoDcw0M/Dhjelm1jmE8HkOI2bU
2r7eKmZ2JtATOCQkd33vAqDlGs9bAIsiZckZM9sEL/aPhRBGx86TA92AY8zsKGAzYCszezSEcFrk
XBmldfhZYGZ/B4pCCIXYhKlGzOwI4BbgoBBCeew82WJm9fBJ6UOAhcDbwP+EEOZEDZZF5nctDwNf
hhD6xs6Ta5V3+P1CCD1jZ8k0jeHLxhoGNARKzGyGmd0TO1A2VE5M9wHG45OXTya52FfqBpwOdK/8
3s6ovPOVAqc7fBGRlNAdvohISqjgi4ikhAq+iEhKqOCLiKSECr6ISEqo4IuIpIQKvohISqjgi4ik
xP8HbM8oTOLpQTUAAAAASUVORK5CYII=
"
>
</div>

</div>

</div>
</div>

</div>
<div class="cell border-box-sizing code_cell rendered">
<div class="input">
<div class="prompt input_prompt">In&nbsp;[22]:</div>
<div class="inner_cell">
    <div class="input_area">
<div class=" highlight hl-ipython3"><pre><span></span><span class="c1"># A plot of the result of this model using ReLU activations</span>
<span class="n">plt</span><span class="o">.</span><span class="n">plot</span><span class="p">(</span><span class="n">x</span><span class="p">,</span> <span class="n">final_y</span><span class="p">,</span> <span class="s1">&#39;b-&#39;</span><span class="p">)</span>
</pre></div>

    </div>
</div>
</div>

<div class="output_wrapper">
<div class="output">


<div class="output_area">

    <div class="prompt output_prompt">Out[22]:</div>




<div class="output_text output_subarea output_execute_result">
<pre>[&lt;matplotlib.lines.Line2D at 0x10f6a5278&gt;]</pre>
</div>

</div>

<div class="output_area">

    <div class="prompt"></div>




<div class="output_png output_subarea ">
<img src="data:image/png;base64,iVBORw0KGgoAAAANSUhEUgAAAXwAAAD8CAYAAAB0IB+mAAAABHNCSVQICAgIfAhkiAAAAAlwSFlz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"
>
</div>

</div>

</div>
</div>

</div>
<div class="cell border-box-sizing code_cell rendered">
<div class="input">
<div class="prompt input_prompt">In&nbsp;[&nbsp;]:</div>
<div class="inner_cell">
    <div class="input_area">
<div class=" highlight hl-ipython3"><pre><span></span> 
</pre></div>

    </div>
</div>
</div>

</div>
<div class="cell border-box-sizing code_cell rendered">
<div class="input">
<div class="prompt input_prompt">In&nbsp;[&nbsp;]:</div>
<div class="inner_cell">
    <div class="input_area">
<div class=" highlight hl-ipython3"><pre><span></span> 
</pre></div>

    </div>
</div>
</div>

</div>
 


    </div>
  </div>

  </div>


  
    <footer class="footer hidden-print">
      <div class="container">
        <div class="col-md-4">
          <p>
            This website does not host notebooks, it only renders notebooks
            available on other websites.
          </p>
        </div>

        <div class="col-md-4">
          <p>
            Delivered by <a href="https://www.fastly.com/">Fastly</a>,
            Rendered by <a href="https://ovhcloud.com">OVHcloud</a>
          </p>
          <p>
            nbviewer GitHub <a href="https://github.com/jupyter/nbviewer">repository</a>.
          </p>
        </div>

        <div class="col-md-4">
          
  
            
              <p>
                nbviewer version:
                <a href="https://github.com/jupyter/nbviewer/commit/d25d3c39c10d5f6b9891eba2503f30689c1aae28">
                  d25d3c3
                </a>
              </p>
            
          
  
  <p>
    nbconvert version: <a href="https://github.com/jupyter/nbconvert/releases/tag/5.6.1">
      5.6.1
    </a>
  </p>
  

          
  
  
  <p>
    Rendered
    <span class='date' data-date='Thu, 19 May 2022 02:14:31 UTC' title='Thu, 19 May 2022 02:14:31 UTC'>(Thu, 19 May 2022 02:14:31 UTC)</span>
  </p>
  

        </div>
      </div>
    </footer>
  

  <script src="/static/components/bootstrap/js/bootstrap.min.js"></script>
  <script src="/static/components/headroom.js/dist/headroom.min.js"></script>
  <script src="/static/components/headroom.js/dist/jQuery.headroom.min.js"></script>

  
  
  <script>
    $(function(){ $("#menubar").headroom({
      tolerance: 5,
      offset: 205,
      classes: {
        initial: "animated",
        pinned: "slideInDown",
        unpinned: "slideOutUp"
      }
    })});
  </script>


  
  <script>
    (function(i,s,o,g,r,a,m){i['GoogleAnalyticsObject']=r;i[r]=i[r]||function(){
      (i[r].q=i[r].q||[]).push(arguments)},i[r].l=1*new Date();a=s.createElement(o),
      m=s.getElementsByTagName(o)[0];a.async=1;a.src=g;m.parentNode.insertBefore(a,m)
    })(window,document,'script','https://www.google-analytics.com/analytics.js','ga');
    ga('create', 'UA-52617120-5', 'auto',
       {'storage': 'none'});
    ga('set', 'anonymizeIp', true);
    ga('send', 'pageview');
  </script>
  
  <script>
    require({
        paths: {
          moment: "/static/components/moment/min/moment.min.js"
        }
      }, ["moment"], function(moment){
      var date = $("footer .date"),
        m = moment(new Date(date.data('date'))),
        update = function(){ date.text(m.fromNow()); };
      setInterval(update, 61*1000);
      update();
      var w = $(window).scroll(function(event){
        $("body").toggleClass("scrolled", w.scrollTop() > 0);
      });
    });
  </script>

  <!--NEW RELIC Stop Perf Measurement-->
  
  <!--NEW RELIC End-->
</body>
</html>