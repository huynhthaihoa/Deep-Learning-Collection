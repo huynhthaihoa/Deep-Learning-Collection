








<!DOCTYPE html>
<html lang="en">

<head>
  <meta charset="utf-8">
  <title>Jupyter Notebook Viewer</title>
  <meta name="viewport" content="width=device-width, initial-scale=1.0">
  <meta name="description" content="">
  <meta name="author" content="">
  
  <meta name="robots" content="noindex,nofollow">
  

  <!--NEW RELIC Start Perf Measurement-->
  
  <!--NREND-->

  <!-- Le styles -->
  <link href="/static/build/styles.css" rel="stylesheet">

  <!-- Le HTML5 shim, for IE6-8 support of HTML5 elements -->
  <!--[if lt IE 9]>
    <script src="http://html5shim.googlecode.com/svn/trunk/html5.js"></script>
  <![endif]-->

  <!-- Le fav and touch icons -->
  <link rel="shortcut icon" href="/static/ico/ipynb_icon_16x16.png">
  <link rel="apple-touch-icon-precomposed" sizes="144x144"
        href="/static/ico/apple-touch-icon-144-precomposed.png">
  <link rel="apple-touch-icon-precomposed" sizes="114x114"
        href="/static/ico/apple-touch-icon-114-precomposed.png">
  <link rel="apple-touch-icon-precomposed" sizes="72x72"
        href="/static/ico/apple-touch-icon-72-precomposed.png">
  <link rel="apple-touch-icon-precomposed"
        href="/static/ico/apple-touch-icon-57-precomposed.png">
  
  

  

  
  <meta name="twitter:card" content="summary">
  <meta name="twitter:title" content="Notebook on nbviewer">
  <meta name="twitter:description" content="Check out this Jupyter notebook!">

  
  <meta name="twitter:domain" content="nbviewer.jupyter.org">
  <meta name="twitter:image:src" content="http://ipython.org/ipython-doc/dev/_images/ipynb_icon_128x128.png">

  
    <link href="/static/build/notebook.css" rel="stylesheet">
  

  

  
    <script src="https://cdnjs.cloudflare.com/ajax/libs/mathjax/2.7.1/MathJax.js?config=TeX-AMS_HTML" type="text/javascript">
    </script>
    <script type="text/javascript">
      init_mathjax = function() {
        if (window.MathJax) {
          // MathJax loaded
          MathJax.Hub.Config({
            TeX: {
              equationNumbers: {
                autoNumber: "AMS",
                useLabelIds: true
              }
            },
            tex2jax: {
              inlineMath: [ ['$','$'], ["\\(","\\)"] ],
              displayMath: [ ['$$','$$'], ["\\[","\\]"] ],
              processEscapes: true,
              processEnvironments: true
            },
            displayAlign: 'center',
            "HTML-CSS": {
              styles: {'.MathJax_Display': {"margin": 0}},
              linebreaks: { automatic: true }
            }
          });
          MathJax.Hub.Queue(["Typeset", MathJax.Hub]);
        }
      }
      init_mathjax();
    </script>
  

  
    <script>
      (function() {
        function addWidgetsRenderer() {
          var mimeElement = document.querySelector('script[type="application/vnd.jupyter.widget-view+json"]');
          var scriptElement = document.createElement('script');
          var widgetRendererSrc = 'https://unpkg.com/@jupyter-widgets/html-manager@0.15/dist/embed-amd.js';
          var widgetState;

          try {
            widgetState = mimeElement && JSON.parse(mimeElement.innerHTML);

            if (widgetState && (widgetState.version_major < 2 || !widgetState.version_major)) {
              widgetRendererSrc = 'https://unpkg.com/jupyter-js-widgets@2.1/dist/embed.js';
            }
          } catch(e) {}

          scriptElement.src = widgetRendererSrc;
          document.body.appendChild(scriptElement);
        }

        document.addEventListener('DOMContentLoaded', addWidgetsRenderer);
      }());
    </script>
  

</head>

<body class="nbviewer">

  <!-- These are loaded at the top of the body so they are available to
       notebook cells when they are loaded below. -->
  <script src="/static/components/jquery/dist/jquery.min.js"></script>
  <script src="/static/components/requirejs/require.js"></script>
  <script src="/static/components/moment/min/moment.min.js"></script>
<!-- Navbar
================================================== -->
  <nav id="menubar" class="navbar navbar-default navbar-fixed-top" data-spy="affix">
    <div class="container">
      <div class="navbar-header">
        <button type="button" class="navbar-toggle collapsed" data-toggle="collapse" data-target=".navbar-collapse">
          <span class="sr-only">Toggle navigation</span>
          <i class="fa fa-bars"></i>
        </button>
        <a class="navbar-brand" href="/">
          <img src="/static/img/nav_logo.svg" width="159"/>
        </a>
      </div>

      <div class="collapse navbar-collapse">
        <ul class="nav navbar-nav navbar-right">
          <li>
            <a class="active" href="https://jupyter.org">JUPYTER</a>
          </li>
          <li>
    <a href="/faq" title="FAQ" >
      
        <span>FAQ</span>
      
    </a>
  </li>

          
  
    
  
    
      
        <li>
    <a href="script/url/www.cs.toronto.edu/~rgrosse/courses/csc321_2018/tutorials/tut5b.ipynb" title="View as Code" >
      <span class="fa fa-code fa-2x menu-icon"></span>
      <span class="menu-text">View as Code</span>
    </a>
  </li>
      
    
  

  
    <li>
    <a href="#" title="Python 2 Kernel" >
      <span class="fa fa-server fa-2x menu-icon"></span>
      <span class="menu-text">Python 2 Kernel</span>
    </a>
  </li>
  

  

  

  <li>
    <a href="http://www.cs.toronto.edu/~rgrosse/courses/csc321_2018/tutorials/tut5b.ipynb" title="Download Notebook" download>
      <span class="fa fa-download fa-2x menu-icon"></span>
      <span class="menu-text">Download Notebook</span>
    </a>
  </li>

        </ul>
      </div><!-- /.navbar-collapse -->
      
      
    </div>
  </nav>

  <div class="container container-main">
    
  
  <div id="notebook">
    <div id="notebook-container">
      <div class="cell border-box-sizing text_cell rendered"><div class="prompt input_prompt">
</div><div class="inner_cell">
<div class="text_cell_render border-box-sizing rendered_html">
<h2 id="Low-level-Programming-with-PyTorch">Low-level Programming with PyTorch<a class="anchor-link" href="#Low-level-Programming-with-PyTorch">&#182;</a></h2>
</div>
</div>
</div>
<div class="cell border-box-sizing code_cell rendered">
<div class="input">
<div class="prompt input_prompt">In&nbsp;[1]:</div>
<div class="inner_cell">
    <div class="input_area">
<div class=" highlight hl-ipython2"><pre><span></span><span class="kn">from</span> <span class="nn">torch.autograd</span> <span class="kn">import</span> <span class="n">Variable</span>
<span class="kn">import</span> <span class="nn">torch</span>
<span class="kn">import</span> <span class="nn">numpy</span> <span class="k">as</span> <span class="nn">np</span>
<span class="kn">import</span> <span class="nn">matplotlib.pyplot</span> <span class="k">as</span> <span class="nn">plt</span>



<span class="kn">from</span> <span class="nn">scipy.io</span> <span class="kn">import</span> <span class="n">loadmat</span>



<span class="o">%</span><span class="k">matplotlib</span> inline  

<span class="n">M</span> <span class="o">=</span> <span class="n">loadmat</span><span class="p">(</span><span class="s2">&quot;mnist_all.mat&quot;</span><span class="p">)</span>



<span class="k">def</span> <span class="nf">get_test</span><span class="p">(</span><span class="n">M</span><span class="p">):</span>
    <span class="n">batch_xs</span> <span class="o">=</span> <span class="n">np</span><span class="o">.</span><span class="n">zeros</span><span class="p">((</span><span class="mi">0</span><span class="p">,</span> <span class="mi">28</span><span class="o">*</span><span class="mi">28</span><span class="p">))</span>
    <span class="n">batch_y_s</span> <span class="o">=</span> <span class="n">np</span><span class="o">.</span><span class="n">zeros</span><span class="p">(</span> <span class="p">(</span><span class="mi">0</span><span class="p">,</span> <span class="mi">10</span><span class="p">))</span>
    
    <span class="n">test_k</span> <span class="o">=</span>  <span class="p">[</span><span class="s2">&quot;test&quot;</span><span class="o">+</span><span class="nb">str</span><span class="p">(</span><span class="n">i</span><span class="p">)</span> <span class="k">for</span> <span class="n">i</span> <span class="ow">in</span> <span class="nb">range</span><span class="p">(</span><span class="mi">10</span><span class="p">)]</span>
    <span class="k">for</span> <span class="n">k</span> <span class="ow">in</span> <span class="nb">range</span><span class="p">(</span><span class="mi">10</span><span class="p">):</span>
        <span class="n">batch_xs</span> <span class="o">=</span> <span class="n">np</span><span class="o">.</span><span class="n">vstack</span><span class="p">((</span><span class="n">batch_xs</span><span class="p">,</span> <span class="p">((</span><span class="n">np</span><span class="o">.</span><span class="n">array</span><span class="p">(</span><span class="n">M</span><span class="p">[</span><span class="n">test_k</span><span class="p">[</span><span class="n">k</span><span class="p">]])[:])</span><span class="o">/</span><span class="mf">255.</span><span class="p">)</span>  <span class="p">))</span>
        <span class="n">one_hot</span> <span class="o">=</span> <span class="n">np</span><span class="o">.</span><span class="n">zeros</span><span class="p">(</span><span class="mi">10</span><span class="p">)</span>
        <span class="n">one_hot</span><span class="p">[</span><span class="n">k</span><span class="p">]</span> <span class="o">=</span> <span class="mi">1</span>
        <span class="n">batch_y_s</span> <span class="o">=</span> <span class="n">np</span><span class="o">.</span><span class="n">vstack</span><span class="p">((</span><span class="n">batch_y_s</span><span class="p">,</span>   <span class="n">np</span><span class="o">.</span><span class="n">tile</span><span class="p">(</span><span class="n">one_hot</span><span class="p">,</span> <span class="p">(</span><span class="nb">len</span><span class="p">(</span><span class="n">M</span><span class="p">[</span><span class="n">test_k</span><span class="p">[</span><span class="n">k</span><span class="p">]]),</span> <span class="mi">1</span><span class="p">))</span>   <span class="p">))</span>
    <span class="k">return</span> <span class="n">batch_xs</span><span class="p">,</span> <span class="n">batch_y_s</span>


<span class="k">def</span> <span class="nf">get_train</span><span class="p">(</span><span class="n">M</span><span class="p">):</span>
    <span class="n">batch_xs</span> <span class="o">=</span> <span class="n">np</span><span class="o">.</span><span class="n">zeros</span><span class="p">((</span><span class="mi">0</span><span class="p">,</span> <span class="mi">28</span><span class="o">*</span><span class="mi">28</span><span class="p">))</span>
    <span class="n">batch_y_s</span> <span class="o">=</span> <span class="n">np</span><span class="o">.</span><span class="n">zeros</span><span class="p">(</span> <span class="p">(</span><span class="mi">0</span><span class="p">,</span> <span class="mi">10</span><span class="p">))</span>
    
    <span class="n">train_k</span> <span class="o">=</span>  <span class="p">[</span><span class="s2">&quot;train&quot;</span><span class="o">+</span><span class="nb">str</span><span class="p">(</span><span class="n">i</span><span class="p">)</span> <span class="k">for</span> <span class="n">i</span> <span class="ow">in</span> <span class="nb">range</span><span class="p">(</span><span class="mi">10</span><span class="p">)]</span>
    <span class="k">for</span> <span class="n">k</span> <span class="ow">in</span> <span class="nb">range</span><span class="p">(</span><span class="mi">10</span><span class="p">):</span>
        <span class="n">batch_xs</span> <span class="o">=</span> <span class="n">np</span><span class="o">.</span><span class="n">vstack</span><span class="p">((</span><span class="n">batch_xs</span><span class="p">,</span> <span class="p">((</span><span class="n">np</span><span class="o">.</span><span class="n">array</span><span class="p">(</span><span class="n">M</span><span class="p">[</span><span class="n">train_k</span><span class="p">[</span><span class="n">k</span><span class="p">]])[:])</span><span class="o">/</span><span class="mf">255.</span><span class="p">)</span>  <span class="p">))</span>
        <span class="n">one_hot</span> <span class="o">=</span> <span class="n">np</span><span class="o">.</span><span class="n">zeros</span><span class="p">(</span><span class="mi">10</span><span class="p">)</span>
        <span class="n">one_hot</span><span class="p">[</span><span class="n">k</span><span class="p">]</span> <span class="o">=</span> <span class="mi">1</span>
        <span class="n">batch_y_s</span> <span class="o">=</span> <span class="n">np</span><span class="o">.</span><span class="n">vstack</span><span class="p">((</span><span class="n">batch_y_s</span><span class="p">,</span>   <span class="n">np</span><span class="o">.</span><span class="n">tile</span><span class="p">(</span><span class="n">one_hot</span><span class="p">,</span> <span class="p">(</span><span class="nb">len</span><span class="p">(</span><span class="n">M</span><span class="p">[</span><span class="n">train_k</span><span class="p">[</span><span class="n">k</span><span class="p">]]),</span> <span class="mi">1</span><span class="p">))</span>   <span class="p">))</span>
    <span class="k">return</span> <span class="n">batch_xs</span><span class="p">,</span> <span class="n">batch_y_s</span>
        

<span class="n">train_x</span><span class="p">,</span> <span class="n">train_y</span> <span class="o">=</span> <span class="n">get_train</span><span class="p">(</span><span class="n">M</span><span class="p">)</span>
<span class="n">test_x</span><span class="p">,</span> <span class="n">test_y</span> <span class="o">=</span> <span class="n">get_test</span><span class="p">(</span><span class="n">M</span><span class="p">)</span>

<span class="n">dim_x</span> <span class="o">=</span> <span class="mi">28</span><span class="o">*</span><span class="mi">28</span>
<span class="n">dim_h</span> <span class="o">=</span> <span class="mi">20</span>
<span class="n">dim_out</span> <span class="o">=</span> <span class="mi">10</span>
</pre></div>

    </div>
</div>
</div>

</div>
<div class="cell border-box-sizing text_cell rendered"><div class="prompt input_prompt">
</div><div class="inner_cell">
<div class="text_cell_render border-box-sizing rendered_html">
<p>Let's display some of the training data</p>

</div>
</div>
</div>
<div class="cell border-box-sizing code_cell rendered">
<div class="input">
<div class="prompt input_prompt">In&nbsp;[2]:</div>
<div class="inner_cell">
    <div class="input_area">
<div class=" highlight hl-ipython2"><pre><span></span><span class="n">plt</span><span class="o">.</span><span class="n">imshow</span><span class="p">(</span><span class="n">train_x</span><span class="p">[</span><span class="mi">100</span><span class="p">]</span><span class="o">.</span><span class="n">reshape</span><span class="p">((</span><span class="mi">28</span><span class="p">,</span><span class="mi">28</span><span class="p">)),</span> <span class="n">cmap</span> <span class="o">=</span> <span class="n">plt</span><span class="o">.</span><span class="n">cm</span><span class="o">.</span><span class="n">gray</span><span class="p">)</span>
</pre></div>

    </div>
</div>
</div>

<div class="output_wrapper">
<div class="output">


<div class="output_area">

    <div class="prompt output_prompt">Out[2]:</div>




<div class="output_text output_subarea output_execute_result">
<pre>&lt;matplotlib.image.AxesImage at 0x7f76b44c6610&gt;</pre>
</div>

</div>

<div class="output_area">

    <div class="prompt"></div>




<div class="output_png output_subarea ">
<img src="data:image/png;base64,iVBORw0KGgoAAAANSUhEUgAAAP8AAAD8CAYAAAC4nHJkAAAABHNCSVQICAgIfAhkiAAAAAlwSFlz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"
>
</div>

</div>

</div>
</div>

</div>
<div class="cell border-box-sizing code_cell rendered">
<div class="input">
<div class="prompt input_prompt">In&nbsp;[3]:</div>
<div class="inner_cell">
    <div class="input_area">
<div class=" highlight hl-ipython2"><pre><span></span><span class="n">train_y</span><span class="p">[</span><span class="mi">100</span><span class="p">]</span>
</pre></div>

    </div>
</div>
</div>

<div class="output_wrapper">
<div class="output">


<div class="output_area">

    <div class="prompt output_prompt">Out[3]:</div>




<div class="output_text output_subarea output_execute_result">
<pre>array([ 1.,  0.,  0.,  0.,  0.,  0.,  0.,  0.,  0.,  0.])</pre>
</div>

</div>

</div>
</div>

</div>
<div class="cell border-box-sizing code_cell rendered">
<div class="input">
<div class="prompt input_prompt">In&nbsp;[4]:</div>
<div class="inner_cell">
    <div class="input_area">
<div class=" highlight hl-ipython2"><pre><span></span><span class="n">plt</span><span class="o">.</span><span class="n">imshow</span><span class="p">(</span><span class="n">train_x</span><span class="p">[</span><span class="mi">101</span><span class="p">]</span><span class="o">.</span><span class="n">reshape</span><span class="p">((</span><span class="mi">28</span><span class="p">,</span><span class="mi">28</span><span class="p">)),</span> <span class="n">cmap</span> <span class="o">=</span> <span class="n">plt</span><span class="o">.</span><span class="n">cm</span><span class="o">.</span><span class="n">gray</span><span class="p">)</span>
</pre></div>

    </div>
</div>
</div>

<div class="output_wrapper">
<div class="output">


<div class="output_area">

    <div class="prompt output_prompt">Out[4]:</div>




<div class="output_text output_subarea output_execute_result">
<pre>&lt;matplotlib.image.AxesImage at 0x7f76b43c0950&gt;</pre>
</div>

</div>

<div class="output_area">

    <div class="prompt"></div>




<div class="output_png output_subarea ">
<img src="data:image/png;base64,iVBORw0KGgoAAAANSUhEUgAAAP8AAAD8CAYAAAC4nHJkAAAABHNCSVQICAgIfAhkiAAAAAlwSFlz
AAALEgAACxIB0t1+/AAADnVJREFUeJzt3X+MVPW5x/HPwwrBQEW85K6EcqX+iKbwx6IrMQRN9V4b
NSRATPgRE9E2bk16sTU1EdFEEE2quXBziUqypAi9QdobFSHlAhZyo92ojStpxV9UbWiArKwETK1R
y4+nf+yhd4s735mdOTNndp/3K9nszHnmzHky8NlzZr5nztfcXQDiGVF0AwCKQfiBoAg/EBThB4Ii
/EBQhB8IivADQRF+ICjCDwR1TiM3ZmacTgjUmbtbJY+rac9vZjeZ2X4z+9DMltbyXAAay6o9t9/M
WiT9QdKNkg5JekPSInd/N7EOe36gzhqx558h6UN3/6O7/1XSLyTNqeH5ADRQLeGfJOlgv/uHsmX/
wMw6zKzbzLpr2BaAnNX9Az9375TUKXHYDzSTWvb8hyVN7nf/m9kyAENALeF/Q9JlZvYtMxslaaGk
bfm0BaDeqj7sd/eTZvbvknZJapG03t3fya0zAHVV9VBfVRvjPT9Qdw05yQfA0EX4gaAIPxAU4QeC
IvxAUIQfCIrwA0ERfiAowg8ERfiBoAg/EBThB4Ii/EBQhB8IivADQRF+ICjCDwRF+IGgCD8QFOEH
giL8QFANnaIbaBbTpk1L1p955plk/aqrrkrWu7q6kvXrrrsuWW8E9vxAUIQfCIrwA0ERfiAowg8E
RfiBoAg/EFRNs/Sa2QFJn0k6Jemku7eXeTyz9CI3l156abJ+//33l6zdfvvtyXVHjhxZVU+VGjGi
fvvdSmfpzeMkn+vd/WgOzwOggTjsB4KqNfwuabeZvWlmHXk0BKAxaj3sn+Xuh83snyX92szed/dX
+j8g+6PAHwagydS053f3w9nvXklbJM0Y4DGd7t5e7sNAAI1VdfjNbIyZfePMbUnflfR2Xo0BqK9a
DvtbJW0xszPP86y778ylKwB1V9M4/6A3xjg/+ik3Tr9s2bJkfeHChcn66NGjB91TXnp7e5P1Cy+8
sG7brnScn6E+ICjCDwRF+IGgCD8QFOEHgiL8QFBcuhs1ueSSS5L1m2++uWRtxYoVyXXHjx+frH/+
+efJ+oYNG0rWVq9enVz32LFjyfqmTZuS9Z6enmS9GbDnB4Ii/EBQhB8IivADQRF+ICjCDwRF+IGg
GOdH0qxZs5L1HTt2JOtjxoypetubN29O1leuXJmsv//++1Vv+5xz0tEoV//000+r3najsOcHgiL8
QFCEHwiK8ANBEX4gKMIPBEX4gaAY5x/mxo0bl6zfd999yfqSJUuS9XLj+KlLWN9zzz3Jdbds2ZKs
nzhxIlmvxYIFC5L1sWPHJutr1qzJs526YM8PBEX4gaAIPxAU4QeCIvxAUIQfCIrwA0GVHec3s/WS
Zkvqdfdp2bILJP1S0hRJByTNd/fj9WsTKS0tLSVrzz77bHLd1HX1K3H8ePqffe7cuSVrr7/+ek3b
rqdyU2h3dXUl67VcS6BRKtnzb5B001nLlkra4+6XSdqT3QcwhJQNv7u/Iuns6UvmSNqY3d4oqfSf
dwBNqdr3/K3ufmY+oo8ltebUD4AGqfncfnd3M/NSdTPrkNRR63YA5KvaPf8RM5soSdnvkt/ecPdO
d2939/YqtwWgDqoN/zZJi7PbiyVtzacdAI1SNvxmtlnSa5IuN7NDZvZ9ST+VdKOZfSDp37L7AIYQ
cy/5dj3/jSU+G0BpM2fOTNYffPDBkrVax/HLmTFjRrLe3d1d1+1Xa9KkScn6yy+/nKxfffXVyXq5
8x/qyd2tksdxhh8QFOEHgiL8QFCEHwiK8ANBEX4gKC7d3QQuv/zyZH3nzp3Jeuoy0i+++GJy3ZMn
Tybr8+bNS9abdSivnNtuuy1Z3759e7Je5FBeXtjzA0ERfiAowg8ERfiBoAg/EBThB4Ii/EBQjPM3
QFtbW7K+Y8eOZL3cdNBbt5a+lspdd92VXLfcFNtPPPFEst7Mpk6dWrLW0ZG+stwdd9yRczfNhz0/
EBThB4Ii/EBQhB8IivADQRF+ICjCDwTFpbtzcMUVVyTre/fuTdZHjx6drD/55JPJ+vLly0vWjh07
e47VOJ5++umStQkTJiTXnT9/ft7tNAyX7gaQRPiBoAg/EBThB4Ii/EBQhB8IivADQZX9Pr+ZrZc0
W1Kvu0/Lli2XdJekT7KHLXP3/61Xk80gNS7c1dWVXLfcOP5TTz2VrD/88MPJ+nC4hnw17rzzzmQ9
9Z39pUuX5t3OkFPJnn+DpJsGWP6f7t6W/Qzr4APDUdnwu/srkuKeJgYMU7W8519iZm+Z2XozG59b
RwAaotrwr5V0saQ2ST2SVpV6oJl1mFm3mQ3NSd2AYaqq8Lv7EXc/5e6nJa2TNCPx2E53b3f39mqb
BJC/qsJvZhP73Z0n6e182gHQKJUM9W2W9B1JE8zskKSHJX3HzNokuaQDkn5Qxx4B1AHf569Qah76
K6+8MrnuY489lqynvo8vSadOnUrWh6tbb701WV+7dm2y/tFHH5WsXXvttcl1T548maw3M77PDyCJ
8ANBEX4gKMIPBEX4gaAIPxAUU3RnFi1alKxPnz69ZG3dunXJdR9//PFkPepQXrlpsleuXJmsf/nl
l8n6I488UrI2lIfy8sKeHwiK8ANBEX4gKMIPBEX4gaAIPxAU4QeC4iu9mX379iXro0aNKllra2tL
rvvFF19U1dNQcM011yTrqbH266+/PrnuSy+9lKzffffdyfrBgweT9eGKr/QCSCL8QFCEHwiK8ANB
EX4gKMIPBEX4gaD4Pn9m6tSpyfq9995bsjaUx/EnT56crD/00EPJ+oIFC5L18847r2St3NTkK1as
SNaPHj2arCONPT8QFOEHgiL8QFCEHwiK8ANBEX4gKMIPBFV2nN/MJkv6uaRWSS6p093/y8wukPRL
SVMkHZA0392P16/VYl100UUlayNGpP+Gnj59OllvbW1N1s8///xkffbs2SVrN9xwQ3LdmTNnJuvj
xo1L1o8fT/+TP/DAAyVrq1atSq7LtfXrq5I9/0lJP3H3b0u6RtIPzezbkpZK2uPul0nak90HMESU
Db+797j73uz2Z5LekzRJ0hxJG7OHbZQ0t15NAsjfoN7zm9kUSdMl/VZSq7v3ZKWP1fe2AMAQUfG5
/WY2VtLzkn7s7n82+//LhLm7l7o+n5l1SEpPygag4Sra85vZSPUFf5O7v5AtPmJmE7P6REm9A63r
7p3u3u7u7Xk0DCAfZcNvfbv4n0l6z91X9yttk7Q4u71Y0tb82wNQL2Uv3W1msyT9RtI+SWfGrJap
733//0j6F0l/Ut9Q37Eyz9W0l+4u9zqk6q+99lpy3XJDVu3t6YOic889N1mvxVdffZWsd3Z2JuuP
Pvposv7JJ58MuifUptJLd5d9z+/uXZJKPdm/DqYpAM2DM/yAoAg/EBThB4Ii/EBQhB8IivADQTFF
d+bEiRPJektLS4M6GbzUv+H27duT665ZsyZZ3717d1U9oThM0Q0gifADQRF+ICjCDwRF+IGgCD8Q
FOEHgmKcPzNnzpxk/bnnnitZe/XVV5Prjh07Nlnfv39/sr5z585k/ciRIyVru3btSq6L4YdxfgBJ
hB8IivADQRF+ICjCDwRF+IGgCD8QFOP8wDDDOD+AJMIPBEX4gaAIPxAU4QeCIvxAUIQfCKps+M1s
spn9n5m9a2bvmNmPsuXLzeywmf0u+7ml/u0CyEvZk3zMbKKkie6+18y+IelNSXMlzZf0F3f/j4o3
xkk+QN1VepLPORU8UY+knuz2Z2b2nqRJtbUHoGiDes9vZlMkTZf022zREjN7y8zWm9n4Eut0mFm3
mXXX1CmAXFV8br+ZjZX0sqTH3P0FM2uVdFSSS1qpvrcG3yvzHBz2A3VW6WF/ReE3s5GSfiVpl7uv
HqA+RdKv3H1amech/ECd5fbFHjMzST+T9F7/4GcfBJ4xT9Lbg20SQHEq+bR/lqTfSNon6XS2eJmk
RZLa1HfYf0DSD7IPB1PPxZ4fqLNcD/vzQviB+uP7/ACSCD8QFOEHgiL8QFCEHwiK8ANBEX4gKMIP
BEX4gaAIPxAU4QeCIvxAUIQfCIrwA0GVvYBnzo5K+lO/+xOyZc2oWXtr1r4keqtWnr1dVOkDG/p9
/q9t3Kzb3dsLayChWXtr1r4keqtWUb1x2A8ERfiBoIoOf2fB209p1t6atS+J3qpVSG+FvucHUJyi
9/wAClJI+M3sJjPbb2YfmtnSInooxcwOmNm+bObhQqcYy6ZB6zWzt/stu8DMfm1mH2S/B5wmraDe
mmLm5sTM0oW+ds0243XDD/vNrEXSHyTdKOmQpDckLXL3dxvaSAlmdkBSu7sXPiZsZtdJ+oukn5+Z
DcnMnpB0zN1/mv3hHO/u9zdJb8s1yJmb69RbqZml71CBr12eM17noYg9/wxJH7r7H939r5J+IWlO
AX00PXd/RdKxsxbPkbQxu71Rff95Gq5Eb03B3XvcfW92+zNJZ2aWLvS1S/RViCLCP0nSwX73D6m5
pvx2SbvN7E0z6yi6mQG09psZ6WNJrUU2M4CyMzc30lkzSzfNa1fNjNd54wO/r5vl7m2Sbpb0w+zw
til533u2ZhquWSvpYvVN49YjaVWRzWQzSz8v6cfu/uf+tSJfuwH6KuR1KyL8hyVN7nf/m9mypuDu
h7PfvZK2qO9tSjM5cmaS1Ox3b8H9/J27H3H3U+5+WtI6FfjaZTNLPy9pk7u/kC0u/LUbqK+iXrci
wv+GpMvM7FtmNkrSQknbCujja8xsTPZBjMxsjKTvqvlmH94maXF2e7GkrQX28g+aZebmUjNLq+DX
rulmvHb3hv9IukV9n/h/JOnBInoo0dfFkn6f/bxTdG+SNqvvMPCE+j4b+b6kf5K0R9IHknZLuqCJ
evtv9c3m/Jb6gjaxoN5mqe+Q/i1Jv8t+bin6tUv0Vcjrxhl+QFB84AcERfiBoAg/EBThB4Ii/EBQ
hB8IivADQRF+IKi/Ab3DrELy0CLZAAAAAElFTkSuQmCC
"
>
</div>

</div>

</div>
</div>

</div>
<div class="cell border-box-sizing code_cell rendered">
<div class="input">
<div class="prompt input_prompt">In&nbsp;[5]:</div>
<div class="inner_cell">
    <div class="input_area">
<div class=" highlight hl-ipython2"><pre><span></span><span class="n">train_y</span><span class="p">[</span><span class="mi">100</span><span class="p">]</span>
</pre></div>

    </div>
</div>
</div>

<div class="output_wrapper">
<div class="output">


<div class="output_area">

    <div class="prompt output_prompt">Out[5]:</div>




<div class="output_text output_subarea output_execute_result">
<pre>array([ 1.,  0.,  0.,  0.,  0.,  0.,  0.,  0.,  0.,  0.])</pre>
</div>

</div>

</div>
</div>

</div>
<div class="cell border-box-sizing code_cell rendered">
<div class="input">
<div class="prompt input_prompt">In&nbsp;[6]:</div>
<div class="inner_cell">
    <div class="input_area">
<div class=" highlight hl-ipython2"><pre><span></span><span class="n">plt</span><span class="o">.</span><span class="n">imshow</span><span class="p">(</span><span class="n">train_x</span><span class="p">[</span><span class="mi">50000</span><span class="p">]</span><span class="o">.</span><span class="n">reshape</span><span class="p">((</span><span class="mi">28</span><span class="p">,</span><span class="mi">28</span><span class="p">)),</span> <span class="n">cmap</span> <span class="o">=</span> <span class="n">plt</span><span class="o">.</span><span class="n">cm</span><span class="o">.</span><span class="n">gray</span><span class="p">)</span>
</pre></div>

    </div>
</div>
</div>

<div class="output_wrapper">
<div class="output">


<div class="output_area">

    <div class="prompt output_prompt">Out[6]:</div>




<div class="output_text output_subarea output_execute_result">
<pre>&lt;matplotlib.image.AxesImage at 0x7f76b3e94810&gt;</pre>
</div>

</div>

<div class="output_area">

    <div class="prompt"></div>




<div class="output_png output_subarea ">
<img src="data:image/png;base64,iVBORw0KGgoAAAANSUhEUgAAAP8AAAD8CAYAAAC4nHJkAAAABHNCSVQICAgIfAhkiAAAAAlwSFlz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"
>
</div>

</div>

</div>
</div>

</div>
<div class="cell border-box-sizing code_cell rendered">
<div class="input">
<div class="prompt input_prompt">In&nbsp;[7]:</div>
<div class="inner_cell">
    <div class="input_area">
<div class=" highlight hl-ipython2"><pre><span></span><span class="n">train_y</span><span class="p">[</span><span class="mi">50000</span><span class="p">]</span>
</pre></div>

    </div>
</div>
</div>

<div class="output_wrapper">
<div class="output">


<div class="output_area">

    <div class="prompt output_prompt">Out[7]:</div>




<div class="output_text output_subarea output_execute_result">
<pre>array([ 0.,  0.,  0.,  0.,  0.,  0.,  0.,  0.,  1.,  0.])</pre>
</div>

</div>

</div>
</div>

</div>
<div class="cell border-box-sizing text_cell rendered"><div class="prompt input_prompt">
</div><div class="inner_cell">
<div class="text_cell_render border-box-sizing rendered_html">
<p>Now,  let's define <code>Variable</code>s containing the training data</p>

</div>
</div>
</div>
<div class="cell border-box-sizing code_cell rendered">
<div class="input">
<div class="prompt input_prompt">In&nbsp;[8]:</div>
<div class="inner_cell">
    <div class="input_area">
<div class=" highlight hl-ipython2"><pre><span></span><span class="n">dtype_float</span> <span class="o">=</span> <span class="n">torch</span><span class="o">.</span><span class="n">FloatTensor</span>

<span class="n">x</span> <span class="o">=</span> <span class="n">Variable</span><span class="p">(</span><span class="n">torch</span><span class="o">.</span><span class="n">from_numpy</span><span class="p">(</span><span class="n">train_x</span><span class="p">),</span> <span class="n">requires_grad</span><span class="o">=</span><span class="kc">False</span><span class="p">)</span><span class="o">.</span><span class="n">type</span><span class="p">(</span><span class="n">dtype_float</span><span class="p">)</span>
<span class="n">y</span> <span class="o">=</span> <span class="n">Variable</span><span class="p">(</span><span class="n">torch</span><span class="o">.</span><span class="n">from_numpy</span><span class="p">(</span><span class="n">train_y</span><span class="o">.</span><span class="n">astype</span><span class="p">(</span><span class="nb">float</span><span class="p">)),</span> <span class="n">requires_grad</span><span class="o">=</span><span class="kc">False</span><span class="p">)</span><span class="o">.</span><span class="n">type</span><span class="p">(</span><span class="n">dtype_float</span><span class="p">)</span>
</pre></div>

    </div>
</div>
</div>

</div>
<div class="cell border-box-sizing code_cell rendered">
<div class="input">
<div class="prompt input_prompt">In&nbsp;[9]:</div>
<div class="inner_cell">
    <div class="input_area">
<div class=" highlight hl-ipython2"><pre><span></span><span class="n">b0</span> <span class="o">=</span> <span class="n">Variable</span><span class="p">(</span><span class="n">torch</span><span class="o">.</span><span class="n">randn</span><span class="p">((</span><span class="mi">1</span><span class="p">,</span> <span class="n">dim_h</span><span class="p">)),</span> <span class="n">requires_grad</span><span class="o">=</span><span class="kc">True</span><span class="p">)</span>
<span class="n">W0</span> <span class="o">=</span> <span class="n">Variable</span><span class="p">(</span><span class="n">torch</span><span class="o">.</span><span class="n">randn</span><span class="p">((</span><span class="n">dim_x</span><span class="p">,</span> <span class="n">dim_h</span><span class="p">)),</span> <span class="n">requires_grad</span><span class="o">=</span><span class="kc">True</span><span class="p">)</span>

<span class="n">b1</span> <span class="o">=</span> <span class="n">Variable</span><span class="p">(</span><span class="n">torch</span><span class="o">.</span><span class="n">randn</span><span class="p">((</span><span class="mi">1</span><span class="p">,</span> <span class="n">dim_out</span><span class="p">)),</span> <span class="n">requires_grad</span><span class="o">=</span><span class="kc">True</span><span class="p">)</span>
<span class="n">W1</span> <span class="o">=</span> <span class="n">Variable</span><span class="p">(</span><span class="n">torch</span><span class="o">.</span><span class="n">randn</span><span class="p">((</span><span class="n">dim_h</span><span class="p">,</span> <span class="n">dim_out</span><span class="p">)),</span> <span class="n">requires_grad</span><span class="o">=</span><span class="kc">True</span><span class="p">)</span>
</pre></div>

    </div>
</div>
</div>

</div>
<div class="cell border-box-sizing text_cell rendered"><div class="prompt input_prompt">
</div><div class="inner_cell">
<div class="text_cell_render border-box-sizing rendered_html">
<p>Note that everything is accessible right away:</p>

</div>
</div>
</div>
<div class="cell border-box-sizing text_cell rendered"><div class="prompt input_prompt">
</div><div class="inner_cell">
<div class="text_cell_render border-box-sizing rendered_html">
<p>Let's now define the the model. Note that since we'll want to reuse it for different inputs, we'll want it to be in a function (or really in a class -- we'll show how to do that later). First, we'll remind ourselves of the dimensions of the data</p>

</div>
</div>
</div>
<div class="cell border-box-sizing code_cell rendered">
<div class="input">
<div class="prompt input_prompt">In&nbsp;[10]:</div>
<div class="inner_cell">
    <div class="input_area">
<div class=" highlight hl-ipython2"><pre><span></span><span class="n">x</span><span class="o">.</span><span class="n">data</span><span class="o">.</span><span class="n">shape</span><span class="p">,</span> <span class="n">b0</span><span class="o">.</span><span class="n">data</span><span class="o">.</span><span class="n">shape</span><span class="p">,</span> <span class="n">W0</span><span class="o">.</span><span class="n">data</span><span class="o">.</span><span class="n">shape</span>
</pre></div>

    </div>
</div>
</div>

<div class="output_wrapper">
<div class="output">


<div class="output_area">

    <div class="prompt output_prompt">Out[10]:</div>




<div class="output_text output_subarea output_execute_result">
<pre>(torch.Size([60000, 784]), torch.Size([1, 20]), torch.Size([784, 20]))</pre>
</div>

</div>

</div>
</div>

</div>
<div class="cell border-box-sizing code_cell rendered">
<div class="input">
<div class="prompt input_prompt">In&nbsp;[11]:</div>
<div class="inner_cell">
    <div class="input_area">
<div class=" highlight hl-ipython2"><pre><span></span><span class="n">b1</span><span class="o">.</span><span class="n">data</span><span class="o">.</span><span class="n">shape</span><span class="p">,</span> <span class="n">W1</span><span class="o">.</span><span class="n">data</span><span class="o">.</span><span class="n">shape</span><span class="p">,</span> <span class="n">y</span><span class="o">.</span><span class="n">data</span><span class="o">.</span><span class="n">shape</span>
</pre></div>

    </div>
</div>
</div>

<div class="output_wrapper">
<div class="output">


<div class="output_area">

    <div class="prompt output_prompt">Out[11]:</div>




<div class="output_text output_subarea output_execute_result">
<pre>(torch.Size([1, 10]), torch.Size([20, 10]), torch.Size([60000, 10]))</pre>
</div>

</div>

</div>
</div>

</div>
<div class="cell border-box-sizing code_cell rendered">
<div class="input">
<div class="prompt input_prompt">In&nbsp;[12]:</div>
<div class="inner_cell">
    <div class="input_area">
<div class=" highlight hl-ipython2"><pre><span></span><span class="k">def</span> <span class="nf">model</span><span class="p">(</span><span class="n">x</span><span class="p">,</span> <span class="n">b0</span><span class="p">,</span> <span class="n">W0</span><span class="p">,</span> <span class="n">b1</span><span class="p">,</span> <span class="n">W1</span><span class="p">):</span>
    <span class="n">h</span> <span class="o">=</span> <span class="n">torch</span><span class="o">.</span><span class="n">nn</span><span class="o">.</span><span class="n">ReLU</span><span class="p">()(</span><span class="n">torch</span><span class="o">.</span><span class="n">matmul</span><span class="p">(</span><span class="n">x</span><span class="p">,</span> <span class="n">W0</span><span class="p">)</span> <span class="o">+</span> <span class="n">b0</span><span class="o">.</span><span class="n">repeat</span><span class="p">(</span><span class="n">x</span><span class="o">.</span><span class="n">data</span><span class="o">.</span><span class="n">shape</span><span class="p">[</span><span class="mi">0</span><span class="p">],</span> <span class="mi">1</span><span class="p">))</span>
    <span class="n">out</span> <span class="o">=</span> <span class="n">torch</span><span class="o">.</span><span class="n">matmul</span><span class="p">(</span><span class="n">h</span><span class="p">,</span> <span class="n">W1</span><span class="p">)</span> <span class="o">+</span> <span class="n">b1</span><span class="o">.</span><span class="n">repeat</span><span class="p">(</span><span class="n">h</span><span class="o">.</span><span class="n">data</span><span class="o">.</span><span class="n">shape</span><span class="p">[</span><span class="mi">0</span><span class="p">],</span> <span class="mi">1</span><span class="p">)</span>
    <span class="k">return</span> <span class="n">out</span>
</pre></div>

    </div>
</div>
</div>

</div>
<div class="cell border-box-sizing code_cell rendered">
<div class="input">
<div class="prompt input_prompt">In&nbsp;[13]:</div>
<div class="inner_cell">
    <div class="input_area">
<div class=" highlight hl-ipython2"><pre><span></span><span class="n">y_out</span> <span class="o">=</span> <span class="n">model</span><span class="p">(</span><span class="n">x</span><span class="p">,</span> <span class="n">b0</span><span class="p">,</span> <span class="n">W0</span><span class="p">,</span> <span class="n">b1</span><span class="p">,</span> <span class="n">W1</span><span class="p">)</span>
</pre></div>

    </div>
</div>
</div>

</div>
<div class="cell border-box-sizing code_cell rendered">
<div class="input">
<div class="prompt input_prompt">In&nbsp;[&nbsp;]:</div>
<div class="inner_cell">
    <div class="input_area">
<div class=" highlight hl-ipython2"><pre><span></span> 
</pre></div>

    </div>
</div>
</div>

</div>
<div class="cell border-box-sizing code_cell rendered">
<div class="input">
<div class="prompt input_prompt">In&nbsp;[&nbsp;]:</div>
<div class="inner_cell">
    <div class="input_area">
<div class=" highlight hl-ipython2"><pre><span></span> 
</pre></div>

    </div>
</div>
</div>

</div>
<div class="cell border-box-sizing code_cell rendered">
<div class="input">
<div class="prompt input_prompt">In&nbsp;[14]:</div>
<div class="inner_cell">
    <div class="input_area">
<div class=" highlight hl-ipython2"><pre><span></span><span class="c1">################################################################################</span>
<span class="c1">#Subsample the training set for faster training</span>

<span class="n">train_idx</span> <span class="o">=</span> <span class="n">np</span><span class="o">.</span><span class="n">random</span><span class="o">.</span><span class="n">permutation</span><span class="p">(</span><span class="nb">range</span><span class="p">(</span><span class="n">train_x</span><span class="o">.</span><span class="n">shape</span><span class="p">[</span><span class="mi">0</span><span class="p">]))[:</span><span class="mi">1000</span><span class="p">]</span>
<span class="n">x</span> <span class="o">=</span> <span class="n">Variable</span><span class="p">(</span><span class="n">torch</span><span class="o">.</span><span class="n">from_numpy</span><span class="p">(</span><span class="n">train_x</span><span class="p">[</span><span class="n">train_idx</span><span class="p">]),</span> <span class="n">requires_grad</span><span class="o">=</span><span class="kc">False</span><span class="p">)</span><span class="o">.</span><span class="n">type</span><span class="p">(</span><span class="n">dtype_float</span><span class="p">)</span>
<span class="n">y</span> <span class="o">=</span> <span class="n">Variable</span><span class="p">(</span><span class="n">torch</span><span class="o">.</span><span class="n">from_numpy</span><span class="p">(</span><span class="n">train_y</span><span class="p">[</span><span class="n">train_idx</span><span class="p">]</span><span class="o">.</span><span class="n">astype</span><span class="p">(</span><span class="nb">float</span><span class="p">)),</span> <span class="n">requires_grad</span><span class="o">=</span><span class="kc">False</span><span class="p">)</span><span class="o">.</span><span class="n">type</span><span class="p">(</span><span class="n">dtype_float</span><span class="p">)</span>
<span class="n">y_out</span> <span class="o">=</span> <span class="n">model</span><span class="p">(</span><span class="n">x</span><span class="p">,</span> <span class="n">b0</span><span class="p">,</span> <span class="n">W0</span><span class="p">,</span> <span class="n">b1</span><span class="p">,</span> <span class="n">W1</span><span class="p">)</span>
<span class="c1">#################################################################################</span>
</pre></div>

    </div>
</div>
</div>

</div>
<div class="cell border-box-sizing code_cell rendered">
<div class="input">
<div class="prompt input_prompt">In&nbsp;[15]:</div>
<div class="inner_cell">
    <div class="input_area">
<div class=" highlight hl-ipython2"><pre><span></span><span class="n">logSoftMax</span> <span class="o">=</span> <span class="n">torch</span><span class="o">.</span><span class="n">nn</span><span class="o">.</span><span class="n">LogSoftmax</span><span class="p">()</span> <span class="c1"># We&#39;ll be too lazy to define this one by hand</span>
<span class="n">loss</span> <span class="o">=</span> <span class="o">-</span><span class="n">torch</span><span class="o">.</span><span class="n">mean</span><span class="p">(</span><span class="n">torch</span><span class="o">.</span><span class="n">sum</span><span class="p">(</span><span class="n">y</span> <span class="o">*</span> <span class="n">logSoftMax</span><span class="p">(</span><span class="n">y_out</span><span class="p">),</span> <span class="mi">1</span><span class="p">))</span>
</pre></div>

    </div>
</div>
</div>

</div>
<div class="cell border-box-sizing code_cell rendered">
<div class="input">
<div class="prompt input_prompt">In&nbsp;[16]:</div>
<div class="inner_cell">
    <div class="input_area">
<div class=" highlight hl-ipython2"><pre><span></span><span class="n">loss</span>
</pre></div>

    </div>
</div>
</div>

<div class="output_wrapper">
<div class="output">


<div class="output_area">

    <div class="prompt output_prompt">Out[16]:</div>




<div class="output_text output_subarea output_execute_result">
<pre>Variable containing:
 48.6093
[torch.FloatTensor of size 1]</pre>
</div>

</div>

</div>
</div>

</div>
<div class="cell border-box-sizing code_cell rendered">
<div class="input">
<div class="prompt input_prompt">In&nbsp;[17]:</div>
<div class="inner_cell">
    <div class="input_area">
<div class=" highlight hl-ipython2"><pre><span></span><span class="n">learning_rate</span> <span class="o">=</span> <span class="mf">1e-1</span>

<span class="k">for</span> <span class="n">t</span> <span class="ow">in</span> <span class="nb">range</span><span class="p">(</span><span class="mi">1000</span><span class="p">):</span>
    <span class="n">y_out</span> <span class="o">=</span> <span class="n">model</span><span class="p">(</span><span class="n">x</span><span class="p">,</span> <span class="n">b0</span><span class="p">,</span> <span class="n">W0</span><span class="p">,</span> <span class="n">b1</span><span class="p">,</span> <span class="n">W1</span><span class="p">)</span>
    <span class="n">loss</span> <span class="o">=</span> <span class="o">-</span><span class="n">torch</span><span class="o">.</span><span class="n">mean</span><span class="p">(</span><span class="n">torch</span><span class="o">.</span><span class="n">sum</span><span class="p">(</span><span class="n">y</span> <span class="o">*</span> <span class="n">logSoftMax</span><span class="p">(</span><span class="n">y_out</span><span class="p">),</span> <span class="mi">1</span><span class="p">))</span>
    <span class="n">loss</span><span class="o">.</span><span class="n">backward</span><span class="p">()</span>
    <span class="n">b0</span><span class="o">.</span><span class="n">data</span> <span class="o">-=</span> <span class="n">learning_rate</span> <span class="o">*</span> <span class="n">b0</span><span class="o">.</span><span class="n">grad</span><span class="o">.</span><span class="n">data</span>
    <span class="n">W0</span><span class="o">.</span><span class="n">data</span> <span class="o">-=</span> <span class="n">learning_rate</span> <span class="o">*</span> <span class="n">W0</span><span class="o">.</span><span class="n">grad</span><span class="o">.</span><span class="n">data</span>
    
    <span class="n">b1</span><span class="o">.</span><span class="n">data</span> <span class="o">-=</span> <span class="n">learning_rate</span> <span class="o">*</span> <span class="n">b1</span><span class="o">.</span><span class="n">grad</span><span class="o">.</span><span class="n">data</span>
    <span class="n">W1</span><span class="o">.</span><span class="n">data</span> <span class="o">-=</span> <span class="n">learning_rate</span> <span class="o">*</span> <span class="n">W1</span><span class="o">.</span><span class="n">grad</span><span class="o">.</span><span class="n">data</span>
    
    
    <span class="n">b0</span><span class="o">.</span><span class="n">grad</span><span class="o">.</span><span class="n">data</span><span class="o">.</span><span class="n">zero_</span><span class="p">()</span>
    <span class="n">W0</span><span class="o">.</span><span class="n">grad</span><span class="o">.</span><span class="n">data</span><span class="o">.</span><span class="n">zero_</span><span class="p">()</span>
    <span class="n">b1</span><span class="o">.</span><span class="n">grad</span><span class="o">.</span><span class="n">data</span><span class="o">.</span><span class="n">zero_</span><span class="p">()</span>
    <span class="n">W1</span><span class="o">.</span><span class="n">grad</span><span class="o">.</span><span class="n">data</span><span class="o">.</span><span class="n">zero_</span><span class="p">()</span>
    
    <span class="c1">#print(loss.data.numpy())</span>
</pre></div>

    </div>
</div>
</div>

</div>
<div class="cell border-box-sizing code_cell rendered">
<div class="input">
<div class="prompt input_prompt">In&nbsp;[18]:</div>
<div class="inner_cell">
    <div class="input_area">
<div class=" highlight hl-ipython2"><pre><span></span><span class="n">x_test_all_var</span> <span class="o">=</span> <span class="n">Variable</span><span class="p">(</span><span class="n">torch</span><span class="o">.</span><span class="n">from_numpy</span><span class="p">(</span><span class="n">test_x</span><span class="p">),</span> <span class="n">requires_grad</span><span class="o">=</span><span class="kc">False</span><span class="p">)</span><span class="o">.</span><span class="n">type</span><span class="p">(</span><span class="n">dtype_float</span><span class="p">)</span>
</pre></div>

    </div>
</div>
</div>

</div>
<div class="cell border-box-sizing code_cell rendered">
<div class="input">
<div class="prompt input_prompt">In&nbsp;[19]:</div>
<div class="inner_cell">
    <div class="input_area">
<div class=" highlight hl-ipython2"><pre><span></span><span class="n">y_test_out</span> <span class="o">=</span> <span class="n">model</span><span class="p">(</span><span class="n">x_test_all_var</span><span class="p">,</span> <span class="n">b0</span><span class="p">,</span> <span class="n">W0</span><span class="p">,</span> <span class="n">b1</span><span class="p">,</span> <span class="n">W1</span><span class="p">)</span><span class="o">.</span><span class="n">data</span><span class="o">.</span><span class="n">numpy</span><span class="p">()</span>
</pre></div>

    </div>
</div>
</div>

</div>
<div class="cell border-box-sizing code_cell rendered">
<div class="input">
<div class="prompt input_prompt">In&nbsp;[20]:</div>
<div class="inner_cell">
    <div class="input_area">
<div class=" highlight hl-ipython2"><pre><span></span><span class="n">np</span><span class="o">.</span><span class="n">argmax</span><span class="p">(</span><span class="n">y_test_out</span><span class="p">,</span> <span class="mi">1</span><span class="p">)</span>
</pre></div>

    </div>
</div>
</div>

<div class="output_wrapper">
<div class="output">


<div class="output_area">

    <div class="prompt output_prompt">Out[20]:</div>




<div class="output_text output_subarea output_execute_result">
<pre>array([0, 3, 0, ..., 4, 9, 4])</pre>
</div>

</div>

</div>
</div>

</div>
<div class="cell border-box-sizing code_cell rendered">
<div class="input">
<div class="prompt input_prompt">In&nbsp;[21]:</div>
<div class="inner_cell">
    <div class="input_area">
<div class=" highlight hl-ipython2"><pre><span></span><span class="n">np</span><span class="o">.</span><span class="n">argmax</span><span class="p">(</span><span class="n">y_test_out</span><span class="p">[:</span><span class="mi">100</span><span class="p">],</span> <span class="mi">1</span><span class="p">)</span>
</pre></div>

    </div>
</div>
</div>

<div class="output_wrapper">
<div class="output">


<div class="output_area">

    <div class="prompt output_prompt">Out[21]:</div>




<div class="output_text output_subarea output_execute_result">
<pre>array([0, 3, 0, 0, 0, 8, 1, 0, 3, 3, 8, 0, 0, 0, 0, 0, 0, 0, 0, 1, 3, 0, 0,
       0, 0, 0, 0, 9, 0, 0, 0, 3, 0, 0, 3, 0, 8, 3, 8, 0, 0, 4, 3, 5, 8, 0,
       3, 9, 2, 3, 0, 0, 1, 0, 3, 0, 0, 0, 0, 3, 0, 5, 9, 4, 0, 4, 0, 3, 3,
       0, 1, 3, 0, 0, 8, 0, 8, 0, 6, 0, 3, 0, 0, 0, 0, 0, 0, 0, 0, 0, 0, 0,
       0, 8, 0, 5, 0, 1, 0, 0])</pre>
</div>

</div>

</div>
</div>

</div>
<div class="cell border-box-sizing code_cell rendered">
<div class="input">
<div class="prompt input_prompt">In&nbsp;[22]:</div>
<div class="inner_cell">
    <div class="input_area">
<div class=" highlight hl-ipython2"><pre><span></span><span class="n">np</span><span class="o">.</span><span class="n">argmax</span><span class="p">(</span><span class="n">test_y</span><span class="p">[:</span><span class="mi">100</span><span class="p">],</span> <span class="mi">1</span><span class="p">)</span>
</pre></div>

    </div>
</div>
</div>

<div class="output_wrapper">
<div class="output">


<div class="output_area">

    <div class="prompt output_prompt">Out[22]:</div>




<div class="output_text output_subarea output_execute_result">
<pre>array([0, 0, 0, 0, 0, 0, 0, 0, 0, 0, 0, 0, 0, 0, 0, 0, 0, 0, 0, 0, 0, 0, 0,
       0, 0, 0, 0, 0, 0, 0, 0, 0, 0, 0, 0, 0, 0, 0, 0, 0, 0, 0, 0, 0, 0, 0,
       0, 0, 0, 0, 0, 0, 0, 0, 0, 0, 0, 0, 0, 0, 0, 0, 0, 0, 0, 0, 0, 0, 0,
       0, 0, 0, 0, 0, 0, 0, 0, 0, 0, 0, 0, 0, 0, 0, 0, 0, 0, 0, 0, 0, 0, 0,
       0, 0, 0, 0, 0, 0, 0, 0])</pre>
</div>

</div>

</div>
</div>

</div>
<div class="cell border-box-sizing code_cell rendered">
<div class="input">
<div class="prompt input_prompt">In&nbsp;[23]:</div>
<div class="inner_cell">
    <div class="input_area">
<div class=" highlight hl-ipython2"><pre><span></span><span class="n">np</span><span class="o">.</span><span class="n">argmax</span><span class="p">(</span><span class="n">y_test_out</span><span class="p">[</span><span class="mi">1000</span><span class="p">:</span><span class="mi">1100</span><span class="p">],</span> <span class="mi">1</span><span class="p">)</span>
</pre></div>

    </div>
</div>
</div>

<div class="output_wrapper">
<div class="output">


<div class="output_area">

    <div class="prompt output_prompt">Out[23]:</div>




<div class="output_text output_subarea output_execute_result">
<pre>array([1, 1, 1, 1, 8, 1, 1, 1, 1, 1, 1, 1, 1, 1, 1, 1, 1, 1, 1, 1, 1, 1, 1,
       1, 1, 1, 1, 1, 1, 0, 1, 1, 1, 1, 1, 1, 1, 1, 1, 1, 1, 1, 1, 1, 1, 1,
       1, 1, 1, 3, 1, 1, 6, 1, 2, 2, 1, 1, 1, 1, 1, 1, 1, 1, 1, 1, 1, 1, 1,
       1, 1, 1, 1, 1, 1, 2, 1, 1, 5, 1, 1, 1, 1, 1, 1, 1, 1, 1, 1, 1, 3, 1,
       1, 1, 1, 1, 1, 2, 1, 1])</pre>
</div>

</div>

</div>
</div>

</div>
<div class="cell border-box-sizing code_cell rendered">
<div class="input">
<div class="prompt input_prompt">In&nbsp;[24]:</div>
<div class="inner_cell">
    <div class="input_area">
<div class=" highlight hl-ipython2"><pre><span></span><span class="n">np</span><span class="o">.</span><span class="n">argmax</span><span class="p">(</span><span class="n">test_y</span><span class="p">[</span><span class="mi">1000</span><span class="p">:</span><span class="mi">1100</span><span class="p">],</span> <span class="mi">1</span><span class="p">)</span>
</pre></div>

    </div>
</div>
</div>

<div class="output_wrapper">
<div class="output">


<div class="output_area">

    <div class="prompt output_prompt">Out[24]:</div>




<div class="output_text output_subarea output_execute_result">
<pre>array([1, 1, 1, 1, 1, 1, 1, 1, 1, 1, 1, 1, 1, 1, 1, 1, 1, 1, 1, 1, 1, 1, 1,
       1, 1, 1, 1, 1, 1, 1, 1, 1, 1, 1, 1, 1, 1, 1, 1, 1, 1, 1, 1, 1, 1, 1,
       1, 1, 1, 1, 1, 1, 1, 1, 1, 1, 1, 1, 1, 1, 1, 1, 1, 1, 1, 1, 1, 1, 1,
       1, 1, 1, 1, 1, 1, 1, 1, 1, 1, 1, 1, 1, 1, 1, 1, 1, 1, 1, 1, 1, 1, 1,
       1, 1, 1, 1, 1, 1, 1, 1])</pre>
</div>

</div>

</div>
</div>

</div>
<div class="cell border-box-sizing code_cell rendered">
<div class="input">
<div class="prompt input_prompt">In&nbsp;[&nbsp;]:</div>
<div class="inner_cell">
    <div class="input_area">
<div class=" highlight hl-ipython2"><pre><span></span> 
</pre></div>

    </div>
</div>
</div>

</div>
 


    </div>
  </div>

  </div>


  
    <footer class="footer hidden-print">
      <div class="container">
        <div class="col-md-4">
          <p>
            This website does not host notebooks, it only renders notebooks
            available on other websites.
          </p>
        </div>

        <div class="col-md-4">
          <p>
            Delivered by <a href="https://www.fastly.com/">Fastly</a>,
            Rendered by <a href="https://ovhcloud.com">OVHcloud</a>
          </p>
          <p>
            nbviewer GitHub <a href="https://github.com/jupyter/nbviewer">repository</a>.
          </p>
        </div>

        <div class="col-md-4">
          
  
            
              <p>
                nbviewer version:
                <a href="https://github.com/jupyter/nbviewer/commit/d25d3c39c10d5f6b9891eba2503f30689c1aae28">
                  d25d3c3
                </a>
              </p>
            
          
  
  <p>
    nbconvert version: <a href="https://github.com/jupyter/nbconvert/releases/tag/5.6.1">
      5.6.1
    </a>
  </p>
  

          
  
  
  <p>
    Rendered
    <span class='date' data-date='Thu, 19 May 2022 02:14:55 UTC' title='Thu, 19 May 2022 02:14:55 UTC'>(Thu, 19 May 2022 02:14:55 UTC)</span>
  </p>
  

        </div>
      </div>
    </footer>
  

  <script src="/static/components/bootstrap/js/bootstrap.min.js"></script>
  <script src="/static/components/headroom.js/dist/headroom.min.js"></script>
  <script src="/static/components/headroom.js/dist/jQuery.headroom.min.js"></script>

  
  
  <script>
    $(function(){ $("#menubar").headroom({
      tolerance: 5,
      offset: 205,
      classes: {
        initial: "animated",
        pinned: "slideInDown",
        unpinned: "slideOutUp"
      }
    })});
  </script>


  
  <script>
    (function(i,s,o,g,r,a,m){i['GoogleAnalyticsObject']=r;i[r]=i[r]||function(){
      (i[r].q=i[r].q||[]).push(arguments)},i[r].l=1*new Date();a=s.createElement(o),
      m=s.getElementsByTagName(o)[0];a.async=1;a.src=g;m.parentNode.insertBefore(a,m)
    })(window,document,'script','https://www.google-analytics.com/analytics.js','ga');
    ga('create', 'UA-52617120-5', 'auto',
       {'storage': 'none'});
    ga('set', 'anonymizeIp', true);
    ga('send', 'pageview');
  </script>
  
  <script>
    require({
        paths: {
          moment: "/static/components/moment/min/moment.min.js"
        }
      }, ["moment"], function(moment){
      var date = $("footer .date"),
        m = moment(new Date(date.data('date'))),
        update = function(){ date.text(m.fromNow()); };
      setInterval(update, 61*1000);
      update();
      var w = $(window).scroll(function(event){
        $("body").toggleClass("scrolled", w.scrollTop() > 0);
      });
    });
  </script>

  <!--NEW RELIC Stop Perf Measurement-->
  
  <!--NEW RELIC End-->
</body>
</html>