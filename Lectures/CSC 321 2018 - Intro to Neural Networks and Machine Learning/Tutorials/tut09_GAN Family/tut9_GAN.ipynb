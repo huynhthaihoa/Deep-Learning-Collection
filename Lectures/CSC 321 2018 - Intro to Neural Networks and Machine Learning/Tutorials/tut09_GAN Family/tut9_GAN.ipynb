








<!DOCTYPE html>
<html lang="en">

<head>
  <meta charset="utf-8">
  <title>Jupyter Notebook Viewer</title>
  <meta name="viewport" content="width=device-width, initial-scale=1.0">
  <meta name="description" content="">
  <meta name="author" content="">
  
  <meta name="robots" content="noindex,nofollow">
  

  <!--NEW RELIC Start Perf Measurement-->
  
  <!--NREND-->

  <!-- Le styles -->
  <link href="/static/build/styles.css" rel="stylesheet">

  <!-- Le HTML5 shim, for IE6-8 support of HTML5 elements -->
  <!--[if lt IE 9]>
    <script src="http://html5shim.googlecode.com/svn/trunk/html5.js"></script>
  <![endif]-->

  <!-- Le fav and touch icons -->
  <link rel="shortcut icon" href="/static/ico/ipynb_icon_16x16.png">
  <link rel="apple-touch-icon-precomposed" sizes="144x144"
        href="/static/ico/apple-touch-icon-144-precomposed.png">
  <link rel="apple-touch-icon-precomposed" sizes="114x114"
        href="/static/ico/apple-touch-icon-114-precomposed.png">
  <link rel="apple-touch-icon-precomposed" sizes="72x72"
        href="/static/ico/apple-touch-icon-72-precomposed.png">
  <link rel="apple-touch-icon-precomposed"
        href="/static/ico/apple-touch-icon-57-precomposed.png">
  
  

  

  
  <meta name="twitter:card" content="summary">
  <meta name="twitter:title" content="Notebook on nbviewer">
  <meta name="twitter:description" content="Check out this Jupyter notebook!">

  
  <meta name="twitter:domain" content="nbviewer.jupyter.org">
  <meta name="twitter:image:src" content="http://ipython.org/ipython-doc/dev/_images/ipynb_icon_128x128.png">

  
    <link href="/static/build/notebook.css" rel="stylesheet">
  

  

  
    <script src="https://cdnjs.cloudflare.com/ajax/libs/mathjax/2.7.1/MathJax.js?config=TeX-AMS_HTML" type="text/javascript">
    </script>
    <script type="text/javascript">
      init_mathjax = function() {
        if (window.MathJax) {
          // MathJax loaded
          MathJax.Hub.Config({
            TeX: {
              equationNumbers: {
                autoNumber: "AMS",
                useLabelIds: true
              }
            },
            tex2jax: {
              inlineMath: [ ['$','$'], ["\\(","\\)"] ],
              displayMath: [ ['$$','$$'], ["\\[","\\]"] ],
              processEscapes: true,
              processEnvironments: true
            },
            displayAlign: 'center',
            "HTML-CSS": {
              styles: {'.MathJax_Display': {"margin": 0}},
              linebreaks: { automatic: true }
            }
          });
          MathJax.Hub.Queue(["Typeset", MathJax.Hub]);
        }
      }
      init_mathjax();
    </script>
  

  
    <script>
      (function() {
        function addWidgetsRenderer() {
          var mimeElement = document.querySelector('script[type="application/vnd.jupyter.widget-view+json"]');
          var scriptElement = document.createElement('script');
          var widgetRendererSrc = 'https://unpkg.com/@jupyter-widgets/html-manager@0.15/dist/embed-amd.js';
          var widgetState;

          try {
            widgetState = mimeElement && JSON.parse(mimeElement.innerHTML);

            if (widgetState && (widgetState.version_major < 2 || !widgetState.version_major)) {
              widgetRendererSrc = 'https://unpkg.com/jupyter-js-widgets@2.1/dist/embed.js';
            }
          } catch(e) {}

          scriptElement.src = widgetRendererSrc;
          document.body.appendChild(scriptElement);
        }

        document.addEventListener('DOMContentLoaded', addWidgetsRenderer);
      }());
    </script>
  

</head>

<body class="nbviewer">

  <!-- These are loaded at the top of the body so they are available to
       notebook cells when they are loaded below. -->
  <script src="/static/components/jquery/dist/jquery.min.js"></script>
  <script src="/static/components/requirejs/require.js"></script>
  <script src="/static/components/moment/min/moment.min.js"></script>
<!-- Navbar
================================================== -->
  <nav id="menubar" class="navbar navbar-default navbar-fixed-top" data-spy="affix">
    <div class="container">
      <div class="navbar-header">
        <button type="button" class="navbar-toggle collapsed" data-toggle="collapse" data-target=".navbar-collapse">
          <span class="sr-only">Toggle navigation</span>
          <i class="fa fa-bars"></i>
        </button>
        <a class="navbar-brand" href="/">
          <img src="/static/img/nav_logo.svg" width="159"/>
        </a>
      </div>

      <div class="collapse navbar-collapse">
        <ul class="nav navbar-nav navbar-right">
          <li>
            <a class="active" href="https://jupyter.org">JUPYTER</a>
          </li>
          <li>
    <a href="/faq" title="FAQ" >
      
        <span>FAQ</span>
      
    </a>
  </li>

          
  
    
  
    
      
        <li>
    <a href="script/url/www.cs.toronto.edu/~rgrosse/courses/csc321_2018/tutorials/tut9_GAN.ipynb" title="View as Code" >
      <span class="fa fa-code fa-2x menu-icon"></span>
      <span class="menu-text">View as Code</span>
    </a>
  </li>
      
    
  

  
    <li>
    <a href="#" title="Python [default] Kernel" >
      <span class="fa fa-server fa-2x menu-icon"></span>
      <span class="menu-text">Python [default] Kernel</span>
    </a>
  </li>
  

  

  

  <li>
    <a href="http://www.cs.toronto.edu/~rgrosse/courses/csc321_2018/tutorials/tut9_GAN.ipynb" title="Download Notebook" download>
      <span class="fa fa-download fa-2x menu-icon"></span>
      <span class="menu-text">Download Notebook</span>
    </a>
  </li>

        </ul>
      </div><!-- /.navbar-collapse -->
      
      
    </div>
  </nav>

  <div class="container container-main">
    
  
  <div id="notebook">
    <div id="notebook-container">
      <div class="cell border-box-sizing text_cell rendered"><div class="prompt input_prompt">
</div><div class="inner_cell">
<div class="text_cell_render border-box-sizing rendered_html">
<h1 id="Generative-Adversarial-Network-(GAN)-Tutorial">Generative Adversarial Network (GAN) Tutorial<a class="anchor-link" href="#Generative-Adversarial-Network-(GAN)-Tutorial">&#182;</a></h1><p>In this tutorial we'll see how to code a simple Generative Adversarial Network (GAN) to generate handwritten digits that resemble those found in the MNSIT dataset.</p>
<h2 id="Resources">Resources<a class="anchor-link" href="#Resources">&#182;</a></h2><p>The following are great resources for learning more about GANs.</p>
<ol>
<li><a href="https://arxiv.org/pdf/1406.2661.pdf">Generative Adversarial Nets (Goodfellow et al.)</a> -- the paper that introduced GANs</li>
<li><a href="http://blog.aylien.com/introduction-generative-adversarial-networks-code-tensorflow/">An Introduction to GANs in Tensorflow</a></li>
<li><a href="https://blog.openai.com/generative-models/">Generative Models Blog Post from OpenAI</a></li>
</ol>

</div>
</div>
</div>
<div class="cell border-box-sizing code_cell rendered">
<div class="input">
<div class="prompt input_prompt">In&nbsp;[10]:</div>
<div class="inner_cell">
    <div class="input_area">
<div class=" highlight hl-ipython2"><pre><span></span><span class="kn">from</span> <span class="nn">__future__</span> <span class="kn">import</span> <span class="n">absolute_import</span><span class="p">,</span> <span class="n">division</span>
<span class="kn">from</span> <span class="nn">__future__</span> <span class="kn">import</span> <span class="n">print_function</span>

<span class="kn">import</span> <span class="nn">itertools</span>
<span class="kn">import</span> <span class="nn">math</span>
<span class="kn">import</span> <span class="nn">time</span>

<span class="kn">import</span> <span class="nn">autograd</span>
<span class="kn">from</span> <span class="nn">autograd</span> <span class="kn">import</span> <span class="n">grad</span>
<span class="kn">import</span> <span class="nn">autograd.numpy</span> <span class="k">as</span> <span class="nn">np</span>

<span class="kn">import</span> <span class="nn">matplotlib.pyplot</span> <span class="k">as</span> <span class="nn">plt</span>
<span class="kn">from</span> <span class="nn">IPython</span> <span class="kn">import</span> <span class="n">display</span>

<span class="kn">from</span> <span class="nn">data</span> <span class="kn">import</span> <span class="n">load_mnist</span><span class="p">,</span> <span class="n">save_images</span>

<span class="o">%</span><span class="k">matplotlib</span> inline
</pre></div>

    </div>
</div>
</div>

</div>
<div class="cell border-box-sizing text_cell rendered"><div class="prompt input_prompt">
</div><div class="inner_cell">
<div class="text_cell_render border-box-sizing rendered_html">
<h2 id="Load-Dataset">Load Dataset<a class="anchor-link" href="#Load-Dataset">&#182;</a></h2>
</div>
</div>
</div>
<div class="cell border-box-sizing code_cell rendered">
<div class="input">
<div class="prompt input_prompt">In&nbsp;[58]:</div>
<div class="inner_cell">
    <div class="input_area">
<div class=" highlight hl-ipython2"><pre><span></span><span class="n">N</span><span class="p">,</span> <span class="n">train_images</span><span class="p">,</span> <span class="n">train_labels</span><span class="p">,</span> <span class="n">test_images</span><span class="p">,</span> <span class="n">test_labels</span> <span class="o">=</span> <span class="n">load_mnist</span><span class="p">()</span>
</pre></div>

    </div>
</div>
</div>

</div>
<div class="cell border-box-sizing text_cell rendered"><div class="prompt input_prompt">
</div><div class="inner_cell">
<div class="text_cell_render border-box-sizing rendered_html">
<h2 id="Visualize-Dataset-Examples">Visualize Dataset Examples<a class="anchor-link" href="#Visualize-Dataset-Examples">&#182;</a></h2>
</div>
</div>
</div>
<div class="cell border-box-sizing code_cell rendered">
<div class="input">
<div class="prompt input_prompt">In&nbsp;[75]:</div>
<div class="inner_cell">
    <div class="input_area">
<div class=" highlight hl-ipython2"><pre><span></span><span class="k">def</span> <span class="nf">plot_grid</span><span class="p">(</span><span class="n">image_matrix</span><span class="p">,</span> <span class="n">num_samples</span><span class="o">=</span><span class="mi">25</span><span class="p">):</span>
    <span class="sd">&quot;&quot;&quot;Plot a square grid of sample images.</span>
<span class="sd">    &quot;&quot;&quot;</span>

    <span class="c1"># create figure for plotting</span>
    <span class="n">size_figure_grid</span> <span class="o">=</span> <span class="nb">int</span><span class="p">(</span><span class="n">math</span><span class="o">.</span><span class="n">sqrt</span><span class="p">(</span><span class="n">num_samples</span><span class="p">))</span>
    <span class="n">fig</span><span class="p">,</span> <span class="n">ax</span> <span class="o">=</span> <span class="n">plt</span><span class="o">.</span><span class="n">subplots</span><span class="p">(</span><span class="n">size_figure_grid</span><span class="p">,</span> <span class="n">size_figure_grid</span><span class="p">,</span> <span class="n">figsize</span><span class="o">=</span><span class="p">(</span><span class="mi">6</span><span class="p">,</span> <span class="mi">6</span><span class="p">))</span>
    <span class="k">for</span> <span class="n">i</span><span class="p">,</span> <span class="n">j</span> <span class="ow">in</span> <span class="n">itertools</span><span class="o">.</span><span class="n">product</span><span class="p">(</span><span class="nb">range</span><span class="p">(</span><span class="n">size_figure_grid</span><span class="p">),</span> <span class="nb">range</span><span class="p">(</span><span class="n">size_figure_grid</span><span class="p">)):</span>
        <span class="n">ax</span><span class="p">[</span><span class="n">i</span><span class="p">,</span><span class="n">j</span><span class="p">]</span><span class="o">.</span><span class="n">get_xaxis</span><span class="p">()</span><span class="o">.</span><span class="n">set_visible</span><span class="p">(</span><span class="kc">False</span><span class="p">)</span>
        <span class="n">ax</span><span class="p">[</span><span class="n">i</span><span class="p">,</span><span class="n">j</span><span class="p">]</span><span class="o">.</span><span class="n">get_yaxis</span><span class="p">()</span><span class="o">.</span><span class="n">set_visible</span><span class="p">(</span><span class="kc">False</span><span class="p">)</span>
    
    <span class="k">for</span> <span class="n">k</span> <span class="ow">in</span> <span class="nb">range</span><span class="p">(</span><span class="n">num_samples</span><span class="p">):</span>
        <span class="n">i</span> <span class="o">=</span> <span class="n">k</span> <span class="o">//</span> <span class="n">size_figure_grid</span>
        <span class="n">j</span> <span class="o">=</span> <span class="n">k</span> <span class="o">%</span> <span class="n">size_figure_grid</span>
        <span class="n">ax</span><span class="p">[</span><span class="n">i</span><span class="p">,</span><span class="n">j</span><span class="p">]</span><span class="o">.</span><span class="n">cla</span><span class="p">()</span>
        <span class="n">ax</span><span class="p">[</span><span class="n">i</span><span class="p">,</span><span class="n">j</span><span class="p">]</span><span class="o">.</span><span class="n">imshow</span><span class="p">(</span><span class="n">image_matrix</span><span class="p">[</span><span class="n">k</span><span class="p">,:]</span><span class="o">.</span><span class="n">reshape</span><span class="p">(</span><span class="mi">28</span><span class="p">,</span> <span class="mi">28</span><span class="p">),</span> <span class="n">cmap</span><span class="o">=</span><span class="s1">&#39;Greys_r&#39;</span><span class="p">)</span>
<span class="c1">#     display.clear_output(wait=True)</span>
<span class="c1">#     display.display(plt.gcf())</span>
</pre></div>

    </div>
</div>
</div>

</div>
<div class="cell border-box-sizing code_cell rendered">
<div class="input">
<div class="prompt input_prompt">In&nbsp;[77]:</div>
<div class="inner_cell">
    <div class="input_area">
<div class=" highlight hl-ipython2"><pre><span></span><span class="n">show_indexes</span> <span class="o">=</span> <span class="nb">range</span><span class="p">(</span><span class="mi">0</span><span class="p">,</span> <span class="mi">25</span><span class="p">)</span>
<span class="n">plot_grid</span><span class="p">(</span><span class="n">train_images</span><span class="p">[</span><span class="n">show_indexes</span><span class="p">])</span>
<span class="nb">print</span><span class="p">([</span><span class="n">train_labels</span><span class="p">[</span><span class="n">idx</span><span class="p">]</span><span class="o">.</span><span class="n">nonzero</span><span class="p">()[</span><span class="mi">0</span><span class="p">][</span><span class="mi">0</span><span class="p">]</span> <span class="k">for</span> <span class="n">idx</span> <span class="ow">in</span> <span class="n">show_indexes</span><span class="p">])</span> <span class="c1"># Show the labels of the examples</span>
</pre></div>

    </div>
</div>
</div>

<div class="output_wrapper">
<div class="output">


<div class="output_area">

    <div class="prompt"></div>


<div class="output_subarea output_stream output_stdout output_text">
<pre>[5, 0, 4, 1, 9, 2, 1, 3, 1, 4, 3, 5, 3, 6, 1, 7, 2, 8, 6, 9, 4, 0, 9, 1, 1]
</pre>
</div>
</div>

<div class="output_area">

    <div class="prompt"></div>




<div class="output_png output_subarea ">
<img src="data:image/png;base64,iVBORw0KGgoAAAANSUhEUgAAAWIAAAFbCAYAAADvKYQfAAAABHNCSVQICAgIfAhkiAAAAAlwSFlz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==
"
>
</div>

</div>

</div>
</div>

</div>
<div class="cell border-box-sizing text_cell rendered"><div class="prompt input_prompt">
</div><div class="inner_cell">
<div class="text_cell_render border-box-sizing rendered_html">
<h2 id="Define-the-Model">Define the Model<a class="anchor-link" href="#Define-the-Model">&#182;</a></h2>
</div>
</div>
</div>
<div class="cell border-box-sizing code_cell rendered">
<div class="input">
<div class="prompt input_prompt">In&nbsp;[175]:</div>
<div class="inner_cell">
    <div class="input_area">
<div class=" highlight hl-ipython2"><pre><span></span><span class="k">def</span> <span class="nf">init_bias</span><span class="p">(</span><span class="n">scale</span><span class="p">,</span> <span class="n">output_size</span><span class="p">):</span>
    <span class="k">return</span> <span class="n">scale</span> <span class="o">*</span> <span class="n">np</span><span class="o">.</span><span class="n">random</span><span class="o">.</span><span class="n">randn</span><span class="p">(</span><span class="n">output_size</span><span class="p">)</span>

<span class="k">def</span> <span class="nf">init_weight</span><span class="p">(</span><span class="n">scale</span><span class="p">,</span> <span class="n">input_size</span><span class="p">,</span> <span class="n">output_size</span><span class="p">):</span>
    <span class="k">return</span> <span class="n">scale</span> <span class="o">*</span> <span class="n">np</span><span class="o">.</span><span class="n">random</span><span class="o">.</span><span class="n">randn</span><span class="p">(</span><span class="n">input_size</span><span class="p">,</span> <span class="n">output_size</span><span class="p">)</span>

<span class="k">def</span> <span class="nf">init_G_params</span><span class="p">(</span><span class="n">noise_size</span><span class="p">,</span> <span class="n">image_size</span><span class="p">,</span> <span class="n">scale</span><span class="o">=</span><span class="mf">0.001</span><span class="p">):</span>
    <span class="k">return</span> <span class="p">{</span>
            <span class="s1">&#39;G_fc1_W&#39;</span><span class="p">:</span> <span class="n">init_weight</span><span class="p">(</span><span class="n">scale</span><span class="p">,</span> <span class="n">noise_size</span><span class="p">,</span> <span class="mi">200</span><span class="p">),</span>
            <span class="s1">&#39;G_fc1_b&#39;</span><span class="p">:</span> <span class="n">init_bias</span><span class="p">(</span><span class="n">scale</span><span class="p">,</span> <span class="mi">200</span><span class="p">),</span>
            <span class="s1">&#39;G_fc2_W&#39;</span><span class="p">:</span> <span class="n">init_weight</span><span class="p">(</span><span class="n">scale</span><span class="p">,</span> <span class="mi">200</span><span class="p">,</span> <span class="mi">400</span><span class="p">),</span>
            <span class="s1">&#39;G_fc2_b&#39;</span><span class="p">:</span> <span class="n">init_bias</span><span class="p">(</span><span class="n">scale</span><span class="p">,</span> <span class="mi">400</span><span class="p">),</span>
            <span class="s1">&#39;G_fc3_W&#39;</span><span class="p">:</span> <span class="n">init_weight</span><span class="p">(</span><span class="n">scale</span><span class="p">,</span> <span class="mi">400</span><span class="p">,</span> <span class="n">image_size</span><span class="p">),</span>
            <span class="s1">&#39;G_fc3_b&#39;</span><span class="p">:</span> <span class="n">init_bias</span><span class="p">(</span><span class="n">scale</span><span class="p">,</span> <span class="n">image_size</span><span class="p">)</span>
           <span class="p">}</span>

<span class="k">def</span> <span class="nf">init_D_params</span><span class="p">(</span><span class="n">image_size</span><span class="p">,</span> <span class="n">output_size</span><span class="p">,</span> <span class="n">scale</span><span class="o">=</span><span class="mf">0.001</span><span class="p">):</span>
     <span class="k">return</span> <span class="p">{</span>
             <span class="s1">&#39;D_fc1_W&#39;</span><span class="p">:</span> <span class="n">init_weight</span><span class="p">(</span><span class="n">scale</span><span class="p">,</span> <span class="n">image_size</span><span class="p">,</span> <span class="mi">400</span><span class="p">),</span>
             <span class="s1">&#39;D_fc1_b&#39;</span><span class="p">:</span> <span class="n">init_bias</span><span class="p">(</span><span class="n">scale</span><span class="p">,</span> <span class="mi">400</span><span class="p">),</span>
             <span class="s1">&#39;D_fc2_W&#39;</span><span class="p">:</span> <span class="n">init_weight</span><span class="p">(</span><span class="n">scale</span><span class="p">,</span> <span class="mi">400</span><span class="p">,</span> <span class="mi">200</span><span class="p">),</span>
             <span class="s1">&#39;D_fc2_b&#39;</span><span class="p">:</span> <span class="n">init_bias</span><span class="p">(</span><span class="n">scale</span><span class="p">,</span> <span class="mi">200</span><span class="p">),</span>
             <span class="s1">&#39;D_fc3_W&#39;</span><span class="p">:</span> <span class="n">init_weight</span><span class="p">(</span><span class="n">scale</span><span class="p">,</span> <span class="mi">200</span><span class="p">,</span> <span class="n">output_size</span><span class="p">),</span>
             <span class="s1">&#39;D_fc3_b&#39;</span><span class="p">:</span> <span class="n">init_bias</span><span class="p">(</span><span class="n">scale</span><span class="p">,</span> <span class="n">output_size</span><span class="p">)</span>
            <span class="p">}</span>
</pre></div>

    </div>
</div>
</div>

</div>
<div class="cell border-box-sizing code_cell rendered">
<div class="input">
<div class="prompt input_prompt">In&nbsp;[176]:</div>
<div class="inner_cell">
    <div class="input_area">
<div class=" highlight hl-ipython2"><pre><span></span><span class="k">def</span> <span class="nf">relu</span><span class="p">(</span><span class="n">x</span><span class="p">):</span>
    <span class="k">return</span> <span class="n">np</span><span class="o">.</span><span class="n">maximum</span><span class="p">(</span><span class="mi">0</span><span class="p">,</span> <span class="n">x</span><span class="p">)</span>

<span class="k">def</span> <span class="nf">sigmoid</span><span class="p">(</span><span class="n">x</span><span class="p">):</span>
    <span class="k">return</span> <span class="mf">1.</span> <span class="o">/</span> <span class="p">(</span><span class="mf">1.</span> <span class="o">+</span> <span class="n">np</span><span class="o">.</span><span class="n">exp</span><span class="p">(</span><span class="o">-</span><span class="n">x</span><span class="p">))</span>

<span class="k">def</span> <span class="nf">batch_normalize</span><span class="p">(</span><span class="n">activations</span><span class="p">):</span>
    <span class="n">mbmean</span> <span class="o">=</span> <span class="n">np</span><span class="o">.</span><span class="n">mean</span><span class="p">(</span><span class="n">activations</span><span class="p">,</span> <span class="n">axis</span><span class="o">=</span><span class="mi">0</span><span class="p">,</span> <span class="n">keepdims</span><span class="o">=</span><span class="kc">True</span><span class="p">)</span>
    <span class="k">return</span> <span class="p">(</span><span class="n">activations</span> <span class="o">-</span> <span class="n">mbmean</span><span class="p">)</span> <span class="o">/</span> <span class="p">(</span><span class="n">np</span><span class="o">.</span><span class="n">std</span><span class="p">(</span><span class="n">activations</span><span class="p">,</span> <span class="n">axis</span><span class="o">=</span><span class="mi">0</span><span class="p">,</span> <span class="n">keepdims</span><span class="o">=</span><span class="kc">True</span><span class="p">)</span> <span class="o">+</span> <span class="mi">1</span><span class="p">)</span>
</pre></div>

    </div>
</div>
</div>

</div>
<div class="cell border-box-sizing code_cell rendered">
<div class="input">
<div class="prompt input_prompt">In&nbsp;[177]:</div>
<div class="inner_cell">
    <div class="input_area">
<div class=" highlight hl-ipython2"><pre><span></span><span class="k">def</span> <span class="nf">G</span><span class="p">(</span><span class="n">params</span><span class="p">,</span> <span class="n">z</span><span class="p">):</span>
    <span class="sd">&quot;&quot;&quot;Generates a batch of images from random noise vectors z.</span>
<span class="sd">    </span>
<span class="sd">    Input: A batch of noise samples, arranged in a matrix of dimension BATCH_SIZE x NOISE_DIM</span>
<span class="sd">    Output: A batch of generated images, arranged in a matrix of dimension BATCH_SIZE x IMAGE_SIZE</span>
<span class="sd">    &quot;&quot;&quot;</span>
    <span class="c1"># Forward pass through the generator</span>
    <span class="n">G_params</span> <span class="o">=</span> <span class="n">params</span><span class="p">[</span><span class="s1">&#39;G_params&#39;</span><span class="p">]</span>
    <span class="n">x</span> <span class="o">=</span> <span class="n">np</span><span class="o">.</span><span class="n">dot</span><span class="p">(</span><span class="n">z</span><span class="p">,</span> <span class="n">G_params</span><span class="p">[</span><span class="s1">&#39;G_fc1_W&#39;</span><span class="p">])</span> <span class="o">+</span> <span class="n">G_params</span><span class="p">[</span><span class="s1">&#39;G_fc1_b&#39;</span><span class="p">]</span>
    <span class="n">x</span> <span class="o">=</span> <span class="n">batch_normalize</span><span class="p">(</span><span class="n">x</span><span class="p">)</span>
    <span class="n">x</span> <span class="o">=</span> <span class="n">relu</span><span class="p">(</span><span class="n">x</span><span class="p">)</span>
    
    <span class="n">x</span> <span class="o">=</span> <span class="n">np</span><span class="o">.</span><span class="n">dot</span><span class="p">(</span><span class="n">x</span><span class="p">,</span> <span class="n">G_params</span><span class="p">[</span><span class="s1">&#39;G_fc2_W&#39;</span><span class="p">])</span> <span class="o">+</span> <span class="n">G_params</span><span class="p">[</span><span class="s1">&#39;G_fc2_b&#39;</span><span class="p">]</span>
    <span class="n">x</span> <span class="o">=</span> <span class="n">batch_normalize</span><span class="p">(</span><span class="n">x</span><span class="p">)</span>
    <span class="n">x</span> <span class="o">=</span> <span class="n">relu</span><span class="p">(</span><span class="n">x</span><span class="p">)</span>
    
    <span class="n">output</span> <span class="o">=</span> <span class="n">np</span><span class="o">.</span><span class="n">dot</span><span class="p">(</span><span class="n">x</span><span class="p">,</span> <span class="n">G_params</span><span class="p">[</span><span class="s1">&#39;G_fc3_W&#39;</span><span class="p">])</span> <span class="o">+</span> <span class="n">G_params</span><span class="p">[</span><span class="s1">&#39;G_fc3_b&#39;</span><span class="p">]</span>
    <span class="k">return</span> <span class="n">output</span>
</pre></div>

    </div>
</div>
</div>

</div>
<div class="cell border-box-sizing code_cell rendered">
<div class="input">
<div class="prompt input_prompt">In&nbsp;[178]:</div>
<div class="inner_cell">
    <div class="input_area">
<div class=" highlight hl-ipython2"><pre><span></span><span class="k">def</span> <span class="nf">D</span><span class="p">(</span><span class="n">params</span><span class="p">,</span> <span class="n">x</span><span class="p">):</span>
    <span class="sd">&quot;&quot;&quot;Takes a batch of images x and returns a batch of scores that indicate how confident the discriminator</span>
<span class="sd">    is that the each image is real.</span>
<span class="sd">    </span>
<span class="sd">    Input: A batch of images x, in a matrix of dimension BATCH_SIZE x IMAGE_SIZE</span>
<span class="sd">    Output: A batch of real/fake scores, in a matrix of dimension BATCH_SIZE x 1</span>
<span class="sd">    &quot;&quot;&quot;</span>
    <span class="c1"># Forward pass through the discriminator</span>
    <span class="n">D_params</span> <span class="o">=</span> <span class="n">params</span><span class="p">[</span><span class="s1">&#39;D_params&#39;</span><span class="p">]</span>
    <span class="n">y</span> <span class="o">=</span> <span class="n">np</span><span class="o">.</span><span class="n">dot</span><span class="p">(</span><span class="n">x</span><span class="p">,</span> <span class="n">D_params</span><span class="p">[</span><span class="s1">&#39;D_fc1_W&#39;</span><span class="p">])</span> <span class="o">+</span> <span class="n">D_params</span><span class="p">[</span><span class="s1">&#39;D_fc1_b&#39;</span><span class="p">]</span>
    <span class="n">y</span> <span class="o">=</span> <span class="n">batch_normalize</span><span class="p">(</span><span class="n">y</span><span class="p">)</span>
    <span class="n">y</span> <span class="o">=</span> <span class="n">relu</span><span class="p">(</span><span class="n">y</span><span class="p">)</span>
    
    <span class="n">y</span> <span class="o">=</span> <span class="n">np</span><span class="o">.</span><span class="n">dot</span><span class="p">(</span><span class="n">y</span><span class="p">,</span> <span class="n">D_params</span><span class="p">[</span><span class="s1">&#39;D_fc2_W&#39;</span><span class="p">])</span> <span class="o">+</span> <span class="n">D_params</span><span class="p">[</span><span class="s1">&#39;D_fc2_b&#39;</span><span class="p">]</span>
    <span class="n">y</span> <span class="o">=</span> <span class="n">batch_normalize</span><span class="p">(</span><span class="n">y</span><span class="p">)</span>
    <span class="n">y</span> <span class="o">=</span> <span class="n">relu</span><span class="p">(</span><span class="n">y</span><span class="p">)</span>
    
    <span class="n">output</span> <span class="o">=</span> <span class="n">np</span><span class="o">.</span><span class="n">dot</span><span class="p">(</span><span class="n">y</span><span class="p">,</span> <span class="n">D_params</span><span class="p">[</span><span class="s1">&#39;D_fc3_W&#39;</span><span class="p">])</span> <span class="o">+</span> <span class="n">D_params</span><span class="p">[</span><span class="s1">&#39;D_fc3_b&#39;</span><span class="p">]</span>
    <span class="c1"># print(output)</span>
    <span class="n">output</span> <span class="o">=</span> <span class="n">sigmoid</span><span class="p">(</span><span class="n">output</span><span class="p">)</span>
    <span class="k">return</span> <span class="n">output</span>
</pre></div>

    </div>
</div>
</div>

</div>
<div class="cell border-box-sizing code_cell rendered">
<div class="input">
<div class="prompt input_prompt">In&nbsp;[179]:</div>
<div class="inner_cell">
    <div class="input_area">
<div class=" highlight hl-ipython2"><pre><span></span><span class="k">def</span> <span class="nf">binary_cross_entropy</span><span class="p">(</span><span class="n">outputs</span><span class="p">,</span> <span class="n">targets</span><span class="p">):</span>
    <span class="c1"># loss(o,t)=−1/n∑i(t[i]∗log(o[i])+(1−t[i])∗log(1−o[i]))</span>
    
    <span class="n">loss</span> <span class="o">=</span> <span class="n">np</span><span class="o">.</span><span class="n">sum</span><span class="p">(</span><span class="o">-</span><span class="p">(</span><span class="n">targets</span> <span class="o">*</span> <span class="n">np</span><span class="o">.</span><span class="n">log</span><span class="p">(</span><span class="n">outputs</span> <span class="o">+</span> <span class="mf">1e-6</span><span class="p">))</span> <span class="o">-</span> <span class="p">((</span><span class="mi">1</span> <span class="o">-</span> <span class="n">targets</span><span class="p">)</span> <span class="o">*</span> <span class="n">np</span><span class="o">.</span><span class="n">log</span><span class="p">(</span><span class="mi">1</span> <span class="o">-</span> <span class="n">outputs</span> <span class="o">+</span> <span class="mf">1e-6</span><span class="p">)))</span>
    <span class="k">return</span> <span class="n">loss</span> <span class="o">/</span> <span class="n">outputs</span><span class="o">.</span><span class="n">shape</span><span class="p">[</span><span class="mi">0</span><span class="p">]</span>
</pre></div>

    </div>
</div>
</div>

</div>
<div class="cell border-box-sizing code_cell rendered">
<div class="input">
<div class="prompt input_prompt">In&nbsp;[189]:</div>
<div class="inner_cell">
    <div class="input_area">
<div class=" highlight hl-ipython2"><pre><span></span><span class="k">def</span> <span class="nf">D_loss</span><span class="p">(</span><span class="n">params</span><span class="p">,</span> <span class="n">real_images</span><span class="p">,</span> <span class="n">fake_images</span><span class="p">):</span>
    <span class="n">D_real_out</span> <span class="o">=</span> <span class="n">D</span><span class="p">(</span><span class="n">params</span><span class="p">,</span> <span class="n">real_images</span><span class="p">)</span>
    <span class="n">D_fake_out</span> <span class="o">=</span> <span class="n">D</span><span class="p">(</span><span class="n">params</span><span class="p">,</span> <span class="n">fake_images</span><span class="p">)</span>
    
    <span class="n">D_real_loss</span> <span class="o">=</span> <span class="n">binary_cross_entropy</span><span class="p">(</span><span class="n">D_real_out</span><span class="p">,</span> <span class="n">np</span><span class="o">.</span><span class="n">ones</span><span class="p">(</span><span class="n">batch_size</span><span class="p">))</span>
    <span class="n">D_fake_loss</span> <span class="o">=</span> <span class="n">binary_cross_entropy</span><span class="p">(</span><span class="n">D_fake_out</span><span class="p">,</span> <span class="n">np</span><span class="o">.</span><span class="n">zeros</span><span class="p">(</span><span class="n">batch_size</span><span class="p">))</span>
    <span class="n">D_total_loss</span> <span class="o">=</span> <span class="n">D_real_loss</span> <span class="o">+</span> <span class="n">D_fake_loss</span>
    
    <span class="k">return</span> <span class="n">D_total_loss</span>


<span class="k">def</span> <span class="nf">G_loss</span><span class="p">(</span><span class="n">params</span><span class="p">):</span>
    
    <span class="c1"># Sample random noise from a Gaussian distribution</span>
    <span class="n">z</span> <span class="o">=</span> <span class="n">np</span><span class="o">.</span><span class="n">random</span><span class="o">.</span><span class="n">randn</span><span class="p">(</span><span class="n">batch_size</span><span class="p">,</span> <span class="n">noise_dimension</span><span class="p">)</span>
    <span class="n">fake_images</span> <span class="o">=</span> <span class="n">G</span><span class="p">(</span><span class="n">params</span><span class="p">,</span> <span class="n">z</span><span class="p">)</span>
    
    <span class="n">D_fake_out</span> <span class="o">=</span> <span class="n">D</span><span class="p">(</span><span class="n">params</span><span class="p">,</span> <span class="n">fake_images</span><span class="p">)</span>
        
    <span class="c1"># print(D_fake_out)</span>
    <span class="c1"># The generator wants to fool the discriminator; that is, it wants the discriminator to assign high </span>
    <span class="c1"># probability (close to 1) to the fake images it generates.</span>
    <span class="n">loss</span> <span class="o">=</span> <span class="n">binary_cross_entropy</span><span class="p">(</span><span class="n">D_fake_out</span><span class="p">,</span> <span class="n">np</span><span class="o">.</span><span class="n">ones</span><span class="p">(</span><span class="n">batch_size</span><span class="p">))</span>
    <span class="k">return</span> <span class="n">loss</span>

<span class="n">D_loss_grad</span> <span class="o">=</span> <span class="n">grad</span><span class="p">(</span><span class="n">D_loss</span><span class="p">)</span>
<span class="n">G_loss_grad</span> <span class="o">=</span> <span class="n">grad</span><span class="p">(</span><span class="n">G_loss</span><span class="p">)</span>
</pre></div>

    </div>
</div>
</div>

</div>
<div class="cell border-box-sizing text_cell rendered"><div class="prompt input_prompt">
</div><div class="inner_cell">
<div class="text_cell_render border-box-sizing rendered_html">
<h3 id="Prepare-to-show-generated-samples-during-training">Prepare to show generated samples during training<a class="anchor-link" href="#Prepare-to-show-generated-samples-during-training">&#182;</a></h3>
</div>
</div>
</div>
<div class="cell border-box-sizing code_cell rendered">
<div class="input">
<div class="prompt input_prompt">In&nbsp;[&nbsp;]:</div>
<div class="inner_cell">
    <div class="input_area">
<div class=" highlight hl-ipython2"><pre><span></span><span class="n">num_test_samples</span> <span class="o">=</span> <span class="mi">25</span>
<span class="n">fixed_noise</span> <span class="o">=</span> <span class="n">np</span><span class="o">.</span><span class="n">random</span><span class="o">.</span><span class="n">randn</span><span class="p">(</span><span class="n">num_test_samples</span><span class="p">,</span> <span class="n">noise_dimension</span><span class="p">)</span>

<span class="c1"># create figure for plotting</span>
<span class="n">size_figure_grid</span> <span class="o">=</span> <span class="nb">int</span><span class="p">(</span><span class="n">math</span><span class="o">.</span><span class="n">sqrt</span><span class="p">(</span><span class="n">num_test_samples</span><span class="p">))</span>
<span class="n">fig</span><span class="p">,</span> <span class="n">ax</span> <span class="o">=</span> <span class="n">plt</span><span class="o">.</span><span class="n">subplots</span><span class="p">(</span><span class="n">size_figure_grid</span><span class="p">,</span> <span class="n">size_figure_grid</span><span class="p">,</span> <span class="n">figsize</span><span class="o">=</span><span class="p">(</span><span class="mi">6</span><span class="p">,</span> <span class="mi">6</span><span class="p">))</span>
<span class="k">for</span> <span class="n">i</span><span class="p">,</span> <span class="n">j</span> <span class="ow">in</span> <span class="n">itertools</span><span class="o">.</span><span class="n">product</span><span class="p">(</span><span class="nb">range</span><span class="p">(</span><span class="n">size_figure_grid</span><span class="p">),</span> <span class="nb">range</span><span class="p">(</span><span class="n">size_figure_grid</span><span class="p">)):</span>
    <span class="n">ax</span><span class="p">[</span><span class="n">i</span><span class="p">,</span><span class="n">j</span><span class="p">]</span><span class="o">.</span><span class="n">get_xaxis</span><span class="p">()</span><span class="o">.</span><span class="n">set_visible</span><span class="p">(</span><span class="kc">False</span><span class="p">)</span>
    <span class="n">ax</span><span class="p">[</span><span class="n">i</span><span class="p">,</span><span class="n">j</span><span class="p">]</span><span class="o">.</span><span class="n">get_yaxis</span><span class="p">()</span><span class="o">.</span><span class="n">set_visible</span><span class="p">(</span><span class="kc">False</span><span class="p">)</span>
    
<span class="k">def</span> <span class="nf">display_samples</span><span class="p">(</span><span class="n">image_matrix</span><span class="p">,</span> <span class="n">num_samples</span><span class="o">=</span><span class="mi">25</span><span class="p">):</span>
    <span class="c1"># reshaped_generated_images = fake_images.view(batch_size, 28, 28)</span>
    
    <span class="k">for</span> <span class="n">k</span> <span class="ow">in</span> <span class="nb">range</span><span class="p">(</span><span class="n">num_test_samples</span><span class="p">):</span>
        <span class="n">i</span> <span class="o">=</span> <span class="n">k</span> <span class="o">//</span> <span class="n">size_figure_grid</span>
        <span class="n">j</span> <span class="o">=</span> <span class="n">k</span> <span class="o">%</span> <span class="n">size_figure_grid</span>
        <span class="n">ax</span><span class="p">[</span><span class="n">i</span><span class="p">,</span><span class="n">j</span><span class="p">]</span><span class="o">.</span><span class="n">cla</span><span class="p">()</span>
        <span class="n">ax</span><span class="p">[</span><span class="n">i</span><span class="p">,</span><span class="n">j</span><span class="p">]</span><span class="o">.</span><span class="n">imshow</span><span class="p">(</span><span class="n">image_matrix</span><span class="p">[</span><span class="n">k</span><span class="p">,:]</span><span class="o">.</span><span class="n">reshape</span><span class="p">(</span><span class="mi">28</span><span class="p">,</span> <span class="mi">28</span><span class="p">),</span> <span class="n">cmap</span><span class="o">=</span><span class="s1">&#39;Greys_r&#39;</span><span class="p">)</span>
    
    <span class="n">display</span><span class="o">.</span><span class="n">clear_output</span><span class="p">(</span><span class="n">wait</span><span class="o">=</span><span class="kc">True</span><span class="p">)</span>
    <span class="n">display</span><span class="o">.</span><span class="n">display</span><span class="p">(</span><span class="n">plt</span><span class="o">.</span><span class="n">gcf</span><span class="p">())</span>
</pre></div>

    </div>
</div>
</div>

</div>
<div class="cell border-box-sizing text_cell rendered"><div class="prompt input_prompt">
</div><div class="inner_cell">
<div class="text_cell_render border-box-sizing rendered_html">
<h3 id="Train-the-GAN">Train the GAN<a class="anchor-link" href="#Train-the-GAN">&#182;</a></h3>
</div>
</div>
</div>
<div class="cell border-box-sizing code_cell rendered">
<div class="input">
<div class="prompt input_prompt">In&nbsp;[195]:</div>
<div class="inner_cell">
    <div class="input_area">
<div class=" highlight hl-ipython2"><pre><span></span><span class="c1"># Training hyperparameters</span>
<span class="n">param_scale</span> <span class="o">=</span> <span class="mf">0.001</span>
<span class="n">noise_dimension</span> <span class="o">=</span> <span class="mi">10</span>
<span class="n">image_size</span> <span class="o">=</span> <span class="mi">784</span>  <span class="c1"># 28 * 28</span>

<span class="n">batch_size</span> <span class="o">=</span> <span class="mi">100</span>
<span class="n">num_epochs</span> <span class="o">=</span> <span class="mi">10</span>
<span class="n">learning_rate</span> <span class="o">=</span> <span class="mf">0.005</span>  <span class="c1"># for SGD</span>

<span class="c1"># Initialize model parameters</span>
<span class="n">params</span> <span class="o">=</span> <span class="p">{</span>
        <span class="s1">&#39;G_params&#39;</span><span class="p">:</span> <span class="n">init_G_params</span><span class="p">(</span><span class="n">noise_dimension</span><span class="p">,</span> <span class="n">image_size</span><span class="p">,</span> <span class="n">param_scale</span><span class="p">),</span>
        <span class="s1">&#39;D_params&#39;</span><span class="p">:</span> <span class="n">init_D_params</span><span class="p">(</span><span class="n">image_size</span><span class="p">,</span> <span class="mi">1</span><span class="p">,</span> <span class="n">param_scale</span><span class="p">)</span>
    <span class="p">}</span>

<span class="n">num_batches</span> <span class="o">=</span> <span class="n">math</span><span class="o">.</span><span class="n">ceil</span><span class="p">(</span><span class="n">train_images</span><span class="o">.</span><span class="n">shape</span><span class="p">[</span><span class="mi">0</span><span class="p">]</span> <span class="o">/</span> <span class="n">batch_size</span><span class="p">)</span>

<span class="n">iteration</span> <span class="o">=</span> <span class="mi">0</span>
<span class="n">display_every</span> <span class="o">=</span> <span class="mi">400</span>

<span class="k">for</span> <span class="n">epoch</span> <span class="ow">in</span> <span class="nb">range</span><span class="p">(</span><span class="n">num_epochs</span><span class="p">):</span>
    
    <span class="k">for</span> <span class="n">batch_index</span> <span class="ow">in</span> <span class="nb">range</span><span class="p">(</span><span class="n">num_batches</span><span class="p">):</span>
        
        <span class="n">start_index</span> <span class="o">=</span> <span class="n">batch_index</span> <span class="o">*</span> <span class="n">batch_size</span>
        <span class="n">end_index</span> <span class="o">=</span> <span class="n">start_index</span> <span class="o">+</span> <span class="n">batch_size</span>
        
        <span class="n">real_images</span> <span class="o">=</span> <span class="n">train_images</span><span class="p">[</span><span class="n">start_index</span><span class="p">:</span><span class="n">end_index</span><span class="p">]</span>
        
        <span class="c1"># Sample random noise from a Gaussian distribution</span>
        <span class="n">z</span> <span class="o">=</span> <span class="n">np</span><span class="o">.</span><span class="n">random</span><span class="o">.</span><span class="n">randn</span><span class="p">(</span><span class="n">batch_size</span><span class="p">,</span> <span class="n">noise_dimension</span><span class="p">)</span>
        <span class="n">fake_images</span> <span class="o">=</span> <span class="n">G</span><span class="p">(</span><span class="n">params</span><span class="p">,</span> <span class="n">z</span><span class="p">)</span>
        
        <span class="c1"># Update the discriminator</span>
        <span class="n">D_grad_params</span> <span class="o">=</span> <span class="n">D_loss_grad</span><span class="p">(</span><span class="n">params</span><span class="p">,</span> <span class="n">real_images</span><span class="p">,</span> <span class="n">fake_images</span><span class="p">)</span>
        <span class="k">for</span> <span class="n">param</span> <span class="ow">in</span> <span class="n">params</span><span class="p">[</span><span class="s1">&#39;D_params&#39;</span><span class="p">]:</span>
            <span class="n">params</span><span class="p">[</span><span class="s1">&#39;D_params&#39;</span><span class="p">][</span><span class="n">param</span><span class="p">]</span> <span class="o">=</span> <span class="n">params</span><span class="p">[</span><span class="s1">&#39;D_params&#39;</span><span class="p">][</span><span class="n">param</span><span class="p">]</span> <span class="o">-</span> <span class="n">learning_rate</span> <span class="o">*</span> <span class="n">D_grad_params</span><span class="p">[</span><span class="s1">&#39;D_params&#39;</span><span class="p">][</span><span class="n">param</span><span class="p">]</span>
        
        
        <span class="c1"># Update the generator</span>
        <span class="n">G_grad_params</span> <span class="o">=</span> <span class="n">G_loss_grad</span><span class="p">(</span><span class="n">params</span><span class="p">)</span>
        <span class="k">for</span> <span class="n">param</span> <span class="ow">in</span> <span class="n">params</span><span class="p">[</span><span class="s1">&#39;G_params&#39;</span><span class="p">]:</span>
            <span class="n">params</span><span class="p">[</span><span class="s1">&#39;G_params&#39;</span><span class="p">][</span><span class="n">param</span><span class="p">]</span> <span class="o">=</span> <span class="n">params</span><span class="p">[</span><span class="s1">&#39;G_params&#39;</span><span class="p">][</span><span class="n">param</span><span class="p">]</span> <span class="o">-</span> <span class="n">learning_rate</span> <span class="o">*</span> <span class="n">G_grad_params</span><span class="p">[</span><span class="s1">&#39;G_params&#39;</span><span class="p">][</span><span class="n">param</span><span class="p">]</span>
        
        
        <span class="c1"># Show generated samples periodically, to inspect the generator qualitatively</span>
        <span class="k">if</span> <span class="n">iteration</span> <span class="o">%</span> <span class="n">display_every</span> <span class="o">==</span> <span class="mi">0</span><span class="p">:</span>
            <span class="n">D_total_loss</span> <span class="o">=</span> <span class="n">D_loss</span><span class="p">(</span><span class="n">params</span><span class="p">,</span> <span class="n">real_images</span><span class="p">,</span> <span class="n">fake_images</span><span class="p">)</span>
            <span class="n">G_total_loss</span> <span class="o">=</span> <span class="n">G_loss</span><span class="p">(</span><span class="n">params</span><span class="p">)</span>
            
            <span class="n">test_images</span> <span class="o">=</span> <span class="n">G</span><span class="p">(</span><span class="n">params</span><span class="p">,</span> <span class="n">fixed_noise</span><span class="p">)</span>
            <span class="n">display_samples</span><span class="p">(</span><span class="n">test_images</span><span class="p">,</span> <span class="n">num_samples</span><span class="o">=</span><span class="n">num_test_samples</span><span class="p">)</span>
            
            <span class="nb">print</span><span class="p">(</span><span class="s2">&quot;D loss = </span><span class="si">{}</span><span class="s2">&quot;</span><span class="o">.</span><span class="n">format</span><span class="p">(</span><span class="n">D_total_loss</span><span class="p">))</span>
            <span class="nb">print</span><span class="p">(</span><span class="s2">&quot;G loss = </span><span class="si">{}</span><span class="s2">&quot;</span><span class="o">.</span><span class="n">format</span><span class="p">(</span><span class="n">G_total_loss</span><span class="p">))</span>
        
        <span class="n">iteration</span> <span class="o">+=</span> <span class="mi">1</span>
</pre></div>

    </div>
</div>
</div>

<div class="output_wrapper">
<div class="output">


<div class="output_area">

    <div class="prompt"></div>




<div class="output_png output_subarea ">
<img src="data:image/png;base64,iVBORw0KGgoAAAANSUhEUgAAAWIAAAFbCAYAAADvKYQfAAAABHNCSVQICAgIfAhkiAAAAAlwSFlz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"
>
</div>

</div>

<div class="output_area">

    <div class="prompt"></div>




<div class="output_png output_subarea ">
<img src="data:image/png;base64,iVBORw0KGgoAAAANSUhEUgAAAWIAAAFbCAYAAADvKYQfAAAABHNCSVQICAgIfAhkiAAAAAlwSFlz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"
>
</div>

</div>

</div>
</div>

</div>
<div class="cell border-box-sizing text_cell rendered"><div class="prompt input_prompt">
</div><div class="inner_cell">
<div class="text_cell_render border-box-sizing rendered_html">
<h2 id="Conditional-GAN,-a.k.a.-&quot;Give-me-a-5!&quot;">Conditional GAN, a.k.a. "Give me a 5!"<a class="anchor-link" href="#Conditional-GAN,-a.k.a.-&quot;Give-me-a-5!&quot;">&#182;</a></h2><p>The vanilla GAN we have just implemented does not take into account the class of an image; thus, while it can produce realistic images that look like ones from the training set, it cannot produce images of a specific, desired class, such as only images of the number 5. We can extend the vanilla GAN by incorporating extra conditioning information, for example to specify which class we want it to generate. To do this, we pass a conditioning vector $c$ to both the generator and discriminator, so they become $G(z, c)$ and $D(x, c)$, respectively. Then the generator $G$ can take into account which class it is supposed to generate, and $D$ can score how realistic a generated image is, given that it is intended to represent a specific class.</p>
<p>Then, the objective function of the discriminator becomes:
$$
J_D = \mathbb{E}_{x \sim p_{data}} [ - \log D(x, c) ] + \mathbb{E}_z [ - \log(1 - D(G(z, c), c)) ]
$$</p>
<p>And the objective function of the generator becomes:
$$
J_G = \mathbb{E}_{z \sim q(z)} [ - \log D(G(z, c), c) ]
$$</p>

</div>
</div>
</div>
<div class="cell border-box-sizing code_cell rendered">
<div class="input">
<div class="prompt input_prompt">In&nbsp;[&nbsp;]:</div>
<div class="inner_cell">
    <div class="input_area">
<div class=" highlight hl-ipython2"><pre><span></span> 
</pre></div>

    </div>
</div>
</div>

</div>
 


    </div>
  </div>

  </div>


  
    <footer class="footer hidden-print">
      <div class="container">
        <div class="col-md-4">
          <p>
            This website does not host notebooks, it only renders notebooks
            available on other websites.
          </p>
        </div>

        <div class="col-md-4">
          <p>
            Delivered by <a href="https://www.fastly.com/">Fastly</a>,
            Rendered by <a href="https://ovhcloud.com">OVHcloud</a>
          </p>
          <p>
            nbviewer GitHub <a href="https://github.com/jupyter/nbviewer">repository</a>.
          </p>
        </div>

        <div class="col-md-4">
          
  
            
              <p>
                nbviewer version:
                <a href="https://github.com/jupyter/nbviewer/commit/d25d3c39c10d5f6b9891eba2503f30689c1aae28">
                  d25d3c3
                </a>
              </p>
            
          
  
  <p>
    nbconvert version: <a href="https://github.com/jupyter/nbconvert/releases/tag/5.6.1">
      5.6.1
    </a>
  </p>
  

          
  
  
  <p>
    Rendered
    <span class='date' data-date='Thu, 19 May 2022 02:16:39 UTC' title='Thu, 19 May 2022 02:16:39 UTC'>(Thu, 19 May 2022 02:16:39 UTC)</span>
  </p>
  

        </div>
      </div>
    </footer>
  

  <script src="/static/components/bootstrap/js/bootstrap.min.js"></script>
  <script src="/static/components/headroom.js/dist/headroom.min.js"></script>
  <script src="/static/components/headroom.js/dist/jQuery.headroom.min.js"></script>

  
  
  <script>
    $(function(){ $("#menubar").headroom({
      tolerance: 5,
      offset: 205,
      classes: {
        initial: "animated",
        pinned: "slideInDown",
        unpinned: "slideOutUp"
      }
    })});
  </script>


  
  <script>
    (function(i,s,o,g,r,a,m){i['GoogleAnalyticsObject']=r;i[r]=i[r]||function(){
      (i[r].q=i[r].q||[]).push(arguments)},i[r].l=1*new Date();a=s.createElement(o),
      m=s.getElementsByTagName(o)[0];a.async=1;a.src=g;m.parentNode.insertBefore(a,m)
    })(window,document,'script','https://www.google-analytics.com/analytics.js','ga');
    ga('create', 'UA-52617120-5', 'auto',
       {'storage': 'none'});
    ga('set', 'anonymizeIp', true);
    ga('send', 'pageview');
  </script>
  
  <script>
    require({
        paths: {
          moment: "/static/components/moment/min/moment.min.js"
        }
      }, ["moment"], function(moment){
      var date = $("footer .date"),
        m = moment(new Date(date.data('date'))),
        update = function(){ date.text(m.fromNow()); };
      setInterval(update, 61*1000);
      update();
      var w = $(window).scroll(function(event){
        $("body").toggleClass("scrolled", w.scrollTop() > 0);
      });
    });
  </script>

  <!--NEW RELIC Stop Perf Measurement-->
  
  <!--NEW RELIC End-->
</body>
</html>