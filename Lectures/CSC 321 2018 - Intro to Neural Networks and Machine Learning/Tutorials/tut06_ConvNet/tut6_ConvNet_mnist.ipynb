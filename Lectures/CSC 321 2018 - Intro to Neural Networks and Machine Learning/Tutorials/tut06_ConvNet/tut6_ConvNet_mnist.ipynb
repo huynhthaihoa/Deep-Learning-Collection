








<!DOCTYPE html>
<html lang="en">

<head>
  <meta charset="utf-8">
  <title>Jupyter Notebook Viewer</title>
  <meta name="viewport" content="width=device-width, initial-scale=1.0">
  <meta name="description" content="">
  <meta name="author" content="">
  
  <meta name="robots" content="noindex,nofollow">
  

  <!--NEW RELIC Start Perf Measurement-->
  
  <!--NREND-->

  <!-- Le styles -->
  <link href="/static/build/styles.css" rel="stylesheet">

  <!-- Le HTML5 shim, for IE6-8 support of HTML5 elements -->
  <!--[if lt IE 9]>
    <script src="http://html5shim.googlecode.com/svn/trunk/html5.js"></script>
  <![endif]-->

  <!-- Le fav and touch icons -->
  <link rel="shortcut icon" href="/static/ico/ipynb_icon_16x16.png">
  <link rel="apple-touch-icon-precomposed" sizes="144x144"
        href="/static/ico/apple-touch-icon-144-precomposed.png">
  <link rel="apple-touch-icon-precomposed" sizes="114x114"
        href="/static/ico/apple-touch-icon-114-precomposed.png">
  <link rel="apple-touch-icon-precomposed" sizes="72x72"
        href="/static/ico/apple-touch-icon-72-precomposed.png">
  <link rel="apple-touch-icon-precomposed"
        href="/static/ico/apple-touch-icon-57-precomposed.png">
  
  

  

  
  <meta name="twitter:card" content="summary">
  <meta name="twitter:title" content="Notebook on nbviewer">
  <meta name="twitter:description" content="Check out this Jupyter notebook!">

  
  <meta name="twitter:domain" content="nbviewer.jupyter.org">
  <meta name="twitter:image:src" content="http://ipython.org/ipython-doc/dev/_images/ipynb_icon_128x128.png">

  
    <link href="/static/build/notebook.css" rel="stylesheet">
  

  

  
    <script src="https://cdnjs.cloudflare.com/ajax/libs/mathjax/2.7.1/MathJax.js?config=TeX-AMS_HTML" type="text/javascript">
    </script>
    <script type="text/javascript">
      init_mathjax = function() {
        if (window.MathJax) {
          // MathJax loaded
          MathJax.Hub.Config({
            TeX: {
              equationNumbers: {
                autoNumber: "AMS",
                useLabelIds: true
              }
            },
            tex2jax: {
              inlineMath: [ ['$','$'], ["\\(","\\)"] ],
              displayMath: [ ['$$','$$'], ["\\[","\\]"] ],
              processEscapes: true,
              processEnvironments: true
            },
            displayAlign: 'center',
            "HTML-CSS": {
              styles: {'.MathJax_Display': {"margin": 0}},
              linebreaks: { automatic: true }
            }
          });
          MathJax.Hub.Queue(["Typeset", MathJax.Hub]);
        }
      }
      init_mathjax();
    </script>
  

  
    <script>
      (function() {
        function addWidgetsRenderer() {
          var mimeElement = document.querySelector('script[type="application/vnd.jupyter.widget-view+json"]');
          var scriptElement = document.createElement('script');
          var widgetRendererSrc = 'https://unpkg.com/@jupyter-widgets/html-manager@0.15/dist/embed-amd.js';
          var widgetState;

          try {
            widgetState = mimeElement && JSON.parse(mimeElement.innerHTML);

            if (widgetState && (widgetState.version_major < 2 || !widgetState.version_major)) {
              widgetRendererSrc = 'https://unpkg.com/jupyter-js-widgets@2.1/dist/embed.js';
            }
          } catch(e) {}

          scriptElement.src = widgetRendererSrc;
          document.body.appendChild(scriptElement);
        }

        document.addEventListener('DOMContentLoaded', addWidgetsRenderer);
      }());
    </script>
  

</head>

<body class="nbviewer">

  <!-- These are loaded at the top of the body so they are available to
       notebook cells when they are loaded below. -->
  <script src="/static/components/jquery/dist/jquery.min.js"></script>
  <script src="/static/components/requirejs/require.js"></script>
  <script src="/static/components/moment/min/moment.min.js"></script>
<!-- Navbar
================================================== -->
  <nav id="menubar" class="navbar navbar-default navbar-fixed-top" data-spy="affix">
    <div class="container">
      <div class="navbar-header">
        <button type="button" class="navbar-toggle collapsed" data-toggle="collapse" data-target=".navbar-collapse">
          <span class="sr-only">Toggle navigation</span>
          <i class="fa fa-bars"></i>
        </button>
        <a class="navbar-brand" href="/">
          <img src="/static/img/nav_logo.svg" width="159"/>
        </a>
      </div>

      <div class="collapse navbar-collapse">
        <ul class="nav navbar-nav navbar-right">
          <li>
            <a class="active" href="https://jupyter.org">JUPYTER</a>
          </li>
          <li>
    <a href="/faq" title="FAQ" >
      
        <span>FAQ</span>
      
    </a>
  </li>

          
  
    
  
    
      
        <li>
    <a href="script/url/www.cs.toronto.edu/~rgrosse/courses/csc321_2018/tutorials/tut6_mnist.ipynb" title="View as Code" >
      <span class="fa fa-code fa-2x menu-icon"></span>
      <span class="menu-text">View as Code</span>
    </a>
  </li>
      
    
  

  
    <li>
    <a href="#" title="Python 3 Kernel" >
      <span class="fa fa-server fa-2x menu-icon"></span>
      <span class="menu-text">Python 3 Kernel</span>
    </a>
  </li>
  

  

  

  <li>
    <a href="http://www.cs.toronto.edu/~rgrosse/courses/csc321_2018/tutorials/tut6_mnist.ipynb" title="Download Notebook" download>
      <span class="fa fa-download fa-2x menu-icon"></span>
      <span class="menu-text">Download Notebook</span>
    </a>
  </li>

        </ul>
      </div><!-- /.navbar-collapse -->
      
      
    </div>
  </nav>

  <div class="container container-main">
    
  
  <div id="notebook">
    <div id="notebook-container">
      <div class="cell border-box-sizing code_cell rendered">
<div class="input">
<div class="prompt input_prompt">In&nbsp;[1]:</div>
<div class="inner_cell">
    <div class="input_area">
<div class=" highlight hl-ipython3"><pre><span></span><span class="c1">###########################################################################</span>
<span class="c1"># Example code for running a CNN on MNIST</span>
<span class="c1"># Adapted from: https://github.com/yunjey/pytorch-tutorial</span>
<span class="c1">###########################################################################</span>

<span class="kn">import</span> <span class="nn">torch</span><span class="o">,</span> <span class="nn">numpy</span> <span class="k">as</span> <span class="nn">np</span><span class="o">,</span> <span class="nn">os</span>
<span class="kn">import</span> <span class="nn">torch.nn</span> <span class="k">as</span> <span class="nn">nn</span>
<span class="kn">import</span> <span class="nn">torchvision.datasets</span> <span class="k">as</span> <span class="nn">dsets</span>
<span class="kn">import</span> <span class="nn">torchvision.transforms</span> <span class="k">as</span> <span class="nn">transforms</span>
<span class="kn">from</span> <span class="nn">torch.autograd</span> <span class="kn">import</span> <span class="n">Variable</span>

<span class="c1"># Hyper Parameters</span>
<span class="n">num_epochs</span> <span class="o">=</span> <span class="mi">5</span>
<span class="n">batch_size</span> <span class="o">=</span> <span class="mi">100</span>
<span class="n">learning_rate</span> <span class="o">=</span> <span class="mf">0.001</span>
<span class="c1"># MNIST Dataset</span>
<span class="n">train_dataset</span> <span class="o">=</span> <span class="n">dsets</span><span class="o">.</span><span class="n">MNIST</span><span class="p">(</span><span class="n">root</span><span class="o">=</span><span class="s1">&#39;./data/&#39;</span><span class="p">,</span>
                            <span class="n">train</span><span class="o">=</span><span class="kc">True</span><span class="p">,</span> 
                            <span class="n">transform</span><span class="o">=</span><span class="n">transforms</span><span class="o">.</span><span class="n">ToTensor</span><span class="p">(),</span>
                            <span class="n">download</span><span class="o">=</span><span class="kc">True</span><span class="p">)</span>
<span class="n">test_dataset</span> <span class="o">=</span> <span class="n">dsets</span><span class="o">.</span><span class="n">MNIST</span><span class="p">(</span><span class="n">root</span><span class="o">=</span><span class="s1">&#39;./data/&#39;</span><span class="p">,</span>
                           <span class="n">train</span><span class="o">=</span><span class="kc">False</span><span class="p">,</span> 
                           <span class="n">transform</span><span class="o">=</span><span class="n">transforms</span><span class="o">.</span><span class="n">ToTensor</span><span class="p">())</span>
<span class="c1"># Data Loader (Input Pipeline)</span>
<span class="n">train_loader</span> <span class="o">=</span> <span class="n">torch</span><span class="o">.</span><span class="n">utils</span><span class="o">.</span><span class="n">data</span><span class="o">.</span><span class="n">DataLoader</span><span class="p">(</span><span class="n">dataset</span><span class="o">=</span><span class="n">train_dataset</span><span class="p">,</span>
                                           <span class="n">batch_size</span><span class="o">=</span><span class="n">batch_size</span><span class="p">,</span> 
                                           <span class="n">shuffle</span><span class="o">=</span><span class="kc">True</span><span class="p">)</span>
<span class="n">test_loader</span> <span class="o">=</span> <span class="n">torch</span><span class="o">.</span><span class="n">utils</span><span class="o">.</span><span class="n">data</span><span class="o">.</span><span class="n">DataLoader</span><span class="p">(</span><span class="n">dataset</span><span class="o">=</span><span class="n">test_dataset</span><span class="p">,</span>
                                          <span class="n">batch_size</span><span class="o">=</span><span class="n">batch_size</span><span class="p">,</span> 
                                          <span class="n">shuffle</span><span class="o">=</span><span class="kc">False</span><span class="p">)</span>
</pre></div>

    </div>
</div>
</div>

</div>
<div class="cell border-box-sizing code_cell rendered">
<div class="input">
<div class="prompt input_prompt">In&nbsp;[2]:</div>
<div class="inner_cell">
    <div class="input_area">
<div class=" highlight hl-ipython3"><pre><span></span><span class="c1"># CNN Model (2 conv layer)</span>
<span class="k">class</span> <span class="nc">CNN</span><span class="p">(</span><span class="n">nn</span><span class="o">.</span><span class="n">Module</span><span class="p">):</span>
    <span class="k">def</span> <span class="fm">__init__</span><span class="p">(</span><span class="bp">self</span><span class="p">):</span>
        <span class="nb">super</span><span class="p">(</span><span class="n">CNN</span><span class="p">,</span> <span class="bp">self</span><span class="p">)</span><span class="o">.</span><span class="fm">__init__</span><span class="p">()</span>
        <span class="c1"># Transforms a 1-channel image to 16 channels, using 5x5 kernels</span>
        <span class="c1"># Output is equivalent to a 16 channel image, of half the size (due to max pooling)</span>
        <span class="bp">self</span><span class="o">.</span><span class="n">layer1</span> <span class="o">=</span> <span class="n">nn</span><span class="o">.</span><span class="n">Sequential</span><span class="p">(</span>
            <span class="n">nn</span><span class="o">.</span><span class="n">Conv2d</span><span class="p">(</span><span class="mi">1</span><span class="p">,</span> <span class="mi">16</span><span class="p">,</span> <span class="n">kernel_size</span><span class="o">=</span><span class="mi">5</span><span class="p">,</span> <span class="n">padding</span><span class="o">=</span><span class="mi">2</span><span class="p">),</span>
            <span class="c1"># Batchnorm approximately normalizes input to zero-mean &amp; unit-variance</span>
            <span class="c1"># Keeps running values for mean and variance</span>
            <span class="c1"># Also linearly transforms the output with learnable params</span>
            <span class="n">nn</span><span class="o">.</span><span class="n">BatchNorm2d</span><span class="p">(</span><span class="mi">16</span><span class="p">),</span>
            <span class="c1"># ReLU non-linearity</span>
            <span class="n">nn</span><span class="o">.</span><span class="n">ReLU</span><span class="p">(),</span>
            <span class="c1"># Max pooling (shrinks output by 1/2, to 14x14)</span>
            <span class="n">nn</span><span class="o">.</span><span class="n">MaxPool2d</span><span class="p">(</span><span class="mi">2</span><span class="p">))</span>
        <span class="c1"># Equivalent to transforming from 16 to 32 layers</span>
        <span class="bp">self</span><span class="o">.</span><span class="n">layer2</span> <span class="o">=</span> <span class="n">nn</span><span class="o">.</span><span class="n">Sequential</span><span class="p">(</span>
            <span class="n">nn</span><span class="o">.</span><span class="n">Conv2d</span><span class="p">(</span><span class="mi">16</span><span class="p">,</span> <span class="mi">32</span><span class="p">,</span> <span class="n">kernel_size</span><span class="o">=</span><span class="mi">5</span><span class="p">,</span> <span class="n">padding</span><span class="o">=</span><span class="mi">2</span><span class="p">),</span>
            <span class="n">nn</span><span class="o">.</span><span class="n">BatchNorm2d</span><span class="p">(</span><span class="mi">32</span><span class="p">),</span>
            <span class="n">nn</span><span class="o">.</span><span class="n">ReLU</span><span class="p">(),</span>
            <span class="c1"># Shrink to 7x7</span>
            <span class="n">nn</span><span class="o">.</span><span class="n">MaxPool2d</span><span class="p">(</span><span class="mi">2</span><span class="p">))</span>
        <span class="c1"># Input: equivalent of a 7x7 image with 32 channels</span>
        <span class="c1"># Output: 10 units for 10 digit classes</span>
        <span class="bp">self</span><span class="o">.</span><span class="n">fc</span> <span class="o">=</span> <span class="n">nn</span><span class="o">.</span><span class="n">Linear</span><span class="p">(</span><span class="mi">7</span><span class="o">*</span><span class="mi">7</span><span class="o">*</span><span class="mi">32</span><span class="p">,</span> <span class="mi">10</span><span class="p">)</span>
    <span class="c1"># Define the forward pass</span>
    <span class="k">def</span> <span class="nf">forward</span><span class="p">(</span><span class="bp">self</span><span class="p">,</span> <span class="n">x</span><span class="p">):</span>
        <span class="n">out</span> <span class="o">=</span> <span class="bp">self</span><span class="o">.</span><span class="n">layer1</span><span class="p">(</span><span class="n">x</span><span class="p">)</span>
        <span class="n">out</span> <span class="o">=</span> <span class="bp">self</span><span class="o">.</span><span class="n">layer2</span><span class="p">(</span><span class="n">out</span><span class="p">)</span>
        <span class="n">out</span> <span class="o">=</span> <span class="n">out</span><span class="o">.</span><span class="n">view</span><span class="p">(</span><span class="n">out</span><span class="o">.</span><span class="n">size</span><span class="p">(</span><span class="mi">0</span><span class="p">),</span> <span class="o">-</span><span class="mi">1</span><span class="p">)</span>
        <span class="n">out</span> <span class="o">=</span> <span class="bp">self</span><span class="o">.</span><span class="n">fc</span><span class="p">(</span><span class="n">out</span><span class="p">)</span>
        <span class="k">return</span> <span class="n">out</span>
    
</pre></div>

    </div>
</div>
</div>

</div>
<div class="cell border-box-sizing code_cell rendered">
<div class="input">
<div class="prompt input_prompt">In&nbsp;[3]:</div>
<div class="inner_cell">
    <div class="input_area">
<div class=" highlight hl-ipython3"><pre><span></span><span class="c1"># Instantiate net</span>
<span class="n">cnn</span> <span class="o">=</span> <span class="n">CNN</span><span class="p">()</span>
</pre></div>

    </div>
</div>
</div>

</div>
<div class="cell border-box-sizing code_cell rendered">
<div class="input">
<div class="prompt input_prompt">In&nbsp;[4]:</div>
<div class="inner_cell">
    <div class="input_area">
<div class=" highlight hl-ipython3"><pre><span></span><span class="c1"># Load trained model</span>
<span class="n">modelFilename</span> <span class="o">=</span> <span class="s1">&#39;mnist-cnn.model&#39;</span>
<span class="k">if</span> <span class="n">os</span><span class="o">.</span><span class="n">path</span><span class="o">.</span><span class="n">exists</span><span class="p">(</span><span class="n">modelFilename</span><span class="p">):</span>
    <span class="n">cnn</span><span class="o">.</span><span class="n">load_state_dict</span><span class="p">(</span><span class="n">torch</span><span class="o">.</span><span class="n">load</span><span class="p">(</span><span class="n">modelFilename</span><span class="p">))</span>
<span class="c1"># Or train from scratch</span>
<span class="k">else</span><span class="p">:</span> 
    <span class="c1"># Loss and Optimizer</span>
    <span class="n">criterion</span> <span class="o">=</span> <span class="n">nn</span><span class="o">.</span><span class="n">CrossEntropyLoss</span><span class="p">()</span>
    <span class="n">optimizer</span> <span class="o">=</span> <span class="n">torch</span><span class="o">.</span><span class="n">optim</span><span class="o">.</span><span class="n">Adam</span><span class="p">(</span><span class="n">cnn</span><span class="o">.</span><span class="n">parameters</span><span class="p">(),</span> <span class="n">lr</span><span class="o">=</span><span class="n">learning_rate</span><span class="p">)</span>
    <span class="c1"># Train the Model</span>
    <span class="k">for</span> <span class="n">epoch</span> <span class="ow">in</span> <span class="nb">range</span><span class="p">(</span><span class="n">num_epochs</span><span class="p">):</span>
        <span class="k">for</span> <span class="n">i</span><span class="p">,</span> <span class="p">(</span><span class="n">images</span><span class="p">,</span> <span class="n">labels</span><span class="p">)</span> <span class="ow">in</span> <span class="nb">enumerate</span><span class="p">(</span><span class="n">train_loader</span><span class="p">):</span>
            <span class="n">images</span> <span class="o">=</span> <span class="n">Variable</span><span class="p">(</span><span class="n">images</span><span class="p">)</span>
            <span class="n">labels</span> <span class="o">=</span> <span class="n">Variable</span><span class="p">(</span><span class="n">labels</span><span class="p">)</span>
            <span class="c1"># Forward + Backward + Optimize</span>
            <span class="n">optimizer</span><span class="o">.</span><span class="n">zero_grad</span><span class="p">()</span> <span class="c1"># Clear stored gradients</span>
            <span class="n">outputs</span> <span class="o">=</span> <span class="n">cnn</span><span class="p">(</span><span class="n">images</span><span class="p">)</span> <span class="c1"># CNN forward pass</span>
            <span class="n">loss</span> <span class="o">=</span> <span class="n">criterion</span><span class="p">(</span><span class="n">outputs</span><span class="p">,</span> <span class="n">labels</span><span class="p">)</span> <span class="c1"># Calculate error</span>
            <span class="n">loss</span><span class="o">.</span><span class="n">backward</span><span class="p">()</span> <span class="c1"># Compute gradients</span>
            <span class="n">optimizer</span><span class="o">.</span><span class="n">step</span><span class="p">()</span> <span class="c1"># Update weights</span>
            <span class="k">if</span> <span class="p">(</span><span class="n">i</span><span class="o">+</span><span class="mi">1</span><span class="p">)</span> <span class="o">%</span> <span class="mi">100</span> <span class="o">==</span> <span class="mi">0</span><span class="p">:</span>
                <span class="nb">print</span> <span class="p">(</span><span class="s1">&#39;Epoch [</span><span class="si">%d</span><span class="s1">/</span><span class="si">%d</span><span class="s1">], Iter [</span><span class="si">%d</span><span class="s1">/</span><span class="si">%d</span><span class="s1">] Loss: </span><span class="si">%.4f</span><span class="s1">&#39;</span> 
                       <span class="o">%</span><span class="p">(</span><span class="n">epoch</span><span class="o">+</span><span class="mi">1</span><span class="p">,</span> <span class="n">num_epochs</span><span class="p">,</span> <span class="n">i</span><span class="o">+</span><span class="mi">1</span><span class="p">,</span> <span class="nb">len</span><span class="p">(</span><span class="n">train_dataset</span><span class="p">)</span><span class="o">//</span><span class="n">batch_size</span><span class="p">,</span> <span class="n">loss</span><span class="o">.</span><span class="n">data</span><span class="p">[</span><span class="mi">0</span><span class="p">]))</span>
</pre></div>

    </div>
</div>
</div>

</div>
<div class="cell border-box-sizing code_cell rendered">
<div class="input">
<div class="prompt input_prompt">In&nbsp;[5]:</div>
<div class="inner_cell">
    <div class="input_area">
<div class=" highlight hl-ipython3"><pre><span></span><span class="c1"># Save the Trained Model</span>
<span class="k">if</span> <span class="ow">not</span> <span class="n">os</span><span class="o">.</span><span class="n">path</span><span class="o">.</span><span class="n">exists</span><span class="p">(</span><span class="n">modelFilename</span><span class="p">):</span>
    <span class="n">torch</span><span class="o">.</span><span class="n">save</span><span class="p">(</span><span class="n">cnn</span><span class="o">.</span><span class="n">state_dict</span><span class="p">(),</span> <span class="n">modelFilename</span><span class="p">)</span>
</pre></div>

    </div>
</div>
</div>

</div>
<div class="cell border-box-sizing code_cell rendered">
<div class="input">
<div class="prompt input_prompt">In&nbsp;[6]:</div>
<div class="inner_cell">
    <div class="input_area">
<div class=" highlight hl-ipython3"><pre><span></span><span class="c1">### Test the Model ###</span>
<span class="c1"># Change model to &#39;eval&#39; mode</span>
<span class="c1"># This affects the batch normalization layer, so that it uses the mean/variance obtained in training</span>
<span class="n">cnn</span><span class="o">.</span><span class="n">eval</span><span class="p">()</span>  
<span class="c1"># Compute accuracy</span>
<span class="n">correct</span> <span class="o">=</span> <span class="mi">0</span>
<span class="n">total</span> <span class="o">=</span> <span class="mi">0</span>
<span class="k">for</span> <span class="n">images</span><span class="p">,</span> <span class="n">labels</span> <span class="ow">in</span> <span class="n">test_loader</span><span class="p">:</span>
    <span class="n">images</span> <span class="o">=</span> <span class="n">Variable</span><span class="p">(</span><span class="n">images</span><span class="p">)</span>
    <span class="n">outputs</span> <span class="o">=</span> <span class="n">cnn</span><span class="p">(</span><span class="n">images</span><span class="p">)</span>
    <span class="n">_</span><span class="p">,</span> <span class="n">predicted</span> <span class="o">=</span> <span class="n">torch</span><span class="o">.</span><span class="n">max</span><span class="p">(</span><span class="n">outputs</span><span class="o">.</span><span class="n">data</span><span class="p">,</span> <span class="mi">1</span><span class="p">)</span>
    <span class="n">total</span> <span class="o">+=</span> <span class="n">labels</span><span class="o">.</span><span class="n">size</span><span class="p">(</span><span class="mi">0</span><span class="p">)</span>
    <span class="n">correct</span> <span class="o">+=</span> <span class="p">(</span><span class="n">predicted</span> <span class="o">==</span> <span class="n">labels</span><span class="p">)</span><span class="o">.</span><span class="n">sum</span><span class="p">()</span>
<span class="nb">print</span><span class="p">(</span><span class="s1">&#39;Test Accuracy (10000 test images): </span><span class="si">%d</span><span class="s1"> </span><span class="si">%%</span><span class="s1">&#39;</span> <span class="o">%</span> <span class="p">(</span><span class="mi">100</span> <span class="o">*</span> <span class="n">correct</span> <span class="o">/</span> <span class="n">total</span><span class="p">))</span>
</pre></div>

    </div>
</div>
</div>

<div class="output_wrapper">
<div class="output">


<div class="output_area">

    <div class="prompt"></div>


<div class="output_subarea output_stream output_stdout output_text">
<pre>Test Accuracy (10000 test images): 98 %
</pre>
</div>
</div>

</div>
</div>

</div>
<div class="cell border-box-sizing code_cell rendered">
<div class="input">
<div class="prompt input_prompt">In&nbsp;[8]:</div>
<div class="inner_cell">
    <div class="input_area">
<div class=" highlight hl-ipython3"><pre><span></span><span class="c1">### Let&#39;s visualize a training image through the convolution layers ###</span>
<span class="kn">import</span> <span class="nn">matplotlib.pyplot</span> <span class="k">as</span> <span class="nn">plt</span>
<span class="c1"># Read in a training image </span>
<span class="n">trainIter</span> <span class="o">=</span> <span class="nb">iter</span><span class="p">(</span><span class="n">train_loader</span><span class="p">)</span> 
<span class="n">images</span><span class="p">,</span> <span class="n">labels</span> <span class="o">=</span> <span class="n">trainIter</span><span class="o">.</span><span class="n">next</span><span class="p">()</span> 
<span class="n">img</span> <span class="o">=</span> <span class="n">torch</span><span class="o">.</span><span class="n">unsqueeze</span><span class="p">(</span><span class="n">Variable</span><span class="p">(</span><span class="n">images</span><span class="p">[</span><span class="mi">0</span><span class="p">]),</span> <span class="mi">0</span><span class="p">)</span>
<span class="n">fig</span><span class="p">,</span> <span class="n">ax</span> <span class="o">=</span> <span class="n">plt</span><span class="o">.</span><span class="n">subplots</span><span class="p">()</span>
<span class="n">ax</span><span class="o">.</span><span class="n">imshow</span><span class="p">(</span><span class="n">img</span><span class="o">.</span><span class="n">data</span><span class="o">.</span><span class="n">numpy</span><span class="p">()</span><span class="o">.</span><span class="n">reshape</span><span class="p">((</span><span class="mi">28</span><span class="p">,</span><span class="mi">28</span><span class="p">)),</span> <span class="n">cmap</span> <span class="o">=</span> <span class="n">plt</span><span class="o">.</span><span class="n">cm</span><span class="o">.</span><span class="n">gray</span><span class="p">)</span>
<span class="nb">print</span><span class="p">(</span><span class="s1">&#39;Input image&#39;</span><span class="p">)</span>
<span class="nb">print</span><span class="p">(</span><span class="n">img</span><span class="o">.</span><span class="n">shape</span><span class="p">)</span> <span class="c1"># 1 image, 1 channel, WxH = 28x28</span>
<span class="n">plt</span><span class="o">.</span><span class="n">show</span><span class="p">()</span>
<span class="n">img_after_layer1</span> <span class="o">=</span> <span class="n">cnn</span><span class="o">.</span><span class="n">layer1</span><span class="p">(</span><span class="n">img</span><span class="p">)</span>
<span class="nb">print</span><span class="p">(</span><span class="s1">&#39;Image after layer 1&#39;</span><span class="p">)</span>
<span class="nb">print</span><span class="p">(</span><span class="n">img_after_layer1</span><span class="o">.</span><span class="n">shape</span><span class="p">)</span> <span class="c1"># 1 image, 16 channels, WxH = 14x14</span>
<span class="n">nChannels</span> <span class="o">=</span> <span class="n">img_after_layer1</span><span class="o">.</span><span class="n">data</span><span class="o">.</span><span class="n">shape</span><span class="p">[</span><span class="mi">1</span><span class="p">]</span>
<span class="n">f</span><span class="p">,</span> <span class="n">axarr</span> <span class="o">=</span> <span class="n">plt</span><span class="o">.</span><span class="n">subplots</span><span class="p">(</span><span class="mi">4</span><span class="p">,</span> <span class="mi">4</span><span class="p">,</span> <span class="n">figsize</span><span class="o">=</span><span class="p">(</span><span class="mi">8</span><span class="p">,</span><span class="mi">8</span><span class="p">))</span>
<span class="k">for</span> <span class="n">i</span> <span class="ow">in</span> <span class="nb">range</span><span class="p">(</span><span class="mi">16</span><span class="p">):</span>
    <span class="n">axarr</span><span class="p">[</span><span class="n">i</span><span class="o">//</span><span class="mi">4</span><span class="p">,</span><span class="n">i</span><span class="o">%</span><span class="k">4</span>].imshow(img_after_layer1.data[0,i,:,:].numpy().reshape((14,14)),
                           <span class="n">cmap</span> <span class="o">=</span> <span class="n">plt</span><span class="o">.</span><span class="n">cm</span><span class="o">.</span><span class="n">gray</span><span class="p">,</span> <span class="n">interpolation</span><span class="o">=</span><span class="s1">&#39;nearest&#39;</span><span class="p">,</span> <span class="n">aspect</span><span class="o">=</span><span class="s1">&#39;equal&#39;</span><span class="p">)</span>
<span class="k">for</span> <span class="n">ax</span> <span class="ow">in</span> <span class="n">axarr</span><span class="o">.</span><span class="n">flatten</span><span class="p">():</span>
    <span class="n">ax</span><span class="o">.</span><span class="n">set_xticks</span><span class="p">([])</span>
    <span class="n">ax</span><span class="o">.</span><span class="n">set_yticks</span><span class="p">([])</span>
<span class="n">plt</span><span class="o">.</span><span class="n">show</span><span class="p">()</span>
<span class="nb">print</span><span class="p">(</span><span class="s1">&#39;Image after layer 2&#39;</span><span class="p">)</span>
<span class="n">img_after_layer2</span> <span class="o">=</span> <span class="n">cnn</span><span class="o">.</span><span class="n">layer2</span><span class="p">(</span><span class="n">img_after_layer1</span><span class="p">)</span>
<span class="nb">print</span><span class="p">(</span><span class="n">img_after_layer2</span><span class="o">.</span><span class="n">shape</span><span class="p">)</span> <span class="c1"># 1 image, 32 channel, WxH = 7x7</span>
<span class="n">f2</span><span class="p">,</span> <span class="n">axarr2</span> <span class="o">=</span> <span class="n">plt</span><span class="o">.</span><span class="n">subplots</span><span class="p">(</span><span class="mi">4</span><span class="p">,</span> <span class="mi">8</span><span class="p">,</span> <span class="n">figsize</span><span class="o">=</span><span class="p">(</span><span class="mi">10</span><span class="p">,</span><span class="mi">4</span><span class="p">))</span>
<span class="k">for</span> <span class="n">i</span> <span class="ow">in</span> <span class="nb">range</span><span class="p">(</span><span class="mi">32</span><span class="p">):</span>
    <span class="n">axarr2</span><span class="p">[</span><span class="n">i</span><span class="o">//</span><span class="mi">8</span><span class="p">,</span><span class="n">i</span><span class="o">%</span><span class="k">8</span>].imshow(img_after_layer2.data[0,i,:,:].numpy().reshape((7,7)),
                            <span class="n">cmap</span> <span class="o">=</span> <span class="n">plt</span><span class="o">.</span><span class="n">cm</span><span class="o">.</span><span class="n">gray</span><span class="p">,</span> <span class="n">interpolation</span><span class="o">=</span><span class="s1">&#39;nearest&#39;</span><span class="p">,</span> <span class="n">aspect</span><span class="o">=</span><span class="s1">&#39;equal&#39;</span><span class="p">)</span>
<span class="k">for</span> <span class="n">ax</span> <span class="ow">in</span> <span class="n">axarr2</span><span class="o">.</span><span class="n">flatten</span><span class="p">():</span>
    <span class="n">ax</span><span class="o">.</span><span class="n">set_xticks</span><span class="p">([])</span>
    <span class="n">ax</span><span class="o">.</span><span class="n">set_yticks</span><span class="p">([])</span>
<span class="n">plt</span><span class="o">.</span><span class="n">show</span><span class="p">()</span>
</pre></div>

    </div>
</div>
</div>

<div class="output_wrapper">
<div class="output">


<div class="output_area">

    <div class="prompt"></div>


<div class="output_subarea output_stream output_stdout output_text">
<pre>Input image
torch.Size([1, 1, 28, 28])
</pre>
</div>
</div>

<div class="output_area">

    <div class="prompt"></div>




<div class="output_png output_subarea ">
<img src="data:image/png;base64,iVBORw0KGgoAAAANSUhEUgAAAP8AAAD8CAYAAAC4nHJkAAAABHNCSVQICAgIfAhkiAAAAAlwSFlz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"
>
</div>

</div>

<div class="output_area">

    <div class="prompt"></div>


<div class="output_subarea output_stream output_stdout output_text">
<pre>Image after layer 1
torch.Size([1, 16, 14, 14])
</pre>
</div>
</div>

<div class="output_area">

    <div class="prompt"></div>




<div class="output_png output_subarea ">
<img src="data:image/png;base64,iVBORw0KGgoAAAANSUhEUgAAAdEAAAHICAYAAAARGtDIAAAABHNCSVQICAgIfAhkiAAAAAlwSFlz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"
>
</div>

</div>

<div class="output_area">

    <div class="prompt"></div>


<div class="output_subarea output_stream output_stdout output_text">
<pre>Image after layer 2
torch.Size([1, 32, 7, 7])
</pre>
</div>
</div>

<div class="output_area">

    <div class="prompt"></div>




<div class="output_png output_subarea ">
<img src="data:image/png;base64,iVBORw0KGgoAAAANSUhEUgAAAjcAAADuCAYAAADFhiZgAAAABHNCSVQICAgIfAhkiAAAAAlwSFlz
AAALEgAACxIB0t1+/AAAADl0RVh0U29mdHdhcmUAbWF0cGxvdGxpYiB2ZXJzaW9uIDIuMS4wLCBo
dHRwOi8vbWF0cGxvdGxpYi5vcmcvpW3flQAAIABJREFUeJzt3Xm0VXX9//H3Ge48MSOTiCIoiiNL
UVRyBmdyyuWUQy4rK2dtmdU3KyozTc3K5UoxTV1LTQWn1DRRQAQERAUVu8YMF7gTdz5n//6w+rns
8/pwz+FsL358Pv58v+/7nn0/d+993lzOe38SURQZAABAKJI9fQAAAACFRHMDAACCQnMDAACCQnMD
AACCQnMDAACCQnMDAACCQnMDAACCQnMDAACCQnMDAACCks7lixOJhHyccSKRkHW+pyD36dPHGW9p
aZE1bW1tMucTRZE+yG3kW5tkUveQvnXLZDLbdlA5iHtt1Br41qarq0vmVF02m83t4P4tlUrJ75fN
ZmNbm1QqFRUVFTlzlZWVsm7jxo0yV1pa6ox3dnbKGnUdmpk1NDTIXEdHR10URf3lF2yjZDIZqd9N
VVWVrPNdO42Njdt8XJ/mOxfjvK6SyaS8rtJpfWtvb2+P65ByEufapFKpSK1BR0eHrCsrK5M5dW/x
rafv/u47b+K85/jeq/r16yfrfOeUukZXrVrlO468ctlstlv3nJyaGzP9A/oOxndTPfbYY53xt956
S9YsXbpU5rZHFRUVMqfe2MzMNm3aFMfhfO6SyaSVl5c7c76byYYNG2ROrWlra6us8b3h1dTUOOO+
N/ZCKCoqsmHDhjlzhx56qKy79957ZW7nnXd2xn03mtNOO03mnn32WZmrra39WCYLIJVKWe/evZ25
iRMnyrqmpiaZe/HFF53xfP8xoc5t3z/QCiGZTFqvXr2cObVmZmYffvhhXIe03Uin0zZo0CBn7uOP
9Sk7evRomVPn1PLly2WN7/6umvP6+npZUyiqGTnllFNkTf/+up9Q5+F1110na3xrU1xcLHPNzc3d
uufw31IAACAoNDcAACAoNDcAACAoNDcAACAoOX2gOJVKyQ9ylpSUyLpjjjlG5o444ghn/J///Gcu
h/Zf6oNNvg8Yxs332lOmTJE5tQYLFy6UNb6pF/Wpft+HcAshm81ac3OzM6fiW6PW9Nprr5U1u+66
q8xddtllzni+01fd1d7eLj/gWVtbm9f3fPfdd3Ou8X2geMyYMTL3ne98J+fXykUymZQfOvdNSz36
6KMFPY5nnnlG5o477riCvlZ3jRgxwm699VZn7oQTTpB1V155pcypYQ3fh8q3Rx0dHd4PDiu+e+ul
l17qjPs+UOybzPJNPMaprKzMRo0a5cxddNFFsm78+PEyp+45L7zwgqx55ZVXZM43Kdtd/OUGAAAE
heYGAAAEheYGAAAEheYGAAAEheYGAAAEheYGAAAEJeHb1PJ/vtiz4Va+1N5Sc+fOlTW+/YjWrVvn
jGcymR7bONPHNwp+8sknO+O+8bpFixbJ3Nlnn+2M33nnnbZy5cpY10btPbbXXnvJupUrV8qc2uPs
nXfekTWzZ8+Wudtuu80Znzt3rjU2Nsa2NuXl5ZHaz0aNp5v59w565JFHnPH169fLmp122knm1B49
ZmZTp06dH0XROPkF2yiOe04+fPfJq6++2hl/4IEHbO3atbGdO2VlZZHaR2zIkCGyzrdnm9p0dc6c
ObkdXDdsj/djn0mTJjnjahzfzGy33XaTOfWIlDlz5sR6z6msrIz23ntvZ873SJeXX345rkPKVbfu
OfzlBgAABIXmBgAABIXmBgAABIXmBgAABIXmBgAABIXmBgAABCWnXcHT6bT169fPmVu7dm1eB7Bl
yxZnvLy8XNY8/vjjMnfAAQc44+PGxTatamaf7JheU1PjzO25556y7tVXX5W5M844wxn3jY/7diA/
5ZRTnPEHHnhA1hRCSUmJDR061Jnz7Qquzg0zs7a2NmfcNz5+zTXXyJzaDTlu1dXVdtRRRzlzvmPK
ZDIy19LS4oz7zg01AmzWsztCp1Ipq66udub2339/Wedbn3xGWo844giZU48zyOUxG/nIZrPyd+3b
cXrTpk0ypx6l8ZWvfEXW+HZwfu2112Tui2bmzJnO+IknnihrbrrpJpm7+OKLnXHfLuOFkMlkrL6+
3pkrKiqSddOnT5e5qqoqZ1w9YsPMf+8fNmyYzN17770y92n85QYAAASF5gYAAASF5gYAAASF5gYA
AASF5gYAAAQlp2mprq4uORXl+5S1bzOu9957zxk//fTTZY3vE/g333yzM/7RRx/JmkLIZDJyCsF3
vNlsVuaee+45Z/y+++6TNaeddprMPfXUUzIXp/b2djkB0KtXL1mnJqLMzL7//e8742pDOLOem4jy
2bx5sz366KPOXG1tbV7f83vf+54zPmvWLFlz2GGHydzChQvzOo5CyGQytnnzZmfON4Xom9KYMGGC
M+5bg6lTp8rcihUrnPGGhgZZUwhVVVU2ceJEZ05tLGtm9vrrr8tcKpVyxtVUlplZY2OjzPWUPn36
2OTJk5251atXyzrfJJ06P3zThL4NoMeOHeuM+yb9CiGKIvka1113nazz3QdGjRrljC9YsEDWrFmz
RubUNZoL/nIDAACCQnMDAACCQnMDAACCQnMDAACCQnMDAACCQnMDAACCkshlc7d0Oh1VVlY6c76x
xyOPPFLmXnrppW6//n/4NvnbbbfdnPFly5ZZS0tLIucX66Z0Oh2pDf7KyspknW8s8fMURVFsa1Na
WhqpjdDU78vMbMaMGTKnNmrzbQ6ZTOpe3jeSH+faJBIJeQH6Rvd9Y5QXXHCBM+57XMO0adNkzrf5
3/Lly+dHURTbrrR9+/aN1Eivb6R5xIgRMnfwwQc74z/72c9kje+RBWpdN2/ebJ2dnbGdO3vuuWek
NhF+6623ZJ0a9zbTGyD7Np1VY8BmZosXL5a5nrqu1H3azD/WfssttzjjV111lay55557ZE5tnGkW
79oUFRVFffv2deb69+8v63ybsaqNZR988EFZ43tETHt7u8yZWbfuOfzlBgAABIXmBgAABIXmBgAA
BIXmBgAABIXmBgAABIXmBgAABCWnUXDfeF2hVVRUyJxvpLe5udkZj6Kox0YPr7jiClnn271X7XDu
27145syZMqdGQLu6unpsFFzFzfzjgGqHa9/3U7s3m5kNHjzYGd+wYYN1dHTEujbDhw935u6++25Z
p0bhzfR549sx3pfbilhHwfO95+Q79q/06dNH5tQ9p7Oz07LZbKyPn1Aj6r77pxr3NjMrLi52xltb
W2VNvrtY99T9eHuhxrHr6+utq6srtrWpqamJ1K7b8+fPl3XqHmlm9tFHHznjvtH6REL/iL7HVnR0
dDAKDgAAvnxobgAAQFBobgAAQFBobgAAQFBobgAAQFBobgAAQFByHQXfYGYfx3c4sRoeRZHe8nQb
sTYaa6N9wdfGjPXxYW001kZjbfy6tT45NTcAAADbO/5bCgAABIXmBgAABIXmBgAABIXmBgAABIXm
BgAABIXmBgAABIXmBgAABIXmBgAABCWdyxcnk8konXaXJBIJWdfR0SFzRUVFuRyCmZl1dnbmXGNm
FkWRPshtlEgk5NMQy8vLZd2uu+4qc/X19c54XV2drNmyZYvMqd9RFEU9tjY+ZWVlMldRUeGMZ7NZ
WbNp06Z8DqPH1qa4uFjW+a6BZNL9b5ZMJpPDkXVbXcxPU5XrU1lZKeva2tpkrqura9sO6jPUemez
2e3yulLHa2ZWVVXljKdSKVmj7lNm/usxzrVJJpOR+jl9P7/vfUzdc3zvb62trTKn7m/t7e3W2dnZ
I+eN7/043/ddxfd78J031s17Tk7NTTqdtn79+jlzJSUlsq62tlbmBg4c6Iz7fri1a9fK3FYWpUfs
vvvuMvfss8/K3BNPPOGMT5s2Tda8/vrrMqd+R+3t7bKmJ/kav/HjxzvjLS0tsubhhx/O+RgK/UaY
i6FDh8rc6tWrZU79nhsaGrb5mBx67DHu++yzj8y9//77Mrd+/fqCHkdpaakz7muwepLvH1uHHHKI
M967d29Z89RTT8lcY2Nj9w+sgJLJpNXU1Dhz6vdl9sl7nHLggQc64ytWrJA1b7/9tsztueeezviS
JUtkTdzU+7uZ2Zo1awr6Wr5/vPru41EUdeuew39LAQCAoNDcAACAoNDcAACAoNDcAACAoOT0geKa
mho7/vjjnbm9995b1vmme/7v//4vl0PYKvUhpZ78cJ+aQDAzu/POO2XuV7/6lTOe78/SU2uQSqXk
ZMvll18u60aOHClz6oPT69atkzU9+eFgpaqqSn44etKkSbLO98E/9YHZDRs2yJqnn35a5pYuXSpz
MU1g/VdRUZEcOvAp9IeGfXxTH3FKp9PWp08fZ27HHXeUdZs3b5Y5dR6ccMIJssY3LaSmrOI+b8z0
5NOZZ54pa3wTiqNHj3bG1RSVmdlzzz0nczNmzHDG4x7wKC0ttZ133tmZ891Xrr76aplTQzPHHXec
rOnVq5fM+aZ+u4u/3AAAgKDQ3AAAgKDQ3AAAgKDQ3AAAgKDQ3AAAgKDQ3AAAgKAkoqj7e69VV1dH
BxxwgDN3zjnnyLply5bJ3LBhw5zxH/7wh7Kmf3+9Z9ZOO+3kjM+aNcsaGhpi3YxM7UuyvYwgn3/+
+c74jBkzrK6uLra1KS4ujtQ475gxY2TdzJkzZc63IV2hbY+bH/o2MlR76uS7cahvj6uVK1fOj6Jo
XF7fuBsqKyujsWPHOnO+Rxuo8Xozsz/84Q/bfFyfdtJJJznj//jHP6y+vr5Hzp1f//rXsu6qq66S
uUWLFjnjZ5xxhqxZvny5zKkx6ebmZstkMrGtTVFRUaTG5D/PxwRccsklMnf33XfLXE/dc9T7p5nZ
5MmTZU7d33/yk5/IGt9+ZRs3bpQ5M+vWPYe/3AAAgKDQ3AAAgKDQ3AAAgKDQ3AAAgKDQ3AAAgKDQ
3AAAgKDkNApeUlISqbFQtQOrmdkOO+wgc2oU+Gtf+5qsOeKII2ROjcHGPXqY70hvSUmJzO2zzz45
xc38Y64HHnigM75kyRLbsmXLdrc2PhMmTHDGfbv6LliwQOb22GMPZ3zRokXW3Nz8hVqbPffc0xn3
nTcPPPCAzB122GEy9+qrr8Y6Cu5bn6OPPlrWLVy4UObq6+ud8c7OzhyO7P+74oornPEHH3zQ1q1b
t92N9A4ZMkTmSktLnXHfYxl8u4L7bI+PWMjHlClTZO7FF1+UuaamJpkLZW1iwig4AAD48qG5AQAA
QaG5AQAAQaG5AQAAQaG5AQAAQXHv9CgkEglLJt390IABA2Tdli1bZG727NnOuG+TvyOPPFLmtkcP
PfSQzK1bt07mLr/8cmc8k8nIGt/U2s477+yM9+TGnr5pvcbGRpm7/fbbnXE1CWOmf36zTzY5dIl7
bWpqamzixInO3EEHHSTrfD/LMccc44z36tVL1vimpfKdhimEQYMG2UUXXeTM+X43L7zwQkGP47HH
HpM5Nbn30ksvFfQYXNRmvWrTSDP/lM4hhxzijGezWVnjO6/Ua73xxhuyphDS6bT169fPmXv66adl
3fTp02XulVdeccZnzJghawYNGiRzzc3NznguE8z5KC8vl1PKvmnT119/XebUVNjcuXNlje9e/Zvf
/EbmfO9/n8ZfbgAAQFBobgAAQFBobgAAQFBobgAAQFBobgAAQFBobgAAQFByGgXv27evnX/++c5c
XV2drPONQm/evNkZX7JkSS6H9l+pVMoZ7+74WL5KS0vlZnUrVqyQdddee23OrzVv3jyZmzRpkswt
Xbo059cqhLKyMhs1apQz94tf/ELWvffeezJ3//33b/NxfVpRUZEzHvcoeHt7u3344YfO3Nq1a2Wd
b8RSjQH7Hq/gs2rVqrzqCmHTpk328MMPO3PHH3+8rPOdH3fddZczrh5LYeY/FwcPHuyM+8anC6G4
uFhuSuy756iNVc30RsbqHDUzGzFihMypcedFixbJmkLo27evnXvuuc6cGp83M/vRj34kc2qsfdmy
ZbJm9OjRMqfGrn2/u7jV1tbKnO9xEaruxhtvlDUjR46Uud13313mutsb8JcbAAAQFJobAAAQFJob
AAAQFJobAAAQFJobAAAQFJobAAAQlEQuO5D269cvUuOXDQ0Nss43RlhZWemMf/DBB7Imn12KW1pa
LJPJ6C2zt1EikYh3K9eYRVEU/Nr4dq5X51RTU5N1dXX1yNrU1NTIuvHjx8ucut7Gjh0ra9QjGczM
Zs2aJXOdnZ3zoygaJ79gG1VUVERqdHmXXXaRdWoM2MzsrLPOcsZvuukmWeMbLV+8eLEz3tnZadls
tkfOnQsuuEDWDR8+XObWrVvnjFdUVMgatSO0mdnChQtl7stwzyktLZW5oUOHOuMrVqywtra2Hlmb
REK/bNy7leegW/cc/nIDAACCQnMDAACCQnMDAACCQnMDAACCQnMDAACCQnMDAACCktMoeCKR2GBm
H8d3OLEaHkVR/7i+OWujsTbaF3xtzFgfH9ZGY2001savW+uTU3MDAACwveO/pQAAQFBobgAAQFBo
bgAAQFBobgAAQFBobgAAQFBobgAAQFBobgAAQFDSuXxxIpGQD8VJJnWflM1mc3mZrSoqKpK5TCYj
jyGKokRBD+RTkslklE67l7O8vFzWdXV1yZx6BlFbW1tuB/dv6neUyWQsm83GtjaJRCJSr11RUSHr
fOdUWVmZM15VVSVrOjo6ZG7FihXOeNznTVFRUVRaWurMDRw4UNb5zhu1bqtXr5Y17e3tMrcVdXE+
cCyVSkWpVMqZ891X1H3ATJ8j6vewNfX19c54V1dX7NdVPnW+80pdV75zx3dd+cR5XeW7NvnwnTe9
e/eWuU2bNjnjnZ2dlslkemRtiouLZZ16fzMza2lpccZj6gu6dc/JqbkxM1M3Gt8beFNTU64v47XD
DjvInDphWltbC3oMn5VOp61fv37O3H777Sfr6urqZE69gX3wwQeyxndTV42EWrNCSSaTVllZ6czt
v//+sk7VmJnttddezvjEiRNlTW1trcxdeeWVzri6aAultLTUxo0b58x997vflXUbN26UOXUt/uQn
P5E1y5Ytk7mtiPVJp6lUSl7vjY2Nsq6hoUHm1HqPHj3aexzKk08+6YyvW7dO1vSkc889V+bUdXXj
jTfKmo8//iI/7HbbjRw5UuamTJkicw899JAzrv6h9XkYPHiwzKn3NzOzefPmOeO+xs93b/Vdb5lM
plsnHP8tBQAAgkJzAwAAgkJzAwAAgkJzAwAAgkJzAwAAgpJQ48bOL85zvG4rn3x2xocMGSJrfOPD
o0aNcsZnzpxp9fX1QYwe+gwbNkzm1BRNbW2ttbW1xbo2aoxQTa6Yme2+++4yt9NOOznj06dPlzVv
vvmmzCUS+sf/oo2sqtFk31jm8OHDZW7z5s2+l5sfRZH+JW6jdDodVVdXO3NbOS7psssuc8Z9k4br
16+XubfeessZX7lypbW3t8d27gwZMiS69NJLnbmjjjpK1h188MEFPQ7f4xd8k7I9dV2p9wgzs298
4xsyp6bMbrvtNlnjmyKeOXOmMz5nzhxrbGyMbW1SqVSkjqu5uTmul/0fhx9+uMz5rrd33nmnW/cc
/nIDAACCQnMDAACCQnMDAACCQnMDAACCQnMDAACCQnMDAACCkvMouBrr9m2Qdd5558mc2m32iSee
kDVf//rXZU6ND99xxx22cuXKWHcFV2tQ6E0777rrLpnzrZva+Xn+/PnW1NQU69qondx947e+3KBB
g5zxNWvWyJqFCxfK3CmnnOKMr169OtZx3t69e0dqJLJXr16ybvbs2TK3dOnSnI/Dd/1uZRf6WEfB
feeObzdq3+a6s2bNcsZHjBgha3yPClC/p6amJuvq6ort3CkvL4923XVXZ873KI1DDjlE5m644Yac
j+OPf/yjzKmR3t///ve2atWq2NamuLg4GjBggDPn26nbd66rDYvfeOMNWXP11VfLnNoY+e2337bm
5uYeeTSHb7Ni9YgJH7XLvJnZhAkTZM73Hjdq1ChGwQEAwJcPzQ0AAAgKzQ0AAAgKzQ0AAAgKzQ0A
AAgKzQ0AAAiKex5MKCoqsv79+ztzvt1P77nnHpk7+eSTnfGzzjpL1vjGPK+//nqZi1M6nbZ+/fo5
c2PGjJF1GzdulLl58+Y549/85jdlzWOPPSZzvnHWOEVRJMd2Tz31VFn35JNPylyfPn2c8YEDB8qa
ffbZR+YmT57sjG/atEnWFEJra6u98847ztydd94p6/70pz/J3BVXXCFfS3n++edlbt9995W5v/71
rzJXCCUlJXIH+OLiYlm3ePFimbvjjjuc8fPPPz+nY/uPLVu2OOPZbDav79ddra2t8uf81re+JetK
SkpkTu2Y7jsX586dK3N/+ctfnPGtPF5gm2UyGbkjuW9MfsmSJTI3adIkZ1ztzG5m9tprr8lcTxkw
YICdffbZztzEiRNl3bvvvitz6jzcvHmzrBk6dKjMqXtiLvjLDQAACArNDQAACArNDQAACArNDQAA
CArNDQAACEpOG2cmk8lITSioDTXNzFpaWmRuypQpzrhvA8Q5c+bInE8URbFuDqnWRm1YmS+1Zmb5
T6/EuTZVVVWRmlQ688wzZZ3v0/TqU/177bWXrLnxxhtlTm2mOGPGDKurq4ttbYqKiiK1kV9FRYWs
800MXnjhhc74e++9J2uWL18uczNmzJC5bDYb68aZ1dXV0bhx7m+vpmHM9KRhvkaOHClz6rr/6KOP
rLW1NbZzp7KyMho7dqwzl+89UvH9/L4pM7Vp8gknnGCLFy+OdXPIQn/PXXbZxRn3XTv5ivN+XFFR
Ee22227O3IIFC+J62UJi40wAAPDlQ3MDAACCQnMDAACCQnMDAACCQnMDAACCQnMDAACCktMouG+8
Tm0auTVqTNw3Pu6jRhZXrFhhbW1tsY3XpdPpqKamxpk78cQTZd20adNkrm/fvs64b7NNHzWy2tnZ
adls9gs1lqk2zsx3o0s1Qv7BBx9YS0tLbGvTt2/f6Nhjj3Xm1q5dK+tefvllmRs/frwzXujx4H+L
dRS8rKwsUtd0c3OzrKutrZW50tJSZ1ydU2ZmGzZskLkdd9zRGV+5cmWs95xBgwZFF1xwgTP34IMP
yrqrr75a5tTa7L///rJmv/32kzm16eqyZctiva5895zDDjtM1vk2Y33xxRedcd+m0b73saOPPtoZ
nzNnjjU2Nn6h7sfqvU89xsHMbNSoUTL35ptvyty8efMYBQcAAF8+NDcAACAoNDcAACAoNDcAACAo
NDcAACAoNDcAACAo6Vy+OJVKyZGv+vp6WXfNNdfI3O9+9ztn/KSTTpI1s2fPljk1PtvZ2SlrCqGk
pMRGjBjhzPnGvX2jh/mMfKsdps3MqqurnXHfDuyFUF1dbRMmTHDmnn32WVlXUlIic2qtfaPg6uc3
M1u1apUz3tHRIWvitmTJEpk75JBDcq5TO7ObfTKaq/iuna6uLpkrhLa2NvnzqHuRmX99XnvtNWfc
d+347m8NDQ3OeCaTkTWFUF9fb9OnT3fmDj30UFmnfn6zT9bbxTcK/+1vf1vmFi5cKHNxKi8vtzFj
xuRc9+GHH8rcueee64yr34GZmdq13Uzfq+I+b4qKiuSjWx5++GFZ99WvflXm6urqnPFnnnlG1tx1
110y53vMQ3fxlxsAABAUmhsAABAUmhsAABAUmhsAABAUmhsAABAUmhsAABCUXHcF32BmH8d3OLEa
HkVR/7i+OWujsTbaF3xtzFgfH9ZGY2001savW+uTU3MDAACwveO/pQAAQFBobgAAQFBobgAAQFBo
bgAAQFBobgAAQFBobgAAQFBobgAAQFDSuXxxIpHI66E4xcXFMlddXe2MNzc3y5q2tjaZS6VSzng2
m7VsNpuQhdso37UptJKSEplrb2+XuSiKtru1Saf16dm7d29n3HfetLa25nMYsa9NIuH+9jU1NbLO
dw2onLo2zMyKiopkLpnU/wZqaWmpi/OBY2VlZVFVVZUzl81mZd3GjRtzfi3ffcr3PDCVy2Qysd5z
kslkpH43vmtHnW9m/vMqH+r4stlsj91z+vbtK+t855S6f/juuQ0NDTLnE+faJJPJyPc+qfhySmlp
qcz5zsPOzk6Z6+rq6tY9J6fmxkxfNF1dXbJm8ODBMnf00Uc74zNnzpQ1H3zwgcypG2FTU5OsCcmw
YcNk7sMPP/wcj6R7fDdh301oypQpzvicOXNkzdtvvy1zmUxG5uKUSCTkGhx55JGy7p133pG5pUuX
OuOVlZWyZujQoTLnu3kvWLAg1iedVlVV2RlnnOHMtbS0yLp7770359fyrYGvMVbnzqZNm3I+hlwk
k0n5O+3fX9/7fW847733njOe7/VRVlbmjOf7D41COOmkk2TO948jtTYjRoyQNdOnT5c5X+MXp1Qq
Zb169XLmfP8Azuc9dJdddpE5371/1apVMldXV9etew7/LQUAAIJCcwMAAIJCcwMAAIJCcwMAAIKS
067gyWQyUhMFvg8i+Tz++OPO+JgxY2TNxRdfLHPqg5aNjY3W1dUV2yfQi4uLo379+jlzp59+uqyr
qKiQualTp+Z8HBMmTJC5NWvWOOMrV6609vb2Hplc2HHHHWXdySefLHO33367M37JJZfImmnTpslc
R0eHzMU5uZBKpSL1ocvJkyfLuhNOOEHm1If41IcIt/b9fJMLq1evnh9F0Tj5BdvId+6oc8BMT9OZ
mZ177rnbdlCfoT5w3dHREeu0VGlpaTR8+HBnzve79n1o9pxzznHGfR8Avummm2ROfXi5vb29x6ZX
y8vLZZ3vQ+qfpzjvOel0OlJTyr73o5UrV+b8Wr5z47777pO59evXy1xTU1O37jn85QYAAASF5gYA
AASF5gYAAASF5gYAAASF5gYAAASF5gYAAAQlp72loijKe+Rb+fGPf+yML1q0SNb4NvnbHqlRXzOz
urq6gr6Wb22OP/54Z/yRRx4p6DF8ViqVknvg+Eb+fRs2qn2n8t3PR42HFnojwc/KZrO2ZcsWZ+7R
Rx+Vdc8//7zMqcc7+EagV68HVxvbAAAFz0lEQVReLXP77rtvXnWFkEgk5Dix7zEWf//73+M6pP9R
6Htid6XTaVOPnxgwYICse+KJJ2SuT58+zviBBx4oa15++WWZU/c+3x5wcSv0uPfhhx8uc+r3Y2b2
6quvOuP5bPqai6KiIhs4cKAz53skhu+cqq+vd8Z/8IMfyBrf/m++vSq7i7/cAACAoNDcAACAoNDc
AACAoNDcAACAoNDcAACAoNDcAACAoOQ0Ch6HxYsXO+O//e1vZc3y5ctlTo0c+3bCLYTOzk656/Yv
f/nLWF/708477zyZU2N+atS2UDKZjDU0NDhzf/vb32Sdb2fYU0891RmfPXu2rJk4caLMqd3Ub7jh
BlnTk5qamnKuGTVqlMz5dv6eO3duzq9VKDvssIPc6d03TvzQQw/J3E477eSM+3ZEVo9RMNNjsI8/
/risKYRkMil3JN9rr71kne9xEWoM+f7775c1u+++u8z961//csYTidg2vTazT0bQR48e7cz5rh3f
ztc///nPnfHjjjtO1uy2224yd+GFFzrjTz31lKwpBN/92HcN+O7HyuWXXy5z6r3a7JNj3Fb85QYA
AASF5gYAAASF5gYAAASF5gYAAASF5gYAAAQl4dt87rNKSkqiwYMHO3O+iZulS5fmfGA+vk3c3n33
XWd8y5YtlslkYvuIfnFxcaQ2SVPTHmZma9eulTm1blOnTpU1ajM2M7Prr79e5qIoim1tEomEPMkO
PvhgWaemE8zMevfu7Yzvvffessb36Xy1+WFXV5dls9nY1qaysjJSx/z666/LutNOO03mdt11V2f8
wQcflDUjR46UOd/1u2bNmvlRFI2TX7CNqqqqonHj3N/+o48+knW++9Fll12WU9xMT1iZma1atcoZ
z2QysV5X6XQ66tWrlzM3duxYWXfQQQfJnLrmbr75Zllz7bXXypz63b377ru2ZcuWHrnnFJqatDTz
X8OXXnqpM/7YY4/Z+vXrY1ubZDIZqYk53+SXbypOvSf57u+zZs2Sua3o1j2Hv9wAAICg0NwAAICg
0NwAAICg0NwAAICg0NwAAICg0NwAAICg5DQKnu943X777SdzCxYsyOdbSkOGDHHG169fbx0dHbGN
16VSqUiNGqtNyszM3nrrLZlTm5ipsWUzs2OOOUbmfGPnPTUK7nP44YfLnNpwVW38Z2Y2cOBAmVu3
bp3Mxb026bR7/1rfZq++DUKvueYaZ7yurk7W1NbWypxv87+lS5fGOgpeXV0djR8/3pm75ZZbZN2N
N94oc3/+85+d8aqqKlnj2+hxjz32cMaXL19ura2t29115RtrVyPkr732mqzZvHmzzKl7YktLS6yP
5igrK4vUzzl58mRZ98wzz8icOj8mTZoka37605/KnE+c95zS0tJo2LBhztyYMWNkXVtbm8yVl5c7
4zvssIOsmTZtmswNGDBA5j7++GNGwQEAwJcPzQ0AAAgKzQ0AAAgKzQ0AAAgKzQ0AAAgKzQ0AAAiK
ewb18zwAMQZbUlKSc42ZWVNTkzOeyWRyO7AcFRUV2aBBg5w5366xvp1R+/fv74xv2LAht4PrYYlE
Qv4+hw8fLutaW1tlrqyszBn37Rg/b948mVOjvrk8KiFfXV1dzrhvZ+tCU7usm+lr6vPQ3t5u77//
vjPnG+lVO3WbmQ0dOtQZb2xslDW+MfFNmzY543Hfc/r3729nnnmmM+d7XMTbb78tc9ls1hn3jXur
HabNzFKplDPuG60vhGQyadXV1c7crbfeWtDX8t1XfJJJ998W1O+gkNRrP/XUU7G/9n+o69BM3xNz
wV9uAABAUGhuAABAUGhuAABAUGhuAABAUGhuAABAUGhuAABAUHLdFXyDmX0c3+HEangURe7Z6gJg
bTTWRvuCr40Z6+PD2misjcba+HVrfXJqbgAAALZ3/LcUAAAICs0NAAAICs0NAAAICs0NAAAICs0N
AAAICs0NAAAICs0NAAAICs0NAAAICs0NAAAIyv8DMLLNFS6ZLgMAAAAASUVORK5CYII=
"
>
</div>

</div>

</div>
</div>

</div>
<div class="cell border-box-sizing code_cell rendered">
<div class="input">
<div class="prompt input_prompt">In&nbsp;[14]:</div>
<div class="inner_cell">
    <div class="input_area">
<div class=" highlight hl-ipython3"><pre><span></span><span class="c1">###########################################################################</span>
<span class="c1"># Visualize labels clustering based on output from con via tsne</span>
<span class="c1"># Note: requires sklearn</span>
<span class="c1"># Adapted from: https://github.com/MorvanZhou/PyTorch-Tutorial/blob/master/tutorial-contents/401_CNN.py</span>
<span class="c1">###########################################################################</span>
<span class="c1"># Grab some test data</span>
<span class="n">plot_only</span> <span class="o">=</span> <span class="mi">200</span>
<span class="n">test_x</span> <span class="o">=</span> <span class="n">Variable</span><span class="p">(</span> <span class="n">torch</span><span class="o">.</span><span class="n">unsqueeze</span><span class="p">(</span><span class="n">test_dataset</span><span class="o">.</span><span class="n">test_data</span><span class="p">,</span><span class="mi">1</span><span class="p">)</span><span class="o">.</span><span class="n">type</span><span class="p">(</span><span class="n">torch</span><span class="o">.</span><span class="n">FloatTensor</span><span class="p">)</span> <span class="p">)[:</span><span class="n">plot_only</span><span class="p">]</span>
<span class="n">test_y</span> <span class="o">=</span> <span class="n">test_dataset</span><span class="o">.</span><span class="n">test_labels</span><span class="p">[:</span><span class="n">plot_only</span><span class="p">]</span>
<span class="c1"># Define a partial forward pass, which returns the representation before the fully connected layer is run</span>
<span class="k">def</span> <span class="nf">forwardInclPreFinal</span><span class="p">(</span><span class="n">x</span><span class="p">):</span>
    <span class="n">out</span> <span class="o">=</span> <span class="n">cnn</span><span class="o">.</span><span class="n">layer2</span><span class="p">(</span><span class="n">cnn</span><span class="o">.</span><span class="n">layer1</span><span class="p">(</span><span class="n">x</span><span class="p">))</span>
    <span class="n">outv</span> <span class="o">=</span> <span class="n">out</span><span class="o">.</span><span class="n">view</span><span class="p">(</span><span class="n">out</span><span class="o">.</span><span class="n">size</span><span class="p">(</span><span class="mi">0</span><span class="p">),</span> <span class="o">-</span><span class="mi">1</span><span class="p">)</span>
    <span class="k">return</span> <span class="n">outv</span>
<span class="n">before_last_layer</span> <span class="o">=</span> <span class="n">forwardInclPreFinal</span><span class="p">(</span><span class="n">test_x</span><span class="p">)</span>
<span class="c1"># Plot tsne clustering based on conv layer outputs, with labels of correct answer</span>
<span class="kn">from</span> <span class="nn">matplotlib</span> <span class="kn">import</span> <span class="n">cm</span>
<span class="kn">from</span> <span class="nn">sklearn.manifold</span> <span class="kn">import</span> <span class="n">TSNE</span>
<span class="k">def</span> <span class="nf">plot_with_labels</span><span class="p">(</span><span class="n">lowDWeights</span><span class="p">,</span> <span class="n">labels</span><span class="p">):</span>
    <span class="n">plt</span><span class="o">.</span><span class="n">cla</span><span class="p">()</span> <span class="c1"># Clear current axis</span>
    <span class="n">X</span><span class="p">,</span> <span class="n">Y</span> <span class="o">=</span> <span class="n">lowDWeights</span><span class="p">[:,</span> <span class="mi">0</span><span class="p">],</span> <span class="n">lowDWeights</span><span class="p">[:,</span> <span class="mi">1</span><span class="p">]</span>
    <span class="k">for</span> <span class="n">x</span><span class="p">,</span> <span class="n">y</span><span class="p">,</span> <span class="n">s</span> <span class="ow">in</span> <span class="nb">zip</span><span class="p">(</span><span class="n">X</span><span class="p">,</span> <span class="n">Y</span><span class="p">,</span> <span class="n">labels</span><span class="p">):</span>
        <span class="n">c</span> <span class="o">=</span> <span class="n">cm</span><span class="o">.</span><span class="n">rainbow</span><span class="p">(</span><span class="nb">int</span><span class="p">(</span><span class="mi">255</span> <span class="o">*</span> <span class="n">s</span> <span class="o">/</span> <span class="mi">9</span><span class="p">));</span> <span class="n">plt</span><span class="o">.</span><span class="n">text</span><span class="p">(</span><span class="n">x</span><span class="p">,</span> <span class="n">y</span><span class="p">,</span> <span class="n">s</span><span class="p">,</span> <span class="n">backgroundcolor</span><span class="o">=</span><span class="n">c</span><span class="p">,</span> <span class="n">fontsize</span><span class="o">=</span><span class="mi">9</span><span class="p">)</span>
    <span class="n">plt</span><span class="o">.</span><span class="n">xlim</span><span class="p">(</span><span class="n">X</span><span class="o">.</span><span class="n">min</span><span class="p">(),</span> <span class="n">X</span><span class="o">.</span><span class="n">max</span><span class="p">())</span> 
    <span class="n">plt</span><span class="o">.</span><span class="n">ylim</span><span class="p">(</span><span class="n">Y</span><span class="o">.</span><span class="n">min</span><span class="p">(),</span> <span class="n">Y</span><span class="o">.</span><span class="n">max</span><span class="p">())</span>
    <span class="n">plt</span><span class="o">.</span><span class="n">show</span><span class="p">()</span>
<span class="n">tsne</span> <span class="o">=</span> <span class="n">TSNE</span><span class="p">(</span><span class="n">perplexity</span><span class="o">=</span><span class="mi">30</span><span class="p">,</span> <span class="n">n_components</span><span class="o">=</span><span class="mi">2</span><span class="p">,</span> <span class="n">init</span><span class="o">=</span><span class="s1">&#39;pca&#39;</span><span class="p">,</span> <span class="n">n_iter</span><span class="o">=</span><span class="mi">5000</span><span class="p">)</span>
<span class="n">low_dim_embs</span> <span class="o">=</span> <span class="n">tsne</span><span class="o">.</span><span class="n">fit_transform</span><span class="p">(</span> <span class="n">before_last_layer</span><span class="o">.</span><span class="n">data</span><span class="o">.</span><span class="n">numpy</span><span class="p">()[:</span><span class="n">plot_only</span><span class="p">,</span> <span class="p">:])</span>
<span class="n">labels</span> <span class="o">=</span> <span class="n">test_dataset</span><span class="o">.</span><span class="n">test_labels</span><span class="o">.</span><span class="n">numpy</span><span class="p">()[:</span><span class="n">plot_only</span><span class="p">]</span>
<span class="n">plot_with_labels</span><span class="p">(</span><span class="n">low_dim_embs</span><span class="p">,</span> <span class="n">labels</span><span class="p">)</span>
</pre></div>

    </div>
</div>
</div>

<div class="output_wrapper">
<div class="output">


<div class="output_area">

    <div class="prompt"></div>




<div class="output_png output_subarea ">
<img src="data:image/png;base64,iVBORw0KGgoAAAANSUhEUgAAAYsAAAD/CAYAAAAAJProAAAABHNCSVQICAgIfAhkiAAAAAlwSFlz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"
>
</div>

</div>

</div>
</div>

</div>
<div class="cell border-box-sizing code_cell rendered">
<div class="input">
<div class="prompt input_prompt">In&nbsp;[&nbsp;]:</div>
<div class="inner_cell">
    <div class="input_area">
<div class=" highlight hl-ipython3"><pre><span></span> 
</pre></div>

    </div>
</div>
</div>

</div>
 


    </div>
  </div>

  </div>


  
    <footer class="footer hidden-print">
      <div class="container">
        <div class="col-md-4">
          <p>
            This website does not host notebooks, it only renders notebooks
            available on other websites.
          </p>
        </div>

        <div class="col-md-4">
          <p>
            Delivered by <a href="https://www.fastly.com/">Fastly</a>,
            Rendered by <a href="https://ovhcloud.com">OVHcloud</a>
          </p>
          <p>
            nbviewer GitHub <a href="https://github.com/jupyter/nbviewer">repository</a>.
          </p>
        </div>

        <div class="col-md-4">
          
  
            
              <p>
                nbviewer version:
                <a href="https://github.com/jupyter/nbviewer/commit/d25d3c39c10d5f6b9891eba2503f30689c1aae28">
                  d25d3c3
                </a>
              </p>
            
          
  
  <p>
    nbconvert version: <a href="https://github.com/jupyter/nbconvert/releases/tag/5.6.1">
      5.6.1
    </a>
  </p>
  

          
  
  
  <p>
    Rendered
    <span class='date' data-date='Thu, 19 May 2022 02:15:27 UTC' title='Thu, 19 May 2022 02:15:27 UTC'>(Thu, 19 May 2022 02:15:27 UTC)</span>
  </p>
  

        </div>
      </div>
    </footer>
  

  <script src="/static/components/bootstrap/js/bootstrap.min.js"></script>
  <script src="/static/components/headroom.js/dist/headroom.min.js"></script>
  <script src="/static/components/headroom.js/dist/jQuery.headroom.min.js"></script>

  
  
  <script>
    $(function(){ $("#menubar").headroom({
      tolerance: 5,
      offset: 205,
      classes: {
        initial: "animated",
        pinned: "slideInDown",
        unpinned: "slideOutUp"
      }
    })});
  </script>


  
  <script>
    (function(i,s,o,g,r,a,m){i['GoogleAnalyticsObject']=r;i[r]=i[r]||function(){
      (i[r].q=i[r].q||[]).push(arguments)},i[r].l=1*new Date();a=s.createElement(o),
      m=s.getElementsByTagName(o)[0];a.async=1;a.src=g;m.parentNode.insertBefore(a,m)
    })(window,document,'script','https://www.google-analytics.com/analytics.js','ga');
    ga('create', 'UA-52617120-5', 'auto',
       {'storage': 'none'});
    ga('set', 'anonymizeIp', true);
    ga('send', 'pageview');
  </script>
  
  <script>
    require({
        paths: {
          moment: "/static/components/moment/min/moment.min.js"
        }
      }, ["moment"], function(moment){
      var date = $("footer .date"),
        m = moment(new Date(date.data('date'))),
        update = function(){ date.text(m.fromNow()); };
      setInterval(update, 61*1000);
      update();
      var w = $(window).scroll(function(event){
        $("body").toggleClass("scrolled", w.scrollTop() > 0);
      });
    });
  </script>

  <!--NEW RELIC Stop Perf Measurement-->
  
  <!--NEW RELIC End-->
</body>
</html>